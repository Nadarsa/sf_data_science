{
 "cells": [
  {
   "cell_type": "markdown",
   "id": "c353de9a",
   "metadata": {},
   "source": [
    "# Проект: классификация"
   ]
  },
  {
   "cell_type": "code",
   "execution_count": 2,
   "id": "4a6e54dc",
   "metadata": {},
   "outputs": [],
   "source": [
    "# импорт библиотек\n",
    "import pandas as pd\n",
    "import numpy as np\n",
    "import matplotlib.pyplot as plt\n",
    "import plotly.express as px\n",
    "import seaborn as sns\n",
    "from pandas import pivot_table\n",
    "import warnings\n",
    "warnings.filterwarnings('ignore')\n",
    "from sklearn import preprocessing \n",
    "from sklearn.preprocessing  import LabelEncoder\n",
    "from sklearn.model_selection import train_test_split \n",
    "from sklearn.feature_selection import SelectKBest, f_classif\n",
    "from sklearn import linear_model \n",
    "from sklearn import tree \n",
    "from sklearn import ensemble \n",
    "from  sklearn.ensemble import IsolationForest\n",
    "from sklearn.ensemble import GradientBoostingClassifier\n",
    "from sklearn.ensemble import StackingClassifier\n",
    "from sklearn import metrics \n",
    "from sklearn.metrics import classification_report\n",
    "from sklearn.model_selection import GridSearchCV\n",
    "import optuna"
   ]
  },
  {
   "cell_type": "code",
   "execution_count": 3,
   "id": "0a988638",
   "metadata": {},
   "outputs": [
    {
     "name": "stdout",
     "output_type": "stream",
     "text": [
      "5.746042116100439\n"
     ]
    }
   ],
   "source": [
    "y_true = [1.23, 2.35, 2.75]\n",
    "y_pred = [1.01, 12.3, 2.74]\n",
    "\n",
    "print(np.sqrt(metrics.mean_squared_error(y_true, y_pred)))"
   ]
  },
  {
   "cell_type": "markdown",
   "id": "71559b60",
   "metadata": {},
   "source": [
    "## Часть 1. Знакомство с данными, обработка пропусков и выбросов"
   ]
  },
  {
   "cell_type": "markdown",
   "id": "7c5e31b2",
   "metadata": {},
   "source": [
    "### Задание 1"
   ]
  },
  {
   "cell_type": "code",
   "execution_count": 4,
   "id": "20730cd7",
   "metadata": {},
   "outputs": [
    {
     "data": {
      "text/html": [
       "<div>\n",
       "<style scoped>\n",
       "    .dataframe tbody tr th:only-of-type {\n",
       "        vertical-align: middle;\n",
       "    }\n",
       "\n",
       "    .dataframe tbody tr th {\n",
       "        vertical-align: top;\n",
       "    }\n",
       "\n",
       "    .dataframe thead th {\n",
       "        text-align: right;\n",
       "    }\n",
       "</style>\n",
       "<table border=\"1\" class=\"dataframe\">\n",
       "  <thead>\n",
       "    <tr style=\"text-align: right;\">\n",
       "      <th></th>\n",
       "      <th>age</th>\n",
       "      <th>job</th>\n",
       "      <th>marital</th>\n",
       "      <th>education</th>\n",
       "      <th>default</th>\n",
       "      <th>balance</th>\n",
       "      <th>housing</th>\n",
       "      <th>loan</th>\n",
       "      <th>contact</th>\n",
       "      <th>day</th>\n",
       "      <th>month</th>\n",
       "      <th>duration</th>\n",
       "      <th>campaign</th>\n",
       "      <th>pdays</th>\n",
       "      <th>previous</th>\n",
       "      <th>poutcome</th>\n",
       "      <th>deposit</th>\n",
       "    </tr>\n",
       "  </thead>\n",
       "  <tbody>\n",
       "    <tr>\n",
       "      <th>0</th>\n",
       "      <td>59</td>\n",
       "      <td>admin.</td>\n",
       "      <td>married</td>\n",
       "      <td>secondary</td>\n",
       "      <td>no</td>\n",
       "      <td>2 343,00 $</td>\n",
       "      <td>yes</td>\n",
       "      <td>no</td>\n",
       "      <td>unknown</td>\n",
       "      <td>5</td>\n",
       "      <td>may</td>\n",
       "      <td>1042</td>\n",
       "      <td>1</td>\n",
       "      <td>-1</td>\n",
       "      <td>0</td>\n",
       "      <td>unknown</td>\n",
       "      <td>yes</td>\n",
       "    </tr>\n",
       "    <tr>\n",
       "      <th>1</th>\n",
       "      <td>56</td>\n",
       "      <td>admin.</td>\n",
       "      <td>married</td>\n",
       "      <td>secondary</td>\n",
       "      <td>no</td>\n",
       "      <td>45,00 $</td>\n",
       "      <td>no</td>\n",
       "      <td>no</td>\n",
       "      <td>unknown</td>\n",
       "      <td>5</td>\n",
       "      <td>may</td>\n",
       "      <td>1467</td>\n",
       "      <td>1</td>\n",
       "      <td>-1</td>\n",
       "      <td>0</td>\n",
       "      <td>unknown</td>\n",
       "      <td>yes</td>\n",
       "    </tr>\n",
       "    <tr>\n",
       "      <th>2</th>\n",
       "      <td>41</td>\n",
       "      <td>technician</td>\n",
       "      <td>married</td>\n",
       "      <td>secondary</td>\n",
       "      <td>no</td>\n",
       "      <td>1 270,00 $</td>\n",
       "      <td>yes</td>\n",
       "      <td>no</td>\n",
       "      <td>unknown</td>\n",
       "      <td>5</td>\n",
       "      <td>may</td>\n",
       "      <td>1389</td>\n",
       "      <td>1</td>\n",
       "      <td>-1</td>\n",
       "      <td>0</td>\n",
       "      <td>unknown</td>\n",
       "      <td>yes</td>\n",
       "    </tr>\n",
       "    <tr>\n",
       "      <th>3</th>\n",
       "      <td>55</td>\n",
       "      <td>services</td>\n",
       "      <td>married</td>\n",
       "      <td>secondary</td>\n",
       "      <td>no</td>\n",
       "      <td>2 476,00 $</td>\n",
       "      <td>yes</td>\n",
       "      <td>no</td>\n",
       "      <td>unknown</td>\n",
       "      <td>5</td>\n",
       "      <td>may</td>\n",
       "      <td>579</td>\n",
       "      <td>1</td>\n",
       "      <td>-1</td>\n",
       "      <td>0</td>\n",
       "      <td>unknown</td>\n",
       "      <td>yes</td>\n",
       "    </tr>\n",
       "    <tr>\n",
       "      <th>4</th>\n",
       "      <td>54</td>\n",
       "      <td>admin.</td>\n",
       "      <td>married</td>\n",
       "      <td>tertiary</td>\n",
       "      <td>no</td>\n",
       "      <td>184,00 $</td>\n",
       "      <td>no</td>\n",
       "      <td>no</td>\n",
       "      <td>unknown</td>\n",
       "      <td>5</td>\n",
       "      <td>may</td>\n",
       "      <td>673</td>\n",
       "      <td>2</td>\n",
       "      <td>-1</td>\n",
       "      <td>0</td>\n",
       "      <td>unknown</td>\n",
       "      <td>yes</td>\n",
       "    </tr>\n",
       "  </tbody>\n",
       "</table>\n",
       "</div>"
      ],
      "text/plain": [
       "   age         job  marital  education default       balance housing loan  \\\n",
       "0   59      admin.  married  secondary      no   2 343,00 $      yes   no   \n",
       "1   56      admin.  married  secondary      no      45,00 $       no   no   \n",
       "2   41  technician  married  secondary      no   1 270,00 $      yes   no   \n",
       "3   55    services  married  secondary      no   2 476,00 $      yes   no   \n",
       "4   54      admin.  married   tertiary      no     184,00 $       no   no   \n",
       "\n",
       "   contact  day month  duration  campaign  pdays  previous poutcome deposit  \n",
       "0  unknown    5   may      1042         1     -1         0  unknown     yes  \n",
       "1  unknown    5   may      1467         1     -1         0  unknown     yes  \n",
       "2  unknown    5   may      1389         1     -1         0  unknown     yes  \n",
       "3  unknown    5   may       579         1     -1         0  unknown     yes  \n",
       "4  unknown    5   may       673         2     -1         0  unknown     yes  "
      ]
     },
     "execution_count": 4,
     "metadata": {},
     "output_type": "execute_result"
    }
   ],
   "source": [
    "df = pd.read_csv('bank_fin.csv', sep = ';')\n",
    "df.head()"
   ]
  },
  {
   "cell_type": "code",
   "execution_count": 5,
   "id": "ba11dc67",
   "metadata": {},
   "outputs": [
    {
     "data": {
      "text/plain": [
       "balance      25\n",
       "age           0\n",
       "day           0\n",
       "poutcome      0\n",
       "previous      0\n",
       "pdays         0\n",
       "campaign      0\n",
       "duration      0\n",
       "month         0\n",
       "contact       0\n",
       "job           0\n",
       "loan          0\n",
       "housing       0\n",
       "default       0\n",
       "education     0\n",
       "marital       0\n",
       "deposit       0\n",
       "dtype: int64"
      ]
     },
     "execution_count": 5,
     "metadata": {},
     "output_type": "execute_result"
    }
   ],
   "source": [
    "# исследуйте данные на предмет пропусков. Где есть пропущенные значения? Сколько их?\n",
    "df.isna().sum().sort_values(ascending=False)"
   ]
  },
  {
   "cell_type": "markdown",
   "id": "6366f059",
   "metadata": {},
   "source": [
    "### Задание 2"
   ]
  },
  {
   "cell_type": "code",
   "execution_count": 6,
   "id": "98ea29d4",
   "metadata": {},
   "outputs": [
    {
     "data": {
      "text/plain": [
       "management       2566\n",
       "blue-collar      1944\n",
       "technician       1823\n",
       "admin.           1334\n",
       "services          923\n",
       "retired           778\n",
       "self-employed     405\n",
       "student           360\n",
       "unemployed        357\n",
       "entrepreneur      328\n",
       "housemaid         274\n",
       "unknown            70\n",
       "Name: job, dtype: int64"
      ]
     },
     "execution_count": 6,
     "metadata": {},
     "output_type": "execute_result"
    }
   ],
   "source": [
    "# есть ли в признаке job пропущенные значения? Возможно, они обозначены каким-то специальным словом?\n",
    "df['job'].value_counts()"
   ]
  },
  {
   "cell_type": "markdown",
   "id": "8fcf4fcd",
   "metadata": {},
   "source": [
    "### Задание 3"
   ]
  },
  {
   "cell_type": "code",
   "execution_count": 7,
   "id": "3a01be5e",
   "metadata": {},
   "outputs": [
    {
     "data": {
      "text/plain": [
       "0     2 343,00 $ \n",
       "1        45,00 $ \n",
       "2     1 270,00 $ \n",
       "3     2 476,00 $ \n",
       "4       184,00 $ \n",
       "Name: balance, dtype: object"
      ]
     },
     "metadata": {},
     "output_type": "display_data"
    },
    {
     "name": "stdout",
     "output_type": "stream",
     "text": [
      "Среднее значение по преобразованному стобцу \"balance\":  1529.129\n"
     ]
    },
    {
     "data": {
      "text/plain": [
       "0    2343.0\n",
       "1      45.0\n",
       "2    1270.0\n",
       "3    2476.0\n",
       "4     184.0\n",
       "Name: balance, dtype: float64"
      ]
     },
     "metadata": {},
     "output_type": "display_data"
    }
   ],
   "source": [
    "# преобразуйте признак balance таким образом, чтобы он корректно считывался, как вещественное число (float)\n",
    "display(df['balance'].head())\n",
    "\n",
    "def balance_clean(arg):\n",
    "    \"\"\" Функция преобразовывает признак 'balance'\n",
    "\n",
    "    Args:\n",
    "        arg ([object]): balance с символами ',', '$', ' '\n",
    "    \n",
    "    Returns:\n",
    "        arg ([float]): balance тип float\n",
    "    \"\"\"\n",
    "    arg = str(arg)\n",
    "    arg = arg.replace('$', '').replace(' ', '').replace(',', '.')\n",
    "    return float(arg)\n",
    "\n",
    "df['balance'] = df['balance'].apply(balance_clean)\n",
    "print('Среднее значение по преобразованному стобцу \"balance\": ', round(df['balance'].mean(),3))\n",
    "display(df['balance'].head())"
   ]
  },
  {
   "cell_type": "markdown",
   "id": "6de63fd7",
   "metadata": {},
   "source": [
    "### Задание 4"
   ]
  },
  {
   "cell_type": "code",
   "execution_count": 8,
   "id": "6a684a63",
   "metadata": {},
   "outputs": [
    {
     "name": "stdout",
     "output_type": "stream",
     "text": [
      "Среднее значение по преобразованному стобцу \"balance\":  1526.936\n"
     ]
    }
   ],
   "source": [
    "# обработайте пропуски в признаки balance , заменив их на медианные значения по данному признаку\n",
    "df['balance'] = df['balance'].fillna(df['balance'].median())\n",
    "print('Среднее значение по преобразованному стобцу \"balance\": ', round(df['balance'].mean(),3))"
   ]
  },
  {
   "cell_type": "markdown",
   "id": "1097ec42",
   "metadata": {},
   "source": [
    "### Задание 5"
   ]
  },
  {
   "cell_type": "code",
   "execution_count": 9,
   "id": "0fa070a6",
   "metadata": {},
   "outputs": [
    {
     "name": "stdout",
     "output_type": "stream",
     "text": [
      "Седний баланс для клиентов с самой популярной работой и самым популярным уровнем образования:  1598.883\n"
     ]
    }
   ],
   "source": [
    "# обработайте пропуски в категориальных признаках: job и education, заменив их на модальные значения\n",
    "df['job'] = df['job'].apply(lambda x: df['job'].mode()[0] if x == 'unknown' else x)\n",
    "df['education'] = df['education'].apply(lambda x: df['education'].mode()[0] if x == 'unknown' else x)\n",
    "\n",
    "mask = (df['job'] == 'management') & (df['education'] == 'secondary')\n",
    "print('Седний баланс для клиентов с самой популярной работой и самым популярным уровнем образования: ', round(df[mask]['balance'].mean(), 3))"
   ]
  },
  {
   "cell_type": "markdown",
   "id": "02af77c6",
   "metadata": {},
   "source": [
    "### Задание 6"
   ]
  },
  {
   "cell_type": "code",
   "execution_count": 10,
   "id": "aa063b9b",
   "metadata": {},
   "outputs": [
    {
     "data": {
      "image/png": "[encoded data removed]",
      "text/plain": [
       "<Figure size 1500x400 with 2 Axes>"
      ]
     },
     "metadata": {},
     "output_type": "display_data"
    }
   ],
   "source": [
    "fig, axes = plt.subplots(nrows=1, ncols=2, figsize=(15, 4))\n",
    "histplot = sns.histplot(data=df, x='balance', ax=axes[0]);\n",
    "histplot.set_title('Распределения признака \"balance\"');\n",
    "boxplot = sns.boxplot(data=df, x='balance', ax=axes[1]);\n",
    "boxplot.set_title('Ящик с усами признака \"balance\"');"
   ]
  },
  {
   "cell_type": "markdown",
   "id": "d37c0d84",
   "metadata": {},
   "source": [
    "Типичный график признака, в котором присутствуют выбросы"
   ]
  },
  {
   "cell_type": "code",
   "execution_count": 11,
   "id": "3802cdd9",
   "metadata": {},
   "outputs": [
    {
     "name": "stdout",
     "output_type": "stream",
     "text": [
      "Верхняя и нижняя границы выбросов по методу Тьюки:  -2241.0  и  4063.0\n",
      "Количество объектов после удаления выбросов:  10105\n"
     ]
    }
   ],
   "source": [
    "# удалите все выбросы для признака balance\n",
    "x = df['balance']\n",
    "quartile_1, quartile_3 = x.quantile(0.25), x.quantile(0.75),\n",
    "iqr = quartile_3 - quartile_1\n",
    "lower_bound = quartile_1 - (iqr * 1.5)\n",
    "upper_bound = quartile_3 + (iqr * 1.5)\n",
    "outliers = df[(x<lower_bound) | (x > upper_bound)]\n",
    "cleaned = df[(x>lower_bound) & (x < upper_bound)]  # или включить границы МКР cleaned = df[(x>=lower_bound) & (x <= upper_bound)]\n",
    "\n",
    "cleaned_df = df.drop(outliers.index, axis=0)\n",
    "\n",
    "print('Верхняя и нижняя границы выбросов по методу Тьюки: ', lower_bound, ' и ', upper_bound)\n",
    "print('Количество объектов после удаления выбросов: ', cleaned_df.shape[0])"
   ]
  },
  {
   "cell_type": "code",
   "execution_count": 12,
   "id": "de3081d4",
   "metadata": {},
   "outputs": [
    {
     "data": {
      "image/png": "[encoded data removed]",
      "text/plain": [
       "<Figure size 1500x400 with 2 Axes>"
      ]
     },
     "metadata": {},
     "output_type": "display_data"
    }
   ],
   "source": [
    "fig, axes = plt.subplots(nrows=1, ncols=2, figsize=(15, 4))\n",
    "histplot = sns.histplot(data=cleaned_df, x='balance', ax=axes[0]);\n",
    "histplot.set_title('Распределения признака \"balance\"');\n",
    "boxplot = sns.boxplot(data=cleaned_df, x='balance', ax=axes[1]);\n",
    "boxplot.set_title('Ящик с усами признака \"balance\"');"
   ]
  },
  {
   "cell_type": "markdown",
   "id": "28c36762",
   "metadata": {},
   "source": [
    "График признака, очищенного от выбросов"
   ]
  },
  {
   "cell_type": "markdown",
   "id": "5d22b8cd",
   "metadata": {},
   "source": [
    "## Часть 2:  Разведывательный анализ"
   ]
  },
  {
   "cell_type": "markdown",
   "id": "21e1f083",
   "metadata": {},
   "source": [
    "### Задание 1"
   ]
  },
  {
   "cell_type": "code",
   "execution_count": 13,
   "id": "6d0cd3a8",
   "metadata": {},
   "outputs": [
    {
     "data": {
      "image/png": "[encoded data removed]",
      "text/plain": [
       "<Figure size 700x500 with 1 Axes>"
      ]
     },
     "metadata": {},
     "output_type": "display_data"
    }
   ],
   "source": [
    "# изучите соотношение классов в ваших данных на предмет несбалансированности, проиллюстрируйте результат\n",
    "fig, ax = plt.subplots(figsize = (7,5))\n",
    "ax = sns.countplot(data=cleaned_df, x='deposit')\n",
    "\n",
    "for rect in ax.patches:\n",
    "    ax.text (rect.get_x() + rect.get_width() / 2,rect.get_height()+1,rect.get_height(),horizontalalignment='center', fontsize = 12);"
   ]
  },
  {
   "cell_type": "markdown",
   "id": "dcf79fd1",
   "metadata": {},
   "source": [
    "Данные в целом сбалансированы"
   ]
  },
  {
   "cell_type": "markdown",
   "id": "426b1d40",
   "metadata": {},
   "source": [
    "### Задание 2"
   ]
  },
  {
   "cell_type": "code",
   "execution_count": 14,
   "id": "a44065d0",
   "metadata": {},
   "outputs": [],
   "source": [
    "# посмотрим на основные результаты EDA в одну строчку кода\n",
    "from pandas_profiling import ProfileReport\n",
    "profile = ProfileReport(cleaned_df, title=\"Banking Pandas Profiling Report\")\n",
    "#profile"
   ]
  },
  {
   "cell_type": "code",
   "execution_count": 15,
   "id": "603cdb3c",
   "metadata": {},
   "outputs": [
    {
     "data": {
      "text/html": [
       "<div>\n",
       "<style scoped>\n",
       "    .dataframe tbody tr th:only-of-type {\n",
       "        vertical-align: middle;\n",
       "    }\n",
       "\n",
       "    .dataframe tbody tr th {\n",
       "        vertical-align: top;\n",
       "    }\n",
       "\n",
       "    .dataframe thead th {\n",
       "        text-align: right;\n",
       "    }\n",
       "</style>\n",
       "<table border=\"1\" class=\"dataframe\">\n",
       "  <thead>\n",
       "    <tr style=\"text-align: right;\">\n",
       "      <th></th>\n",
       "      <th>age</th>\n",
       "      <th>balance</th>\n",
       "      <th>day</th>\n",
       "      <th>duration</th>\n",
       "      <th>campaign</th>\n",
       "      <th>pdays</th>\n",
       "      <th>previous</th>\n",
       "    </tr>\n",
       "  </thead>\n",
       "  <tbody>\n",
       "    <tr>\n",
       "      <th>count</th>\n",
       "      <td>10105.000000</td>\n",
       "      <td>10105.000000</td>\n",
       "      <td>10105.000000</td>\n",
       "      <td>10105.000000</td>\n",
       "      <td>10105.000000</td>\n",
       "      <td>10105.000000</td>\n",
       "      <td>10105.000000</td>\n",
       "    </tr>\n",
       "    <tr>\n",
       "      <th>mean</th>\n",
       "      <td>40.895497</td>\n",
       "      <td>807.653538</td>\n",
       "      <td>15.590302</td>\n",
       "      <td>368.742603</td>\n",
       "      <td>2.517170</td>\n",
       "      <td>51.319644</td>\n",
       "      <td>0.816230</td>\n",
       "    </tr>\n",
       "    <tr>\n",
       "      <th>std</th>\n",
       "      <td>11.734931</td>\n",
       "      <td>994.151966</td>\n",
       "      <td>8.441510</td>\n",
       "      <td>346.651524</td>\n",
       "      <td>2.707159</td>\n",
       "      <td>109.644179</td>\n",
       "      <td>2.243795</td>\n",
       "    </tr>\n",
       "    <tr>\n",
       "      <th>min</th>\n",
       "      <td>18.000000</td>\n",
       "      <td>-2049.000000</td>\n",
       "      <td>1.000000</td>\n",
       "      <td>2.000000</td>\n",
       "      <td>1.000000</td>\n",
       "      <td>-1.000000</td>\n",
       "      <td>0.000000</td>\n",
       "    </tr>\n",
       "    <tr>\n",
       "      <th>25%</th>\n",
       "      <td>32.000000</td>\n",
       "      <td>95.000000</td>\n",
       "      <td>8.000000</td>\n",
       "      <td>137.000000</td>\n",
       "      <td>1.000000</td>\n",
       "      <td>-1.000000</td>\n",
       "      <td>0.000000</td>\n",
       "    </tr>\n",
       "    <tr>\n",
       "      <th>50%</th>\n",
       "      <td>38.000000</td>\n",
       "      <td>445.000000</td>\n",
       "      <td>15.000000</td>\n",
       "      <td>252.000000</td>\n",
       "      <td>2.000000</td>\n",
       "      <td>-1.000000</td>\n",
       "      <td>0.000000</td>\n",
       "    </tr>\n",
       "    <tr>\n",
       "      <th>75%</th>\n",
       "      <td>48.000000</td>\n",
       "      <td>1227.000000</td>\n",
       "      <td>22.000000</td>\n",
       "      <td>490.000000</td>\n",
       "      <td>3.000000</td>\n",
       "      <td>2.000000</td>\n",
       "      <td>1.000000</td>\n",
       "    </tr>\n",
       "    <tr>\n",
       "      <th>max</th>\n",
       "      <td>95.000000</td>\n",
       "      <td>4063.000000</td>\n",
       "      <td>31.000000</td>\n",
       "      <td>3881.000000</td>\n",
       "      <td>43.000000</td>\n",
       "      <td>854.000000</td>\n",
       "      <td>58.000000</td>\n",
       "    </tr>\n",
       "  </tbody>\n",
       "</table>\n",
       "</div>"
      ],
      "text/plain": [
       "                age       balance           day      duration      campaign  \\\n",
       "count  10105.000000  10105.000000  10105.000000  10105.000000  10105.000000   \n",
       "mean      40.895497    807.653538     15.590302    368.742603      2.517170   \n",
       "std       11.734931    994.151966      8.441510    346.651524      2.707159   \n",
       "min       18.000000  -2049.000000      1.000000      2.000000      1.000000   \n",
       "25%       32.000000     95.000000      8.000000    137.000000      1.000000   \n",
       "50%       38.000000    445.000000     15.000000    252.000000      2.000000   \n",
       "75%       48.000000   1227.000000     22.000000    490.000000      3.000000   \n",
       "max       95.000000   4063.000000     31.000000   3881.000000     43.000000   \n",
       "\n",
       "              pdays      previous  \n",
       "count  10105.000000  10105.000000  \n",
       "mean      51.319644      0.816230  \n",
       "std      109.644179      2.243795  \n",
       "min       -1.000000      0.000000  \n",
       "25%       -1.000000      0.000000  \n",
       "50%       -1.000000      0.000000  \n",
       "75%        2.000000      1.000000  \n",
       "max      854.000000     58.000000  "
      ]
     },
     "execution_count": 15,
     "metadata": {},
     "output_type": "execute_result"
    }
   ],
   "source": [
    "# рассчитайте описательные статистики для количественных переменных, проинтерпретируйте результат\n",
    "cleaned_df.describe()"
   ]
  },
  {
   "cell_type": "code",
   "execution_count": 16,
   "id": "14444351",
   "metadata": {},
   "outputs": [],
   "source": [
    "boxplot = sns.boxplot(\n",
    "    data=cleaned_df,\n",
    "    y='deposit',\n",
    "    x='age',\n",
    "    orient='h',\n",
    "    width=0.9\n",
    ")\n",
    "boxplot.set_title('Распределение возраста клиентов в зависимости от факта окрытия депозита');\n",
    "boxplot.set_xlabel('Возраст клиента');\n",
    "boxplot.set_ylabel('Депозит');\n",
    "boxplot.grid();"
   ]
  },
  {
   "cell_type": "markdown",
   "id": "ec5e09c1",
   "metadata": {},
   "source": [
    "Межквартильный размах для клиентов, открывших депозит, больше, чем для тех, кто его не открыл. Также по графику можно определить потенциальные выбросы - возраст клиентов более 90."
   ]
  },
  {
   "cell_type": "code",
   "execution_count": 17,
   "id": "0722e803",
   "metadata": {},
   "outputs": [],
   "source": [
    "boxplot = sns.boxplot(\n",
    "    data=cleaned_df,\n",
    "    y='deposit',\n",
    "    x='balance',\n",
    "    orient='h',\n",
    "    width=0.9\n",
    ")\n",
    "boxplot.set_title('Распределение баланса клиентов в зависимости от факта окрытия депозита');\n",
    "boxplot.set_xlabel('Баланс клиента');\n",
    "boxplot.set_ylabel('Депозит');\n",
    "boxplot.grid();"
   ]
  },
  {
   "cell_type": "markdown",
   "id": "489af34f",
   "metadata": {},
   "source": [
    "Медианный баланс и права граница распределения баланса у клиентов, открывших депозит, выше чем у неоткрывших."
   ]
  },
  {
   "cell_type": "code",
   "execution_count": 18,
   "id": "80115c16",
   "metadata": {},
   "outputs": [],
   "source": [
    "boxplot = sns.boxplot(\n",
    "    data=cleaned_df,\n",
    "    y='deposit',\n",
    "    x='day',\n",
    "    orient='h',\n",
    "    width=0.9\n",
    ")\n",
    "boxplot.set_title('Распределение дней в зависимости от факта окрытия депозита');\n",
    "boxplot.set_xlabel('Баланс клиента');\n",
    "boxplot.set_ylabel('День месяца');\n",
    "boxplot.grid();"
   ]
  },
  {
   "cell_type": "markdown",
   "id": "846b4955",
   "metadata": {},
   "source": [
    "Депозит чаще всего открывают примерно в 8-22 числах месяца."
   ]
  },
  {
   "cell_type": "code",
   "execution_count": 19,
   "id": "5583ed01",
   "metadata": {},
   "outputs": [],
   "source": [
    "fig = plt.figure(figsize=(10, 7))\n",
    "scatterplot = sns.scatterplot(\n",
    "    data=cleaned_df,\n",
    "    x='age',\n",
    "    y='balance',\n",
    ")\n",
    "scatterplot.set_title('Зависимость баланса на счете от возраста клиента');"
   ]
  },
  {
   "cell_type": "markdown",
   "id": "4e35e5ad",
   "metadata": {},
   "source": [
    "Свыше 60 лет практически не регистрируется отрицательный баланс. В возрасте 35-55 отрицательный баланс встречается чаще всего. После 25 чаще встречаются высокие значения баланса."
   ]
  },
  {
   "cell_type": "markdown",
   "id": "821dc39e",
   "metadata": {},
   "source": [
    "### Задание 3"
   ]
  },
  {
   "cell_type": "code",
   "execution_count": 20,
   "id": "bf45afc9",
   "metadata": {},
   "outputs": [
    {
     "data": {
      "text/html": [
       "<div>\n",
       "<style scoped>\n",
       "    .dataframe tbody tr th:only-of-type {\n",
       "        vertical-align: middle;\n",
       "    }\n",
       "\n",
       "    .dataframe tbody tr th {\n",
       "        vertical-align: top;\n",
       "    }\n",
       "\n",
       "    .dataframe thead th {\n",
       "        text-align: right;\n",
       "    }\n",
       "</style>\n",
       "<table border=\"1\" class=\"dataframe\">\n",
       "  <thead>\n",
       "    <tr style=\"text-align: right;\">\n",
       "      <th></th>\n",
       "      <th>job</th>\n",
       "      <th>marital</th>\n",
       "      <th>education</th>\n",
       "      <th>default</th>\n",
       "      <th>housing</th>\n",
       "      <th>loan</th>\n",
       "      <th>contact</th>\n",
       "      <th>month</th>\n",
       "      <th>poutcome</th>\n",
       "      <th>deposit</th>\n",
       "    </tr>\n",
       "  </thead>\n",
       "  <tbody>\n",
       "    <tr>\n",
       "      <th>count</th>\n",
       "      <td>10105</td>\n",
       "      <td>10105</td>\n",
       "      <td>10105</td>\n",
       "      <td>10105</td>\n",
       "      <td>10105</td>\n",
       "      <td>10105</td>\n",
       "      <td>10105</td>\n",
       "      <td>10105</td>\n",
       "      <td>10105</td>\n",
       "      <td>10105</td>\n",
       "    </tr>\n",
       "    <tr>\n",
       "      <th>unique</th>\n",
       "      <td>11</td>\n",
       "      <td>3</td>\n",
       "      <td>3</td>\n",
       "      <td>2</td>\n",
       "      <td>2</td>\n",
       "      <td>2</td>\n",
       "      <td>3</td>\n",
       "      <td>12</td>\n",
       "      <td>4</td>\n",
       "      <td>2</td>\n",
       "    </tr>\n",
       "    <tr>\n",
       "      <th>top</th>\n",
       "      <td>management</td>\n",
       "      <td>married</td>\n",
       "      <td>secondary</td>\n",
       "      <td>no</td>\n",
       "      <td>no</td>\n",
       "      <td>no</td>\n",
       "      <td>cellular</td>\n",
       "      <td>may</td>\n",
       "      <td>unknown</td>\n",
       "      <td>no</td>\n",
       "    </tr>\n",
       "    <tr>\n",
       "      <th>freq</th>\n",
       "      <td>2315</td>\n",
       "      <td>5715</td>\n",
       "      <td>5517</td>\n",
       "      <td>9939</td>\n",
       "      <td>5243</td>\n",
       "      <td>8712</td>\n",
       "      <td>7283</td>\n",
       "      <td>2617</td>\n",
       "      <td>7570</td>\n",
       "      <td>5424</td>\n",
       "    </tr>\n",
       "  </tbody>\n",
       "</table>\n",
       "</div>"
      ],
      "text/plain": [
       "               job  marital  education default housing   loan   contact  \\\n",
       "count        10105    10105      10105   10105   10105  10105     10105   \n",
       "unique          11        3          3       2       2      2         3   \n",
       "top     management  married  secondary      no      no     no  cellular   \n",
       "freq          2315     5715       5517    9939    5243   8712      7283   \n",
       "\n",
       "        month poutcome deposit  \n",
       "count   10105    10105   10105  \n",
       "unique     12        4       2  \n",
       "top       may  unknown      no  \n",
       "freq     2617     7570    5424  "
      ]
     },
     "execution_count": 20,
     "metadata": {},
     "output_type": "execute_result"
    }
   ],
   "source": [
    "# рассчитайте описательные статистики для категориальных переменных, проинтерпретируйте результат\n",
    "cleaned_df.describe(include='object')"
   ]
  },
  {
   "cell_type": "markdown",
   "id": "3246c985",
   "metadata": {},
   "source": [
    "Наиболее часто встречающимся значением в типе занятости является management, в семейном положении - married, в уровне образования - secondary. Также чаще всего нет просроченного кредита, нет кредита на жилье и личные нужды и не известен результат прошлой маркетинговой кампании. Месяц последнего контакта с наивысшей частотой - май, а тип контакта - сотовая связь."
   ]
  },
  {
   "cell_type": "code",
   "execution_count": 21,
   "id": "fae2df8c",
   "metadata": {},
   "outputs": [
    {
     "name": "stdout",
     "output_type": "stream",
     "text": [
      "['job', 'marital', 'education', 'default', 'housing', 'loan', 'contact', 'month', 'poutcome']\n"
     ]
    }
   ],
   "source": [
    "types = cleaned_df.dtypes\n",
    "cat_features = list(types[(types == 'object')].index)\n",
    "cat_features.remove('deposit')\n",
    "print(cat_features)\n",
    "\n",
    "n = len(cat_features)\n",
    "fig, axes = plt.subplots(n, 2, figsize=(15, 40))\n",
    "\n",
    "for index, item in enumerate(cat_features):\n",
    "    count_data = (cleaned_df[cleaned_df['deposit'] == 'no'][item].value_counts()\n",
    "                  .sort_values(ascending=False)\n",
    "                  .rename('count')\n",
    "                  .reset_index())\n",
    "    count_barplot = sns.barplot(data=count_data, x='index', y='count', ax=axes[index][0])\n",
    "    count_barplot.xaxis.set_tick_params(rotation=60)\n",
    "    count_barplot.set_title(cat_features[index])\n",
    "    \n",
    "    deposit_yes_plot = (cleaned_df[cleaned_df['deposit'] == 'yes'][item].value_counts()\n",
    "                  .sort_values(ascending=False)\n",
    "                  .rename('count')\n",
    "                  .reset_index())\n",
    "    count_barplot = sns.barplot(data=deposit_yes_plot, x='index', y='count', ax=axes[index][1])\n",
    "    count_barplot.xaxis.set_tick_params(rotation=60)\n",
    "    count_barplot.set_title(cat_features[index])\n",
    "\n",
    "plt.tight_layout()\n",
    "\n",
    "fig.suptitle('Столбчатые диаграммы категориальных признаков в зависимости от депозита (не открыт депозит - слева, открыт депозит - справа)', size=16)\n",
    "fig.subplots_adjust(top=0.960)\n",
    "plt.show()\n"
   ]
  },
  {
   "cell_type": "markdown",
   "id": "472cff5b",
   "metadata": {},
   "source": [
    "### Задание 4"
   ]
  },
  {
   "cell_type": "code",
   "execution_count": 22,
   "id": "91ef3bcb",
   "metadata": {},
   "outputs": [
    {
     "data": {
      "text/html": [
       "<div>\n",
       "<style scoped>\n",
       "    .dataframe tbody tr th:only-of-type {\n",
       "        vertical-align: middle;\n",
       "    }\n",
       "\n",
       "    .dataframe tbody tr th {\n",
       "        vertical-align: top;\n",
       "    }\n",
       "\n",
       "    .dataframe thead th {\n",
       "        text-align: right;\n",
       "    }\n",
       "</style>\n",
       "<table border=\"1\" class=\"dataframe\">\n",
       "  <thead>\n",
       "    <tr style=\"text-align: right;\">\n",
       "      <th></th>\n",
       "      <th>poutcome</th>\n",
       "      <th>deposit</th>\n",
       "      <th>balance</th>\n",
       "    </tr>\n",
       "  </thead>\n",
       "  <tbody>\n",
       "    <tr>\n",
       "      <th>0</th>\n",
       "      <td>failure</td>\n",
       "      <td>no</td>\n",
       "      <td>562</td>\n",
       "    </tr>\n",
       "    <tr>\n",
       "      <th>1</th>\n",
       "      <td>failure</td>\n",
       "      <td>yes</td>\n",
       "      <td>547</td>\n",
       "    </tr>\n",
       "    <tr>\n",
       "      <th>2</th>\n",
       "      <td>other</td>\n",
       "      <td>no</td>\n",
       "      <td>216</td>\n",
       "    </tr>\n",
       "    <tr>\n",
       "      <th>3</th>\n",
       "      <td>other</td>\n",
       "      <td>yes</td>\n",
       "      <td>265</td>\n",
       "    </tr>\n",
       "    <tr>\n",
       "      <th>4</th>\n",
       "      <td>success</td>\n",
       "      <td>no</td>\n",
       "      <td>84</td>\n",
       "    </tr>\n",
       "    <tr>\n",
       "      <th>5</th>\n",
       "      <td>success</td>\n",
       "      <td>yes</td>\n",
       "      <td>861</td>\n",
       "    </tr>\n",
       "    <tr>\n",
       "      <th>6</th>\n",
       "      <td>unknown</td>\n",
       "      <td>no</td>\n",
       "      <td>4562</td>\n",
       "    </tr>\n",
       "    <tr>\n",
       "      <th>7</th>\n",
       "      <td>unknown</td>\n",
       "      <td>yes</td>\n",
       "      <td>3008</td>\n",
       "    </tr>\n",
       "  </tbody>\n",
       "</table>\n",
       "</div>"
      ],
      "text/plain": [
       "  poutcome deposit  balance\n",
       "0  failure      no      562\n",
       "1  failure     yes      547\n",
       "2    other      no      216\n",
       "3    other     yes      265\n",
       "4  success      no       84\n",
       "5  success     yes      861\n",
       "6  unknown      no     4562\n",
       "7  unknown     yes     3008"
      ]
     },
     "execution_count": 22,
     "metadata": {},
     "output_type": "execute_result"
    }
   ],
   "source": [
    "filtered_data = cleaned_df.groupby(['poutcome', 'deposit'], as_index=False)[['balance']].count()\n",
    "filtered_data"
   ]
  },
  {
   "cell_type": "code",
   "execution_count": 23,
   "id": "2d640ce1",
   "metadata": {},
   "outputs": [
    {
     "data": {
      "image/png": "[encoded data removed]"
     },
     "metadata": {},
     "output_type": "display_data"
    }
   ],
   "source": [
    "# узнайте, для какого статуса предыдущей маркетинговой кампании успех в текущей превалирует над количеством неудач\n",
    "filtered_data = cleaned_df.groupby(['poutcome', 'deposit'], as_index=False)[['balance']].count()\n",
    "filtered_data = filtered_data.rename(columns={\"balance\": \"client number\"})\n",
    "\n",
    "barchart = px.bar(\n",
    "    data_frame=filtered_data,\n",
    "    x=\"poutcome\",\n",
    "    y=\"client number\",\n",
    "    color=\"deposit\",\n",
    "    orientation=\"v\",\n",
    "    barmode='group',\n",
    "    title='Влияние результата предыдущей маркетинговой компании на успех текущей',\n",
    "    width=700,\n",
    "    height=400,\n",
    "    template='none'\n",
    ")\n",
    "\n",
    "barchart.show('png')"
   ]
  },
  {
   "cell_type": "markdown",
   "id": "e043e7c2",
   "metadata": {},
   "source": [
    "Успех предыдущей маркетинговой кампании приводит к тому, что успех в текущей превалирует над количеством неудач."
   ]
  },
  {
   "cell_type": "markdown",
   "id": "9c32e3aa",
   "metadata": {},
   "source": [
    "### Задание 5"
   ]
  },
  {
   "cell_type": "code",
   "execution_count": 24,
   "id": "df437ec3",
   "metadata": {},
   "outputs": [
    {
     "data": {
      "image/png": "[encoded data removed]"
     },
     "metadata": {},
     "output_type": "display_data"
    }
   ],
   "source": [
    "# узнайте, в каком месяце чаще всего отказывались от предложения открыть депозит\n",
    "filtered_data = cleaned_df.groupby(['month', 'deposit'], as_index=False)[['balance']].count()\n",
    "filtered_data = filtered_data.rename(columns={\"balance\": \"client number\"})\n",
    "\n",
    "barchart = px.bar(\n",
    "    data_frame=filtered_data,\n",
    "    x=\"month\",\n",
    "    y=\"client number\",\n",
    "    color=\"deposit\",\n",
    "    orientation=\"v\",\n",
    "    barmode='group',\n",
    "    title='Зависимость результата маркетинговых кампаний от месяца',\n",
    "    width=700,\n",
    "    height=400,\n",
    "    template='none'\n",
    ")\n",
    "\n",
    "barchart.show('png')"
   ]
  },
  {
   "cell_type": "markdown",
   "id": "1a5cb80c",
   "metadata": {},
   "source": [
    "Чаще всего клиенты банка отказывались открывать депозит в мае."
   ]
  },
  {
   "cell_type": "markdown",
   "id": "5f20762f",
   "metadata": {},
   "source": [
    "### Задание 6"
   ]
  },
  {
   "cell_type": "code",
   "execution_count": 25,
   "id": "95d56f1b",
   "metadata": {},
   "outputs": [
    {
     "data": {
      "text/html": [
       "<div>\n",
       "<style scoped>\n",
       "    .dataframe tbody tr th:only-of-type {\n",
       "        vertical-align: middle;\n",
       "    }\n",
       "\n",
       "    .dataframe tbody tr th {\n",
       "        vertical-align: top;\n",
       "    }\n",
       "\n",
       "    .dataframe thead th {\n",
       "        text-align: right;\n",
       "    }\n",
       "</style>\n",
       "<table border=\"1\" class=\"dataframe\">\n",
       "  <thead>\n",
       "    <tr style=\"text-align: right;\">\n",
       "      <th></th>\n",
       "      <th>age</th>\n",
       "      <th>age group</th>\n",
       "    </tr>\n",
       "  </thead>\n",
       "  <tbody>\n",
       "    <tr>\n",
       "      <th>0</th>\n",
       "      <td>59</td>\n",
       "      <td>50-60</td>\n",
       "    </tr>\n",
       "    <tr>\n",
       "      <th>1</th>\n",
       "      <td>56</td>\n",
       "      <td>50-60</td>\n",
       "    </tr>\n",
       "    <tr>\n",
       "      <th>2</th>\n",
       "      <td>41</td>\n",
       "      <td>40-50</td>\n",
       "    </tr>\n",
       "    <tr>\n",
       "      <th>3</th>\n",
       "      <td>55</td>\n",
       "      <td>50-60</td>\n",
       "    </tr>\n",
       "    <tr>\n",
       "      <th>4</th>\n",
       "      <td>54</td>\n",
       "      <td>50-60</td>\n",
       "    </tr>\n",
       "  </tbody>\n",
       "</table>\n",
       "</div>"
      ],
      "text/plain": [
       "   age age group\n",
       "0   59     50-60\n",
       "1   56     50-60\n",
       "2   41     40-50\n",
       "3   55     50-60\n",
       "4   54     50-60"
      ]
     },
     "execution_count": 25,
     "metadata": {},
     "output_type": "execute_result"
    }
   ],
   "source": [
    "# создайте возрастные группы и определите, в каких группах более склонны открывать депозит, чем отказываться от предложения\n",
    "def get_age_group(age):\n",
    "    \"\"\" Создание возрастных групп\n",
    "\n",
    "    Args:\n",
    "        age (int64): возраст\n",
    "\n",
    "    Returns:\n",
    "        (object): возрастная группа\n",
    "    \"\"\"\n",
    "    if age <= 30:\n",
    "        return '<30'\n",
    "    elif 30 < age <= 40:\n",
    "        return '30-40'\n",
    "    elif 40 < age <= 50:\n",
    "        return '40-50'\n",
    "    elif 50 < age <= 60:\n",
    "        return '50-60'\n",
    "    else:\n",
    "        return '60+'\n",
    "    \n",
    "    \n",
    "cleaned_df['age group'] = cleaned_df['age'].apply(get_age_group)\n",
    "cleaned_df[['age', 'age group']].head()"
   ]
  },
  {
   "cell_type": "code",
   "execution_count": 26,
   "id": "7281ad97",
   "metadata": {},
   "outputs": [
    {
     "data": {
      "image/png": "[encoded data removed]"
     },
     "metadata": {},
     "output_type": "display_data"
    }
   ],
   "source": [
    "filtered_data = cleaned_df.groupby(['age group', 'deposit'], as_index=False)[['balance']].count()\n",
    "filtered_data = filtered_data.rename(columns={\"balance\": \"client number\"})\n",
    "\n",
    "barchart = px.bar(\n",
    "    data_frame=filtered_data,\n",
    "    x=\"age group\",\n",
    "    y=\"client number\",\n",
    "    color=\"deposit\",\n",
    "    orientation=\"v\",\n",
    "    barmode='group',\n",
    "    title='Зависимость открытия депозита от возрастной группы',\n",
    "    width=700,\n",
    "    height=400,\n",
    "    template='none'\n",
    ")\n",
    "\n",
    "barchart.show('png')"
   ]
  },
  {
   "cell_type": "markdown",
   "id": "f9634195",
   "metadata": {},
   "source": [
    "Более склонны открывать депозит, чем отказываться от предложения, в возрастных группах 60+ и <30."
   ]
  },
  {
   "cell_type": "markdown",
   "id": "0841c685",
   "metadata": {},
   "source": [
    "### Задание 7"
   ]
  },
  {
   "cell_type": "code",
   "execution_count": 27,
   "id": "0d84a9e1",
   "metadata": {},
   "outputs": [
    {
     "data": {
      "image/png": "[encoded data removed]"
     },
     "metadata": {},
     "output_type": "display_data"
    }
   ],
   "source": [
    "# постройте визуализации для открывших и неоткрывших депозит в зависимости от семейного статуса\n",
    "filtered_data = cleaned_df.groupby(['marital', 'deposit'], as_index=False)[['balance']].count()\n",
    "filtered_data = filtered_data.rename(columns={\"balance\": \"client number\"})\n",
    "\n",
    "barchart = px.bar(\n",
    "    data_frame=filtered_data,\n",
    "    x=\"marital\",\n",
    "    y=\"client number\",\n",
    "    color=\"deposit\",\n",
    "    orientation=\"v\",\n",
    "    barmode='group',\n",
    "    title='Зависимость открытия депозита от семейного статуса',\n",
    "    width=700,\n",
    "    height=400,\n",
    "    template='none'\n",
    ")\n",
    "\n",
    "barchart.show('png')"
   ]
  },
  {
   "cell_type": "markdown",
   "id": "dce76121",
   "metadata": {},
   "source": [
    "Клиенты, находящиеся в браке, больше всех остальных из данного признака склонны открывать депозит. При этом одинокие клиенты чаще открывают депозит, чем отказываются от предложения"
   ]
  },
  {
   "cell_type": "code",
   "execution_count": 28,
   "id": "16333967",
   "metadata": {},
   "outputs": [
    {
     "data": {
      "image/png": "[encoded data removed]"
     },
     "metadata": {},
     "output_type": "display_data"
    }
   ],
   "source": [
    "# постройте визуализации для открывших и неоткрывших депозит в зависимости от образования\n",
    "filtered_data = cleaned_df.groupby(['education', 'deposit'], as_index=False)[['balance']].count()\n",
    "filtered_data = filtered_data.rename(columns={\"balance\": \"client number\"})\n",
    "\n",
    "barchart = px.bar(\n",
    "    data_frame=filtered_data,\n",
    "    x=\"education\",\n",
    "    y=\"client number\",\n",
    "    color=\"deposit\",\n",
    "    orientation=\"v\",\n",
    "    barmode='group',\n",
    "    title='Зависимость открытия депозита от образования',\n",
    "    width=700,\n",
    "    height=400,\n",
    "    template='none'\n",
    ")\n",
    "\n",
    "barchart.show('png')"
   ]
  },
  {
   "cell_type": "markdown",
   "id": "61d575d4",
   "metadata": {},
   "source": [
    "Чаще всего открывают депозит клиенты со средним уровнем образования. Кроме того, клиенты с высшим уровнем образования чаще открывают депозит, чем отказываются от предложения банка"
   ]
  },
  {
   "cell_type": "code",
   "execution_count": 29,
   "id": "738224f8",
   "metadata": {},
   "outputs": [
    {
     "data": {
      "image/png": "[encoded data removed]"
     },
     "metadata": {},
     "output_type": "display_data"
    }
   ],
   "source": [
    "# постройте визуализации для открывших и неоткрывших депозит в зависимости от вида профессиональной занятости\n",
    "filtered_data = cleaned_df.groupby(['job', 'deposit'], as_index=False)[['balance']].count()\n",
    "filtered_data = filtered_data.rename(columns={\"balance\": \"client number\"})\n",
    "\n",
    "barchart = px.bar(\n",
    "    data_frame=filtered_data,\n",
    "    x=\"job\",\n",
    "    y=\"client number\",\n",
    "    color=\"deposit\",\n",
    "    orientation=\"v\",\n",
    "    barmode='group',\n",
    "    title='Зависимость открытия депозита от вида профессиональной занятости',\n",
    "    width=700,\n",
    "    height=400,\n",
    "    template='none'\n",
    ")\n",
    "\n",
    "barchart.show('png')"
   ]
  },
  {
   "cell_type": "markdown",
   "id": "3071fa2b",
   "metadata": {},
   "source": [
    "Чаще всего открывают депозит клиенты с типом занятости: management, technician и blue-collar"
   ]
  },
  {
   "cell_type": "markdown",
   "id": "a521e204",
   "metadata": {},
   "source": [
    "### Задание 8"
   ]
  },
  {
   "cell_type": "code",
   "execution_count": 30,
   "id": "35ab0413",
   "metadata": {},
   "outputs": [
    {
     "data": {
      "text/html": [
       "<div>\n",
       "<style scoped>\n",
       "    .dataframe tbody tr th:only-of-type {\n",
       "        vertical-align: middle;\n",
       "    }\n",
       "\n",
       "    .dataframe tbody tr th {\n",
       "        vertical-align: top;\n",
       "    }\n",
       "\n",
       "    .dataframe thead th {\n",
       "        text-align: right;\n",
       "    }\n",
       "</style>\n",
       "<table border=\"1\" class=\"dataframe\">\n",
       "  <thead>\n",
       "    <tr style=\"text-align: right;\">\n",
       "      <th>marital</th>\n",
       "      <th>divorced</th>\n",
       "      <th>married</th>\n",
       "      <th>single</th>\n",
       "    </tr>\n",
       "    <tr>\n",
       "      <th>education</th>\n",
       "      <th></th>\n",
       "      <th></th>\n",
       "      <th></th>\n",
       "    </tr>\n",
       "  </thead>\n",
       "  <tbody>\n",
       "    <tr>\n",
       "      <th>primary</th>\n",
       "      <td>96</td>\n",
       "      <td>339</td>\n",
       "      <td>82</td>\n",
       "    </tr>\n",
       "    <tr>\n",
       "      <th>secondary</th>\n",
       "      <td>283</td>\n",
       "      <td>1289</td>\n",
       "      <td>879</td>\n",
       "    </tr>\n",
       "    <tr>\n",
       "      <th>tertiary</th>\n",
       "      <td>174</td>\n",
       "      <td>784</td>\n",
       "      <td>755</td>\n",
       "    </tr>\n",
       "  </tbody>\n",
       "</table>\n",
       "</div>"
      ],
      "text/plain": [
       "marital    divorced  married   single  \n",
       "education                              \n",
       "primary          96       339        82\n",
       "secondary       283      1289       879\n",
       "tertiary        174       784       755"
      ]
     },
     "metadata": {},
     "output_type": "display_data"
    }
   ],
   "source": [
    "# постройте сводную таблицу, чтобы определить люди с каким образованием и семейным статусом наиболее многочисленны\n",
    "#(если рассматривать тех, кто открыл депозит)\n",
    "filtered_data = cleaned_df[cleaned_df['deposit'] == 'yes']\n",
    "\n",
    "pivot_deposit_yes = filtered_data.pivot_table(\n",
    "    values = 'deposit',\n",
    "    columns = 'marital',\n",
    "    index = 'education',\n",
    "    aggfunc='count'\n",
    ")\n",
    "pivot_deposit_yes.columns = pivot_deposit_yes.columns.astype('string')\n",
    "display(pivot_deposit_yes)\n",
    "\n",
    "heatmap = sns.heatmap(data=pivot_deposit_yes, cmap='coolwarm')\n",
    "heatmap.set_title('Тепловая карта зависимости клиентов, открывших депозит, от семейного статуса и образования', fontsize=20);"
   ]
  },
  {
   "cell_type": "markdown",
   "id": "9426f178",
   "metadata": {},
   "source": [
    "Чаще всего открывают депозит клиенты, находящиеся в браке или одинокие и имеющие средний уровень образования"
   ]
  },
  {
   "cell_type": "code",
   "execution_count": 31,
   "id": "58e32f16",
   "metadata": {},
   "outputs": [
    {
     "data": {
      "text/html": [
       "<div>\n",
       "<style scoped>\n",
       "    .dataframe tbody tr th:only-of-type {\n",
       "        vertical-align: middle;\n",
       "    }\n",
       "\n",
       "    .dataframe tbody tr th {\n",
       "        vertical-align: top;\n",
       "    }\n",
       "\n",
       "    .dataframe thead th {\n",
       "        text-align: right;\n",
       "    }\n",
       "</style>\n",
       "<table border=\"1\" class=\"dataframe\">\n",
       "  <thead>\n",
       "    <tr style=\"text-align: right;\">\n",
       "      <th>marital</th>\n",
       "      <th>divorced</th>\n",
       "      <th>married</th>\n",
       "      <th>single</th>\n",
       "    </tr>\n",
       "    <tr>\n",
       "      <th>education</th>\n",
       "      <th></th>\n",
       "      <th></th>\n",
       "      <th></th>\n",
       "    </tr>\n",
       "  </thead>\n",
       "  <tbody>\n",
       "    <tr>\n",
       "      <th>primary</th>\n",
       "      <td>91</td>\n",
       "      <td>641</td>\n",
       "      <td>100</td>\n",
       "    </tr>\n",
       "    <tr>\n",
       "      <th>secondary</th>\n",
       "      <td>370</td>\n",
       "      <td>1830</td>\n",
       "      <td>866</td>\n",
       "    </tr>\n",
       "    <tr>\n",
       "      <th>tertiary</th>\n",
       "      <td>163</td>\n",
       "      <td>832</td>\n",
       "      <td>531</td>\n",
       "    </tr>\n",
       "  </tbody>\n",
       "</table>\n",
       "</div>"
      ],
      "text/plain": [
       "marital    divorced  married   single  \n",
       "education                              \n",
       "primary          91       641       100\n",
       "secondary       370      1830       866\n",
       "tertiary        163       832       531"
      ]
     },
     "metadata": {},
     "output_type": "display_data"
    }
   ],
   "source": [
    "filtered_data = cleaned_df[cleaned_df['deposit'] == 'no']\n",
    "\n",
    "pivot_deposit_no = filtered_data.pivot_table(\n",
    "    values = 'deposit',\n",
    "    columns = 'marital',\n",
    "    index = 'education',\n",
    "    aggfunc='count'\n",
    ")\n",
    "pivot_deposit_no.columns = pivot_deposit_no.columns.astype('string')\n",
    "display(pivot_deposit_no)\n",
    "\n",
    "heatmap = sns.heatmap(data=pivot_deposit_no, cmap='coolwarm')\n",
    "heatmap.set_title('Тепловая карта зависимости клиентов, не открывших депозит, от семейного статуса и образования', fontsize=20);"
   ]
  },
  {
   "cell_type": "markdown",
   "id": "6d609294",
   "metadata": {},
   "source": [
    "Чаще всего открывают не депозит клиенты, находящиеся в браке или одинокие и имеющие средний уровень образования"
   ]
  },
  {
   "cell_type": "markdown",
   "id": "dfd805c0",
   "metadata": {},
   "source": [
    "## Часть 3: преобразование данных"
   ]
  },
  {
   "cell_type": "markdown",
   "id": "e44e715b",
   "metadata": {},
   "source": [
    "### Задание 1"
   ]
  },
  {
   "cell_type": "code",
   "execution_count": 32,
   "id": "77968548",
   "metadata": {},
   "outputs": [
    {
     "data": {
      "text/html": [
       "<div>\n",
       "<style scoped>\n",
       "    .dataframe tbody tr th:only-of-type {\n",
       "        vertical-align: middle;\n",
       "    }\n",
       "\n",
       "    .dataframe tbody tr th {\n",
       "        vertical-align: top;\n",
       "    }\n",
       "\n",
       "    .dataframe thead th {\n",
       "        text-align: right;\n",
       "    }\n",
       "</style>\n",
       "<table border=\"1\" class=\"dataframe\">\n",
       "  <thead>\n",
       "    <tr style=\"text-align: right;\">\n",
       "      <th></th>\n",
       "      <th>age</th>\n",
       "      <th>job</th>\n",
       "      <th>marital</th>\n",
       "      <th>education</th>\n",
       "      <th>default</th>\n",
       "      <th>balance</th>\n",
       "      <th>housing</th>\n",
       "      <th>loan</th>\n",
       "      <th>contact</th>\n",
       "      <th>day</th>\n",
       "      <th>month</th>\n",
       "      <th>duration</th>\n",
       "      <th>campaign</th>\n",
       "      <th>pdays</th>\n",
       "      <th>previous</th>\n",
       "      <th>poutcome</th>\n",
       "      <th>deposit</th>\n",
       "      <th>age group</th>\n",
       "    </tr>\n",
       "  </thead>\n",
       "  <tbody>\n",
       "    <tr>\n",
       "      <th>0</th>\n",
       "      <td>59</td>\n",
       "      <td>admin.</td>\n",
       "      <td>married</td>\n",
       "      <td>secondary</td>\n",
       "      <td>no</td>\n",
       "      <td>2343.0</td>\n",
       "      <td>yes</td>\n",
       "      <td>no</td>\n",
       "      <td>unknown</td>\n",
       "      <td>5</td>\n",
       "      <td>may</td>\n",
       "      <td>1042</td>\n",
       "      <td>1</td>\n",
       "      <td>-1</td>\n",
       "      <td>0</td>\n",
       "      <td>unknown</td>\n",
       "      <td>yes</td>\n",
       "      <td>50-60</td>\n",
       "    </tr>\n",
       "    <tr>\n",
       "      <th>1</th>\n",
       "      <td>56</td>\n",
       "      <td>admin.</td>\n",
       "      <td>married</td>\n",
       "      <td>secondary</td>\n",
       "      <td>no</td>\n",
       "      <td>45.0</td>\n",
       "      <td>no</td>\n",
       "      <td>no</td>\n",
       "      <td>unknown</td>\n",
       "      <td>5</td>\n",
       "      <td>may</td>\n",
       "      <td>1467</td>\n",
       "      <td>1</td>\n",
       "      <td>-1</td>\n",
       "      <td>0</td>\n",
       "      <td>unknown</td>\n",
       "      <td>yes</td>\n",
       "      <td>50-60</td>\n",
       "    </tr>\n",
       "    <tr>\n",
       "      <th>2</th>\n",
       "      <td>41</td>\n",
       "      <td>technician</td>\n",
       "      <td>married</td>\n",
       "      <td>secondary</td>\n",
       "      <td>no</td>\n",
       "      <td>1270.0</td>\n",
       "      <td>yes</td>\n",
       "      <td>no</td>\n",
       "      <td>unknown</td>\n",
       "      <td>5</td>\n",
       "      <td>may</td>\n",
       "      <td>1389</td>\n",
       "      <td>1</td>\n",
       "      <td>-1</td>\n",
       "      <td>0</td>\n",
       "      <td>unknown</td>\n",
       "      <td>yes</td>\n",
       "      <td>40-50</td>\n",
       "    </tr>\n",
       "    <tr>\n",
       "      <th>3</th>\n",
       "      <td>55</td>\n",
       "      <td>services</td>\n",
       "      <td>married</td>\n",
       "      <td>secondary</td>\n",
       "      <td>no</td>\n",
       "      <td>2476.0</td>\n",
       "      <td>yes</td>\n",
       "      <td>no</td>\n",
       "      <td>unknown</td>\n",
       "      <td>5</td>\n",
       "      <td>may</td>\n",
       "      <td>579</td>\n",
       "      <td>1</td>\n",
       "      <td>-1</td>\n",
       "      <td>0</td>\n",
       "      <td>unknown</td>\n",
       "      <td>yes</td>\n",
       "      <td>50-60</td>\n",
       "    </tr>\n",
       "    <tr>\n",
       "      <th>4</th>\n",
       "      <td>54</td>\n",
       "      <td>admin.</td>\n",
       "      <td>married</td>\n",
       "      <td>tertiary</td>\n",
       "      <td>no</td>\n",
       "      <td>184.0</td>\n",
       "      <td>no</td>\n",
       "      <td>no</td>\n",
       "      <td>unknown</td>\n",
       "      <td>5</td>\n",
       "      <td>may</td>\n",
       "      <td>673</td>\n",
       "      <td>2</td>\n",
       "      <td>-1</td>\n",
       "      <td>0</td>\n",
       "      <td>unknown</td>\n",
       "      <td>yes</td>\n",
       "      <td>50-60</td>\n",
       "    </tr>\n",
       "  </tbody>\n",
       "</table>\n",
       "</div>"
      ],
      "text/plain": [
       "   age         job  marital  education default  balance housing loan  contact  \\\n",
       "0   59      admin.  married  secondary      no   2343.0     yes   no  unknown   \n",
       "1   56      admin.  married  secondary      no     45.0      no   no  unknown   \n",
       "2   41  technician  married  secondary      no   1270.0     yes   no  unknown   \n",
       "3   55    services  married  secondary      no   2476.0     yes   no  unknown   \n",
       "4   54      admin.  married   tertiary      no    184.0      no   no  unknown   \n",
       "\n",
       "   day month  duration  campaign  pdays  previous poutcome deposit age group  \n",
       "0    5   may      1042         1     -1         0  unknown     yes     50-60  \n",
       "1    5   may      1467         1     -1         0  unknown     yes     50-60  \n",
       "2    5   may      1389         1     -1         0  unknown     yes     40-50  \n",
       "3    5   may       579         1     -1         0  unknown     yes     50-60  \n",
       "4    5   may       673         2     -1         0  unknown     yes     50-60  "
      ]
     },
     "execution_count": 32,
     "metadata": {},
     "output_type": "execute_result"
    }
   ],
   "source": [
    "data = cleaned_df.copy()\n",
    "data.head()"
   ]
  },
  {
   "cell_type": "code",
   "execution_count": 33,
   "id": "2ea0b84c",
   "metadata": {},
   "outputs": [
    {
     "name": "stdout",
     "output_type": "stream",
     "text": [
      "Сумма получившихся значений для признака education 11995\n"
     ]
    }
   ],
   "source": [
    "# преобразуйте уровни образования\n",
    "Label_Encoder = LabelEncoder()\n",
    "cleaned_df['education'] = Label_Encoder.fit_transform(cleaned_df['education'])\n",
    "print('Сумма получившихся значений для признака education', sum(cleaned_df['education']))"
   ]
  },
  {
   "cell_type": "code",
   "execution_count": 34,
   "id": "d7f4681a",
   "metadata": {},
   "outputs": [
    {
     "data": {
      "text/html": [
       "<div>\n",
       "<style scoped>\n",
       "    .dataframe tbody tr th:only-of-type {\n",
       "        vertical-align: middle;\n",
       "    }\n",
       "\n",
       "    .dataframe tbody tr th {\n",
       "        vertical-align: top;\n",
       "    }\n",
       "\n",
       "    .dataframe thead th {\n",
       "        text-align: right;\n",
       "    }\n",
       "</style>\n",
       "<table border=\"1\" class=\"dataframe\">\n",
       "  <thead>\n",
       "    <tr style=\"text-align: right;\">\n",
       "      <th></th>\n",
       "      <th>age</th>\n",
       "      <th>job</th>\n",
       "      <th>marital</th>\n",
       "      <th>education</th>\n",
       "      <th>default</th>\n",
       "      <th>balance</th>\n",
       "      <th>housing</th>\n",
       "      <th>loan</th>\n",
       "      <th>contact</th>\n",
       "      <th>day</th>\n",
       "      <th>month</th>\n",
       "      <th>duration</th>\n",
       "      <th>campaign</th>\n",
       "      <th>pdays</th>\n",
       "      <th>previous</th>\n",
       "      <th>poutcome</th>\n",
       "      <th>deposit</th>\n",
       "      <th>age group</th>\n",
       "    </tr>\n",
       "  </thead>\n",
       "  <tbody>\n",
       "    <tr>\n",
       "      <th>0</th>\n",
       "      <td>59</td>\n",
       "      <td>admin.</td>\n",
       "      <td>married</td>\n",
       "      <td>1</td>\n",
       "      <td>no</td>\n",
       "      <td>2343.0</td>\n",
       "      <td>yes</td>\n",
       "      <td>no</td>\n",
       "      <td>unknown</td>\n",
       "      <td>5</td>\n",
       "      <td>may</td>\n",
       "      <td>1042</td>\n",
       "      <td>1</td>\n",
       "      <td>-1</td>\n",
       "      <td>0</td>\n",
       "      <td>unknown</td>\n",
       "      <td>yes</td>\n",
       "      <td>2</td>\n",
       "    </tr>\n",
       "    <tr>\n",
       "      <th>1</th>\n",
       "      <td>56</td>\n",
       "      <td>admin.</td>\n",
       "      <td>married</td>\n",
       "      <td>1</td>\n",
       "      <td>no</td>\n",
       "      <td>45.0</td>\n",
       "      <td>no</td>\n",
       "      <td>no</td>\n",
       "      <td>unknown</td>\n",
       "      <td>5</td>\n",
       "      <td>may</td>\n",
       "      <td>1467</td>\n",
       "      <td>1</td>\n",
       "      <td>-1</td>\n",
       "      <td>0</td>\n",
       "      <td>unknown</td>\n",
       "      <td>yes</td>\n",
       "      <td>2</td>\n",
       "    </tr>\n",
       "    <tr>\n",
       "      <th>2</th>\n",
       "      <td>41</td>\n",
       "      <td>technician</td>\n",
       "      <td>married</td>\n",
       "      <td>1</td>\n",
       "      <td>no</td>\n",
       "      <td>1270.0</td>\n",
       "      <td>yes</td>\n",
       "      <td>no</td>\n",
       "      <td>unknown</td>\n",
       "      <td>5</td>\n",
       "      <td>may</td>\n",
       "      <td>1389</td>\n",
       "      <td>1</td>\n",
       "      <td>-1</td>\n",
       "      <td>0</td>\n",
       "      <td>unknown</td>\n",
       "      <td>yes</td>\n",
       "      <td>1</td>\n",
       "    </tr>\n",
       "  </tbody>\n",
       "</table>\n",
       "</div>"
      ],
      "text/plain": [
       "   age         job  marital  education default  balance housing loan  contact  \\\n",
       "0   59      admin.  married          1      no   2343.0     yes   no  unknown   \n",
       "1   56      admin.  married          1      no     45.0      no   no  unknown   \n",
       "2   41  technician  married          1      no   1270.0     yes   no  unknown   \n",
       "\n",
       "   day month  duration  campaign  pdays  previous poutcome deposit  age group  \n",
       "0    5   may      1042         1     -1         0  unknown     yes          2  \n",
       "1    5   may      1467         1     -1         0  unknown     yes          2  \n",
       "2    5   may      1389         1     -1         0  unknown     yes          1  "
      ]
     },
     "execution_count": 34,
     "metadata": {},
     "output_type": "execute_result"
    }
   ],
   "source": [
    "Label_Encoder = LabelEncoder()\n",
    "cleaned_df['age group'] = Label_Encoder.fit_transform(cleaned_df['age group'])\n",
    "cleaned_df.head(3)"
   ]
  },
  {
   "cell_type": "markdown",
   "id": "8c93e73d",
   "metadata": {},
   "source": [
    "### Задание 2"
   ]
  },
  {
   "cell_type": "code",
   "execution_count": 35,
   "id": "104a0d9a",
   "metadata": {},
   "outputs": [],
   "source": [
    "# преобразуйте бинарные переменные в представление из нулей и единиц\n",
    "data['deposit'] = data['deposit'].apply(lambda x: 1 if x == 'yes' else 0)\n",
    "data['default'] = data['default'].apply(lambda x: 1 if x == 'yes' else 0)\n",
    "data['housing'] = data['housing'].apply(lambda x: 1 if x == 'yes' else 0)\n",
    "data['loan'] = data['loan'].apply(lambda x: 1 if x == 'yes' else 0)"
   ]
  },
  {
   "cell_type": "code",
   "execution_count": 36,
   "id": "343faab1",
   "metadata": {},
   "outputs": [
    {
     "name": "stdout",
     "output_type": "stream",
     "text": [
      "Стандартное отклонение по преобразованной в корректный вид целевой переменной deposit равно 0.499\n"
     ]
    }
   ],
   "source": [
    "print('Стандартное отклонение по преобразованной в корректный вид целевой переменной deposit равно', round(data['deposit'].std(), 3))"
   ]
  },
  {
   "cell_type": "code",
   "execution_count": 37,
   "id": "626a5762",
   "metadata": {},
   "outputs": [
    {
     "name": "stdout",
     "output_type": "stream",
     "text": [
      "Сумма средних значений по трем бинарным признакам:  0.635\n"
     ]
    }
   ],
   "source": [
    "default_mean = data['default'].mean()\n",
    "housing_mean = data['housing'].mean()\n",
    "loan_mean = data['loan'].mean()\n",
    "\n",
    "print('Сумма средних значений по трем бинарным признакам: ', round((default_mean + housing_mean + loan_mean), 3))"
   ]
  },
  {
   "cell_type": "markdown",
   "id": "c40dc02a",
   "metadata": {},
   "source": [
    "### Задание 3"
   ]
  },
  {
   "cell_type": "code",
   "execution_count": 38,
   "id": "b996883f",
   "metadata": {},
   "outputs": [
    {
     "data": {
      "text/html": [
       "<div>\n",
       "<style scoped>\n",
       "    .dataframe tbody tr th:only-of-type {\n",
       "        vertical-align: middle;\n",
       "    }\n",
       "\n",
       "    .dataframe tbody tr th {\n",
       "        vertical-align: top;\n",
       "    }\n",
       "\n",
       "    .dataframe thead th {\n",
       "        text-align: right;\n",
       "    }\n",
       "</style>\n",
       "<table border=\"1\" class=\"dataframe\">\n",
       "  <thead>\n",
       "    <tr style=\"text-align: right;\">\n",
       "      <th></th>\n",
       "      <th>age</th>\n",
       "      <th>job</th>\n",
       "      <th>marital</th>\n",
       "      <th>education</th>\n",
       "      <th>default</th>\n",
       "      <th>balance</th>\n",
       "      <th>housing</th>\n",
       "      <th>loan</th>\n",
       "      <th>contact</th>\n",
       "      <th>day</th>\n",
       "      <th>...</th>\n",
       "      <th>month_jun</th>\n",
       "      <th>month_mar</th>\n",
       "      <th>month_may</th>\n",
       "      <th>month_nov</th>\n",
       "      <th>month_oct</th>\n",
       "      <th>month_sep</th>\n",
       "      <th>poutcome_failure</th>\n",
       "      <th>poutcome_other</th>\n",
       "      <th>poutcome_success</th>\n",
       "      <th>poutcome_unknown</th>\n",
       "    </tr>\n",
       "  </thead>\n",
       "  <tbody>\n",
       "    <tr>\n",
       "      <th>0</th>\n",
       "      <td>59</td>\n",
       "      <td>admin.</td>\n",
       "      <td>married</td>\n",
       "      <td>secondary</td>\n",
       "      <td>0</td>\n",
       "      <td>2343.0</td>\n",
       "      <td>1</td>\n",
       "      <td>0</td>\n",
       "      <td>unknown</td>\n",
       "      <td>5</td>\n",
       "      <td>...</td>\n",
       "      <td>0</td>\n",
       "      <td>0</td>\n",
       "      <td>1</td>\n",
       "      <td>0</td>\n",
       "      <td>0</td>\n",
       "      <td>0</td>\n",
       "      <td>0</td>\n",
       "      <td>0</td>\n",
       "      <td>0</td>\n",
       "      <td>1</td>\n",
       "    </tr>\n",
       "    <tr>\n",
       "      <th>1</th>\n",
       "      <td>56</td>\n",
       "      <td>admin.</td>\n",
       "      <td>married</td>\n",
       "      <td>secondary</td>\n",
       "      <td>0</td>\n",
       "      <td>45.0</td>\n",
       "      <td>0</td>\n",
       "      <td>0</td>\n",
       "      <td>unknown</td>\n",
       "      <td>5</td>\n",
       "      <td>...</td>\n",
       "      <td>0</td>\n",
       "      <td>0</td>\n",
       "      <td>1</td>\n",
       "      <td>0</td>\n",
       "      <td>0</td>\n",
       "      <td>0</td>\n",
       "      <td>0</td>\n",
       "      <td>0</td>\n",
       "      <td>0</td>\n",
       "      <td>1</td>\n",
       "    </tr>\n",
       "    <tr>\n",
       "      <th>2</th>\n",
       "      <td>41</td>\n",
       "      <td>technician</td>\n",
       "      <td>married</td>\n",
       "      <td>secondary</td>\n",
       "      <td>0</td>\n",
       "      <td>1270.0</td>\n",
       "      <td>1</td>\n",
       "      <td>0</td>\n",
       "      <td>unknown</td>\n",
       "      <td>5</td>\n",
       "      <td>...</td>\n",
       "      <td>0</td>\n",
       "      <td>0</td>\n",
       "      <td>1</td>\n",
       "      <td>0</td>\n",
       "      <td>0</td>\n",
       "      <td>0</td>\n",
       "      <td>0</td>\n",
       "      <td>0</td>\n",
       "      <td>0</td>\n",
       "      <td>1</td>\n",
       "    </tr>\n",
       "    <tr>\n",
       "      <th>3</th>\n",
       "      <td>55</td>\n",
       "      <td>services</td>\n",
       "      <td>married</td>\n",
       "      <td>secondary</td>\n",
       "      <td>0</td>\n",
       "      <td>2476.0</td>\n",
       "      <td>1</td>\n",
       "      <td>0</td>\n",
       "      <td>unknown</td>\n",
       "      <td>5</td>\n",
       "      <td>...</td>\n",
       "      <td>0</td>\n",
       "      <td>0</td>\n",
       "      <td>1</td>\n",
       "      <td>0</td>\n",
       "      <td>0</td>\n",
       "      <td>0</td>\n",
       "      <td>0</td>\n",
       "      <td>0</td>\n",
       "      <td>0</td>\n",
       "      <td>1</td>\n",
       "    </tr>\n",
       "    <tr>\n",
       "      <th>4</th>\n",
       "      <td>54</td>\n",
       "      <td>admin.</td>\n",
       "      <td>married</td>\n",
       "      <td>tertiary</td>\n",
       "      <td>0</td>\n",
       "      <td>184.0</td>\n",
       "      <td>0</td>\n",
       "      <td>0</td>\n",
       "      <td>unknown</td>\n",
       "      <td>5</td>\n",
       "      <td>...</td>\n",
       "      <td>0</td>\n",
       "      <td>0</td>\n",
       "      <td>1</td>\n",
       "      <td>0</td>\n",
       "      <td>0</td>\n",
       "      <td>0</td>\n",
       "      <td>0</td>\n",
       "      <td>0</td>\n",
       "      <td>0</td>\n",
       "      <td>1</td>\n",
       "    </tr>\n",
       "  </tbody>\n",
       "</table>\n",
       "<p>5 rows × 51 columns</p>\n",
       "</div>"
      ],
      "text/plain": [
       "   age         job  marital  education  default  balance  housing  loan  \\\n",
       "0   59      admin.  married  secondary        0   2343.0        1     0   \n",
       "1   56      admin.  married  secondary        0     45.0        0     0   \n",
       "2   41  technician  married  secondary        0   1270.0        1     0   \n",
       "3   55    services  married  secondary        0   2476.0        1     0   \n",
       "4   54      admin.  married   tertiary        0    184.0        0     0   \n",
       "\n",
       "   contact  day  ... month_jun  month_mar  month_may  month_nov  month_oct  \\\n",
       "0  unknown    5  ...         0          0          1          0          0   \n",
       "1  unknown    5  ...         0          0          1          0          0   \n",
       "2  unknown    5  ...         0          0          1          0          0   \n",
       "3  unknown    5  ...         0          0          1          0          0   \n",
       "4  unknown    5  ...         0          0          1          0          0   \n",
       "\n",
       "  month_sep  poutcome_failure poutcome_other  poutcome_success  \\\n",
       "0         0                 0              0                 0   \n",
       "1         0                 0              0                 0   \n",
       "2         0                 0              0                 0   \n",
       "3         0                 0              0                 0   \n",
       "4         0                 0              0                 0   \n",
       "\n",
       "   poutcome_unknown  \n",
       "0                 1  \n",
       "1                 1  \n",
       "2                 1  \n",
       "3                 1  \n",
       "4                 1  \n",
       "\n",
       "[5 rows x 51 columns]"
      ]
     },
     "execution_count": 38,
     "metadata": {},
     "output_type": "execute_result"
    }
   ],
   "source": [
    "# создайте дамми-переменные\n",
    "categorial_features = ['job', 'marital', 'contact', 'month', 'poutcome']\n",
    "encoded_data = pd.get_dummies(data[categorial_features])\n",
    "data = pd.concat([data, encoded_data], axis = 1)\n",
    "data.head()"
   ]
  },
  {
   "cell_type": "markdown",
   "id": "9a23e318",
   "metadata": {},
   "source": [
    "### Задание 4"
   ]
  },
  {
   "cell_type": "code",
   "execution_count": 39,
   "id": "1c884c1a",
   "metadata": {},
   "outputs": [
    {
     "data": {
      "text/plain": [
       "<AxesSubplot:>"
      ]
     },
     "execution_count": 39,
     "metadata": {},
     "output_type": "execute_result"
    }
   ],
   "source": [
    "# постройте корреляционную матрицу и оцените данные на предмет наличия мультиколлинеарности\n",
    "plt.figure(figsize = (60,50))\n",
    "sns.heatmap(data.corr(), annot=True, fmt='.1g', vmin=-1, vmax=1, center= 0, cmap= 'coolwarm', linewidths=.5)"
   ]
  },
  {
   "cell_type": "markdown",
   "id": "b5b4c1a5",
   "metadata": {},
   "source": [
    "### Задание 5"
   ]
  },
  {
   "cell_type": "code",
   "execution_count": 40,
   "id": "79f3e432",
   "metadata": {},
   "outputs": [],
   "source": [
    "X = data.drop(['deposit'], axis=1)\n",
    "y = data['deposit']\n",
    " \n",
    "X_train, X_test, y_train, y_test = train_test_split(X, y, stratify=y, random_state = 42, test_size = 0.33)"
   ]
  },
  {
   "cell_type": "code",
   "execution_count": 41,
   "id": "e3a097a4",
   "metadata": {},
   "outputs": [
    {
     "name": "stdout",
     "output_type": "stream",
     "text": [
      "Размер тестовой выборки (3335, 50)\n",
      "Cреднее значение целевой переменной на тестовой выборке 0.46\n"
     ]
    }
   ],
   "source": [
    "print('Размер тестовой выборки', X_test.shape)\n",
    "print('Cреднее значение целевой переменной на тестовой выборке', round(y_test.mean(), 2))"
   ]
  },
  {
   "cell_type": "markdown",
   "id": "2e381a4f",
   "metadata": {},
   "source": [
    "### Задание 6"
   ]
  },
  {
   "cell_type": "code",
   "execution_count": 42,
   "id": "8885dbc2",
   "metadata": {},
   "outputs": [
    {
     "name": "stdout",
     "output_type": "stream",
     "text": [
      "Категориальные признаки ['job', 'marital', 'education', 'contact', 'month', 'poutcome', 'age group']\n"
     ]
    }
   ],
   "source": [
    "categorical_features = [col for col in X_train.columns.tolist() if X_train[col].dtype in ['object']]\n",
    "print('Категориальные признаки', categorical_features)\n",
    "data = data.drop(categorical_features, axis=1)\n",
    "X_train = X_train.drop(categorical_features, axis=1)\n",
    "X_test = X_test.drop(categorical_features, axis=1)"
   ]
  },
  {
   "cell_type": "code",
   "execution_count": 43,
   "id": "0f6e03e0",
   "metadata": {},
   "outputs": [
    {
     "name": "stdout",
     "output_type": "stream",
     "text": [
      "Топ-15 признаков  ['balance' 'housing' 'loan' 'duration' 'campaign' 'pdays' 'previous'\n",
      " 'contact_cellular' 'contact_unknown' 'month_mar' 'month_may' 'month_oct'\n",
      " 'month_sep' 'poutcome_success' 'poutcome_unknown']\n"
     ]
    }
   ],
   "source": [
    "# с помощью SelectKBest отберите 15 наиболее подходящих признаков\n",
    "selector = SelectKBest(f_classif, k=15)\n",
    "selector.fit(X_train, y_train)\n",
    "selected_cols = selector.get_feature_names_out()\n",
    "print('Топ-15 признаков ', selected_cols)"
   ]
  },
  {
   "cell_type": "markdown",
   "id": "60132ef3",
   "metadata": {},
   "source": [
    "### Задание 7"
   ]
  },
  {
   "cell_type": "code",
   "execution_count": 44,
   "id": "e91b06f3",
   "metadata": {},
   "outputs": [
    {
     "name": "stdout",
     "output_type": "stream",
     "text": [
      "Среднее арифметическое для первого предиктора (т.е. для первого столбца матрицы) из тестовой выборки 0.47\n"
     ]
    }
   ],
   "source": [
    "# нормализуйте данные с помощью minmaxsxaler\n",
    "X_train = X_train[selected_cols]\n",
    "X_test = X_test[selected_cols]\n",
    "\n",
    "mm_scaler = preprocessing.MinMaxScaler()\n",
    "scaled_X_train = mm_scaler.fit_transform(X_train)\n",
    "scaled_X_test = mm_scaler.transform(X_test)\n",
    "X_train = pd.DataFrame(scaled_X_train, columns=selected_cols)\n",
    "X_test = pd.DataFrame(scaled_X_test, columns=selected_cols)\n",
    "\n",
    "print('Среднее арифметическое для первого предиктора (т.е. для первого столбца матрицы) из тестовой выборки', round(X_test['balance'].mean(),2))"
   ]
  },
  {
   "cell_type": "markdown",
   "id": "0894c632",
   "metadata": {},
   "source": [
    "# Часть 4: Решение задачи классификации: логистическая регрессия и решающие деревья"
   ]
  },
  {
   "cell_type": "markdown",
   "id": "41b8ff06",
   "metadata": {},
   "source": [
    "### Задание 1"
   ]
  },
  {
   "cell_type": "code",
   "execution_count": 45,
   "id": "8acc0166",
   "metadata": {},
   "outputs": [
    {
     "name": "stdout",
     "output_type": "stream",
     "text": [
      "              precision    recall  f1-score   support\n",
      "\n",
      "           0       0.79      0.87      0.83      1790\n",
      "           1       0.83      0.73      0.78      1545\n",
      "\n",
      "    accuracy                           0.80      3335\n",
      "   macro avg       0.81      0.80      0.80      3335\n",
      "weighted avg       0.81      0.80      0.80      3335\n",
      "\n"
     ]
    }
   ],
   "source": [
    "# обучите логистическую регрессию и рассчитайте метрики качества\n",
    "lr = linear_model.LogisticRegression(random_state=42, solver='sag', max_iter=1000)\n",
    "lr.fit(X_train, y_train)\n",
    "y_test_pred = lr.predict(X_test)\n",
    "print(classification_report(y_test, y_test_pred))"
   ]
  },
  {
   "cell_type": "markdown",
   "id": "29b7e0ba",
   "metadata": {},
   "source": [
    "### Задание 2"
   ]
  },
  {
   "cell_type": "code",
   "execution_count": 46,
   "id": "c91a588b",
   "metadata": {},
   "outputs": [
    {
     "name": "stdout",
     "output_type": "stream",
     "text": [
      "Метрики на тренировочной выборке: \n",
      "              precision    recall  f1-score   support\n",
      "\n",
      "           0       0.81      0.86      0.83      3634\n",
      "           1       0.82      0.77      0.80      3136\n",
      "\n",
      "    accuracy                           0.82      6770\n",
      "   macro avg       0.82      0.81      0.81      6770\n",
      "weighted avg       0.82      0.82      0.82      6770\n",
      "\n",
      "Метрики на тестовой выборке: \n",
      "              precision    recall  f1-score   support\n",
      "\n",
      "           0       0.80      0.84      0.82      1790\n",
      "           1       0.81      0.76      0.78      1545\n",
      "\n",
      "    accuracy                           0.80      3335\n",
      "   macro avg       0.80      0.80      0.80      3335\n",
      "weighted avg       0.80      0.80      0.80      3335\n",
      "\n"
     ]
    }
   ],
   "source": [
    "# обучите решающие деревья, настройте максимальную глубину\n",
    "dt = tree.DecisionTreeClassifier(criterion='entropy', random_state=42, max_depth=6)\n",
    "dt.fit(X_train, y_train)\n",
    "y_train_pred = dt.predict(X_train)\n",
    "y_test_pred = dt.predict(X_test)\n",
    "print('Метрики на тренировочной выборке: ')\n",
    "print(classification_report(y_train, y_train_pred))\n",
    "print('Метрики на тестовой выборке: ')\n",
    "print(classification_report(y_test, y_test_pred))"
   ]
  },
  {
   "cell_type": "markdown",
   "id": "fe823c18",
   "metadata": {},
   "source": [
    "### Задание 3"
   ]
  },
  {
   "cell_type": "code",
   "execution_count": 47,
   "id": "63574943",
   "metadata": {},
   "outputs": [
    {
     "name": "stdout",
     "output_type": "stream",
     "text": [
      "Наилучшие значения параметров: {'max_depth': 7, 'min_samples_split': 10}\n",
      "ccuracy на тестовом наборе: 0.80\n",
      "f1_score на тестовом наборе: 0.78\n"
     ]
    }
   ],
   "source": [
    "# подберите оптимальные параметры с помощью gridsearch\n",
    "dt = tree.DecisionTreeClassifier(criterion='entropy', random_state=42)\n",
    "param_grid = {\n",
    "    'min_samples_split': [2, 5, 7, 10],\n",
    "    'max_depth':[3,5,7]\n",
    "}\n",
    "\n",
    "grid_search = GridSearchCV(\n",
    "    estimator=dt,\n",
    "    param_grid=param_grid,\n",
    "    cv=5,\n",
    "    n_jobs=-1\n",
    ")\n",
    "\n",
    "grid_search.fit(X_train, y_train)\n",
    "y_test_pred = grid_search.predict(X_test)\n",
    "\n",
    "print('Наилучшие значения параметров: {}'.format(grid_search.best_params_))\n",
    "print('ccuracy на тестовом наборе: {:.2f}'.format(grid_search.score(X_test, y_test)))\n",
    "print('f1_score на тестовом наборе: {:.2f}'.format(metrics.f1_score(y_test, y_test_pred)))"
   ]
  },
  {
   "cell_type": "markdown",
   "id": "ed0fc831",
   "metadata": {},
   "source": [
    "# Часть 5: Решение задачи классификации: ансамбли моделей и построение прогноза"
   ]
  },
  {
   "cell_type": "markdown",
   "id": "f9e36ff2",
   "metadata": {},
   "source": [
    "### Задание 1"
   ]
  },
  {
   "cell_type": "code",
   "execution_count": 48,
   "id": "e708e3fe",
   "metadata": {},
   "outputs": [
    {
     "name": "stdout",
     "output_type": "stream",
     "text": [
      "Метрики на тренировочной выборке: \n",
      "              precision    recall  f1-score   support\n",
      "\n",
      "           0       0.87      0.85      0.86      3634\n",
      "           1       0.83      0.86      0.84      3136\n",
      "\n",
      "    accuracy                           0.85      6770\n",
      "   macro avg       0.85      0.85      0.85      6770\n",
      "weighted avg       0.85      0.85      0.85      6770\n",
      "\n",
      "Метрики на тестовой выборке: \n",
      "              precision    recall  f1-score   support\n",
      "\n",
      "           0       0.85      0.82      0.84      1790\n",
      "           1       0.80      0.83      0.82      1545\n",
      "\n",
      "    accuracy                           0.83      3335\n",
      "   macro avg       0.83      0.83      0.83      3335\n",
      "weighted avg       0.83      0.83      0.83      3335\n",
      "\n"
     ]
    }
   ],
   "source": [
    "# обучите на ваших данных случайный лес\n",
    "rf = ensemble.RandomForestClassifier(\n",
    "    n_estimators=100,\n",
    "    criterion='gini',\n",
    "    min_samples_leaf=5,\n",
    "    max_depth=10,\n",
    "    random_state=42\n",
    ")\n",
    "rf.fit(X_train, y_train)\n",
    "y_train_pred = rf.predict(X_train)\n",
    "y_test_pred = rf.predict(X_test)\n",
    "\n",
    "print('Метрики на тренировочной выборке: ')\n",
    "print(classification_report(y_train, y_train_pred))\n",
    "print('Метрики на тестовой выборке: ')\n",
    "print(classification_report(y_test, y_test_pred))"
   ]
  },
  {
   "cell_type": "markdown",
   "id": "71d7b13d",
   "metadata": {},
   "source": [
    "### Задание 2"
   ]
  },
  {
   "cell_type": "code",
   "execution_count": 49,
   "id": "99f12dfe",
   "metadata": {},
   "outputs": [
    {
     "name": "stdout",
     "output_type": "stream",
     "text": [
      "Метрики на тренировочной выборке: \n",
      "              precision    recall  f1-score   support\n",
      "\n",
      "           0       0.90      0.87      0.89      3634\n",
      "           1       0.85      0.89      0.87      3136\n",
      "\n",
      "    accuracy                           0.88      6770\n",
      "   macro avg       0.88      0.88      0.88      6770\n",
      "weighted avg       0.88      0.88      0.88      6770\n",
      "\n",
      "Метрики на тестовой выборке: \n",
      "              precision    recall  f1-score   support\n",
      "\n",
      "           0       0.85      0.82      0.83      1790\n",
      "           1       0.80      0.83      0.81      1545\n",
      "\n",
      "    accuracy                           0.82      3335\n",
      "   macro avg       0.82      0.82      0.82      3335\n",
      "weighted avg       0.83      0.82      0.82      3335\n",
      "\n"
     ]
    }
   ],
   "source": [
    "# используйте для классификации градиентный бустинг и сравните качество со случайным лесом\n",
    "gb = GradientBoostingClassifier(\n",
    "    learning_rate=0.05,\n",
    "    n_estimators=300,\n",
    "    min_samples_leaf=5,\n",
    "    max_depth=5,\n",
    "    random_state=42\n",
    ")\n",
    "gb.fit(X_train, y_train)\n",
    "y_train_pred = gb.predict(X_train)\n",
    "y_test_pred = gb.predict(X_test)\n",
    "\n",
    "print('Метрики на тренировочной выборке: ')\n",
    "print(classification_report(y_train, y_train_pred))\n",
    "print('Метрики на тестовой выборке: ')\n",
    "print(classification_report(y_test, y_test_pred))"
   ]
  },
  {
   "cell_type": "markdown",
   "id": "b08718ae",
   "metadata": {},
   "source": [
    "### Задание3"
   ]
  },
  {
   "cell_type": "code",
   "execution_count": 50,
   "id": "0bd42fb0",
   "metadata": {},
   "outputs": [
    {
     "name": "stdout",
     "output_type": "stream",
     "text": [
      "Метрики на тренировочной выборке: \n",
      "              precision    recall  f1-score   support\n",
      "\n",
      "           0       0.87      0.86      0.87      3634\n",
      "           1       0.84      0.85      0.84      3136\n",
      "\n",
      "    accuracy                           0.86      6770\n",
      "   macro avg       0.85      0.85      0.85      6770\n",
      "weighted avg       0.86      0.86      0.86      6770\n",
      "\n",
      "Метрики на тестовой выборке: \n",
      "              precision    recall  f1-score   support\n",
      "\n",
      "           0       0.83      0.84      0.84      1790\n",
      "           1       0.81      0.80      0.81      1545\n",
      "\n",
      "    accuracy                           0.82      3335\n",
      "   macro avg       0.82      0.82      0.82      3335\n",
      "weighted avg       0.82      0.82      0.82      3335\n",
      "\n"
     ]
    }
   ],
   "source": [
    "# объедините уже известные вам алгоритмы с помощью стекинга \n",
    "estimators = [('lr', lr), ('dt', dt), ('gb', gb)]\n",
    "\n",
    "stacking_model = StackingClassifier(\n",
    "    estimators=estimators,\n",
    "    final_estimator=linear_model.LogisticRegression(solver='sag', max_iter=1000, random_state=42)\n",
    ")\n",
    "\n",
    "stacking_model.fit(X_train, y_train)\n",
    "y_train_pred = stacking_model.predict(X_train)\n",
    "y_test_pred = stacking_model.predict(X_test)\n",
    "\n",
    "print('Метрики на тренировочной выборке: ')\n",
    "print(classification_report(y_train, y_train_pred))\n",
    "print('Метрики на тестовой выборке: ')\n",
    "print(classification_report(y_test, y_test_pred))"
   ]
  },
  {
   "cell_type": "markdown",
   "id": "6247a5fb",
   "metadata": {},
   "source": [
    "### Задание 4"
   ]
  },
  {
   "cell_type": "code",
   "execution_count": 51,
   "id": "928a68a4",
   "metadata": {},
   "outputs": [],
   "source": [
    "# оцените, какие признаки демонстрируют наибольшую  важность в модели градиентного бустинга\n",
    "fig, ax = plt.subplots(figsize=(13, 5))\n",
    "columns_name = X_train.columns\n",
    "feature_importances = gb.feature_importances_\n",
    "main_plot = sns.barplot(x=columns_name, y=feature_importances, ax=ax);\n",
    "ax.set_title('Столбчатая диаграмма важности признаков')\n",
    "ax.set_xlabel('Признаки')\n",
    "ax.set_ylabel('Важность')\n",
    "main_plot.xaxis.set_tick_params(rotation=30);"
   ]
  },
  {
   "cell_type": "markdown",
   "id": "91552b9d",
   "metadata": {},
   "source": [
    "Наибольшей важностью обладают признаки: 'duration', 'poutcome_success', 'contact_unknown'"
   ]
  },
  {
   "cell_type": "markdown",
   "id": "96974dda",
   "metadata": {},
   "source": [
    "### Задание 5"
   ]
  },
  {
   "cell_type": "code",
   "execution_count": 52,
   "id": "c48e29e9",
   "metadata": {},
   "outputs": [
    {
     "name": "stderr",
     "output_type": "stream",
     "text": [
      "\u001b[32m[I 2023-03-10 14:11:02,875]\u001b[0m A new study created in memory with name: RandomForestClassifier\u001b[0m\n",
      "\u001b[32m[I 2023-03-10 14:11:03,264]\u001b[0m Trial 0 finished with value: 0.8675599875350576 and parameters: {'n_estimators': 122, 'max_depth': 12, 'min_samples_leaf': 2}. Best is trial 0 with value: 0.8675599875350576.\u001b[0m\n",
      "\u001b[32m[I 2023-03-10 14:11:03,748]\u001b[0m Trial 1 finished with value: 0.8446177847113884 and parameters: {'n_estimators': 170, 'max_depth': 23, 'min_samples_leaf': 9}. Best is trial 0 with value: 0.8675599875350576.\u001b[0m\n",
      "\u001b[32m[I 2023-03-10 14:11:04,089]\u001b[0m Trial 2 finished with value: 0.8439649781113197 and parameters: {'n_estimators': 124, 'max_depth': 19, 'min_samples_leaf': 9}. Best is trial 0 with value: 0.8675599875350576.\u001b[0m\n",
      "\u001b[32m[I 2023-03-10 14:11:04,414]\u001b[0m Trial 3 finished with value: 0.8453608247422681 and parameters: {'n_estimators': 122, 'max_depth': 10, 'min_samples_leaf': 4}. Best is trial 0 with value: 0.8675599875350576.\u001b[0m\n",
      "\u001b[32m[I 2023-03-10 14:11:04,831]\u001b[0m Trial 4 finished with value: 0.8604325501789326 and parameters: {'n_estimators': 144, 'max_depth': 29, 'min_samples_leaf': 6}. Best is trial 0 with value: 0.8675599875350576.\u001b[0m\n",
      "\u001b[32m[I 2023-03-10 14:11:05,400]\u001b[0m Trial 5 finished with value: 0.8659922178988327 and parameters: {'n_estimators': 182, 'max_depth': 26, 'min_samples_leaf': 5}. Best is trial 0 with value: 0.8675599875350576.\u001b[0m\n",
      "\u001b[32m[I 2023-03-10 14:11:06,046]\u001b[0m Trial 6 finished with value: 0.9211853720050442 and parameters: {'n_estimators': 181, 'max_depth': 28, 'min_samples_leaf': 2}. Best is trial 6 with value: 0.9211853720050442.\u001b[0m\n",
      "\u001b[32m[I 2023-03-10 14:11:06,533]\u001b[0m Trial 7 finished with value: 0.8510439389217827 and parameters: {'n_estimators': 167, 'max_depth': 18, 'min_samples_leaf': 7}. Best is trial 6 with value: 0.9211853720050442.\u001b[0m\n",
      "\u001b[32m[I 2023-03-10 14:11:06,854]\u001b[0m Trial 8 finished with value: 0.8465493067455989 and parameters: {'n_estimators': 113, 'max_depth': 20, 'min_samples_leaf': 8}. Best is trial 6 with value: 0.9211853720050442.\u001b[0m\n",
      "\u001b[32m[I 2023-03-10 14:11:07,418]\u001b[0m Trial 9 finished with value: 0.8884012539184953 and parameters: {'n_estimators': 169, 'max_depth': 30, 'min_samples_leaf': 3}. Best is trial 6 with value: 0.9211853720050442.\u001b[0m\n",
      "\u001b[32m[I 2023-03-10 14:11:08,089]\u001b[0m Trial 10 finished with value: 0.920969773299748 and parameters: {'n_estimators': 191, 'max_depth': 26, 'min_samples_leaf': 2}. Best is trial 6 with value: 0.9211853720050442.\u001b[0m\n",
      "\u001b[32m[I 2023-03-10 14:11:08,797]\u001b[0m Trial 11 finished with value: 0.9203400503778338 and parameters: {'n_estimators': 199, 'max_depth': 25, 'min_samples_leaf': 2}. Best is trial 6 with value: 0.9211853720050442.\u001b[0m\n",
      "\u001b[32m[I 2023-03-10 14:11:09,426]\u001b[0m Trial 12 finished with value: 0.8744737252455949 and parameters: {'n_estimators': 196, 'max_depth': 27, 'min_samples_leaf': 4}. Best is trial 6 with value: 0.9211853720050442.\u001b[0m\n",
      "\u001b[32m[I 2023-03-10 14:11:09,950]\u001b[0m Trial 13 finished with value: 0.9158790170132325 and parameters: {'n_estimators': 150, 'max_depth': 23, 'min_samples_leaf': 2}. Best is trial 6 with value: 0.9211853720050442.\u001b[0m\n",
      "\u001b[32m[I 2023-03-10 14:11:10,518]\u001b[0m Trial 14 finished with value: 0.8661172445964859 and parameters: {'n_estimators': 184, 'max_depth': 16, 'min_samples_leaf': 4}. Best is trial 6 with value: 0.9211853720050442.\u001b[0m\n",
      "\u001b[32m[I 2023-03-10 14:11:11,120]\u001b[0m Trial 15 finished with value: 0.8896195396899954 and parameters: {'n_estimators': 182, 'max_depth': 28, 'min_samples_leaf': 3}. Best is trial 6 with value: 0.9211853720050442.\u001b[0m\n",
      "\u001b[32m[I 2023-03-10 14:11:11,595]\u001b[0m Trial 16 finished with value: 0.8590541381456129 and parameters: {'n_estimators': 162, 'max_depth': 24, 'min_samples_leaf': 6}. Best is trial 6 with value: 0.9211853720050442.\u001b[0m\n",
      "\u001b[32m[I 2023-03-10 14:11:12,223]\u001b[0m Trial 17 finished with value: 0.8884033088809116 and parameters: {'n_estimators': 189, 'max_depth': 22, 'min_samples_leaf': 3}. Best is trial 6 with value: 0.9211853720050442.\u001b[0m\n",
      "\u001b[32m[I 2023-03-10 14:11:12,608]\u001b[0m Trial 18 finished with value: 0.8429262205584152 and parameters: {'n_estimators': 142, 'max_depth': 30, 'min_samples_leaf': 10}. Best is trial 6 with value: 0.9211853720050442.\u001b[0m\n",
      "\u001b[32m[I 2023-03-10 14:11:12,920]\u001b[0m Trial 19 finished with value: 0.8658991910392034 and parameters: {'n_estimators': 100, 'max_depth': 27, 'min_samples_leaf': 5}. Best is trial 6 with value: 0.9211853720050442.\u001b[0m\n"
     ]
    }
   ],
   "source": [
    "# реализуйте оптимизацию гиперпараметров с помощью Optuna\n",
    "def optuna_rf(trial):\n",
    "    n_estimators = trial.suggest_int('n_estimators', 100, 200, 1)\n",
    "    max_depth = trial.suggest_int('max_depth', 10, 30, 1)\n",
    "    min_samples_leaf = trial.suggest_int('min_samples_leaf', 2, 10, 1)\n",
    "    \n",
    "    model = ensemble.RandomForestClassifier(n_estimators=n_estimators,\n",
    "                                            max_depth=max_depth,\n",
    "                                            min_samples_leaf=min_samples_leaf,\n",
    "                                            random_state=42)\n",
    "    \n",
    "    model.fit(X_train, y_train)\n",
    "    score = metrics.f1_score(y_train, model.predict(X_train))\n",
    "    \n",
    "    return score\n",
    "\n",
    "study = optuna.create_study(study_name=\"RandomForestClassifier\", direction=\"maximize\")\n",
    "study.optimize(optuna_rf, n_trials=20)"
   ]
  },
  {
   "cell_type": "code",
   "execution_count": 53,
   "id": "565e4555",
   "metadata": {},
   "outputs": [
    {
     "name": "stdout",
     "output_type": "stream",
     "text": [
      "Наилучшие значения гиперпараметров {'n_estimators': 181, 'max_depth': 28, 'min_samples_leaf': 2}\n",
      "f1_score на обучающем наборе: 0.92\n"
     ]
    }
   ],
   "source": [
    "print(\"Наилучшие значения гиперпараметров {}\".format(study.best_params))\n",
    "print(\"f1_score на обучающем наборе: {:.2f}\".format(study.best_value))"
   ]
  },
  {
   "cell_type": "code",
   "execution_count": 54,
   "id": "13bf06ab",
   "metadata": {},
   "outputs": [
    {
     "name": "stdout",
     "output_type": "stream",
     "text": [
      "Метрики на тренировочной выборке: \n",
      "              precision    recall  f1-score   support\n",
      "\n",
      "           0       0.94      0.92      0.93      3634\n",
      "           1       0.91      0.93      0.92      3136\n",
      "\n",
      "    accuracy                           0.93      6770\n",
      "   macro avg       0.93      0.93      0.93      6770\n",
      "weighted avg       0.93      0.93      0.93      6770\n",
      "\n",
      "Метрики на тестовой выборке: \n",
      "              precision    recall  f1-score   support\n",
      "\n",
      "           0       0.84      0.81      0.83      1790\n",
      "           1       0.79      0.83      0.81      1545\n",
      "\n",
      "    accuracy                           0.82      3335\n",
      "   macro avg       0.82      0.82      0.82      3335\n",
      "weighted avg       0.82      0.82      0.82      3335\n",
      "\n"
     ]
    }
   ],
   "source": [
    "model = ensemble.RandomForestClassifier(**study.best_params,random_state=42)\n",
    "model.fit(X_train, y_train)\n",
    "y_train_pred = model.predict(X_train)\n",
    "y_test_pred = model.predict(X_test)\n",
    "\n",
    "print('Метрики на тренировочной выборке: ')\n",
    "print(classification_report(y_train, y_train_pred))\n",
    "print('Метрики на тестовой выборке: ')\n",
    "print(classification_report(y_test, y_test_pred))"
   ]
  }
 ],
 "metadata": {
  "kernelspec": {
   "display_name": "Python 3.10.3 64-bit",
   "language": "python",
   "name": "python3"
  },
  "language_info": {
   "codemirror_mode": {
    "name": "ipython",
    "version": 3
   },
   "file_extension": ".py",
   "mimetype": "text/x-python",
   "name": "python",
   "nbconvert_exporter": "python",
   "pygments_lexer": "ipython3",
   "version": "3.10.9"
  },
  "vscode": {
   "interpreter": {
    "hash": "aee8b7b246df8f9039afb4144a1f6fd8d2ca17a180786b69acc140d282b71a49"
   }
  }
 },
 "nbformat": 4,
 "nbformat_minor": 5
}
