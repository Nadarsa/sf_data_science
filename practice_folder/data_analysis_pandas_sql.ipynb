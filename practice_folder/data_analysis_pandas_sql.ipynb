{
 "cells": [
  {
   "cell_type": "markdown",
   "metadata": {},
   "source": [
    "### Аналитика на Python\n",
    "\n",
    "Фрейм содержит информацию о продажах в онлайн-магазине и имеет следующие столбцы:\n",
    "* date - дата заказа\n",
    "* customer_id - идентификатор клиента\n",
    "* product_id - идентификатор товара\n",
    "* quantity - количество товара, заказанного в рамках заказа\n",
    "* price - цена товара"
   ]
  },
  {
   "cell_type": "code",
   "execution_count": 1,
   "metadata": {},
   "outputs": [],
   "source": [
    "import pandas as pd\n",
    "\n",
    "data = {\n",
    "'date': pd.date_range(start='2019-01-01', periods=12,\n",
    "freq='100D').to_series().sample(frac=1).to_list(),\n",
    "'customer_id': [1, 2, 3, 1, 2, 4, 5, 3, 1, 2, 6, 7],\n",
    "'product_id': [1, 2, 3, 2, 3, 1, 2, 1, 3, 3, 1, 2],\n",
    "'quantity': [4, 1, 8, 1, 8, 7, 3, 4, 5, 12, 11, 5],\n",
    "'price': [11.5, 16.2, 9.7, 14.4, 10.1, 12.8, 14.5, 17.2, 20.6, 7.9, 18.2, 12.1],\n",
    "}\n",
    "\n",
    "df = pd.DataFrame(data)"
   ]
  },
  {
   "cell_type": "code",
   "execution_count": 2,
   "metadata": {},
   "outputs": [
    {
     "data": {
      "text/html": [
       "<div>\n",
       "<style scoped>\n",
       "    .dataframe tbody tr th:only-of-type {\n",
       "        vertical-align: middle;\n",
       "    }\n",
       "\n",
       "    .dataframe tbody tr th {\n",
       "        vertical-align: top;\n",
       "    }\n",
       "\n",
       "    .dataframe thead th {\n",
       "        text-align: right;\n",
       "    }\n",
       "</style>\n",
       "<table border=\"1\" class=\"dataframe\">\n",
       "  <thead>\n",
       "    <tr style=\"text-align: right;\">\n",
       "      <th></th>\n",
       "      <th>date</th>\n",
       "      <th>customer_id</th>\n",
       "      <th>product_id</th>\n",
       "      <th>quantity</th>\n",
       "      <th>price</th>\n",
       "    </tr>\n",
       "  </thead>\n",
       "  <tbody>\n",
       "    <tr>\n",
       "      <th>11</th>\n",
       "      <td>2019-01-01</td>\n",
       "      <td>7</td>\n",
       "      <td>2</td>\n",
       "      <td>5</td>\n",
       "      <td>12.1</td>\n",
       "    </tr>\n",
       "    <tr>\n",
       "      <th>2</th>\n",
       "      <td>2019-04-11</td>\n",
       "      <td>3</td>\n",
       "      <td>3</td>\n",
       "      <td>8</td>\n",
       "      <td>9.7</td>\n",
       "    </tr>\n",
       "    <tr>\n",
       "      <th>5</th>\n",
       "      <td>2019-07-20</td>\n",
       "      <td>4</td>\n",
       "      <td>1</td>\n",
       "      <td>7</td>\n",
       "      <td>12.8</td>\n",
       "    </tr>\n",
       "    <tr>\n",
       "      <th>6</th>\n",
       "      <td>2019-10-28</td>\n",
       "      <td>5</td>\n",
       "      <td>2</td>\n",
       "      <td>3</td>\n",
       "      <td>14.5</td>\n",
       "    </tr>\n",
       "    <tr>\n",
       "      <th>3</th>\n",
       "      <td>2020-02-05</td>\n",
       "      <td>1</td>\n",
       "      <td>2</td>\n",
       "      <td>1</td>\n",
       "      <td>14.4</td>\n",
       "    </tr>\n",
       "    <tr>\n",
       "      <th>10</th>\n",
       "      <td>2020-05-15</td>\n",
       "      <td>6</td>\n",
       "      <td>1</td>\n",
       "      <td>11</td>\n",
       "      <td>18.2</td>\n",
       "    </tr>\n",
       "    <tr>\n",
       "      <th>1</th>\n",
       "      <td>2020-08-23</td>\n",
       "      <td>2</td>\n",
       "      <td>2</td>\n",
       "      <td>1</td>\n",
       "      <td>16.2</td>\n",
       "    </tr>\n",
       "    <tr>\n",
       "      <th>0</th>\n",
       "      <td>2020-12-01</td>\n",
       "      <td>1</td>\n",
       "      <td>1</td>\n",
       "      <td>4</td>\n",
       "      <td>11.5</td>\n",
       "    </tr>\n",
       "    <tr>\n",
       "      <th>4</th>\n",
       "      <td>2021-03-11</td>\n",
       "      <td>2</td>\n",
       "      <td>3</td>\n",
       "      <td>8</td>\n",
       "      <td>10.1</td>\n",
       "    </tr>\n",
       "    <tr>\n",
       "      <th>9</th>\n",
       "      <td>2021-06-19</td>\n",
       "      <td>2</td>\n",
       "      <td>3</td>\n",
       "      <td>12</td>\n",
       "      <td>7.9</td>\n",
       "    </tr>\n",
       "    <tr>\n",
       "      <th>8</th>\n",
       "      <td>2021-09-27</td>\n",
       "      <td>1</td>\n",
       "      <td>3</td>\n",
       "      <td>5</td>\n",
       "      <td>20.6</td>\n",
       "    </tr>\n",
       "    <tr>\n",
       "      <th>7</th>\n",
       "      <td>2022-01-05</td>\n",
       "      <td>3</td>\n",
       "      <td>1</td>\n",
       "      <td>4</td>\n",
       "      <td>17.2</td>\n",
       "    </tr>\n",
       "  </tbody>\n",
       "</table>\n",
       "</div>"
      ],
      "text/plain": [
       "         date  customer_id  product_id  quantity  price\n",
       "11 2019-01-01            7           2         5   12.1\n",
       "2  2019-04-11            3           3         8    9.7\n",
       "5  2019-07-20            4           1         7   12.8\n",
       "6  2019-10-28            5           2         3   14.5\n",
       "3  2020-02-05            1           2         1   14.4\n",
       "10 2020-05-15            6           1        11   18.2\n",
       "1  2020-08-23            2           2         1   16.2\n",
       "0  2020-12-01            1           1         4   11.5\n",
       "4  2021-03-11            2           3         8   10.1\n",
       "9  2021-06-19            2           3        12    7.9\n",
       "8  2021-09-27            1           3         5   20.6\n",
       "7  2022-01-05            3           1         4   17.2"
      ]
     },
     "execution_count": 2,
     "metadata": {},
     "output_type": "execute_result"
    }
   ],
   "source": [
    "df.sort_values(by='date', inplace=True)\n",
    "df"
   ]
  },
  {
   "cell_type": "code",
   "execution_count": 3,
   "metadata": {},
   "outputs": [],
   "source": [
    "# создадим атрибуты года и месяца для дальнейшей агрегации\n",
    "df['year'] = df['date'].dt.year\n",
    "df['month'] = df['date'].dt.month"
   ]
  },
  {
   "cell_type": "code",
   "execution_count": 4,
   "metadata": {},
   "outputs": [],
   "source": [
    "# выручка с одной продажи revenue = quantity * price\n",
    "df['revenue_per_purchase'] = df['quantity'] * df['price']"
   ]
  },
  {
   "cell_type": "code",
   "execution_count": 5,
   "metadata": {},
   "outputs": [
    {
     "data": {
      "text/html": [
       "<div>\n",
       "<style scoped>\n",
       "    .dataframe tbody tr th:only-of-type {\n",
       "        vertical-align: middle;\n",
       "    }\n",
       "\n",
       "    .dataframe tbody tr th {\n",
       "        vertical-align: top;\n",
       "    }\n",
       "\n",
       "    .dataframe thead th {\n",
       "        text-align: right;\n",
       "    }\n",
       "</style>\n",
       "<table border=\"1\" class=\"dataframe\">\n",
       "  <thead>\n",
       "    <tr style=\"text-align: right;\">\n",
       "      <th></th>\n",
       "      <th>date</th>\n",
       "      <th>customer_id</th>\n",
       "      <th>product_id</th>\n",
       "      <th>quantity</th>\n",
       "      <th>price</th>\n",
       "      <th>year</th>\n",
       "      <th>month</th>\n",
       "      <th>revenue_per_purchase</th>\n",
       "    </tr>\n",
       "  </thead>\n",
       "  <tbody>\n",
       "    <tr>\n",
       "      <th>11</th>\n",
       "      <td>2019-01-01</td>\n",
       "      <td>7</td>\n",
       "      <td>2</td>\n",
       "      <td>5</td>\n",
       "      <td>12.1</td>\n",
       "      <td>2019</td>\n",
       "      <td>1</td>\n",
       "      <td>60.5</td>\n",
       "    </tr>\n",
       "    <tr>\n",
       "      <th>2</th>\n",
       "      <td>2019-04-11</td>\n",
       "      <td>3</td>\n",
       "      <td>3</td>\n",
       "      <td>8</td>\n",
       "      <td>9.7</td>\n",
       "      <td>2019</td>\n",
       "      <td>4</td>\n",
       "      <td>77.6</td>\n",
       "    </tr>\n",
       "    <tr>\n",
       "      <th>5</th>\n",
       "      <td>2019-07-20</td>\n",
       "      <td>4</td>\n",
       "      <td>1</td>\n",
       "      <td>7</td>\n",
       "      <td>12.8</td>\n",
       "      <td>2019</td>\n",
       "      <td>7</td>\n",
       "      <td>89.6</td>\n",
       "    </tr>\n",
       "    <tr>\n",
       "      <th>6</th>\n",
       "      <td>2019-10-28</td>\n",
       "      <td>5</td>\n",
       "      <td>2</td>\n",
       "      <td>3</td>\n",
       "      <td>14.5</td>\n",
       "      <td>2019</td>\n",
       "      <td>10</td>\n",
       "      <td>43.5</td>\n",
       "    </tr>\n",
       "    <tr>\n",
       "      <th>3</th>\n",
       "      <td>2020-02-05</td>\n",
       "      <td>1</td>\n",
       "      <td>2</td>\n",
       "      <td>1</td>\n",
       "      <td>14.4</td>\n",
       "      <td>2020</td>\n",
       "      <td>2</td>\n",
       "      <td>14.4</td>\n",
       "    </tr>\n",
       "    <tr>\n",
       "      <th>10</th>\n",
       "      <td>2020-05-15</td>\n",
       "      <td>6</td>\n",
       "      <td>1</td>\n",
       "      <td>11</td>\n",
       "      <td>18.2</td>\n",
       "      <td>2020</td>\n",
       "      <td>5</td>\n",
       "      <td>200.2</td>\n",
       "    </tr>\n",
       "    <tr>\n",
       "      <th>1</th>\n",
       "      <td>2020-08-23</td>\n",
       "      <td>2</td>\n",
       "      <td>2</td>\n",
       "      <td>1</td>\n",
       "      <td>16.2</td>\n",
       "      <td>2020</td>\n",
       "      <td>8</td>\n",
       "      <td>16.2</td>\n",
       "    </tr>\n",
       "    <tr>\n",
       "      <th>0</th>\n",
       "      <td>2020-12-01</td>\n",
       "      <td>1</td>\n",
       "      <td>1</td>\n",
       "      <td>4</td>\n",
       "      <td>11.5</td>\n",
       "      <td>2020</td>\n",
       "      <td>12</td>\n",
       "      <td>46.0</td>\n",
       "    </tr>\n",
       "    <tr>\n",
       "      <th>4</th>\n",
       "      <td>2021-03-11</td>\n",
       "      <td>2</td>\n",
       "      <td>3</td>\n",
       "      <td>8</td>\n",
       "      <td>10.1</td>\n",
       "      <td>2021</td>\n",
       "      <td>3</td>\n",
       "      <td>80.8</td>\n",
       "    </tr>\n",
       "    <tr>\n",
       "      <th>9</th>\n",
       "      <td>2021-06-19</td>\n",
       "      <td>2</td>\n",
       "      <td>3</td>\n",
       "      <td>12</td>\n",
       "      <td>7.9</td>\n",
       "      <td>2021</td>\n",
       "      <td>6</td>\n",
       "      <td>94.8</td>\n",
       "    </tr>\n",
       "    <tr>\n",
       "      <th>8</th>\n",
       "      <td>2021-09-27</td>\n",
       "      <td>1</td>\n",
       "      <td>3</td>\n",
       "      <td>5</td>\n",
       "      <td>20.6</td>\n",
       "      <td>2021</td>\n",
       "      <td>9</td>\n",
       "      <td>103.0</td>\n",
       "    </tr>\n",
       "    <tr>\n",
       "      <th>7</th>\n",
       "      <td>2022-01-05</td>\n",
       "      <td>3</td>\n",
       "      <td>1</td>\n",
       "      <td>4</td>\n",
       "      <td>17.2</td>\n",
       "      <td>2022</td>\n",
       "      <td>1</td>\n",
       "      <td>68.8</td>\n",
       "    </tr>\n",
       "  </tbody>\n",
       "</table>\n",
       "</div>"
      ],
      "text/plain": [
       "         date  customer_id  product_id  quantity  price  year  month  \\\n",
       "11 2019-01-01            7           2         5   12.1  2019      1   \n",
       "2  2019-04-11            3           3         8    9.7  2019      4   \n",
       "5  2019-07-20            4           1         7   12.8  2019      7   \n",
       "6  2019-10-28            5           2         3   14.5  2019     10   \n",
       "3  2020-02-05            1           2         1   14.4  2020      2   \n",
       "10 2020-05-15            6           1        11   18.2  2020      5   \n",
       "1  2020-08-23            2           2         1   16.2  2020      8   \n",
       "0  2020-12-01            1           1         4   11.5  2020     12   \n",
       "4  2021-03-11            2           3         8   10.1  2021      3   \n",
       "9  2021-06-19            2           3        12    7.9  2021      6   \n",
       "8  2021-09-27            1           3         5   20.6  2021      9   \n",
       "7  2022-01-05            3           1         4   17.2  2022      1   \n",
       "\n",
       "    revenue_per_purchase  \n",
       "11                  60.5  \n",
       "2                   77.6  \n",
       "5                   89.6  \n",
       "6                   43.5  \n",
       "3                   14.4  \n",
       "10                 200.2  \n",
       "1                   16.2  \n",
       "0                   46.0  \n",
       "4                   80.8  \n",
       "9                   94.8  \n",
       "8                  103.0  \n",
       "7                   68.8  "
      ]
     },
     "execution_count": 5,
     "metadata": {},
     "output_type": "execute_result"
    }
   ],
   "source": [
    "df"
   ]
  },
  {
   "cell_type": "code",
   "execution_count": 6,
   "metadata": {},
   "outputs": [
    {
     "name": "stdout",
     "output_type": "stream",
     "text": [
      "<class 'pandas.core.frame.DataFrame'>\n",
      "Int64Index: 12 entries, 11 to 7\n",
      "Data columns (total 8 columns):\n",
      " #   Column                Non-Null Count  Dtype         \n",
      "---  ------                --------------  -----         \n",
      " 0   date                  12 non-null     datetime64[ns]\n",
      " 1   customer_id           12 non-null     int64         \n",
      " 2   product_id            12 non-null     int64         \n",
      " 3   quantity              12 non-null     int64         \n",
      " 4   price                 12 non-null     float64       \n",
      " 5   year                  12 non-null     int64         \n",
      " 6   month                 12 non-null     int64         \n",
      " 7   revenue_per_purchase  12 non-null     float64       \n",
      "dtypes: datetime64[ns](1), float64(2), int64(5)\n",
      "memory usage: 864.0 bytes\n"
     ]
    }
   ],
   "source": [
    "df.info()"
   ]
  },
  {
   "cell_type": "markdown",
   "metadata": {},
   "source": [
    "1. Общая выручка магазина за каждый год."
   ]
  },
  {
   "cell_type": "code",
   "execution_count": 8,
   "metadata": {},
   "outputs": [
    {
     "data": {
      "text/plain": [
       "year\n",
       "2019    271.2\n",
       "2020    276.8\n",
       "2021    278.6\n",
       "2022     68.8\n",
       "Name: revenue_per_purchase, dtype: float64"
      ]
     },
     "execution_count": 8,
     "metadata": {},
     "output_type": "execute_result"
    }
   ],
   "source": [
    "annual_revenue = df.groupby('year')['revenue_per_purchase'].sum()\n",
    "annual_revenue"
   ]
  },
  {
   "cell_type": "markdown",
   "metadata": {},
   "source": [
    "2. Количество уникальных клиентов, которые сделали заказы в каждом году."
   ]
  },
  {
   "cell_type": "code",
   "execution_count": 9,
   "metadata": {},
   "outputs": [
    {
     "data": {
      "text/plain": [
       "year\n",
       "2019    4\n",
       "2020    3\n",
       "2021    2\n",
       "2022    1\n",
       "Name: customer_id, dtype: int64"
      ]
     },
     "execution_count": 9,
     "metadata": {},
     "output_type": "execute_result"
    }
   ],
   "source": [
    "unique_customer_per_year = df.groupby('year')['customer_id'].nunique()\n",
    "unique_customer_per_year"
   ]
  },
  {
   "cell_type": "markdown",
   "metadata": {},
   "source": [
    "3. Общее количество товаров, проданных в каждом году."
   ]
  },
  {
   "cell_type": "code",
   "execution_count": 10,
   "metadata": {},
   "outputs": [
    {
     "data": {
      "text/plain": [
       "year\n",
       "2019    23\n",
       "2020    17\n",
       "2021    25\n",
       "2022     4\n",
       "Name: quantity, dtype: int64"
      ]
     },
     "execution_count": 10,
     "metadata": {},
     "output_type": "execute_result"
    }
   ],
   "source": [
    "annual_total_amount_product = df.groupby('year')['quantity'].sum()\n",
    "annual_total_amount_product"
   ]
  },
  {
   "cell_type": "markdown",
   "metadata": {},
   "source": [
    "4. Средняя стоимость заказа каждого клиента за каждый год."
   ]
  },
  {
   "cell_type": "code",
   "execution_count": 11,
   "metadata": {},
   "outputs": [
    {
     "data": {
      "text/plain": [
       "year  customer_id\n",
       "2019  3               77.6\n",
       "      4               89.6\n",
       "      5               43.5\n",
       "      7               60.5\n",
       "2020  1               30.2\n",
       "      2               16.2\n",
       "      6              200.2\n",
       "2021  1              103.0\n",
       "      2               87.8\n",
       "2022  3               68.8\n",
       "Name: revenue_per_purchase, dtype: float64"
      ]
     },
     "execution_count": 11,
     "metadata": {},
     "output_type": "execute_result"
    }
   ],
   "source": [
    "avg_cost_order = df.groupby(['year', 'customer_id'])['revenue_per_purchase'].mean()\n",
    "avg_cost_order"
   ]
  },
  {
   "cell_type": "markdown",
   "metadata": {},
   "source": [
    "5. Общая выручка магазина за каждый месяц."
   ]
  },
  {
   "cell_type": "code",
   "execution_count": 14,
   "metadata": {},
   "outputs": [
    {
     "data": {
      "text/plain": [
       "year  month\n",
       "2019  1         60.5\n",
       "      4         77.6\n",
       "      7         89.6\n",
       "      10        43.5\n",
       "2020  2         14.4\n",
       "      5        200.2\n",
       "      8         16.2\n",
       "      12        46.0\n",
       "2021  3         80.8\n",
       "      6         94.8\n",
       "      9        103.0\n",
       "2022  1         68.8\n",
       "Name: revenue_per_purchase, dtype: float64"
      ]
     },
     "execution_count": 14,
     "metadata": {},
     "output_type": "execute_result"
    }
   ],
   "source": [
    "# total revenue магазина за каждый месяц за каждый год\n",
    "annual_revenue_per_month = df.groupby(['year', 'month'])['revenue_per_purchase'].sum()\n",
    "annual_revenue_per_month"
   ]
  },
  {
   "cell_type": "code",
   "execution_count": 15,
   "metadata": {},
   "outputs": [
    {
     "data": {
      "text/plain": [
       "month\n",
       "1     129.3\n",
       "2      14.4\n",
       "3      80.8\n",
       "4      77.6\n",
       "5     200.2\n",
       "6      94.8\n",
       "7      89.6\n",
       "8      16.2\n",
       "9     103.0\n",
       "10     43.5\n",
       "12     46.0\n",
       "Name: revenue_per_purchase, dtype: float64"
      ]
     },
     "execution_count": 15,
     "metadata": {},
     "output_type": "execute_result"
    }
   ],
   "source": [
    "# total revenue за каждый месяц не в разрезе года, а нарастающим итогом\n",
    "revenue_per_month = df.groupby(['month'])['revenue_per_purchase'].sum()\n",
    "revenue_per_month"
   ]
  },
  {
   "cell_type": "markdown",
   "metadata": {},
   "source": [
    "6. Общая выручка магазина за каждый месяц для каждого отдельного продукта."
   ]
  },
  {
   "cell_type": "code",
   "execution_count": 16,
   "metadata": {},
   "outputs": [
    {
     "data": {
      "text/plain": [
       "year  month  product_id\n",
       "2019  1      2              60.5\n",
       "      4      3              77.6\n",
       "      7      1              89.6\n",
       "      10     2              43.5\n",
       "2020  2      2              14.4\n",
       "      5      1             200.2\n",
       "      8      2              16.2\n",
       "      12     1              46.0\n",
       "2021  3      3              80.8\n",
       "      6      3              94.8\n",
       "      9      3             103.0\n",
       "2022  1      1              68.8\n",
       "Name: revenue_per_purchase, dtype: float64"
      ]
     },
     "execution_count": 16,
     "metadata": {},
     "output_type": "execute_result"
    }
   ],
   "source": [
    "# общая выручка магазина за каждый месяц для каждого отдельного продукта за каждый год\n",
    "annual_revenue_per_month_per_product = df.groupby(['year', 'month', 'product_id'])['revenue_per_purchase'].sum()\n",
    "annual_revenue_per_month_per_product"
   ]
  },
  {
   "cell_type": "code",
   "execution_count": 17,
   "metadata": {},
   "outputs": [
    {
     "data": {
      "text/plain": [
       "month  product_id\n",
       "1      1              68.8\n",
       "       2              60.5\n",
       "2      2              14.4\n",
       "3      3              80.8\n",
       "4      3              77.6\n",
       "5      1             200.2\n",
       "6      3              94.8\n",
       "7      1              89.6\n",
       "8      2              16.2\n",
       "9      3             103.0\n",
       "10     2              43.5\n",
       "12     1              46.0\n",
       "Name: revenue_per_purchase, dtype: float64"
      ]
     },
     "execution_count": 17,
     "metadata": {},
     "output_type": "execute_result"
    }
   ],
   "source": [
    "# total revenue за каждый месяц по каждому продукту нарастающим итогом\n",
    "revenue_per_month_per_product = df.groupby(['month', 'product_id'])['revenue_per_purchase'].sum()\n",
    "revenue_per_month_per_product"
   ]
  },
  {
   "cell_type": "markdown",
   "metadata": {},
   "source": [
    "### Аналитика на SQL\n",
    "Имеется две таблицы: orders и order_items.\n",
    "\n",
    "Таблица orders содержит информацию о заказах, а таблица order_items - о товарах, заказанных в рамках этих заказов.\n",
    "\n",
    "Обе таблицы имеют следующие столбцы:\n",
    "\n",
    "**Таблица orders:**\n",
    "* order_id - уникальный идентификатор заказа\n",
    "* customer_id - идентификатор клиента\n",
    "* date - дата заказа\n",
    "\n",
    "**Таблица order_items:**\n",
    "* order_id - идентификатор заказа\n",
    "* product_id - идентификатор товара\n",
    "* quantity - количество товара, заказанного в рамках заказа"
   ]
  },
  {
   "cell_type": "markdown",
   "metadata": {},
   "source": [
    "1. Количество товаров, заказанных каждым клиентом в текущем году."
   ]
  },
  {
   "cell_type": "code",
   "execution_count": null,
   "metadata": {},
   "outputs": [],
   "source": [
    "SELECT \n",
    "    customer_id,\n",
    "    SUM(quantity) AS total_quantity\n",
    "FROM    \n",
    "    orders\n",
    "JOIN order_items ON orders.order_id = order_items.order_id\n",
    "WHERE EXTRACT(YEAR FROM date) = EXTRACT(YEAR FROM CURRENT_DATE)\n",
    "GROUP BY customer_id"
   ]
  },
  {
   "cell_type": "code",
   "execution_count": null,
   "metadata": {},
   "outputs": [],
   "source": [
    "SELECT \n",
    "    customer_id,\n",
    "    SUM(quantity)\n",
    "FROM    \n",
    "    orders\n",
    "NATURAL JOIN order_items\n",
    "WHERE EXTRACT(YEAR FROM date) = EXTRACT(YEAR FROM CURRENT_DATE)\n",
    "GROUP BY customer_id"
   ]
  },
  {
   "cell_type": "markdown",
   "metadata": {},
   "source": [
    "2. Идентификаторы всех клиентов, которые не сделали ни одного заказа в текущем году."
   ]
  },
  {
   "cell_type": "code",
   "execution_count": null,
   "metadata": {},
   "outputs": [],
   "source": [
    "SELECT DISTINCT customer_id \n",
    "FROM orders\n",
    "WHERE customer_id NOT IN (\n",
    "  SELECT DISTINCT customer_id\n",
    "  FROM orders\n",
    "  WHERE EXTRACT(YEAR FROM date) = EXTRACT(YEAR FROM current_date)\n",
    ");\n"
   ]
  },
  {
   "cell_type": "code",
   "execution_count": null,
   "metadata": {},
   "outputs": [],
   "source": [
    "SELECT c.customer_id\n",
    "FROM customers c\n",
    "WHERE c.customer_id NOT IN (\n",
    "  SELECT DISTINCT o.customer_id\n",
    "  FROM orders o\n",
    "  WHERE EXTRACT(YEAR FROM o.date) = EXTRACT(YEAR FROM current_date)\n",
    ");"
   ]
  }
 ],
 "metadata": {
  "kernelspec": {
   "display_name": "Python 3",
   "language": "python",
   "name": "python3"
  },
  "language_info": {
   "codemirror_mode": {
    "name": "ipython",
    "version": 3
   },
   "file_extension": ".py",
   "mimetype": "text/x-python",
   "name": "python",
   "nbconvert_exporter": "python",
   "pygments_lexer": "ipython3",
   "version": "3.10.9"
  }
 },
 "nbformat": 4,
 "nbformat_minor": 2
}
