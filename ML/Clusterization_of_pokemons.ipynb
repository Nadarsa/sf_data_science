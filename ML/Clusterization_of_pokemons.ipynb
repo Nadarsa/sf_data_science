{
 "cells": [
  {
   "cell_type": "code",
   "execution_count": 2,
   "id": "a754472c",
   "metadata": {},
   "outputs": [],
   "source": [
    "# импортируем библиотеку pandas для работы с датафреймами\n",
    "import pandas as pd\n",
    "# импортируем seaborn для визуализации\n",
    "import seaborn as sns\n",
    "# импортируем sklearn для кластеризации\n",
    "from sklearn.cluster import KMeans "
   ]
  },
  {
   "cell_type": "code",
   "execution_count": 2,
   "id": "f7ad269d",
   "metadata": {},
   "outputs": [
    {
     "data": {
      "text/html": [
       "<div>\n",
       "<style scoped>\n",
       "    .dataframe tbody tr th:only-of-type {\n",
       "        vertical-align: middle;\n",
       "    }\n",
       "\n",
       "    .dataframe tbody tr th {\n",
       "        vertical-align: top;\n",
       "    }\n",
       "\n",
       "    .dataframe thead th {\n",
       "        text-align: right;\n",
       "    }\n",
       "</style>\n",
       "<table border=\"1\" class=\"dataframe\">\n",
       "  <thead>\n",
       "    <tr style=\"text-align: right;\">\n",
       "      <th></th>\n",
       "      <th>Name</th>\n",
       "      <th>Total</th>\n",
       "      <th>HP</th>\n",
       "      <th>Attack</th>\n",
       "      <th>Defense</th>\n",
       "      <th>Sp. Atk</th>\n",
       "      <th>Sp. Def</th>\n",
       "      <th>Speed</th>\n",
       "      <th>RealClusters</th>\n",
       "    </tr>\n",
       "  </thead>\n",
       "  <tbody>\n",
       "    <tr>\n",
       "      <th>0</th>\n",
       "      <td>Bulbasaur</td>\n",
       "      <td>318</td>\n",
       "      <td>45</td>\n",
       "      <td>77.634658</td>\n",
       "      <td>50.854702</td>\n",
       "      <td>65</td>\n",
       "      <td>65</td>\n",
       "      <td>45</td>\n",
       "      <td>2</td>\n",
       "    </tr>\n",
       "    <tr>\n",
       "      <th>1</th>\n",
       "      <td>Ivysaur</td>\n",
       "      <td>405</td>\n",
       "      <td>60</td>\n",
       "      <td>67.454273</td>\n",
       "      <td>39.202323</td>\n",
       "      <td>80</td>\n",
       "      <td>80</td>\n",
       "      <td>60</td>\n",
       "      <td>1</td>\n",
       "    </tr>\n",
       "    <tr>\n",
       "      <th>2</th>\n",
       "      <td>Venusaur</td>\n",
       "      <td>525</td>\n",
       "      <td>80</td>\n",
       "      <td>76.007423</td>\n",
       "      <td>47.605846</td>\n",
       "      <td>100</td>\n",
       "      <td>100</td>\n",
       "      <td>80</td>\n",
       "      <td>2</td>\n",
       "    </tr>\n",
       "    <tr>\n",
       "      <th>3</th>\n",
       "      <td>VenusaurMega Venusaur</td>\n",
       "      <td>625</td>\n",
       "      <td>80</td>\n",
       "      <td>77.828031</td>\n",
       "      <td>50.744911</td>\n",
       "      <td>122</td>\n",
       "      <td>120</td>\n",
       "      <td>80</td>\n",
       "      <td>2</td>\n",
       "    </tr>\n",
       "    <tr>\n",
       "      <th>4</th>\n",
       "      <td>Charmander</td>\n",
       "      <td>309</td>\n",
       "      <td>39</td>\n",
       "      <td>68.658104</td>\n",
       "      <td>37.890027</td>\n",
       "      <td>60</td>\n",
       "      <td>50</td>\n",
       "      <td>65</td>\n",
       "      <td>1</td>\n",
       "    </tr>\n",
       "  </tbody>\n",
       "</table>\n",
       "</div>"
      ],
      "text/plain": [
       "                    Name  Total  HP     Attack    Defense  Sp. Atk  Sp. Def  \\\n",
       "0              Bulbasaur    318  45  77.634658  50.854702       65       65   \n",
       "1                Ivysaur    405  60  67.454273  39.202323       80       80   \n",
       "2               Venusaur    525  80  76.007423  47.605846      100      100   \n",
       "3  VenusaurMega Venusaur    625  80  77.828031  50.744911      122      120   \n",
       "4             Charmander    309  39  68.658104  37.890027       60       50   \n",
       "\n",
       "   Speed  RealClusters  \n",
       "0     45             2  \n",
       "1     60             1  \n",
       "2     80             2  \n",
       "3     80             2  \n",
       "4     65             1  "
      ]
     },
     "execution_count": 2,
     "metadata": {},
     "output_type": "execute_result"
    }
   ],
   "source": [
    "# загрузим данные\n",
    "df = pd.read_csv('pokemon.csv')\n",
    "# датасет содержит имя покемона, силу его защиты, атаки и скорость\n",
    "df.head()"
   ]
  },
  {
   "cell_type": "markdown",
   "id": "e649c21f",
   "metadata": {},
   "source": [
    "## k-means кластеризация"
   ]
  },
  {
   "cell_type": "code",
   "execution_count": 3,
   "id": "cff5a430",
   "metadata": {},
   "outputs": [
    {
     "name": "stderr",
     "output_type": "stream",
     "text": [
      "/Users/aigul/miniconda3/envs/clustering-env/lib/python3.10/site-packages/seaborn/_decorators.py:36: FutureWarning: Pass the following variables as keyword args: x, y. From version 0.12, the only valid positional argument will be `data`, and passing other arguments without an explicit keyword will result in an error or misinterpretation.\n",
      "  warnings.warn(\n"
     ]
    },
    {
     "data": {
      "text/plain": [
       "<AxesSubplot:xlabel='Attack', ylabel='Defense'>"
      ]
     },
     "execution_count": 3,
     "metadata": {},
     "output_type": "execute_result"
    },
    {
     "data": {
      "image/png": "[encoded data removed]",
      "text/plain": [
       "<Figure size 432x288 with 1 Axes>"
      ]
     },
     "metadata": {
      "needs_background": "light"
     },
     "output_type": "display_data"
    }
   ],
   "source": [
    "# попробуем кластеризовать покемонов по их силе атаки и защиты\n",
    "# для этого сохраним в матрицу X 2 интересующих признака: атаку и защиту\n",
    "X = df[['Attack', 'Defense']]\n",
    "\n",
    "#визуализируем\n",
    "sns.scatterplot(df.Attack, df.Defense)"
   ]
  },
  {
   "cell_type": "markdown",
   "id": "4fca2436",
   "metadata": {},
   "source": [
    "Теперь инициализируем алгоритм k-means. Для этого зададим:  \n",
    "    - n_clusters - количество кластеров  \n",
    "    - init - стратегию кластеризации  \n",
    "    - n_init - количество запусков алгоритма k-means  \n",
    "    - random_state - для того, чтобы результаты от запуска к запуску воспроизводились  "
   ]
  },
  {
   "cell_type": "code",
   "execution_count": 4,
   "id": "7d85b199",
   "metadata": {},
   "outputs": [
    {
     "name": "stderr",
     "output_type": "stream",
     "text": [
      "/Users/aigul/miniconda3/envs/clustering-env/lib/python3.10/site-packages/seaborn/_decorators.py:36: FutureWarning: Pass the following variables as keyword args: x, y. From version 0.12, the only valid positional argument will be `data`, and passing other arguments without an explicit keyword will result in an error or misinterpretation.\n",
      "  warnings.warn(\n"
     ]
    },
    {
     "data": {
      "text/plain": [
       "<AxesSubplot:xlabel='Attack', ylabel='Defense'>"
      ]
     },
     "execution_count": 4,
     "metadata": {},
     "output_type": "execute_result"
    },
    {
     "data": {
      "image/png": "[encoded data removed]",
      "text/plain": [
       "<Figure size 432x288 with 1 Axes>"
      ]
     },
     "metadata": {
      "needs_background": "light"
     },
     "output_type": "display_data"
    }
   ],
   "source": [
    "# инициализируем алгоритм k-means, с количеством кластеров 3\n",
    "kmeans = KMeans(n_clusters=3, init='k-means++', n_init=10, random_state=42)\n",
    "\n",
    "# запустим обучение модели\n",
    "kmeans.fit(X)\n",
    "\n",
    "# предскажем, к какому кластеру принадлежат покемоны \n",
    "predictions = kmeans.predict(X)\n",
    "# если мы хотим метки класса для тех же данных, на которых обучили модель, то можно просто попросить labels\n",
    "predictions = kmeans.labels_\n",
    "\n",
    "# сохраним предсказания в датафрейм\n",
    "df['Clusters_k3'] = predictions\n",
    "\n",
    "#визуализируем результаты, параметр c принимает вектор с номерами классов, для группировки объектов по цветам \n",
    "sns.scatterplot(df.Attack, df.Defense, c=predictions)"
   ]
  },
  {
   "cell_type": "markdown",
   "id": "a4dd502e",
   "metadata": {},
   "source": [
    "Вроде неплохо, но давайте посмотрим, может если увеличить количество кластеров станет лучше"
   ]
  },
  {
   "cell_type": "code",
   "execution_count": 5,
   "id": "fa1ff54c",
   "metadata": {},
   "outputs": [
    {
     "name": "stderr",
     "output_type": "stream",
     "text": [
      "/Users/aigul/miniconda3/envs/clustering-env/lib/python3.10/site-packages/seaborn/_decorators.py:36: FutureWarning: Pass the following variables as keyword args: x, y. From version 0.12, the only valid positional argument will be `data`, and passing other arguments without an explicit keyword will result in an error or misinterpretation.\n",
      "  warnings.warn(\n"
     ]
    },
    {
     "data": {
      "text/plain": [
       "<AxesSubplot:xlabel='Attack', ylabel='Defense'>"
      ]
     },
     "execution_count": 5,
     "metadata": {},
     "output_type": "execute_result"
    },
    {
     "data": {
      "image/png": "[encoded data removed]",
      "text/plain": [
       "<Figure size 432x288 with 1 Axes>"
      ]
     },
     "metadata": {
      "needs_background": "light"
     },
     "output_type": "display_data"
    }
   ],
   "source": [
    "# инициализируем алгоритм k-means, с количеством кластеров 4\n",
    "kmeans = KMeans(n_clusters=4, init='k-means++', n_init=10, random_state=42)\n",
    "\n",
    "# запустим обучение модели\n",
    "kmeans.fit(X)\n",
    "\n",
    "# предскажем, к какому кластеру принадлежат покемоны \n",
    "predictions = kmeans.predict(X)\n",
    "# если мы хотим метки класса для тех же данных, на которых обучили модель, то можно просто попросить labels\n",
    "predictions = kmeans.labels_\n",
    "\n",
    "# сохраним предсказания в датафрейм\n",
    "df['Clusters_k4'] = predictions\n",
    "\n",
    "#визуализируем результаты, параметр c принимает вектор с номерами классов, для группировки объектов по цветам \n",
    "sns.scatterplot(df.Attack, df.Defense, c=df.Clusters_k4)"
   ]
  },
  {
   "cell_type": "markdown",
   "id": "32a92187",
   "metadata": {},
   "source": [
    "Вроде неплохо, но явно есть точки, которые находятся вдалеке от основных кластеров. Например, 2 фиолетовые точки "
   ]
  },
  {
   "cell_type": "code",
   "execution_count": 6,
   "id": "acbf47b7",
   "metadata": {},
   "outputs": [],
   "source": [
    "# добавляем третий признак - скорость покемона, а алгоритм такой же\n",
    "X = df[['Attack', 'Defense', 'Speed']]\n",
    "\n",
    "# инициализируем алгоритм k-means, с количеством кластеров 3\n",
    "kmeans = KMeans(n_clusters=3, init='k-means++', n_init=10, random_state=42)\n",
    "\n",
    "# запустим обучение модели\n",
    "kmeans.fit(X)\n",
    "\n",
    "# предскажем, к какому кластеру принадлежат покемоны \n",
    "predictions = kmeans.predict(X)\n",
    "# если мы хотим метки класса для тех же данных, на которых обучили модель, то можно просто попросить labels\n",
    "predictions = kmeans.labels_\n",
    "\n",
    "# сохраним предсказания в датафрейм\n",
    "df['Clusters_k3_2d'] = predictions"
   ]
  },
  {
   "cell_type": "markdown",
   "id": "be4da624",
   "metadata": {},
   "source": [
    "## Выбор количества кластеров с помощью метода локтя"
   ]
  },
  {
   "cell_type": "code",
   "execution_count": 7,
   "id": "743ad62c",
   "metadata": {},
   "outputs": [
    {
     "data": {
      "text/plain": [
       "<AxesSubplot:xlabel='cluster', ylabel='inertia'>"
      ]
     },
     "execution_count": 7,
     "metadata": {},
     "output_type": "execute_result"
    },
    {
     "data": {
      "image/png": "[encoded data removed]",
      "text/plain": [
       "<Figure size 432x288 with 1 Axes>"
      ]
     },
     "metadata": {},
     "output_type": "display_data"
    }
   ],
   "source": [
    "# функция, которая принимает количество кластеров для k-means и матрицу с признаками объектов,и возвращает инерцию \n",
    "def get_inertia(cluster_num, X):\n",
    "# инициализируем алгоритм кластеризации\n",
    "    k_means =  KMeans(n_clusters=cluster_num, random_state=42)\n",
    "# запускаем алгоритм k-means\n",
    "    k_means.fit(X)\n",
    "# находим значение инерции\n",
    "    inertia = k_means.inertia_\n",
    "# возвращаем значение инерции\n",
    "    return inertia\n",
    "\n",
    "# создадим пустой словарь, ключами будут инерция и количество кластеров\n",
    "res = {\"inertia\": [], \"cluster\": []}\n",
    "\n",
    "# выберем нужные данные \n",
    "X = df[['Attack', 'Defense']]\n",
    "\n",
    "# итерируемся по разным размерам кластеров (от 1 до 9) и сохраним значение инерции для каждого кластера\n",
    "for cluster_num in range(1, 10):\n",
    "# сохраняем значения\n",
    "    res[\"inertia\"].append(get_inertia(cluster_num, X))\n",
    "    res[\"cluster\"].append(cluster_num)\n",
    "\n",
    "# сохраним в датафрейм значение инерции и количество кластеров\n",
    "res_df = pd.DataFrame(res)\n",
    "\n",
    "# установим стиль для визуализиции\n",
    "sns.set_style(\"darkgrid\")\n",
    "# визуализируем зависимость значения инерции от количества кластеров\n",
    "sns.lineplot(data=res_df, x=\"cluster\", y=\"inertia\", marker= \"o\")"
   ]
  },
  {
   "cell_type": "markdown",
   "id": "f3f6b803",
   "metadata": {},
   "source": [
    "## Выбор количества кластеров с помощью коэффициент силуэта"
   ]
  },
  {
   "cell_type": "code",
   "execution_count": 8,
   "id": "537b3a7a",
   "metadata": {},
   "outputs": [
    {
     "data": {
      "text/plain": [
       "<AxesSubplot:xlabel='cluster', ylabel='silhouette'>"
      ]
     },
     "execution_count": 8,
     "metadata": {},
     "output_type": "execute_result"
    },
    {
     "data": {
      "image/png": "[encoded data removed]",
      "text/plain": [
       "<Figure size 432x288 with 1 Axes>"
      ]
     },
     "metadata": {},
     "output_type": "display_data"
    }
   ],
   "source": [
    "# импортируем метрику силуэт\n",
    "from sklearn.metrics import silhouette_score\n",
    "\n",
    "# напишем функцию, как и при подсчете метода локтя\n",
    "def get_silhouette(cluster_num, X):\n",
    "    k_means =  KMeans(n_clusters=cluster_num, init='k-means++', n_init=10, random_state=42)\n",
    "    k_means.fit(X)\n",
    "# подсчитаем метрику силуэта, передав данные и то, к каким кластерам относятся объекты\n",
    "    silhouette = silhouette_score(X, k_means.predict(X))\n",
    "    return silhouette\n",
    "\n",
    "# создадим пустой словарь, ключами будут инерция и количество кластеров\n",
    "silhouette_res = {\"silhouette\": [], \"cluster\": []}\n",
    "\n",
    "# выберем нужные данные \n",
    "X = df[['Attack', 'Defense']]\n",
    "\n",
    "for cluster_num in range(2, 10):\n",
    "    silhouette_res[\"silhouette\"].append(get_silhouette(cluster_num, X))\n",
    "    silhouette_res[\"cluster\"].append(cluster_num)\n",
    "    \n",
    "# сохраним в датафрейм значение силуэта и количество кластеров\n",
    "silhouette_df = pd.DataFrame(silhouette_res)\n",
    "\n",
    "# установим стиль для визуализиции\n",
    "sns.set_style(\"darkgrid\")\n",
    "# визуализируем зависимость значения инерции от количества кластеров\n",
    "sns.lineplot(data=silhouette_df, x=\"cluster\", y=\"silhouette\", marker= \"o\")"
   ]
  },
  {
   "cell_type": "markdown",
   "id": "1cd8417b",
   "metadata": {},
   "source": [
    "## Метрики"
   ]
  },
  {
   "cell_type": "code",
   "execution_count": 3,
   "id": "d7c442e8",
   "metadata": {},
   "outputs": [
    {
     "name": "stdout",
     "output_type": "stream",
     "text": [
      "1.0\n"
     ]
    },
    {
     "ename": "NameError",
     "evalue": "name 'df' is not defined",
     "output_type": "error",
     "traceback": [
      "\u001b[0;31m---------------------------------------------------------------------------\u001b[0m",
      "\u001b[0;31mNameError\u001b[0m                                 Traceback (most recent call last)",
      "\u001b[1;32m/Users/nadezdaoskina/Documents/SkillFactory/sf_data_science/ML/Clusterization_of_pokemons.ipynb Cell 16'\u001b[0m in \u001b[0;36m<cell line: 8>\u001b[0;34m()\u001b[0m\n\u001b[1;32m      <a href='vscode-notebook-cell:/Users/nadezdaoskina/Documents/SkillFactory/sf_data_science/ML/Clusterization_of_pokemons.ipynb#ch0000015?line=4'>5</a>\u001b[0m \u001b[39mprint\u001b[39m(homogeneity_score(labels_true\u001b[39m=\u001b[39m[\u001b[39m0\u001b[39m, \u001b[39m0\u001b[39m, \u001b[39m1\u001b[39m, \u001b[39m1\u001b[39m], labels_pred\u001b[39m=\u001b[39m[\u001b[39m0\u001b[39m, \u001b[39m0\u001b[39m, \u001b[39m1\u001b[39m, \u001b[39m1\u001b[39m]))\n\u001b[1;32m      <a href='vscode-notebook-cell:/Users/nadezdaoskina/Documents/SkillFactory/sf_data_science/ML/Clusterization_of_pokemons.ipynb#ch0000015?line=6'>7</a>\u001b[0m \u001b[39m# теперь посчитаем насколько однородными получились кластеры с покемонами\u001b[39;00m\n\u001b[0;32m----> <a href='vscode-notebook-cell:/Users/nadezdaoskina/Documents/SkillFactory/sf_data_science/ML/Clusterization_of_pokemons.ipynb#ch0000015?line=7'>8</a>\u001b[0m \u001b[39mprint\u001b[39m(homogeneity_score(labels_true\u001b[39m=\u001b[39mdf\u001b[39m.\u001b[39mRealClusters, labels_pred\u001b[39m=\u001b[39mdf\u001b[39m.\u001b[39mClusters_k3))\n\u001b[1;32m     <a href='vscode-notebook-cell:/Users/nadezdaoskina/Documents/SkillFactory/sf_data_science/ML/Clusterization_of_pokemons.ipynb#ch0000015?line=9'>10</a>\u001b[0m \u001b[39mprint\u001b[39m(homogeneity_score(labels_true\u001b[39m=\u001b[39mdf\u001b[39m.\u001b[39mRealClusters, labels_pred\u001b[39m=\u001b[39mdf\u001b[39m.\u001b[39mClusters_k4))\n",
      "\u001b[0;31mNameError\u001b[0m: name 'df' is not defined"
     ]
    }
   ],
   "source": [
    "# импортируем подсчет метрики однородности кластеров\n",
    "from sklearn.metrics.cluster import homogeneity_score\n",
    "\n",
    "# передаем предсказанную информацию к какому кластеру относятся объекты датасета и правильные ответы\n",
    "print(homogeneity_score(labels_true=[0, 0, 1, 1], labels_pred=[0, 0, 1, 1]))\n",
    "\n",
    "# теперь посчитаем насколько однородными получились кластеры с покемонами\n",
    "print(homogeneity_score(labels_true=df.RealClusters, labels_pred=df.Clusters_k3))\n",
    "\n",
    "print(homogeneity_score(labels_true=df.RealClusters, labels_pred=df.Clusters_k4))"
   ]
  },
  {
   "cell_type": "code",
   "execution_count": 10,
   "id": "d1709209",
   "metadata": {},
   "outputs": [
    {
     "name": "stdout",
     "output_type": "stream",
     "text": [
      "1.0\n",
      "1.0\n",
      "0.829867483307009\n"
     ]
    }
   ],
   "source": [
    "# импортируем метрику полноты\n",
    "from sklearn.metrics.cluster import completeness_score\n",
    "\n",
    "# передаем предсказанную информацию к какому кластеру относятся объекты датасета и правильные ответы, подсчитываем метрику\n",
    "print(completeness_score(labels_true=[0, 0, 1, 1], labels_pred=[0, 0, 1, 1]))\n",
    "\n",
    "# посчитаем насколько полными получились кластеры с покемонами\n",
    "print(completeness_score(labels_true=df.RealClusters, labels_pred=df.Clusters_k3))\n",
    "\n",
    "# посчитаем насколько полными получились кластеры с покемонами\n",
    "print(completeness_score(labels_true=df.RealClusters, labels_pred=df.Clusters_k4))"
   ]
  },
  {
   "cell_type": "code",
   "execution_count": 11,
   "id": "bb634651",
   "metadata": {},
   "outputs": [
    {
     "name": "stdout",
     "output_type": "stream",
     "text": [
      "1.0\n",
      "0.9070246789753754\n"
     ]
    }
   ],
   "source": [
    "# импортируем из библиотеки sklearn подсчет v-меры\n",
    "from sklearn.metrics import v_measure_score\n",
    "\n",
    "\n",
    "# теперь посчитаем v-меру для кластеров с покемонами\n",
    "print(v_measure_score(labels_true=df.RealClusters, labels_pred=df.Clusters_k3))\n",
    "\n",
    "print(v_measure_score(labels_true=df.RealClusters, labels_pred=df.Clusters_k4))"
   ]
  },
  {
   "cell_type": "code",
   "execution_count": 12,
   "id": "273aca71",
   "metadata": {},
   "outputs": [
    {
     "name": "stdout",
     "output_type": "stream",
     "text": [
      "1.0\n",
      "0.94643618280843\n"
     ]
    }
   ],
   "source": [
    "# импортируем из библиотеки sklearn подсчет индекса Рэнда\n",
    "from sklearn.metrics.cluster import rand_score\n",
    "\n",
    "# теперь посчитаем насколько полными получились кластеры с покемонами\n",
    "print(rand_score(labels_true=df.RealClusters, labels_pred=df.Clusters_k3))\n",
    "\n",
    "print(rand_score(labels_true=df.RealClusters, labels_pred=df.Clusters_k4))"
   ]
  },
  {
   "cell_type": "markdown",
   "id": "eac83855",
   "metadata": {},
   "source": [
    "## Юнит 2. Другие методы кластеризации"
   ]
  },
  {
   "cell_type": "code",
   "execution_count": 13,
   "id": "0d0d2ecf",
   "metadata": {},
   "outputs": [
    {
     "data": {
      "text/plain": [
       "array([0, 0, 0, 0, 0, 1, 0, 1, 1, 1, 0, 1, 1, 0, 0, 0, 1, 0, 0, 1, 0, 1,\n",
       "       1, 1, 0, 1, 1, 1, 1, 1, 0, 0, 1, 0, 1, 1, 0, 1, 0, 0, 0, 0, 0, 0,\n",
       "       0, 0, 0, 0, 0, 0, 0, 1, 1, 0, 0, 1, 0, 1, 1, 1, 1, 0, 1, 0, 1, 0,\n",
       "       0, 0, 1, 0, 0, 1, 0, 1, 0, 0, 1, 0, 0, 1, 0, 0, 0, 0, 1, 0, 0, 0,\n",
       "       0, 1, 0, 0, 1, 1, 0, 0, 0, 0, 0, 0, 1, 0, 0, 0, 0, 0, 0, 1, 1, 1,\n",
       "       0, 0, 0, 0, 1, 1, 0, 0, 0, 1, 0, 1, 0, 0, 0, 0, 1, 1, 0, 1, 1, 0,\n",
       "       0, 0, 0, 1, 0, 0, 0, 1, 1, 0, 0, 1, 1, 0, 0, 1, 0, 0, 0, 0, 0, 0,\n",
       "       0, 1, 0, 0, 1, 0, 0, 0, 0, 0, 0, 1, 1, 0, 0, 0, 1, 0, 1, 1, 0, 0,\n",
       "       0, 0, 0, 0, 1, 0, 0, 1, 0, 0, 0, 0, 1, 0, 0, 1, 0, 0, 0, 0, 0, 0,\n",
       "       0, 1, 0, 0, 0, 0, 0, 1])"
      ]
     },
     "execution_count": 13,
     "metadata": {},
     "output_type": "execute_result"
    }
   ],
   "source": [
    "# импортируем алгомеративную кластеризацию из sklearn\n",
    "from sklearn.cluster import AgglomerativeClustering\n",
    "\n",
    "# запускаем агломеративную кластеризацию\n",
    "agglomerative_clustering = AgglomerativeClustering(n_clusters=2)\n",
    "\n",
    "# обучаем модель\n",
    "agglomerative_clustering.fit(X)\n",
    "\n",
    "# получаем метки c информацией, к какому кластеру относятся объекты\n",
    "agglomerative_clustering.labels_"
   ]
  },
  {
   "cell_type": "code",
   "execution_count": 14,
   "id": "0f15a16a",
   "metadata": {},
   "outputs": [
    {
     "data": {
      "image/png": "[encoded data removed]",
      "text/plain": [
       "<Figure size 720x504 with 1 Axes>"
      ]
     },
     "metadata": {},
     "output_type": "display_data"
    }
   ],
   "source": [
    "from scipy.cluster.hierarchy import dendrogram, linkage\n",
    "from matplotlib import pyplot as plt\n",
    "\n",
    "linked = linkage(X, 'single')\n",
    "\n",
    "\n",
    "plt.figure(figsize=(10, 7))\n",
    "\n",
    "dendrogram(linked,\n",
    "            orientation='top',\n",
    "            labels=agglomerative_clustering.labels_,\n",
    "            distance_sort='descending',\n",
    "            show_leaf_counts=True)\n",
    "\n",
    "plt.show()"
   ]
  },
  {
   "cell_type": "markdown",
   "id": "8c549040",
   "metadata": {},
   "source": [
    "## GMM кластеризация"
   ]
  },
  {
   "cell_type": "code",
   "execution_count": 15,
   "id": "7925ed4d",
   "metadata": {},
   "outputs": [],
   "source": [
    "# импортируем библиотеки numpy и sklearn\n",
    "import numpy as np\n",
    "from sklearn.mixture import GaussianMixture\n",
    "\n",
    "\n",
    "gm_clustering = GaussianMixture(n_components=3, random_state=42)\n",
    "\n",
    "# обучаем модель \n",
    "gm_clustering.fit(X)\n",
    "\n",
    "# для матрицы X получаем предсказания к какому кластеру принадлежат объекты\n",
    "gm_prediction = gm_clustering.predict(X)"
   ]
  },
  {
   "cell_type": "code",
   "execution_count": 16,
   "id": "4a8d7e2d",
   "metadata": {},
   "outputs": [
    {
     "name": "stderr",
     "output_type": "stream",
     "text": [
      "/Users/aigul/miniconda3/envs/clustering-env/lib/python3.10/site-packages/seaborn/_decorators.py:36: FutureWarning: Pass the following variables as keyword args: x, y. From version 0.12, the only valid positional argument will be `data`, and passing other arguments without an explicit keyword will result in an error or misinterpretation.\n",
      "  warnings.warn(\n"
     ]
    },
    {
     "data": {
      "text/plain": [
       "<AxesSubplot:xlabel='Attack', ylabel='Defense'>"
      ]
     },
     "execution_count": 16,
     "metadata": {},
     "output_type": "execute_result"
    },
    {
     "data": {
      "image/png": "[encoded data removed]",
      "text/plain": [
       "<Figure size 432x288 with 1 Axes>"
      ]
     },
     "metadata": {},
     "output_type": "display_data"
    }
   ],
   "source": [
    "# sns.set_style(\"white\")\n",
    "sns.scatterplot(df.Attack, df.Defense, c=gm_prediction)"
   ]
  },
  {
   "cell_type": "markdown",
   "id": "a7cd6d30",
   "metadata": {},
   "source": [
    "## Спектральная кластеризация"
   ]
  },
  {
   "cell_type": "code",
   "execution_count": 17,
   "id": "7b747abb",
   "metadata": {},
   "outputs": [
    {
     "data": {
      "text/html": [
       "<div>\n",
       "<style scoped>\n",
       "    .dataframe tbody tr th:only-of-type {\n",
       "        vertical-align: middle;\n",
       "    }\n",
       "\n",
       "    .dataframe tbody tr th {\n",
       "        vertical-align: top;\n",
       "    }\n",
       "\n",
       "    .dataframe thead th {\n",
       "        text-align: right;\n",
       "    }\n",
       "</style>\n",
       "<table border=\"1\" class=\"dataframe\">\n",
       "  <thead>\n",
       "    <tr style=\"text-align: right;\">\n",
       "      <th></th>\n",
       "      <th>Name</th>\n",
       "      <th>Total</th>\n",
       "      <th>HP</th>\n",
       "      <th>Attack</th>\n",
       "      <th>Defense</th>\n",
       "      <th>Sp. Atk</th>\n",
       "      <th>Sp. Def</th>\n",
       "      <th>Speed</th>\n",
       "      <th>RealClusters</th>\n",
       "      <th>Clusters_k3</th>\n",
       "      <th>Clusters_k4</th>\n",
       "      <th>Clusters_k3_2d</th>\n",
       "    </tr>\n",
       "  </thead>\n",
       "  <tbody>\n",
       "    <tr>\n",
       "      <th>0</th>\n",
       "      <td>Bulbasaur</td>\n",
       "      <td>318</td>\n",
       "      <td>45</td>\n",
       "      <td>77.634658</td>\n",
       "      <td>50.854702</td>\n",
       "      <td>65</td>\n",
       "      <td>65</td>\n",
       "      <td>45</td>\n",
       "      <td>2</td>\n",
       "      <td>1</td>\n",
       "      <td>3</td>\n",
       "      <td>0</td>\n",
       "    </tr>\n",
       "    <tr>\n",
       "      <th>1</th>\n",
       "      <td>Ivysaur</td>\n",
       "      <td>405</td>\n",
       "      <td>60</td>\n",
       "      <td>67.454273</td>\n",
       "      <td>39.202323</td>\n",
       "      <td>80</td>\n",
       "      <td>80</td>\n",
       "      <td>60</td>\n",
       "      <td>1</td>\n",
       "      <td>0</td>\n",
       "      <td>2</td>\n",
       "      <td>2</td>\n",
       "    </tr>\n",
       "    <tr>\n",
       "      <th>2</th>\n",
       "      <td>Venusaur</td>\n",
       "      <td>525</td>\n",
       "      <td>80</td>\n",
       "      <td>76.007423</td>\n",
       "      <td>47.605846</td>\n",
       "      <td>100</td>\n",
       "      <td>100</td>\n",
       "      <td>80</td>\n",
       "      <td>2</td>\n",
       "      <td>1</td>\n",
       "      <td>1</td>\n",
       "      <td>2</td>\n",
       "    </tr>\n",
       "    <tr>\n",
       "      <th>3</th>\n",
       "      <td>VenusaurMega Venusaur</td>\n",
       "      <td>625</td>\n",
       "      <td>80</td>\n",
       "      <td>77.828031</td>\n",
       "      <td>50.744911</td>\n",
       "      <td>122</td>\n",
       "      <td>120</td>\n",
       "      <td>80</td>\n",
       "      <td>2</td>\n",
       "      <td>1</td>\n",
       "      <td>3</td>\n",
       "      <td>2</td>\n",
       "    </tr>\n",
       "    <tr>\n",
       "      <th>4</th>\n",
       "      <td>Charmander</td>\n",
       "      <td>309</td>\n",
       "      <td>39</td>\n",
       "      <td>68.658104</td>\n",
       "      <td>37.890027</td>\n",
       "      <td>60</td>\n",
       "      <td>50</td>\n",
       "      <td>65</td>\n",
       "      <td>1</td>\n",
       "      <td>0</td>\n",
       "      <td>2</td>\n",
       "      <td>2</td>\n",
       "    </tr>\n",
       "    <tr>\n",
       "      <th>...</th>\n",
       "      <td>...</td>\n",
       "      <td>...</td>\n",
       "      <td>...</td>\n",
       "      <td>...</td>\n",
       "      <td>...</td>\n",
       "      <td>...</td>\n",
       "      <td>...</td>\n",
       "      <td>...</td>\n",
       "      <td>...</td>\n",
       "      <td>...</td>\n",
       "      <td>...</td>\n",
       "      <td>...</td>\n",
       "    </tr>\n",
       "    <tr>\n",
       "      <th>201</th>\n",
       "      <td>Skiddo</td>\n",
       "      <td>350</td>\n",
       "      <td>66</td>\n",
       "      <td>75.932190</td>\n",
       "      <td>50.498392</td>\n",
       "      <td>62</td>\n",
       "      <td>57</td>\n",
       "      <td>52</td>\n",
       "      <td>2</td>\n",
       "      <td>1</td>\n",
       "      <td>3</td>\n",
       "      <td>2</td>\n",
       "    </tr>\n",
       "    <tr>\n",
       "      <th>202</th>\n",
       "      <td>Gogoat</td>\n",
       "      <td>531</td>\n",
       "      <td>123</td>\n",
       "      <td>76.919520</td>\n",
       "      <td>50.361511</td>\n",
       "      <td>97</td>\n",
       "      <td>81</td>\n",
       "      <td>68</td>\n",
       "      <td>2</td>\n",
       "      <td>1</td>\n",
       "      <td>3</td>\n",
       "      <td>2</td>\n",
       "    </tr>\n",
       "    <tr>\n",
       "      <th>203</th>\n",
       "      <td>Clauncher</td>\n",
       "      <td>330</td>\n",
       "      <td>50</td>\n",
       "      <td>76.038055</td>\n",
       "      <td>49.515184</td>\n",
       "      <td>58</td>\n",
       "      <td>63</td>\n",
       "      <td>44</td>\n",
       "      <td>2</td>\n",
       "      <td>1</td>\n",
       "      <td>1</td>\n",
       "      <td>0</td>\n",
       "    </tr>\n",
       "    <tr>\n",
       "      <th>204</th>\n",
       "      <td>Clawitzer</td>\n",
       "      <td>500</td>\n",
       "      <td>71</td>\n",
       "      <td>66.854449</td>\n",
       "      <td>40.217467</td>\n",
       "      <td>120</td>\n",
       "      <td>89</td>\n",
       "      <td>59</td>\n",
       "      <td>1</td>\n",
       "      <td>0</td>\n",
       "      <td>2</td>\n",
       "      <td>2</td>\n",
       "    </tr>\n",
       "    <tr>\n",
       "      <th>205</th>\n",
       "      <td>Volcanion</td>\n",
       "      <td>600</td>\n",
       "      <td>80</td>\n",
       "      <td>54.522347</td>\n",
       "      <td>33.504734</td>\n",
       "      <td>130</td>\n",
       "      <td>90</td>\n",
       "      <td>70</td>\n",
       "      <td>0</td>\n",
       "      <td>2</td>\n",
       "      <td>0</td>\n",
       "      <td>2</td>\n",
       "    </tr>\n",
       "  </tbody>\n",
       "</table>\n",
       "<p>206 rows × 12 columns</p>\n",
       "</div>"
      ],
      "text/plain": [
       "                      Name  Total   HP     Attack    Defense  Sp. Atk  \\\n",
       "0                Bulbasaur    318   45  77.634658  50.854702       65   \n",
       "1                  Ivysaur    405   60  67.454273  39.202323       80   \n",
       "2                 Venusaur    525   80  76.007423  47.605846      100   \n",
       "3    VenusaurMega Venusaur    625   80  77.828031  50.744911      122   \n",
       "4               Charmander    309   39  68.658104  37.890027       60   \n",
       "..                     ...    ...  ...        ...        ...      ...   \n",
       "201                 Skiddo    350   66  75.932190  50.498392       62   \n",
       "202                 Gogoat    531  123  76.919520  50.361511       97   \n",
       "203              Clauncher    330   50  76.038055  49.515184       58   \n",
       "204              Clawitzer    500   71  66.854449  40.217467      120   \n",
       "205              Volcanion    600   80  54.522347  33.504734      130   \n",
       "\n",
       "     Sp. Def  Speed  RealClusters  Clusters_k3  Clusters_k4  Clusters_k3_2d  \n",
       "0         65     45             2            1            3               0  \n",
       "1         80     60             1            0            2               2  \n",
       "2        100     80             2            1            1               2  \n",
       "3        120     80             2            1            3               2  \n",
       "4         50     65             1            0            2               2  \n",
       "..       ...    ...           ...          ...          ...             ...  \n",
       "201       57     52             2            1            3               2  \n",
       "202       81     68             2            1            3               2  \n",
       "203       63     44             2            1            1               0  \n",
       "204       89     59             1            0            2               2  \n",
       "205       90     70             0            2            0               2  \n",
       "\n",
       "[206 rows x 12 columns]"
      ]
     },
     "execution_count": 17,
     "metadata": {},
     "output_type": "execute_result"
    }
   ],
   "source": [
    "df"
   ]
  },
  {
   "cell_type": "code",
   "execution_count": 18,
   "id": "85ad4cf0",
   "metadata": {},
   "outputs": [],
   "source": [
    "# вызываем из sklearn SpectralClustering \n",
    "from sklearn.cluster import SpectralClustering\n",
    "\n",
    "\n",
    "# запускаем кластеризацию \n",
    "spectral_clustering = SpectralClustering(n_clusters=4, n_init=1500, random_state=42)\n",
    "\n",
    "spectral_clustering.fit(df[['Attack', 'Defense']])\n",
    "# получаем результаты кластеризации\n",
    "spectral_predictions = spectral_clustering.labels_"
   ]
  },
  {
   "cell_type": "code",
   "execution_count": 19,
   "id": "b3e9acf7",
   "metadata": {},
   "outputs": [
    {
     "name": "stderr",
     "output_type": "stream",
     "text": [
      "/Users/aigul/miniconda3/envs/clustering-env/lib/python3.10/site-packages/seaborn/_decorators.py:36: FutureWarning: Pass the following variables as keyword args: x, y. From version 0.12, the only valid positional argument will be `data`, and passing other arguments without an explicit keyword will result in an error or misinterpretation.\n",
      "  warnings.warn(\n"
     ]
    },
    {
     "data": {
      "text/plain": [
       "<AxesSubplot:xlabel='Attack', ylabel='Defense'>"
      ]
     },
     "execution_count": 19,
     "metadata": {},
     "output_type": "execute_result"
    },
    {
     "data": {
      "image/png": "[encoded data removed]",
      "text/plain": [
       "<Figure size 432x288 with 1 Axes>"
      ]
     },
     "metadata": {},
     "output_type": "display_data"
    }
   ],
   "source": [
    "sns.scatterplot( df.Attack, df.Defense, c=spectral_predictions)"
   ]
  },
  {
   "cell_type": "markdown",
   "id": "068b6910",
   "metadata": {},
   "source": [
    "## DBSCAN"
   ]
  },
  {
   "cell_type": "code",
   "execution_count": 20,
   "id": "038b346f",
   "metadata": {},
   "outputs": [
    {
     "data": {
      "text/html": [
       "<div>\n",
       "<style scoped>\n",
       "    .dataframe tbody tr th:only-of-type {\n",
       "        vertical-align: middle;\n",
       "    }\n",
       "\n",
       "    .dataframe tbody tr th {\n",
       "        vertical-align: top;\n",
       "    }\n",
       "\n",
       "    .dataframe thead th {\n",
       "        text-align: right;\n",
       "    }\n",
       "</style>\n",
       "<table border=\"1\" class=\"dataframe\">\n",
       "  <thead>\n",
       "    <tr style=\"text-align: right;\">\n",
       "      <th></th>\n",
       "      <th>Name</th>\n",
       "      <th>Total</th>\n",
       "      <th>HP</th>\n",
       "      <th>Attack</th>\n",
       "      <th>Defense</th>\n",
       "      <th>Sp. Atk</th>\n",
       "      <th>Sp. Def</th>\n",
       "      <th>Speed</th>\n",
       "      <th>RealClusters</th>\n",
       "      <th>Clusters_k3</th>\n",
       "      <th>Clusters_k4</th>\n",
       "      <th>Clusters_k3_2d</th>\n",
       "    </tr>\n",
       "  </thead>\n",
       "  <tbody>\n",
       "    <tr>\n",
       "      <th>0</th>\n",
       "      <td>Bulbasaur</td>\n",
       "      <td>318</td>\n",
       "      <td>45</td>\n",
       "      <td>77.634658</td>\n",
       "      <td>50.854702</td>\n",
       "      <td>65</td>\n",
       "      <td>65</td>\n",
       "      <td>45</td>\n",
       "      <td>2</td>\n",
       "      <td>1</td>\n",
       "      <td>3</td>\n",
       "      <td>0</td>\n",
       "    </tr>\n",
       "    <tr>\n",
       "      <th>1</th>\n",
       "      <td>Ivysaur</td>\n",
       "      <td>405</td>\n",
       "      <td>60</td>\n",
       "      <td>67.454273</td>\n",
       "      <td>39.202323</td>\n",
       "      <td>80</td>\n",
       "      <td>80</td>\n",
       "      <td>60</td>\n",
       "      <td>1</td>\n",
       "      <td>0</td>\n",
       "      <td>2</td>\n",
       "      <td>2</td>\n",
       "    </tr>\n",
       "    <tr>\n",
       "      <th>2</th>\n",
       "      <td>Venusaur</td>\n",
       "      <td>525</td>\n",
       "      <td>80</td>\n",
       "      <td>76.007423</td>\n",
       "      <td>47.605846</td>\n",
       "      <td>100</td>\n",
       "      <td>100</td>\n",
       "      <td>80</td>\n",
       "      <td>2</td>\n",
       "      <td>1</td>\n",
       "      <td>1</td>\n",
       "      <td>2</td>\n",
       "    </tr>\n",
       "    <tr>\n",
       "      <th>3</th>\n",
       "      <td>VenusaurMega Venusaur</td>\n",
       "      <td>625</td>\n",
       "      <td>80</td>\n",
       "      <td>77.828031</td>\n",
       "      <td>50.744911</td>\n",
       "      <td>122</td>\n",
       "      <td>120</td>\n",
       "      <td>80</td>\n",
       "      <td>2</td>\n",
       "      <td>1</td>\n",
       "      <td>3</td>\n",
       "      <td>2</td>\n",
       "    </tr>\n",
       "    <tr>\n",
       "      <th>4</th>\n",
       "      <td>Charmander</td>\n",
       "      <td>309</td>\n",
       "      <td>39</td>\n",
       "      <td>68.658104</td>\n",
       "      <td>37.890027</td>\n",
       "      <td>60</td>\n",
       "      <td>50</td>\n",
       "      <td>65</td>\n",
       "      <td>1</td>\n",
       "      <td>0</td>\n",
       "      <td>2</td>\n",
       "      <td>2</td>\n",
       "    </tr>\n",
       "    <tr>\n",
       "      <th>...</th>\n",
       "      <td>...</td>\n",
       "      <td>...</td>\n",
       "      <td>...</td>\n",
       "      <td>...</td>\n",
       "      <td>...</td>\n",
       "      <td>...</td>\n",
       "      <td>...</td>\n",
       "      <td>...</td>\n",
       "      <td>...</td>\n",
       "      <td>...</td>\n",
       "      <td>...</td>\n",
       "      <td>...</td>\n",
       "    </tr>\n",
       "    <tr>\n",
       "      <th>201</th>\n",
       "      <td>Skiddo</td>\n",
       "      <td>350</td>\n",
       "      <td>66</td>\n",
       "      <td>75.932190</td>\n",
       "      <td>50.498392</td>\n",
       "      <td>62</td>\n",
       "      <td>57</td>\n",
       "      <td>52</td>\n",
       "      <td>2</td>\n",
       "      <td>1</td>\n",
       "      <td>3</td>\n",
       "      <td>2</td>\n",
       "    </tr>\n",
       "    <tr>\n",
       "      <th>202</th>\n",
       "      <td>Gogoat</td>\n",
       "      <td>531</td>\n",
       "      <td>123</td>\n",
       "      <td>76.919520</td>\n",
       "      <td>50.361511</td>\n",
       "      <td>97</td>\n",
       "      <td>81</td>\n",
       "      <td>68</td>\n",
       "      <td>2</td>\n",
       "      <td>1</td>\n",
       "      <td>3</td>\n",
       "      <td>2</td>\n",
       "    </tr>\n",
       "    <tr>\n",
       "      <th>203</th>\n",
       "      <td>Clauncher</td>\n",
       "      <td>330</td>\n",
       "      <td>50</td>\n",
       "      <td>76.038055</td>\n",
       "      <td>49.515184</td>\n",
       "      <td>58</td>\n",
       "      <td>63</td>\n",
       "      <td>44</td>\n",
       "      <td>2</td>\n",
       "      <td>1</td>\n",
       "      <td>1</td>\n",
       "      <td>0</td>\n",
       "    </tr>\n",
       "    <tr>\n",
       "      <th>204</th>\n",
       "      <td>Clawitzer</td>\n",
       "      <td>500</td>\n",
       "      <td>71</td>\n",
       "      <td>66.854449</td>\n",
       "      <td>40.217467</td>\n",
       "      <td>120</td>\n",
       "      <td>89</td>\n",
       "      <td>59</td>\n",
       "      <td>1</td>\n",
       "      <td>0</td>\n",
       "      <td>2</td>\n",
       "      <td>2</td>\n",
       "    </tr>\n",
       "    <tr>\n",
       "      <th>205</th>\n",
       "      <td>Volcanion</td>\n",
       "      <td>600</td>\n",
       "      <td>80</td>\n",
       "      <td>54.522347</td>\n",
       "      <td>33.504734</td>\n",
       "      <td>130</td>\n",
       "      <td>90</td>\n",
       "      <td>70</td>\n",
       "      <td>0</td>\n",
       "      <td>2</td>\n",
       "      <td>0</td>\n",
       "      <td>2</td>\n",
       "    </tr>\n",
       "  </tbody>\n",
       "</table>\n",
       "<p>206 rows × 12 columns</p>\n",
       "</div>"
      ],
      "text/plain": [
       "                      Name  Total   HP     Attack    Defense  Sp. Atk  \\\n",
       "0                Bulbasaur    318   45  77.634658  50.854702       65   \n",
       "1                  Ivysaur    405   60  67.454273  39.202323       80   \n",
       "2                 Venusaur    525   80  76.007423  47.605846      100   \n",
       "3    VenusaurMega Venusaur    625   80  77.828031  50.744911      122   \n",
       "4               Charmander    309   39  68.658104  37.890027       60   \n",
       "..                     ...    ...  ...        ...        ...      ...   \n",
       "201                 Skiddo    350   66  75.932190  50.498392       62   \n",
       "202                 Gogoat    531  123  76.919520  50.361511       97   \n",
       "203              Clauncher    330   50  76.038055  49.515184       58   \n",
       "204              Clawitzer    500   71  66.854449  40.217467      120   \n",
       "205              Volcanion    600   80  54.522347  33.504734      130   \n",
       "\n",
       "     Sp. Def  Speed  RealClusters  Clusters_k3  Clusters_k4  Clusters_k3_2d  \n",
       "0         65     45             2            1            3               0  \n",
       "1         80     60             1            0            2               2  \n",
       "2        100     80             2            1            1               2  \n",
       "3        120     80             2            1            3               2  \n",
       "4         50     65             1            0            2               2  \n",
       "..       ...    ...           ...          ...          ...             ...  \n",
       "201       57     52             2            1            3               2  \n",
       "202       81     68             2            1            3               2  \n",
       "203       63     44             2            1            1               0  \n",
       "204       89     59             1            0            2               2  \n",
       "205       90     70             0            2            0               2  \n",
       "\n",
       "[206 rows x 12 columns]"
      ]
     },
     "execution_count": 20,
     "metadata": {},
     "output_type": "execute_result"
    }
   ],
   "source": [
    "df"
   ]
  },
  {
   "cell_type": "code",
   "execution_count": 21,
   "id": "fe3902e0",
   "metadata": {},
   "outputs": [
    {
     "name": "stderr",
     "output_type": "stream",
     "text": [
      "/Users/aigul/miniconda3/envs/clustering-env/lib/python3.10/site-packages/seaborn/_decorators.py:36: FutureWarning: Pass the following variables as keyword args: x, y. From version 0.12, the only valid positional argument will be `data`, and passing other arguments without an explicit keyword will result in an error or misinterpretation.\n",
      "  warnings.warn(\n"
     ]
    },
    {
     "data": {
      "text/plain": [
       "<AxesSubplot:xlabel='Attack', ylabel='Defense'>"
      ]
     },
     "execution_count": 21,
     "metadata": {},
     "output_type": "execute_result"
    },
    {
     "data": {
      "image/png": "[encoded data removed]",
      "text/plain": [
       "<Figure size 432x288 with 1 Axes>"
      ]
     },
     "metadata": {},
     "output_type": "display_data"
    }
   ],
   "source": [
    "# импортируем DBSCAN кластеризацию\n",
    "from sklearn.cluster import DBSCAN\n",
    "\n",
    "#запускаем кластеризацию на наших данных\n",
    "clustering = DBSCAN(eps=3, min_samples=3).fit(df[['Attack', 'Defense']])\n",
    "\n",
    "# Далее можно визуализировать результаты, как мы делали с алгоритмом k-means\n",
    "sns.scatterplot(df.Attack, df.Defense, c=clustering.labels_)"
   ]
  }
 ],
 "metadata": {
  "interpreter": {
   "hash": "aee8b7b246df8f9039afb4144a1f6fd8d2ca17a180786b69acc140d282b71a49"
  },
  "kernelspec": {
   "display_name": "Python 3.10.3 64-bit",
   "language": "python",
   "name": "python3"
  },
  "language_info": {
   "codemirror_mode": {
    "name": "ipython",
    "version": 3
   },
   "file_extension": ".py",
   "mimetype": "text/x-python",
   "name": "python",
   "nbconvert_exporter": "python",
   "pygments_lexer": "ipython3",
   "version": "3.10.3"
  }
 },
 "nbformat": 4,
 "nbformat_minor": 5
}
