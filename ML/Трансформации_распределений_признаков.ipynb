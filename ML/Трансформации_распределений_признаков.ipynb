{
  "cells": [
    {
      "cell_type": "code",
      "execution_count": 1,
      "metadata": {
        "id": "a0iRJYw7i5rG"
      },
      "outputs": [],
      "source": [
        "import pandas as pd\n",
        "import numpy as np\n",
        "import matplotlib.pyplot as plt\n",
        "\n",
        "from sklearn.preprocessing import QuantileTransformer\n",
        "from sklearn.preprocessing import PowerTransformer"
      ]
    },
    {
      "cell_type": "markdown",
      "metadata": {
        "id": "viFBtMPRjB2u"
      },
      "source": [
        "# Загрузка данных"
      ]
    },
    {
      "cell_type": "code",
      "execution_count": 2,
      "metadata": {
        "id": "03ytnLmfjEAx"
      },
      "outputs": [],
      "source": [
        "%%capture\n",
        "!wget https://www.dropbox.com/s/64ol9q9ssggz6f1/data_ford_price.xlsx"
      ]
    },
    {
      "cell_type": "code",
      "execution_count": 2,
      "metadata": {
        "id": "Oaeera9FjGEO"
      },
      "outputs": [],
      "source": [
        "data = pd.read_excel('data/data_ford_price.xlsx') "
      ]
    },
    {
      "cell_type": "markdown",
      "metadata": {
        "id": "AaX7OA-6jQEv"
      },
      "source": [
        "# Трансформация признаков"
      ]
    },
    {
      "cell_type": "code",
      "execution_count": 3,
      "metadata": {
        "colab": {
          "base_uri": "https://localhost:8080/",
          "height": 281
        },
        "id": "3AMGKhYMjHvJ",
        "outputId": "b006519b-fab4-4b03-b94b-8849b045b143"
      },
      "outputs": [
        {
          "data": {
            "image/png": "[encoded data removed]",
            "text/plain": [
              "<Figure size 432x288 with 1 Axes>"
            ]
          },
          "metadata": {
            "needs_background": "light"
          },
          "output_type": "display_data"
        }
      ],
      "source": [
        "plt.hist(data.year)\n",
        "plt.title('Распределение признака year');"
      ]
    },
    {
      "cell_type": "markdown",
      "metadata": {
        "id": "ww9rcS4IjVWC"
      },
      "source": [
        "## Квантильное преобразование"
      ]
    },
    {
      "cell_type": "code",
      "execution_count": 13,
      "metadata": {},
      "outputs": [
        {
          "data": {
            "text/plain": [
              "array([[2016],\n",
              "       [2009],\n",
              "       [2002],\n",
              "       ...,\n",
              "       [2006],\n",
              "       [2011],\n",
              "       [2010]])"
            ]
          },
          "execution_count": 13,
          "metadata": {},
          "output_type": "execute_result"
        }
      ],
      "source": [
        "data_for_transform = data['year'].values.reshape((len(data),1))\n",
        "data_for_transform"
      ]
    },
    {
      "cell_type": "code",
      "execution_count": 14,
      "metadata": {
        "colab": {
          "base_uri": "https://localhost:8080/",
          "height": 281
        },
        "id": "vf9GR4fVjMMD",
        "outputId": "45943ebd-633b-4ff9-badb-6d28d529f920"
      },
      "outputs": [
        {
          "data": {
            "image/png": "[encoded data removed]",
            "text/plain": [
              "<Figure size 432x288 with 1 Axes>"
            ]
          },
          "metadata": {
            "needs_background": "light"
          },
          "output_type": "display_data"
        }
      ],
      "source": [
        "quantile = QuantileTransformer(output_distribution='normal')\n",
        "data_transformed = quantile.fit_transform(data_for_transform)\n",
        " \n",
        "plt.hist(data_transformed, bins=25)\n",
        "plt.title('Трансформированное распределение признака year')\n",
        "plt.show()"
      ]
    },
    {
      "cell_type": "code",
      "execution_count": 15,
      "metadata": {},
      "outputs": [
        {
          "data": {
            "text/plain": [
              "array([[ 1.55848163],\n",
              "       [-0.0414126 ],\n",
              "       [-0.93390994],\n",
              "       ...,\n",
              "       [-0.41563423],\n",
              "       [ 0.27960603],\n",
              "       [ 0.09927375]])"
            ]
          },
          "execution_count": 15,
          "metadata": {},
          "output_type": "execute_result"
        }
      ],
      "source": [
        "data_transformed"
      ]
    },
    {
      "cell_type": "code",
      "execution_count": 7,
      "metadata": {},
      "outputs": [
        {
          "data": {
            "text/plain": [
              "Text(0.5, 1.0, 'Condition destribution')"
            ]
          },
          "execution_count": 7,
          "metadata": {},
          "output_type": "execute_result"
        },
        {
          "data": {
            "image/png": "[encoded data removed]",
            "text/plain": [
              "<Figure size 432x288 with 1 Axes>"
            ]
          },
          "metadata": {
            "needs_background": "light"
          },
          "output_type": "display_data"
        }
      ],
      "source": [
        "plt.hist(data.condition)\n",
        "plt.title('Condition destribution')"
      ]
    },
    {
      "cell_type": "code",
      "execution_count": 18,
      "metadata": {},
      "outputs": [],
      "source": [
        "data_for_transform = data['condition'].values.reshape((len(data), 1))"
      ]
    },
    {
      "cell_type": "code",
      "execution_count": 19,
      "metadata": {},
      "outputs": [
        {
          "data": {
            "text/plain": [
              "Text(0.5, 1.0, 'Transformed Condition destribution')"
            ]
          },
          "execution_count": 19,
          "metadata": {},
          "output_type": "execute_result"
        },
        {
          "data": {
            "image/png": "[encoded data removed]",
            "text/plain": [
              "<Figure size 432x288 with 1 Axes>"
            ]
          },
          "metadata": {
            "needs_background": "light"
          },
          "output_type": "display_data"
        }
      ],
      "source": [
        "transformer = QuantileTransformer(output_distribution='uniform')\n",
        "\n",
        "data_transformed = transformer.fit_transform(data_for_transform)\n",
        "\n",
        "plt.hist(data_transformed)\n",
        "plt.title('Transformed Condition destribution')"
      ]
    },
    {
      "cell_type": "code",
      "execution_count": 25,
      "metadata": {},
      "outputs": [
        {
          "data": {
            "text/plain": [
              "array([0.96])"
            ]
          },
          "execution_count": 25,
          "metadata": {},
          "output_type": "execute_result"
        }
      ],
      "source": [
        "np.round(data_transformed[0],2)"
      ]
    },
    {
      "cell_type": "code",
      "execution_count": 8,
      "metadata": {},
      "outputs": [
        {
          "data": {
            "text/plain": [
              "Text(0.5, 1.0, 'Cylinders destribution')"
            ]
          },
          "execution_count": 8,
          "metadata": {},
          "output_type": "execute_result"
        },
        {
          "data": {
            "image/png": "[encoded data removed]",
            "text/plain": [
              "<Figure size 432x288 with 1 Axes>"
            ]
          },
          "metadata": {
            "needs_background": "light"
          },
          "output_type": "display_data"
        }
      ],
      "source": [
        "plt.hist(data.cylinders)\n",
        "plt.title('Cylinders destribution')"
      ]
    },
    {
      "cell_type": "code",
      "execution_count": 17,
      "metadata": {},
      "outputs": [
        {
          "data": {
            "text/plain": [
              "Text(0.5, 1.0, 'Transformed Cylinders distribution')"
            ]
          },
          "execution_count": 17,
          "metadata": {},
          "output_type": "execute_result"
        },
        {
          "data": {
            "image/png": "[encoded data removed]",
            "text/plain": [
              "<Figure size 432x288 with 1 Axes>"
            ]
          },
          "metadata": {
            "needs_background": "light"
          },
          "output_type": "display_data"
        }
      ],
      "source": [
        "data_for_transform = data['cylinders'].values.reshape((len(data), 1))\n",
        "transformer = QuantileTransformer(output_distribution='uniform')\n",
        "data_transformed = transformer.fit_transform(data_for_transform)\n",
        "plt.hist(data_transformed)\n",
        "plt.title('Transformed Cylinders distribution')"
      ]
    },
    {
      "cell_type": "markdown",
      "metadata": {
        "id": "uhm73HOIjgLL"
      },
      "source": [
        "## Логарифмическое преобразование"
      ]
    },
    {
      "cell_type": "code",
      "execution_count": 26,
      "metadata": {
        "colab": {
          "base_uri": "https://localhost:8080/",
          "height": 281
        },
        "id": "WgrUvXs9jdYA",
        "outputId": "ff631438-3990-49d2-f130-af6e732f39d8"
      },
      "outputs": [
        {
          "data": {
            "image/png": "[encoded data removed]",
            "text/plain": [
              "<Figure size 432x288 with 1 Axes>"
            ]
          },
          "metadata": {
            "needs_background": "light"
          },
          "output_type": "display_data"
        }
      ],
      "source": [
        "plt.hist(data.price)\n",
        "plt.title('Распределение признака price');"
      ]
    },
    {
      "cell_type": "code",
      "execution_count": 28,
      "metadata": {
        "colab": {
          "base_uri": "https://localhost:8080/",
          "height": 281
        },
        "id": "Gef19Y2hjnPo",
        "outputId": "cfa8dc3b-e97b-4c62-99e7-95df54d05772"
      },
      "outputs": [
        {
          "data": {
            "image/png": "[encoded data removed]",
            "text/plain": [
              "<Figure size 432x288 with 1 Axes>"
            ]
          },
          "metadata": {
            "needs_background": "light"
          },
          "output_type": "display_data"
        }
      ],
      "source": [
        "log_price = np.log(data['price'])\n",
        " \n",
        "plt.hist(log_price)\n",
        "plt.title('Трансформированное распределение признака price')\n",
        "plt.show()"
      ]
    },
    {
      "cell_type": "code",
      "execution_count": 29,
      "metadata": {
        "colab": {
          "base_uri": "https://localhost:8080/",
          "height": 297
        },
        "id": "-xQGoRHkjpX4",
        "outputId": "3993c1c9-018f-48ab-e346-8749222acd78"
      },
      "outputs": [
        {
          "data": {
            "text/html": [
              "<div>\n",
              "<style scoped>\n",
              "    .dataframe tbody tr th:only-of-type {\n",
              "        vertical-align: middle;\n",
              "    }\n",
              "\n",
              "    .dataframe tbody tr th {\n",
              "        vertical-align: top;\n",
              "    }\n",
              "\n",
              "    .dataframe thead th {\n",
              "        text-align: right;\n",
              "    }\n",
              "</style>\n",
              "<table border=\"1\" class=\"dataframe\">\n",
              "  <thead>\n",
              "    <tr style=\"text-align: right;\">\n",
              "      <th></th>\n",
              "      <th>price</th>\n",
              "      <th>transformed_price</th>\n",
              "    </tr>\n",
              "  </thead>\n",
              "  <tbody>\n",
              "    <tr>\n",
              "      <th>count</th>\n",
              "      <td>7017.000000</td>\n",
              "      <td>7017.000000</td>\n",
              "    </tr>\n",
              "    <tr>\n",
              "      <th>mean</th>\n",
              "      <td>15121.549523</td>\n",
              "      <td>9.204510</td>\n",
              "    </tr>\n",
              "    <tr>\n",
              "      <th>std</th>\n",
              "      <td>11765.423119</td>\n",
              "      <td>1.275868</td>\n",
              "    </tr>\n",
              "    <tr>\n",
              "      <th>min</th>\n",
              "      <td>1.000000</td>\n",
              "      <td>0.000000</td>\n",
              "    </tr>\n",
              "    <tr>\n",
              "      <th>25%</th>\n",
              "      <td>5995.000000</td>\n",
              "      <td>8.698681</td>\n",
              "    </tr>\n",
              "    <tr>\n",
              "      <th>50%</th>\n",
              "      <td>12750.000000</td>\n",
              "      <td>9.453287</td>\n",
              "    </tr>\n",
              "    <tr>\n",
              "      <th>75%</th>\n",
              "      <td>21995.000000</td>\n",
              "      <td>9.998570</td>\n",
              "    </tr>\n",
              "    <tr>\n",
              "      <th>max</th>\n",
              "      <td>299500.000000</td>\n",
              "      <td>12.609870</td>\n",
              "    </tr>\n",
              "  </tbody>\n",
              "</table>\n",
              "</div>"
            ],
            "text/plain": [
              "               price  transformed_price\n",
              "count    7017.000000        7017.000000\n",
              "mean    15121.549523           9.204510\n",
              "std     11765.423119           1.275868\n",
              "min         1.000000           0.000000\n",
              "25%      5995.000000           8.698681\n",
              "50%     12750.000000           9.453287\n",
              "75%     21995.000000           9.998570\n",
              "max    299500.000000          12.609870"
            ]
          },
          "execution_count": 29,
          "metadata": {},
          "output_type": "execute_result"
        }
      ],
      "source": [
        "price_data = pd.concat([data['price'], log_price.rename('transformed_price')], axis = 1)\n",
        " \n",
        "price_data.describe()"
      ]
    },
    {
      "cell_type": "code",
      "execution_count": 31,
      "metadata": {},
      "outputs": [
        {
          "name": "stdout",
          "output_type": "stream",
          "text": [
            "7016    9.798127\n",
            "Name: price, dtype: float64\n"
          ]
        }
      ],
      "source": [
        "print(log_price.tail(1))"
      ]
    },
    {
      "cell_type": "markdown",
      "metadata": {
        "id": "hLjktjw_j0Xy"
      },
      "source": [
        "## Преобразование Бокса-Кокса"
      ]
    },
    {
      "cell_type": "code",
      "execution_count": 34,
      "metadata": {
        "colab": {
          "base_uri": "https://localhost:8080/"
        },
        "id": "PxWZPa0jj1fo",
        "outputId": "3df2250c-81c1-4da2-f8be-d9631281182a"
      },
      "outputs": [
        {
          "name": "stderr",
          "output_type": "stream",
          "text": [
            "/Library/Frameworks/Python.framework/Versions/3.10/lib/python3.10/site-packages/numpy/core/_methods.py:235: RuntimeWarning: overflow encountered in multiply\n",
            "  x = um.multiply(x, x, out=x)\n",
            "/Library/Frameworks/Python.framework/Versions/3.10/lib/python3.10/site-packages/numpy/core/_methods.py:246: RuntimeWarning: overflow encountered in reduce\n",
            "  ret = umr_sum(x, axis, dtype, out, keepdims=keepdims, where=where)\n"
          ]
        }
      ],
      "source": [
        "box_cox = PowerTransformer(method = 'box-cox')\n",
        " \n",
        "data_box_cox = box_cox.fit_transform(data[['price', 'year']].values)\n",
        "data_box_cox = pd.DataFrame(data_box_cox, columns = ['transformed_price', 'transformed_year'])"
      ]
    },
    {
      "cell_type": "code",
      "execution_count": 16,
      "metadata": {
        "colab": {
          "base_uri": "https://localhost:8080/",
          "height": 540
        },
        "id": "ekuFPLRLj6zY",
        "outputId": "d8e85fd5-e739-4158-d118-0030eea563ff"
      },
      "outputs": [
        {
          "data": {
            "image/png": "[encoded data removed]",
            "text/plain": [
              "<Figure size 576x576 with 4 Axes>"
            ]
          },
          "metadata": {
            "needs_background": "light"
          },
          "output_type": "display_data"
        }
      ],
      "source": [
        "fig, axs = plt.subplots(2, 2, figsize=(8, 8), sharey=True)\n",
        "axs[0][0].hist(data['price'])\n",
        "axs[1][0].hist(data['year'])\n",
        "axs[0][1].hist(data_box_cox['transformed_price'])\n",
        "axs[1][1].hist(data_box_cox['transformed_year'])\n",
        "\n",
        "axs[0][0].set(title='price')\n",
        "axs[0][1].set(title='box cox price')\n",
        "\n",
        "axs[1][0].set(title='year')\n",
        "axs[1][1].set(title='box cox year')\n",
        "\n",
        "fig.suptitle('Сравнение распределений до трансформации и после')\n",
        "\n",
        "plt.show()"
      ]
    }
  ],
  "metadata": {
    "colab": {
      "collapsed_sections": [],
      "name": "Трансформации_распределений_признаков.ipynb",
      "provenance": []
    },
    "interpreter": {
      "hash": "aee8b7b246df8f9039afb4144a1f6fd8d2ca17a180786b69acc140d282b71a49"
    },
    "kernelspec": {
      "display_name": "Python 3.10.3 64-bit",
      "language": "python",
      "name": "python3"
    },
    "language_info": {
      "codemirror_mode": {
        "name": "ipython",
        "version": 3
      },
      "file_extension": ".py",
      "mimetype": "text/x-python",
      "name": "python",
      "nbconvert_exporter": "python",
      "pygments_lexer": "ipython3",
      "version": "3.10.3"
    }
  },
  "nbformat": 4,
  "nbformat_minor": 0
}
