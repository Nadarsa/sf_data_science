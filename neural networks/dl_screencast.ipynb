{
  "cells": [
    {
      "cell_type": "markdown",
      "metadata": {
        "colab_type": "text",
        "id": "Wp8WHGm64-K_"
      },
      "source": [
        "# TF в Colab"
      ]
    },
    {
      "cell_type": "code",
      "execution_count": 2,
      "metadata": {
        "colab": {},
        "colab_type": "code",
        "id": "gRO7QfGp4t-R"
      },
      "outputs": [],
      "source": [
        "%config IPCompleter.greedy=True  # более лучший автокомплит"
      ]
    },
    {
      "cell_type": "code",
      "execution_count": 1,
      "metadata": {
        "colab": {
          "base_uri": "https://localhost:8080/",
          "height": 34
        },
        "colab_type": "code",
        "id": "rLn9z0wH4t-V",
        "outputId": "c02cf6e8-5556-4eb0-cce6-4fc674b92325"
      },
      "outputs": [
        {
          "name": "stdout",
          "output_type": "stream",
          "text": [
            "2.13.0\n"
          ]
        }
      ],
      "source": [
        "import tensorflow.compat.v1 as tf\n",
        "import numpy as np\n",
        "print(tf.__version__)"
      ]
    },
    {
      "cell_type": "code",
      "execution_count": 5,
      "metadata": {
        "colab": {
          "base_uri": "https://localhost:8080/",
          "height": 88
        },
        "colab_type": "code",
        "id": "P4QBlx_l4t-Z",
        "outputId": "2bad5cd3-1e9f-4fc6-9e05-c4d294e6cab9"
      },
      "outputs": [],
      "source": [
        "tf.reset_default_graph()\n",
        "tf.compat.v1.disable_eager_execution()\n",
        "a = tf.placeholder(tf.float32, (2, 2))\n",
        "b = tf.Variable(tf.ones((2, 2)))\n",
        "c = a @ b"
      ]
    },
    {
      "cell_type": "code",
      "execution_count": 4,
      "metadata": {
        "colab": {
          "base_uri": "https://localhost:8080/",
          "height": 34
        },
        "colab_type": "code",
        "id": "hUr9Z1wC4t-b",
        "outputId": "347c70cc-a25e-4f1b-dd0e-2eb0ec226890"
      },
      "outputs": [
        {
          "name": "stdout",
          "output_type": "stream",
          "text": [
            "Tensor(\"matmul:0\", shape=(2, 2), dtype=float32)\n"
          ]
        }
      ],
      "source": [
        "print(c)"
      ]
    },
    {
      "cell_type": "code",
      "execution_count": 5,
      "metadata": {
        "colab": {
          "base_uri": "https://localhost:8080/",
          "height": 51
        },
        "colab_type": "code",
        "id": "P23DN_wp_Efz",
        "outputId": "2585c54c-2b33-4e94-bfe1-fd2c08c174ee"
      },
      "outputs": [
        {
          "name": "stdout",
          "output_type": "stream",
          "text": [
            "[<tf.Tensor 'Placeholder:0' shape=(2, 2) dtype=float32>, <tf.Tensor 'Variable/read:0' shape=(2, 2) dtype=float32>]\n",
            "[<tf.Tensor 'matmul:0' shape=(2, 2) dtype=float32>]\n"
          ]
        }
      ],
      "source": [
        "print(list(tf.get_default_graph().get_operations()[-1].inputs))\n",
        "print(list(tf.get_default_graph().get_operations()[-1].outputs))"
      ]
    },
    {
      "cell_type": "code",
      "execution_count": null,
      "metadata": {
        "colab": {},
        "colab_type": "code",
        "id": "SCpoFKcE4t-f"
      },
      "outputs": [],
      "source": [
        "s = tf.InteractiveSession()"
      ]
    },
    {
      "cell_type": "code",
      "execution_count": 12,
      "metadata": {
        "colab": {
          "base_uri": "https://localhost:8080/",
          "height": 51
        },
        "colab_type": "code",
        "id": "WLnkEvOD4t-j",
        "outputId": "59642ad9-9651-4a31-e601-04c9633107a6"
      },
      "outputs": [
        {
          "data": {
            "text/plain": [
              "array([[2., 2.],\n",
              "       [2., 2.]], dtype=float32)"
            ]
          },
          "execution_count": 12,
          "metadata": {
            "tags": []
          },
          "output_type": "execute_result"
        }
      ],
      "source": [
        "s.run(tf.global_variables_initializer())\n",
        "s.run(c, feed_dict={a: np.ones((2, 2))})"
      ]
    },
    {
      "cell_type": "code",
      "execution_count": null,
      "metadata": {
        "colab": {},
        "colab_type": "code",
        "id": "tuK_53xo4t-m"
      },
      "outputs": [],
      "source": [
        "s.close()"
      ]
    },
    {
      "cell_type": "markdown",
      "metadata": {
        "colab_type": "text",
        "id": "UQSGgDQL4t-q"
      },
      "source": [
        "# Оптимизация"
      ]
    },
    {
      "cell_type": "code",
      "execution_count": null,
      "metadata": {
        "colab": {},
        "colab_type": "code",
        "id": "1VUtdayQ4t-q"
      },
      "outputs": [],
      "source": [
        "tf.reset_default_graph()\n",
        "x = tf.get_variable(\"x\", shape=(), dtype=tf.float32, trainable=True)\n",
        "f = x ** 2"
      ]
    },
    {
      "cell_type": "code",
      "execution_count": null,
      "metadata": {
        "colab": {},
        "colab_type": "code",
        "id": "oO9CSWfr4t-t"
      },
      "outputs": [],
      "source": [
        "optimizer = tf.train.GradientDescentOptimizer(0.1)\n",
        "step = optimizer.minimize(f, var_list=[x])"
      ]
    },
    {
      "cell_type": "code",
      "execution_count": 17,
      "metadata": {
        "colab": {
          "base_uri": "https://localhost:8080/",
          "height": 34
        },
        "colab_type": "code",
        "id": "KZOrrhyA4t-w",
        "outputId": "a22ba0c1-1127-4755-d752-8cbce875e8db"
      },
      "outputs": [
        {
          "data": {
            "text/plain": [
              "[<tf.Variable 'x:0' shape=() dtype=float32_ref>]"
            ]
          },
          "execution_count": 17,
          "metadata": {
            "tags": []
          },
          "output_type": "execute_result"
        }
      ],
      "source": [
        "tf.trainable_variables()"
      ]
    },
    {
      "cell_type": "code",
      "execution_count": 18,
      "metadata": {
        "colab": {
          "base_uri": "https://localhost:8080/",
          "height": 187
        },
        "colab_type": "code",
        "id": "gtNrbzDR4t-4",
        "outputId": "09bb9315-868b-43f0-b168-e4be5325219b"
      },
      "outputs": [
        {
          "name": "stdout",
          "output_type": "stream",
          "text": [
            "-0.5737303 0.5143226\n",
            "-0.45898423 0.32916644\n",
            "-0.36718738 0.21066652\n",
            "-0.2937499 0.13482657\n",
            "-0.23499992 0.086289\n",
            "-0.18799993 0.055224966\n",
            "-0.15039995 0.035343975\n",
            "-0.12031996 0.022620145\n",
            "-0.09625597 0.0144768935\n",
            "-0.077004775 0.009265212\n"
          ]
        }
      ],
      "source": [
        "with tf.Session() as s:  # сессия сама закроется\n",
        "    s.run(tf.global_variables_initializer())\n",
        "    for i in range(10):\n",
        "        _, curr_x, curr_f = s.run([step, x, f])\n",
        "        print(curr_x, curr_f)"
      ]
    },
    {
      "cell_type": "markdown",
      "metadata": {
        "colab_type": "text",
        "id": "Fw_F68_34t_T"
      },
      "source": [
        "# TensorBoard логирование"
      ]
    },
    {
      "cell_type": "code",
      "execution_count": null,
      "metadata": {
        "colab": {},
        "colab_type": "code",
        "id": "SDAJKlYL4t_U"
      },
      "outputs": [],
      "source": [
        "tf.reset_default_graph()\n",
        "x = tf.get_variable(\"x\", shape=(), dtype=tf.float32)\n",
        "f = x ** 2"
      ]
    },
    {
      "cell_type": "code",
      "execution_count": null,
      "metadata": {
        "colab": {},
        "colab_type": "code",
        "id": "OJ1n-qks4t_Z"
      },
      "outputs": [],
      "source": [
        "optimizer = tf.train.GradientDescentOptimizer(0.1)\n",
        "step = optimizer.minimize(f)"
      ]
    },
    {
      "cell_type": "code",
      "execution_count": null,
      "metadata": {
        "colab": {},
        "colab_type": "code",
        "id": "vemZEd5R4t_f"
      },
      "outputs": [],
      "source": [
        "tf.summary.scalar('curr_x', x)\n",
        "tf.summary.scalar('curr_f', f)\n",
        "summaries = tf.summary.merge_all()"
      ]
    },
    {
      "cell_type": "code",
      "execution_count": null,
      "metadata": {
        "colab": {},
        "colab_type": "code",
        "id": "UYPtORji4t_i"
      },
      "outputs": [],
      "source": [
        "with tf.Session() as s:\n",
        "  summary_writer = tf.summary.FileWriter(\"logs/1\", s.graph)\n",
        "  s.run(tf.global_variables_initializer())\n",
        "  for i in range(10):\n",
        "      _, curr_summaries = s.run([step, summaries])\n",
        "      summary_writer.add_summary(curr_summaries, i)\n",
        "      summary_writer.flush()"
      ]
    },
    {
      "cell_type": "markdown",
      "metadata": {
        "colab_type": "text",
        "id": "MxrA13Mm4t_m"
      },
      "source": [
        "Локально можно запустить  `tensorboard --logdir=./logs` в консоли.\n",
        "\n",
        "А вот так можно запустить прямо в Google Colab:"
      ]
    },
    {
      "cell_type": "code",
      "execution_count": null,
      "metadata": {
        "colab": {},
        "colab_type": "code",
        "id": "SECWjGyg4t_m"
      },
      "outputs": [],
      "source": [
        "! wget https://raw.githubusercontent.com/ZEMUSHKA/skillfactory-dl/master/setup_google_colab.py -O setup_google_colab.py -q\n",
        "import setup_google_colab\n",
        "\n",
        "# запускаем сервер tensorboard в фоне\n",
        "import os\n",
        "os.system(\"tensorboard --logdir=./logs --host 0.0.0.0 --port 6006 &\")\n",
        "\n",
        "# открываем порт из Google Colab\n",
        "setup_google_colab.expose_port_on_colab(6006)"
      ]
    },
    {
      "cell_type": "markdown",
      "metadata": {
        "colab_type": "text",
        "id": "eNXcol8w4t_q"
      },
      "source": [
        "# Обучение линейной модели"
      ]
    },
    {
      "cell_type": "code",
      "execution_count": 93,
      "metadata": {
        "colab": {
          "base_uri": "https://localhost:8080/",
          "height": 51
        },
        "colab_type": "code",
        "id": "_Z1KdRW14t_r",
        "outputId": "eb3c048e-f81d-4f70-8b24-52eccb7eb28c"
      },
      "outputs": [
        {
          "name": "stdout",
          "output_type": "stream",
          "text": [
            "(1000, 3) (1000, 1)\n",
            "[[0.58814689 0.78643231 0.79772526]]\n"
          ]
        }
      ],
      "source": [
        "# модельные данные\n",
        "N = 1000\n",
        "D = 3\n",
        "x = np.random.random((N, D))\n",
        "w = np.random.random((D, 1))\n",
        "y = x @ w + np.random.randn(N, 1) * 0.20\n",
        "\n",
        "print(x.shape, y.shape)\n",
        "print(w.T)"
      ]
    },
    {
      "cell_type": "code",
      "execution_count": 94,
      "metadata": {
        "colab": {
          "base_uri": "https://localhost:8080/",
          "height": 34
        },
        "colab_type": "code",
        "id": "HxC5KVBX4t_t",
        "outputId": "32988129-469f-4cd6-f659-4a5ace7d808e"
      },
      "outputs": [
        {
          "name": "stdout",
          "output_type": "stream",
          "text": [
            "(?, 1) (?, 1) ()\n"
          ]
        }
      ],
      "source": [
        "tf.reset_default_graph()\n",
        "\n",
        "features = tf.placeholder(tf.float32, shape=(None, D), name=\"features\")\n",
        "target = tf.placeholder(tf.float32, shape=(None, 1), name=\"target\")\n",
        "\n",
        "weights = tf.get_variable(\"weights\", shape=(D, 1), dtype=tf.float32)\n",
        "predictions = features @ weights\n",
        "\n",
        "\n",
        "loss = tf.reduce_mean((target - predictions) ** 2, name=\"loss\")\n",
        "\n",
        "print(target.shape, predictions.shape, loss.shape)"
      ]
    },
    {
      "cell_type": "code",
      "execution_count": null,
      "metadata": {
        "colab": {},
        "colab_type": "code",
        "id": "Kq76NAMF4t_7"
      },
      "outputs": [],
      "source": [
        "optimizer = tf.train.GradientDescentOptimizer(0.1)\n",
        "step = optimizer.minimize(loss)"
      ]
    },
    {
      "cell_type": "code",
      "execution_count": null,
      "metadata": {
        "colab": {},
        "colab_type": "code",
        "id": "73GCLl0gHTLZ"
      },
      "outputs": [],
      "source": [
        "# производные это часть графа\n",
        "tf.get_default_graph().get_operations()"
      ]
    },
    {
      "cell_type": "code",
      "execution_count": 36,
      "metadata": {
        "colab": {
          "base_uri": "https://localhost:8080/",
          "height": 119
        },
        "colab_type": "code",
        "id": "14EQwS8g4t_8",
        "outputId": "20bd6dd0-aa94-4b7d-95fe-b4ca7ba44492",
        "scrolled": true
      },
      "outputs": [
        {
          "name": "stdout",
          "output_type": "stream",
          "text": [
            "1.9895532\n",
            "0.06145981\n",
            "0.046104774\n",
            "0.0433546\n",
            "0.042860366\n",
            "0.04277123\n"
          ]
        }
      ],
      "source": [
        "with tf.Session() as s:\n",
        "    s.run(tf.global_variables_initializer())\n",
        "    for i in range(300):\n",
        "        _, curr_loss, curr_weights = s.run([step, loss, weights], \n",
        "                                           feed_dict={features: x, target: y})\n",
        "        if i % 50 == 0:\n",
        "            print(curr_loss)"
      ]
    },
    {
      "cell_type": "code",
      "execution_count": 37,
      "metadata": {
        "colab": {
          "base_uri": "https://localhost:8080/",
          "height": 34
        },
        "colab_type": "code",
        "id": "Le4UwJw14uAA",
        "outputId": "712fac2c-3bde-49ce-c289-a9e223f6bd8c"
      },
      "outputs": [
        {
          "data": {
            "text/plain": [
              "array([[0.79846495, 0.57642007, 0.56647074]], dtype=float32)"
            ]
          },
          "execution_count": 37,
          "metadata": {
            "tags": []
          },
          "output_type": "execute_result"
        }
      ],
      "source": [
        "# результат обучения\n",
        "curr_weights.T"
      ]
    },
    {
      "cell_type": "code",
      "execution_count": 38,
      "metadata": {
        "colab": {
          "base_uri": "https://localhost:8080/",
          "height": 34
        },
        "colab_type": "code",
        "id": "8cqImP2P4uAF",
        "outputId": "bd9d7ad3-8b42-4edd-85b2-a4d5041cdf66"
      },
      "outputs": [
        {
          "data": {
            "text/plain": [
              "array([[0.7692187 , 0.59123648, 0.56121469]])"
            ]
          },
          "execution_count": 38,
          "metadata": {
            "tags": []
          },
          "output_type": "execute_result"
        }
      ],
      "source": [
        "# правильные веса\n",
        "w.T"
      ]
    },
    {
      "cell_type": "markdown",
      "metadata": {
        "colab_type": "text",
        "id": "yvG2r5miBCLF"
      },
      "source": [
        "# Обучение в Keras"
      ]
    },
    {
      "cell_type": "code",
      "execution_count": 41,
      "metadata": {
        "colab": {
          "base_uri": "https://localhost:8080/",
          "height": 34
        },
        "colab_type": "code",
        "id": "p0c0fnlpBGCI",
        "outputId": "b140349b-867d-4aca-fc3d-ed1a19b1a572"
      },
      "outputs": [
        {
          "name": "stdout",
          "output_type": "stream",
          "text": [
            "2.2.4\n"
          ]
        }
      ],
      "source": [
        "import keras\n",
        "import keras.models as M\n",
        "import keras.layers as L\n",
        "import keras.backend as K\n",
        "print(keras.__version__)"
      ]
    },
    {
      "cell_type": "code",
      "execution_count": 85,
      "metadata": {
        "colab": {
          "base_uri": "https://localhost:8080/",
          "height": 170
        },
        "colab_type": "code",
        "id": "egw2cWPnBab3",
        "outputId": "a558dc1a-20de-4835-aba0-7b67e5824dd0"
      },
      "outputs": [
        {
          "name": "stdout",
          "output_type": "stream",
          "text": [
            "_________________________________________________________________\n",
            "Layer (type)                 Output Shape              Param #   \n",
            "=================================================================\n",
            "dense_1 (Dense)              (None, 1)                 3         \n",
            "=================================================================\n",
            "Total params: 3\n",
            "Trainable params: 3\n",
            "Non-trainable params: 0\n",
            "_________________________________________________________________\n"
          ]
        }
      ],
      "source": [
        "K.clear_session()  # очищает граф и перезапускает сессию\n",
        "\n",
        "model = M.Sequential()\n",
        "model.add(L.Dense(1, use_bias=False, input_shape=(D,)))\n",
        "model.summary()"
      ]
    },
    {
      "cell_type": "code",
      "execution_count": null,
      "metadata": {
        "colab": {},
        "colab_type": "code",
        "id": "65R7pZxJCCj9"
      },
      "outputs": [],
      "source": [
        "model.compile(optimizer='sgd', loss='mse', metrics=['mse'])"
      ]
    },
    {
      "cell_type": "code",
      "execution_count": 87,
      "metadata": {
        "colab": {
          "base_uri": "https://localhost:8080/",
          "height": 374
        },
        "colab_type": "code",
        "id": "6dykIkErCbQN",
        "outputId": "f5f6396e-a100-41b2-d815-a8ca8c547287"
      },
      "outputs": [
        {
          "name": "stdout",
          "output_type": "stream",
          "text": [
            "Epoch 1/10\n",
            "1000/1000 [==============================] - 0s 121us/step - loss: 1.4677 - mean_squared_error: 1.4677\n",
            "Epoch 2/10\n",
            "1000/1000 [==============================] - 0s 90us/step - loss: 0.0819 - mean_squared_error: 0.0819\n",
            "Epoch 3/10\n",
            "1000/1000 [==============================] - 0s 92us/step - loss: 0.0521 - mean_squared_error: 0.0521\n",
            "Epoch 4/10\n",
            "1000/1000 [==============================] - 0s 88us/step - loss: 0.0488 - mean_squared_error: 0.0488\n",
            "Epoch 5/10\n",
            "1000/1000 [==============================] - 0s 113us/step - loss: 0.0467 - mean_squared_error: 0.0467\n",
            "Epoch 6/10\n",
            "1000/1000 [==============================] - 0s 87us/step - loss: 0.0454 - mean_squared_error: 0.0454\n",
            "Epoch 7/10\n",
            "1000/1000 [==============================] - 0s 91us/step - loss: 0.0445 - mean_squared_error: 0.0445\n",
            "Epoch 8/10\n",
            "1000/1000 [==============================] - 0s 87us/step - loss: 0.0439 - mean_squared_error: 0.0439\n",
            "Epoch 9/10\n",
            "1000/1000 [==============================] - 0s 89us/step - loss: 0.0435 - mean_squared_error: 0.0435\n",
            "Epoch 10/10\n",
            "1000/1000 [==============================] - 0s 91us/step - loss: 0.0433 - mean_squared_error: 0.0433\n"
          ]
        },
        {
          "data": {
            "text/plain": [
              "<keras.callbacks.History at 0x7f1dae4bf080>"
            ]
          },
          "execution_count": 87,
          "metadata": {
            "tags": []
          },
          "output_type": "execute_result"
        }
      ],
      "source": [
        "model.fit(x, y, batch_size=8, epochs=10, callbacks=[keras.callbacks.TensorBoard(\"./logs/keras\")])"
      ]
    },
    {
      "cell_type": "code",
      "execution_count": 88,
      "metadata": {
        "colab": {
          "base_uri": "https://localhost:8080/",
          "height": 68
        },
        "colab_type": "code",
        "id": "aUS7jvpWCpmY",
        "outputId": "66a7a84f-6e74-40c8-9391-d4fa45a2a58a"
      },
      "outputs": [
        {
          "data": {
            "text/plain": [
              "[array([[0.757604 ],\n",
              "        [0.6322889],\n",
              "        [0.5464471]], dtype=float32)]"
            ]
          },
          "execution_count": 88,
          "metadata": {
            "tags": []
          },
          "output_type": "execute_result"
        }
      ],
      "source": [
        "s = K.get_session()\n",
        "s.run(model.weights)"
      ]
    }
  ],
  "metadata": {
    "colab": {
      "collapsed_sections": [],
      "name": "skillfactory-2-screencast.ipynb",
      "provenance": [],
      "version": "0.3.2"
    },
    "kernelspec": {
      "display_name": "Python 3",
      "language": "python",
      "name": "python3"
    },
    "language_info": {
      "codemirror_mode": {
        "name": "ipython",
        "version": 3
      },
      "file_extension": ".py",
      "mimetype": "text/x-python",
      "name": "python",
      "nbconvert_exporter": "python",
      "pygments_lexer": "ipython3",
      "version": "3.10.9"
    }
  },
  "nbformat": 4,
  "nbformat_minor": 0
}
