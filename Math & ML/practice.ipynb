{
 "cells": [
  {
   "cell_type": "markdown",
   "metadata": {},
   "source": [
    "### MATH&ML-4. Математический анализ в контексте задачи оптимизации. Часть I\n",
    "### 2. Множества. Операции над множествами"
   ]
  },
  {
   "cell_type": "code",
   "execution_count": null,
   "metadata": {},
   "outputs": [],
   "source": [
    "import numpy as np"
   ]
  },
  {
   "cell_type": "code",
   "execution_count": null,
   "metadata": {},
   "outputs": [],
   "source": [
    "A = {'ID453', 'ID312', 'ID41', 'ID3', 'ID500', 'ID920', 'ID36', 'ID27'}\n",
    "B = {'ID41', 'ID36', 'ID27', 'ID124', 'ID7', 'ID501', 'ID91' }"
   ]
  },
  {
   "cell_type": "code",
   "execution_count": null,
   "metadata": {},
   "outputs": [],
   "source": [
    "union_AB = A.union(B)\n",
    "print(union_AB)\n",
    "\n",
    "union_AB = A | B\n",
    "print(union_AB)\n",
    "\n",
    "inter_AB = A.intersection(B)\n",
    "print(inter_AB)\n",
    "\n",
    "inter_AB = A & B\n",
    "print(inter_AB)\n",
    "\n",
    "diff_AB = A.difference(B)\n",
    "print(diff_AB)\n",
    "\n",
    "diff_AB = A - B\n",
    "print(diff_AB)\n",
    "\n",
    "symmAB = A.symmetric_difference(B)\n",
    "print(symmAB)\n",
    "\n",
    "symmAB = A ^ B\n",
    "print(symmAB)"
   ]
  },
  {
   "cell_type": "code",
   "execution_count": null,
   "metadata": {},
   "outputs": [],
   "source": [
    "import sympy \n",
    "from sympy import FiniteSet, Union\n",
    "l1 = [1, 3, 7, 10] \n",
    "l2 = [9, 7, 1] \n",
    "a = FiniteSet(*l1) \n",
    "b = FiniteSet(*l2) \n",
    "Union(a, b)"
   ]
  },
  {
   "cell_type": "code",
   "execution_count": null,
   "metadata": {},
   "outputs": [],
   "source": [
    "from sympy import ConditionSet, Eq, Symbol, Interval\n",
    "x=Symbol('x')\n",
    "s=ConditionSet(x, Eq(x**2-5*x,0), Interval(2,9))\n",
    "s"
   ]
  },
  {
   "cell_type": "markdown",
   "metadata": {},
   "source": [
    "ЗАДАНИЯ 2.6-2.8"
   ]
  },
  {
   "cell_type": "code",
   "execution_count": null,
   "metadata": {},
   "outputs": [],
   "source": [
    "prog = {'bennet@xyz.com', 'darcy@abc.com', 'margaret@xyz.com', 'pa@hhh.com', 'marimari@xyz.com', 'mallika@yahoo.com', 'abc@xyz.com', '0071235@gmail.ru'}\n",
    "ml = {'marimari@xyz.com', 'darcy@abc.com', '0071235@gmail.ru', 'darcy@abc.com', 'petr44@xyz.com', 'katrin@ya.com'}\n",
    "\n",
    "both_vebinars = prog.intersection(ml)\n",
    "print(len(both_vebinars))\n",
    "\n",
    "all_vebinars = prog.union(ml)\n",
    "print(len(all_vebinars))\n",
    "\n",
    "one_vebinar = prog.symmetric_difference(ml)\n",
    "print(len(one_vebinar))"
   ]
  },
  {
   "cell_type": "markdown",
   "metadata": {},
   "source": [
    "### MATH&ML-4. Математический анализ в контексте задачи оптимизации. Часть I\n",
    "### 4. Исследование функции"
   ]
  },
  {
   "cell_type": "code",
   "execution_count": null,
   "metadata": {},
   "outputs": [],
   "source": [
    "from sympy import Symbol, S #импортируем нужные функции для обозначения переменных\n",
    "from sympy.calculus.util import continuous_domain #импортируем функцию для поиска области определения\n",
    "x = Symbol(\"x\") #определяем нашу переменную\n",
    "f = 1/x #определяем нашу функцию\n",
    "continuous_domain(f, x, S.Reals) #вычисляем область определения"
   ]
  },
  {
   "cell_type": "code",
   "execution_count": null,
   "metadata": {},
   "outputs": [],
   "source": [
    "from sympy import log\n",
    "x = Symbol(\"x\")\n",
    "f = log(x)/x\n",
    "continuous_domain(f, x, S.Reals)"
   ]
  },
  {
   "cell_type": "code",
   "execution_count": null,
   "metadata": {},
   "outputs": [],
   "source": [
    "from sympy.calculus.util import function_range\n",
    "from sympy import Symbol, S, sin\n",
    "x = Symbol(\"x\")\n",
    "f = sin(x)\n",
    "function_range(f, x, S.Reals)"
   ]
  },
  {
   "cell_type": "code",
   "execution_count": null,
   "metadata": {},
   "outputs": [],
   "source": [
    "from sympy import Symbol, S #импортируем нужные функции для обозначения переменных\n",
    "from sympy.calculus.util import function_range #импортируем функцию для поиска области значений\n",
    "from sympy import exp #добавляем функцию для вычисления экспоненциальной функции\n",
    "x = Symbol(\"x\")\n",
    "f = (x*x-3)/(exp(x))\n",
    "function_range(f, x, S.Reals)"
   ]
  },
  {
   "cell_type": "code",
   "execution_count": null,
   "metadata": {},
   "outputs": [],
   "source": [
    "x = Symbol(\"x\")\n",
    "f = x*x+5*x+4\n",
    "f.subs(x, 0)"
   ]
  },
  {
   "cell_type": "code",
   "execution_count": null,
   "metadata": {},
   "outputs": [],
   "source": [
    "from sympy import solveset, Eq\n",
    "solveset(Eq(x*x+5*x+4, 0), x)"
   ]
  },
  {
   "cell_type": "code",
   "execution_count": null,
   "metadata": {},
   "outputs": [],
   "source": [
    "from sympy import Symbol, S, solveset, Eq\n",
    "from sympy.calculus.util import continuous_domain, function_range\n",
    "\n",
    "x = Symbol('x')\n",
    "f = x*x+1\n",
    "print(continuous_domain(f, x, S.Reals))\n",
    "print(function_range(f, x, S.Reals))\n",
    "\n",
    "f = x*x + 2*x - 8\n",
    "print(f.subs(x, 0))\n",
    "print(solveset(Eq(f, 0)))\n",
    "\n",
    "f = 3 / (x*x - 10)\n",
    "print(function_range(f, x, S.Reals))"
   ]
  },
  {
   "cell_type": "markdown",
   "metadata": {},
   "source": [
    "### MATH&ML-4. Математический анализ в контексте задачи оптимизации. Часть I\n",
    "### 5. Производная"
   ]
  },
  {
   "cell_type": "markdown",
   "metadata": {},
   "source": [
    "### MATH&ML-4. Математический анализ в контексте задачи оптимизации. Часть I\n",
    "### 6. Вычисление производных"
   ]
  },
  {
   "cell_type": "code",
   "execution_count": null,
   "metadata": {},
   "outputs": [],
   "source": [
    "import sympy\n",
    "x = sympy.Symbol(\"x\")\n",
    "expr = x**4 + 3*x**3 + 4*x**2 + 8\n",
    "expr.diff(x)"
   ]
  },
  {
   "cell_type": "code",
   "execution_count": null,
   "metadata": {},
   "outputs": [],
   "source": [
    "import sympy\n",
    "from sympy import diff, sin, exp, log, Symbol\n",
    "x = sympy.Symbol(\"x\")\n",
    "expr = log(x**2 + 5*x) + exp(sin(x))\n",
    "expr.diff(x)"
   ]
  },
  {
   "cell_type": "code",
   "execution_count": null,
   "metadata": {},
   "outputs": [],
   "source": [
    "import sympy\n",
    "from sympy import diff, sin, exp, log, Symbol\n",
    "x = Symbol('x')\n",
    "f = sin(x*3 + log(x)) * exp((x))\n",
    "f.diff(x)"
   ]
  },
  {
   "cell_type": "code",
   "execution_count": null,
   "metadata": {},
   "outputs": [],
   "source": [
    "import sympy\n",
    "from sympy import diff, sin, exp, log, Symbol\n",
    "x = sympy.Symbol(\"x\")\n",
    "expr = log(x**2 + 5*x) + exp(sin(x))\n",
    "expr.diff(x,2)"
   ]
  },
  {
   "cell_type": "code",
   "execution_count": null,
   "metadata": {},
   "outputs": [],
   "source": [
    "import sympy\n",
    "from sympy import Symbol, diff, exp, log, sin, cos\n",
    "\n",
    "x = Symbol('x')\n",
    "f = (2*x + 1)**2\n",
    "f.diff(x)\n",
    "\n",
    "f = 2*(x)**2 + 1\n",
    "f.diff(x)\n",
    "\n",
    "f = log(5*x + 3)\n",
    "f.diff(x)\n",
    "\n",
    "f = sin(3*x)**2\n",
    "f.diff(x)\n",
    "\n",
    "f = 2*(x)**3 * log(x)\n",
    "f.diff(x)\n",
    "\n",
    "f = x / (x**2 + 1)\n",
    "f.diff(x)\n",
    "\n",
    "f = (1 + x**2)**(1/2)\n",
    "f.diff(x)\n",
    "\n",
    "f = x**4 + 5*x\n",
    "f.diff(x,2)\n",
    "\n",
    "f = ((x)**3 / 4) - 3*x\n",
    "f.diff(x,2)"
   ]
  },
  {
   "cell_type": "markdown",
   "metadata": {},
   "source": [
    "### MATH&ML-4. Математический анализ в контексте задачи оптимизации. Часть I\n",
    "### 8. Практика: исследование функции с помощью производных"
   ]
  },
  {
   "cell_type": "markdown",
   "metadata": {},
   "source": [
    "ОБЛАСТЬ ОПРЕДЕЛЕНИЯ"
   ]
  },
  {
   "cell_type": "code",
   "execution_count": null,
   "metadata": {},
   "outputs": [],
   "source": [
    "from sympy import Symbol, S\n",
    "from sympy.calculus.util import continuous_domain \n",
    "x = Symbol(\"x\") \n",
    "f = (x**3)/(x**2-1) \n",
    "continuous_domain(f, x, S.Reals)"
   ]
  },
  {
   "cell_type": "markdown",
   "metadata": {},
   "source": [
    "ОБЛАСТЬ ЗНАЧЕНИЙ ФУНКЦИИ"
   ]
  },
  {
   "cell_type": "code",
   "execution_count": null,
   "metadata": {},
   "outputs": [],
   "source": [
    "from sympy import Symbol, S\n",
    "from sympy.calculus.util import function_range\n",
    "x = Symbol(\"x\") \n",
    "f = (x**3)/(x**2-1) \n",
    "function_range(f, x, S.Reals)"
   ]
  },
  {
   "cell_type": "markdown",
   "metadata": {},
   "source": [
    "ТОЧКИ ПЕРЕСЕЧЕНИЯ С ОСЯМИ КООРДИНАТ"
   ]
  },
  {
   "cell_type": "code",
   "execution_count": null,
   "metadata": {},
   "outputs": [],
   "source": [
    "from sympy import solveset, Eq\n",
    "f = (x**3)/(x**2-1) \n",
    "solveset(Eq(f, 0), x)"
   ]
  },
  {
   "cell_type": "code",
   "execution_count": null,
   "metadata": {},
   "outputs": [],
   "source": [
    "x = Symbol(\"x\")\n",
    "f = (x**3)/(x**2-1)\n",
    "f.subs(x, 0)"
   ]
  },
  {
   "cell_type": "markdown",
   "metadata": {},
   "source": [
    "НАХОЖДЕНИЕ ТОЧЕК ЭКСТРЕМУМА, ОБЛАСТЕЙ ВОЗРАСТАНИЯ И УБЫВАНИЯ"
   ]
  },
  {
   "cell_type": "code",
   "execution_count": null,
   "metadata": {},
   "outputs": [],
   "source": [
    "import sympy\n",
    "from sympy import diff\n",
    "x = sympy.Symbol(\"x\")\n",
    "expr = (x**3)/(x**2-1)\n",
    "expr.diff(x)"
   ]
  },
  {
   "cell_type": "code",
   "execution_count": null,
   "metadata": {},
   "outputs": [],
   "source": [
    "import sympy\n",
    "from sympy import diff\n",
    "x = sympy.Symbol(\"x\")\n",
    "expr = (x**3)/(x**2-1)\n",
    "expr.diff(x,2)"
   ]
  },
  {
   "cell_type": "markdown",
   "metadata": {},
   "source": [
    "НАХОЖДЕНИЕ АСИМПТОТ ГРАФИКА"
   ]
  },
  {
   "cell_type": "markdown",
   "metadata": {},
   "source": [
    "ГОРИЗОНТАЛЬНАЯ АСИМПТОТА"
   ]
  },
  {
   "cell_type": "code",
   "execution_count": null,
   "metadata": {},
   "outputs": [],
   "source": [
    "from sympy import Symbol, limit, oo\n",
    "x = Symbol(\"x\")\n",
    "f = (x**3)/(x**2-1)\n",
    "limit(f,x,oo)"
   ]
  },
  {
   "cell_type": "markdown",
   "metadata": {},
   "source": [
    "ВЕРТИКАЛЬНАЯ АСИМПТОТА"
   ]
  },
  {
   "cell_type": "code",
   "execution_count": null,
   "metadata": {},
   "outputs": [],
   "source": [
    "from sympy import Symbol, limit, oo\n",
    "x = Symbol(\"x\")\n",
    "f = (x**3)/(x**2-1)\n",
    "limit(f,x,1)"
   ]
  },
  {
   "cell_type": "code",
   "execution_count": null,
   "metadata": {},
   "outputs": [],
   "source": [
    "from sympy import Symbol, limit, oo\n",
    "x = Symbol(\"x\")\n",
    "f = (x**3)/(x**2-1)\n",
    "limit(f,x,-1)"
   ]
  },
  {
   "cell_type": "markdown",
   "metadata": {},
   "source": [
    "НАКЛОННАЯ АСИМПТОТА"
   ]
  },
  {
   "cell_type": "code",
   "execution_count": null,
   "metadata": {},
   "outputs": [],
   "source": [
    "from sympy import Symbol, limit, oo\n",
    "x = Symbol(\"x\")\n",
    "f = (x**3)/((x**2-1)*x)\n",
    "limit(f,x,oo)"
   ]
  },
  {
   "cell_type": "code",
   "execution_count": null,
   "metadata": {},
   "outputs": [],
   "source": [
    "from sympy import Symbol, limit, oo\n",
    "x = Symbol(\"x\")\n",
    "f = (x**3)/((x**2-1)) - 1*x\n",
    "limit(f,x,oo)"
   ]
  },
  {
   "cell_type": "markdown",
   "metadata": {},
   "source": [
    "### ЗАДАНИЯ 8.1-8.11"
   ]
  },
  {
   "cell_type": "code",
   "execution_count": null,
   "metadata": {},
   "outputs": [],
   "source": [
    "from sympy import Symbol, S, limit, oo, diff, solveset, Eq\n",
    "from sympy.calculus.util import continuous_domain, function_range\n",
    "\n",
    "x = Symbol('x')\n",
    "f = (x**3) / (2*(x+5)**2)"
   ]
  },
  {
   "cell_type": "code",
   "execution_count": null,
   "metadata": {},
   "outputs": [],
   "source": [
    "continuous_domain(f, x, S.Reals)"
   ]
  },
  {
   "cell_type": "code",
   "execution_count": null,
   "metadata": {},
   "outputs": [],
   "source": [
    "function_range(f,x, S.Reals)"
   ]
  },
  {
   "cell_type": "code",
   "execution_count": null,
   "metadata": {},
   "outputs": [],
   "source": [
    "solveset(Eq(f,0), x)"
   ]
  },
  {
   "cell_type": "code",
   "execution_count": null,
   "metadata": {},
   "outputs": [],
   "source": [
    "f.subs(x,0)"
   ]
  },
  {
   "cell_type": "code",
   "execution_count": null,
   "metadata": {},
   "outputs": [],
   "source": [
    "f.diff(x)"
   ]
  },
  {
   "cell_type": "code",
   "execution_count": null,
   "metadata": {},
   "outputs": [],
   "source": [
    "solveset(Eq(f.diff(x),0), x)"
   ]
  },
  {
   "cell_type": "code",
   "execution_count": null,
   "metadata": {},
   "outputs": [],
   "source": [
    "f.diff(x).subs(x, -20)"
   ]
  },
  {
   "cell_type": "code",
   "execution_count": null,
   "metadata": {},
   "outputs": [],
   "source": [
    "f.diff(x).subs(x, -10)"
   ]
  },
  {
   "cell_type": "code",
   "execution_count": null,
   "metadata": {},
   "outputs": [],
   "source": [
    "f.diff(x).subs(x, 1)"
   ]
  },
  {
   "cell_type": "code",
   "execution_count": null,
   "metadata": {},
   "outputs": [],
   "source": [
    "f.diff(x).subs(x, -4)"
   ]
  },
  {
   "cell_type": "code",
   "execution_count": null,
   "metadata": {},
   "outputs": [],
   "source": [
    "exp = f.diff(x, 2)\n",
    "exp"
   ]
  },
  {
   "cell_type": "code",
   "execution_count": null,
   "metadata": {},
   "outputs": [],
   "source": [
    "solveset(Eq(exp,0), x)"
   ]
  },
  {
   "cell_type": "code",
   "execution_count": null,
   "metadata": {},
   "outputs": [],
   "source": [
    "exp.subs(x, -3)"
   ]
  },
  {
   "cell_type": "code",
   "execution_count": null,
   "metadata": {},
   "outputs": [],
   "source": [
    "f = (-1) * x**3 + 3 * x**2 + 9\n",
    "exp = f.diff(x)\n",
    "solveset(Eq(exp, 0), x)"
   ]
  },
  {
   "cell_type": "code",
   "execution_count": null,
   "metadata": {},
   "outputs": [],
   "source": [
    "exp.subs(x, 3)"
   ]
  },
  {
   "cell_type": "code",
   "execution_count": null,
   "metadata": {},
   "outputs": [],
   "source": [
    "f = log(x) + x**3\n",
    "f.diff(x)"
   ]
  },
  {
   "cell_type": "code",
   "execution_count": null,
   "metadata": {},
   "outputs": [],
   "source": [
    "f = (-1) * (x**2 + 1) / x\n",
    "exp = f.diff(x)\n",
    "solveset(Eq(exp, 0), x)"
   ]
  },
  {
   "cell_type": "code",
   "execution_count": null,
   "metadata": {},
   "outputs": [],
   "source": [
    "exp.subs(x,-1/2)"
   ]
  },
  {
   "cell_type": "markdown",
   "metadata": {},
   "source": [
    "### MATH&ML-5. Математический анализ в контексте задачи оптимизации. Часть II\n",
    "### 1. Введение. Функции нескольких переменных"
   ]
  },
  {
   "cell_type": "code",
   "execution_count": null,
   "metadata": {},
   "outputs": [],
   "source": [
    "from sympy import symbols, cos, diff\n",
    "\n",
    "a, b, c = symbols('a b c', real=True)\n",
    "f = 5*a*b - a*cos(c) + a**2 + c**8*b\n",
    "\n",
    "print(diff(f, a))"
   ]
  },
  {
   "cell_type": "markdown",
   "metadata": {},
   "source": [
    "Решение системы уравнений"
   ]
  },
  {
   "cell_type": "code",
   "execution_count": null,
   "metadata": {},
   "outputs": [],
   "source": [
    "from sympy import *\n",
    " \n",
    "x, y = symbols('x, y')\n",
    "eq1 = Eq(3*x**2+3*y**2-15,0)\n",
    "eq2 = Eq(6*x*y-12, 0)\n",
    " \n",
    "sol = solve([eq1, eq2], [x, y])\n",
    "sol"
   ]
  },
  {
   "cell_type": "markdown",
   "metadata": {},
   "source": [
    "Задание 3.4"
   ]
  },
  {
   "cell_type": "code",
   "execution_count": null,
   "metadata": {},
   "outputs": [],
   "source": [
    "x, y = symbols('x, y')\n",
    "f = 4*x**2 - 6*x*y - 34*x + 5*y**2 + 42*y + 7\n",
    "eq_x = diff(f, x)\n",
    "eq_y = diff(f, y)\n",
    "print(eq_x)\n",
    "print(eq_y)\n",
    "\n",
    "eq_x = Eq(eq_x, 0)\n",
    "eq_y = Eq(eq_y, 0)\n",
    "\n",
    "sol = solve([eq_x, eq_y], [x, y])\n",
    "sol"
   ]
  },
  {
   "cell_type": "markdown",
   "metadata": {},
   "source": [
    "### MATH&ML-5. Математический анализ в контексте задачи оптимизации. Часть II"
   ]
  },
  {
   "cell_type": "markdown",
   "metadata": {},
   "source": [
    "#### 4. Введение в оптимизацию"
   ]
  },
  {
   "cell_type": "code",
   "execution_count": null,
   "metadata": {},
   "outputs": [],
   "source": [
    "import numpy as np\n",
    " \n",
    "def func_rosen(x):\n",
    "    r = np.sum(100*(x[1:]-x[:-1]**2)**2 + (1-x[:-1])**2, axis=0)\n",
    "    return r"
   ]
  },
  {
   "cell_type": "code",
   "execution_count": null,
   "metadata": {},
   "outputs": [],
   "source": [
    "import matplotlib.pyplot as plt\n",
    "\n",
    "graph = plt.figure(figsize=[25, 15])\n",
    "ax = graph.gca(projection='3d')\n",
    "ax.view_init(45, 30)\n",
    "x1 = np.arange(-3, 3, 0.2)\n",
    "x2 = np.arange(-2, 4, 0.2)\n",
    "x1, x2 = np.meshgrid(x1, x2)\n",
    "y = func_rosen(np.array([x1,x2]))\n",
    "surf = ax.plot_surface(x1, x2, y)\n",
    "plt.show()"
   ]
  },
  {
   "cell_type": "code",
   "execution_count": null,
   "metadata": {},
   "outputs": [],
   "source": [
    "from scipy.optimize import minimize\n",
    "x0 = np.array([2.4, 1.5, 2.1, 0.7, 1.1])\n",
    "result_point = minimize(func_rosen, x0, method='powell')\n",
    "print(result_point.x)"
   ]
  },
  {
   "cell_type": "code",
   "execution_count": null,
   "metadata": {},
   "outputs": [],
   "source": [
    "from scipy.optimize import minimize \n",
    "x0 = np.array([2.4, 1.5, 2.1, 0.7, 1.1])\n",
    "result_point = minimize(func_rosen, x0, method = 'nelder-mead')\n",
    "print(result_point.x)"
   ]
  },
  {
   "cell_type": "code",
   "execution_count": null,
   "metadata": {},
   "outputs": [],
   "source": [
    "from scipy.optimize import least_squares \n",
    "x0 = np.array([2.4, 1.5, 2.1, 0.7, 1.1])\n",
    "result_point = least_squares(func_rosen, x0)\n",
    "print(np.round(result_point.x, 3))"
   ]
  },
  {
   "cell_type": "markdown",
   "metadata": {},
   "source": [
    "Задание 5.1"
   ]
  },
  {
   "cell_type": "code",
   "execution_count": null,
   "metadata": {},
   "outputs": [],
   "source": [
    "from sympy import symbols, cos, diff, solveset, Eq, solve\n",
    "\n",
    "x, y, l = symbols('x, y, l')\n",
    "f = 4*x + 3*y + l * (x**2 + y**2 - 1)\n",
    "\n",
    "eq_x = diff(f, x)\n",
    "eq_y = diff(f, y)\n",
    "eq_l = diff(f, l)\n",
    "print(eq_x)\n",
    "print(eq_y)\n",
    "print(eq_l)\n",
    "\n",
    "eq_x = Eq(eq_x, 0)\n",
    "eq_y = Eq(eq_y, 0)\n",
    "eq_l = Eq(eq_l, 0)\n",
    "\n",
    "\n",
    "#eq_x = 2*l*x + 4\n",
    "#eq_y = 2*l*y + 3\n",
    "#eq_l = x**2 + y**2 - 1\n",
    "\n",
    "sol = solve([eq_x, eq_y, eq_l], [x, y, l])\n",
    "print(sol)\n",
    "\n"
   ]
  },
  {
   "cell_type": "code",
   "execution_count": null,
   "metadata": {},
   "outputs": [],
   "source": [
    "exp = 4*x + 3*y #target function"
   ]
  },
  {
   "cell_type": "code",
   "execution_count": null,
   "metadata": {},
   "outputs": [],
   "source": [
    "exp.subs([(x,-4/5), (y, -3/5)]) #max value of function"
   ]
  },
  {
   "cell_type": "code",
   "execution_count": null,
   "metadata": {},
   "outputs": [],
   "source": [
    "exp.subs([(x, 4/5), (y, 3/5)]) #min value of function"
   ]
  },
  {
   "cell_type": "markdown",
   "metadata": {},
   "source": [
    "### MATH&ML-5. Математический анализ в контексте задачи оптимизации. Часть II\n",
    "#### 5. Условные экстремумы. Метод Лагранжа"
   ]
  },
  {
   "cell_type": "code",
   "execution_count": null,
   "metadata": {},
   "outputs": [],
   "source": [
    "from sympy import *\n",
    "a,b,w=symbols(' a b w' )\n",
    "g = 3*a**2 + a + 4*b + 5*b**2\n",
    "print('Целевая функция для аргументов a и b :\\n f = ', g)\n",
    "q = a + b - 200\n",
    "print('Функция ограничений: ', q,'= 0')\n",
    "f = 3*a**2 + a + 4*b + 5*b**2 + w*(a + b - 200)\n",
    "print('Функция Лагранжа :\\n ',f)\n",
    "fa = f.diff(a)\n",
    "print('df/da =',fa,'= 0')\n",
    "fb = f.diff(b)\n",
    "print('df/db =',fb,'= 0')\n",
    "fw = f.diff(w)\n",
    "print('df/dw =',fw,'= 0')\n",
    "sols = solve([fa,fb,fw],a,b,w)\n",
    "print('Стационарная точка M(x,y):\\n',float(sols[a]),',',float(sols[b]))"
   ]
  },
  {
   "cell_type": "markdown",
   "metadata": {},
   "source": [
    "Задание 5.3"
   ]
  },
  {
   "cell_type": "code",
   "execution_count": null,
   "metadata": {},
   "outputs": [],
   "source": [
    "from sympy import *\n",
    "x,y,w=symbols(' x y w' )\n",
    "g = ((x-2)**2+(y-1)**2)**(0.5)\n",
    "q = x + y - 1\n",
    "f = ((x-2)**2+(y-1)**2)**(0.5) + w*(x + y - 1)\n",
    "fx = f.diff(x)\n",
    "fy = f.diff(y)\n",
    "fw = f.diff(w)\n",
    "sols = solve([fx,fy,fw],x,y,w)\n",
    "sols"
   ]
  },
  {
   "cell_type": "markdown",
   "metadata": {},
   "source": [
    "Задание 5.4"
   ]
  },
  {
   "cell_type": "code",
   "execution_count": null,
   "metadata": {},
   "outputs": [],
   "source": [
    "from sympy import *\n",
    "a, b, h, w = symbols('a, b, h, w')\n",
    "r = a * b * h - 1 #restriction\n",
    "t = 2 * (a*b - a*h - b*h) #target\n",
    "L = 2 * (a*b - a*h - b*h) + w * (a * b * h - 1) #Lagrange equation\n",
    "\n",
    "eq_a = L.diff(a)\n",
    "eq_b = L.diff(b)\n",
    "eq_h = L.diff(h)\n",
    "eq_w= L.diff(w)\n",
    "\n",
    "solv = solve([eq_a, eq_b, eq_h, eq_w], [a, b, h, w])\n",
    "solv"
   ]
  },
  {
   "cell_type": "code",
   "execution_count": null,
   "metadata": {},
   "outputs": [],
   "source": [
    "t.subs([(a, -1), (b, -1), (h, 1)]) #min value of function"
   ]
  },
  {
   "cell_type": "code",
   "execution_count": null,
   "metadata": {},
   "outputs": [],
   "source": [
    "from sympy import *\n",
    "a,b,c,x,y,w=symbols('a b c x y w' )\n",
    "fa = -x+a+b\n",
    "fb=-y+a\n",
    "fc=2*b*c\n",
    "fx=x+y-10\n",
    "fy = -x + 6 + c\n",
    "sols = solve([fa,fb,fc,fx,fy],a,b,c,x,y,w)\n",
    "print(sols[0])\n",
    "sols"
   ]
  },
  {
   "cell_type": "markdown",
   "metadata": {},
   "source": [
    "### MATH&ML-5. Математический анализ в контексте задачи оптимизации. Часть II\n",
    "#### 6. Градиент и антиградиент"
   ]
  },
  {
   "cell_type": "code",
   "execution_count": null,
   "metadata": {},
   "outputs": [],
   "source": [
    "import numpy as np\n",
    "\n",
    "f = np.array([3, 7, 14, 23, 36, 47], dtype=np.float64)\n",
    "np.gradient(f)"
   ]
  },
  {
   "cell_type": "code",
   "execution_count": null,
   "metadata": {},
   "outputs": [],
   "source": [
    "print(f[1] - f[0], f[-1] - f[-2])\n",
    "\n",
    "(f[2] - f[0])/2 # 5.5\n",
    "(f[3] - f[1])/2 # 8.0\n",
    "(f[4] - f[2])/2 # 11.0\n",
    "(f[5] - f[3])/2 # 12.0"
   ]
  },
  {
   "cell_type": "code",
   "execution_count": null,
   "metadata": {},
   "outputs": [],
   "source": [
    "np.gradient(f, 2)"
   ]
  },
  {
   "cell_type": "code",
   "execution_count": null,
   "metadata": {},
   "outputs": [],
   "source": [
    "# array([2.  , 2.75, 4.  , 5.5 , 6.  , 5.5 ])\n",
    "\n",
    "for i in range(1, len(f) - 1):\n",
    "    print((f[i + 1] - f[i - 1])/(2*2))"
   ]
  },
  {
   "cell_type": "markdown",
   "metadata": {},
   "source": [
    "Задание 6.5"
   ]
  },
  {
   "cell_type": "code",
   "execution_count": null,
   "metadata": {},
   "outputs": [],
   "source": [
    "from sympy import *\n",
    "a, b = symbols('a, b')\n",
    "f = (5 - a - 2*b)**2\n",
    "f_a = f.diff(a)\n",
    "print(f_a)\n",
    "f_b = f.diff(b)\n",
    "print(f_b)\n",
    "\n",
    "print(f_a.subs([(a, 1), (b , 1)]))\n",
    "print(f_b.subs([(a, 1), (b , 1)]))\n",
    "\n",
    "sols = solve([f_a, f_b], a, b)\n",
    "print(sols)"
   ]
  },
  {
   "cell_type": "code",
   "execution_count": null,
   "metadata": {},
   "outputs": [],
   "source": [
    "eq_a = Eq(f_a, 0)\n",
    "eq_b = Eq(f_b, 0)\n",
    "\n",
    "sol = solve([eq_a, eq_b], [a, b])\n",
    "print(sol)"
   ]
  },
  {
   "cell_type": "markdown",
   "metadata": {},
   "source": [
    "Задание 6.6"
   ]
  },
  {
   "cell_type": "code",
   "execution_count": null,
   "metadata": {},
   "outputs": [],
   "source": [
    "from sympy import *\n",
    "a, b = symbols('a, b')\n",
    "L = ((2.1 - a - b)**2) + ((2.9 - a - 3*b)**2) + ((4.1 - a - 5*b)**2)\n",
    "L_a = L.diff(a)\n",
    "L_b = L.diff(b)\n",
    "print(L_a)\n",
    "print(L_b)\n",
    "\n",
    "eq_a = Eq(L_a, 0)\n",
    "eq_b = Eq(L_b, 0)\n",
    "\n",
    "sol = solve([eq_a, eq_b], [a, b])\n",
    "print(sol)"
   ]
  },
  {
   "cell_type": "markdown",
   "metadata": {},
   "source": [
    "Задание 6.7"
   ]
  },
  {
   "cell_type": "code",
   "execution_count": null,
   "metadata": {},
   "outputs": [],
   "source": [
    "import numpy as np\n",
    "f = np.array([8, 2, 8, 3, 5, 6, 5, 15])\n",
    "np.gradient(f, 7)"
   ]
  },
  {
   "cell_type": "markdown",
   "metadata": {},
   "source": [
    "### MATH&ML-5. Математический анализ в контексте задачи оптимизации. Часть II\n",
    "#### 7. Градиент и градиентный спуск"
   ]
  },
  {
   "cell_type": "code",
   "execution_count": null,
   "metadata": {},
   "outputs": [],
   "source": [
    "def fun(x, y, a=1, b=1):\n",
    "    return a * (x ** 2) + b * (y ** 2)\n",
    "\n",
    "def grad(x, y, a=1, b=1):\n",
    "    return np.array([2 * a * x, 2 * b * y])\n",
    "\n",
    "def grad_descend(grad, step_size=0.2, num_steps=30):\n",
    "    lst = []\n",
    "    x = np.random.uniform(0, 3, size = 2)\n",
    "    lst.append(x)\n",
    "    for i in range(num_steps):\n",
    "        x = x - step_size * grad(lst[-1][0], lst[-1][1])\n",
    "        lst.append(x)\n",
    "    return np.array(lst)\n",
    "\n",
    "def plot_grad(fun, trace):\n",
    "    fig = plt.figure(figsize=(10, 8))\n",
    "    x_ = np.linspace(-1, 1, 100)\n",
    "    y_ = np.linspace(-1, 1, 100)\n",
    "    x, y = np.meshgrid(x_, y_)\n",
    "    z = fun(x, y)\n",
    "    ax = fig.add_subplot(1, 1, 1, projection='3d')\n",
    "    ax.plot_surface(x, y, z, alpha=0.6)\n",
    "    ax.contour(x, y, z, zdir='z', offset=z.min())\n",
    "    z_trace = fun(trace[:, 0], trace[:, 1])\n",
    "    ax.plot(trace[:, 0], trace[:, 1], z_trace, \"o-\")\n",
    "    ax.set_xlim(x.min(), x.max())\n",
    "    ax.set_ylim(y.min(), y.max())\n",
    "    ax.set_zlim(z.min(), z.max())\n",
    "    \n",
    "trace = grad_descend(grad, 0.1, 20)\n",
    "plot_grad(fun, trace = trace)"
   ]
  },
  {
   "cell_type": "code",
   "execution_count": null,
   "metadata": {},
   "outputs": [],
   "source": [
    "def fun(x, y, a=1, b=1):\n",
    "    return a * (x ** 2) + b * (y ** 2)\n",
    "\n",
    "def grad(x, y, a=1, b=1):\n",
    "    return np.array([2 * a * x, 2 * b * y])\n",
    "\n",
    "def grad_descend(grad, step_size=0.2, num_steps=30):\n",
    "    lst = []\n",
    "    x = np.random.uniform(0, 3, size = 2)\n",
    "    lst.append(x)\n",
    "    print(lst)\n",
    "    for i in range(num_steps):\n",
    "        x = x - step_size * grad(lst[-1][0], lst[-1][1])\n",
    "        print(x)\n",
    "        lst.append(x)\n",
    "        print(lst)\n",
    "    return np.array(lst)\n",
    "\n",
    "trace = grad_descend(grad, 0.1, 20)\n",
    "print(trace)"
   ]
  },
  {
   "cell_type": "code",
   "execution_count": null,
   "metadata": {},
   "outputs": [],
   "source": [
    "x = np.random.uniform(0, 3, size = 2)\n",
    "x"
   ]
  },
  {
   "cell_type": "markdown",
   "metadata": {},
   "source": [
    "Задание 7.7"
   ]
  },
  {
   "cell_type": "code",
   "execution_count": null,
   "metadata": {},
   "outputs": [],
   "source": [
    "from sympy import *\n",
    "x, y, z = symbols('x, y, z')\n",
    "f = 2 * x**2 - 4*x*z + 4 * y**2 + 4 * y**2 - 8 * y * z + 9 * z**2 + 4*x + 8*y - 20*z\n",
    "f_x = f.diff(x)\n",
    "f_y = f.diff(y)\n",
    "f_z = f.diff(z)\n",
    "\n",
    "print(f_x)\n",
    "print(f_y)\n",
    "print(f_z)\n",
    "\n",
    "x, y, z = 4, 8, -20 #in the dot (0, 0, 0)"
   ]
  },
  {
   "cell_type": "markdown",
   "metadata": {},
   "source": [
    "### MATH&ML-6. Математический анализ в контексте задачи оптимизации. Часть III\n",
    "#### 1. Введение"
   ]
  },
  {
   "cell_type": "markdown",
   "metadata": {},
   "source": [
    "Задание 1.1"
   ]
  },
  {
   "cell_type": "code",
   "execution_count": null,
   "metadata": {},
   "outputs": [],
   "source": [
    "from scipy import *\n",
    "x = Symbol('x')\n",
    "f = (-1) * x ** 4 + 6 * x ** 3 - 4 * x ** 2 + 80\n",
    "f_diff = f.diff()\n",
    "print(f_diff)\n",
    "\n",
    "eq = Eq(f_diff, 0)\n",
    "sol = solve(f_diff, x)\n",
    "print(sol)\n",
    "\n",
    "print(f.subs(x, 0))\n",
    "print(f.subs(x, 1/2))\n",
    "print(f.subs(x, 4))"
   ]
  },
  {
   "cell_type": "markdown",
   "metadata": {},
   "source": [
    "Задание 1.4"
   ]
  },
  {
   "cell_type": "code",
   "execution_count": null,
   "metadata": {},
   "outputs": [],
   "source": [
    "from scipy import *\n",
    "x, y, w = symbols('x, y, w')\n",
    "f = x ** 2 + 2 * y ** 2 - w * (x + y - 20)\n",
    "f_target = x ** 2 + 2 * y ** 2 \n",
    "f_x = f.diff(x)\n",
    "f_y = f.diff(y)\n",
    "f_w = f.diff(w)\n",
    "\n",
    "print(f_x)\n",
    "print(f_y)\n",
    "print(f_w)\n",
    "\n",
    "eq_x = Eq(f_x, 0)\n",
    "eq_y = Eq(f_y, 0)\n",
    "eq_w = Eq(f_w, 0)\n",
    "\n",
    "sol = solve([eq_x, eq_y, eq_w], [x, y, w])\n",
    "print(sol[x], sol[y])\n",
    "\n",
    "print(f_target.subs([(x, 13), (y, 7)]))"
   ]
  },
  {
   "cell_type": "markdown",
   "metadata": {},
   "source": [
    "### MATH&ML-6. Математический анализ в контексте задачи оптимизации. Часть III\n",
    "#### 2. Градиентный спуск: применение и модификации"
   ]
  },
  {
   "cell_type": "markdown",
   "metadata": {},
   "source": [
    "Задание 2.7"
   ]
  },
  {
   "cell_type": "code",
   "execution_count": null,
   "metadata": {},
   "outputs": [],
   "source": [
    "from sklearn.linear_model import SGDRegressor\n",
    "from sklearn.model_selection import GridSearchCV\n",
    "from sklearn.model_selection import train_test_split\n",
    "from sklearn.metrics import mean_squared_error\n",
    "import seaborn as sns\n",
    "import pandas as pd\n",
    "import numpy as np\n",
    "\n",
    "df = sns.load_dataset('diamonds')\n",
    "\n",
    "df.drop(['depth', 'table', 'x', 'y', 'z'], axis=1, inplace=True)\n",
    "df = pd.get_dummies(df, drop_first=True)\n",
    "\n",
    "df['carat'] = np.log(1+df['carat'])\n",
    "df['price'] = np.log(1+df['price'])\n",
    "\n",
    "X_cols = [col for col in df.columns if col!='price']\n",
    "X = df[X_cols]\n",
    "y = df['price']\n",
    "\n",
    "X_train, X_test, y_train, y_test = train_test_split(X, y, test_size=0.33, random_state=42)\n",
    "\n",
    "parameters = {\n",
    "    'learning_rate': ['constant'],\n",
    "    'eta0': np.logspace(-4,-1,4),\n",
    "    'max_iter': np.logspace(0,3,10),\n",
    "    'loss': ['squared_error', 'epsilon_insensitive'],\n",
    "    'penalty': ['elasticnet'],\n",
    "    'alpha': np.logspace(-3,3,15),\n",
    "    'l1_ratio': np.linspace(0,1,11)\n",
    "}\n",
    "\n",
    "sgd = SGDRegressor(random_state=42)\n",
    "sgd_cv = GridSearchCV(estimator=sgd, param_grid=parameters, n_jobs=-1)\n",
    "sgd_cv.fit(X_train, y_train)\n",
    "\n",
    "print(sgd_cv.best_params_)\n",
    "\n",
    "sgd = SGDRegressor(**sgd_cv.best_params_, random_state = 42)\n",
    "\n",
    "sgd.fit(X_train, y_train)\n",
    "sgd.score(X_train, y_train) # r2\n",
    "ls = sgd.predict(X_test)\n",
    "\n",
    "round(mean_squared_error(y_test, ls), 3)"
   ]
  },
  {
   "cell_type": "markdown",
   "metadata": {},
   "source": [
    "### MATH&ML-6. Математический анализ в контексте задачи оптимизации. Часть III\n",
    "#### 3. Метод Ньютона"
   ]
  },
  {
   "cell_type": "markdown",
   "metadata": {},
   "source": [
    "Задание 3.1"
   ]
  },
  {
   "cell_type": "code",
   "execution_count": null,
   "metadata": {},
   "outputs": [],
   "source": [
    "def func(x):\n",
    "    return 6*x**5 - 5*x**4 - 4*x**3 + 3*x**2\n",
    "\n",
    "def derivative(x):\n",
    "    return 30*x**4 - 20*x**3 - 12*x**2 + 6*x\n",
    "\n",
    "x_init = 0.7\n",
    "iter_count = 0\n",
    "x_cur = x_init\n",
    "epsilon = 0.000001\n",
    "f = func(x_cur)\n",
    "\n",
    "while (abs(f) > epsilon):\n",
    "    f = func(x_cur)\n",
    "    f_der = derivative(x_cur)\n",
    "    x_cur = x_cur - (f) / (f_der)\n",
    "    iter_count += 1\n",
    "    print(f)\n",
    "    print(np.round(x_cur, 3))\n",
    "print(iter_count)\n",
    "    \n",
    "    "
   ]
  },
  {
   "cell_type": "markdown",
   "metadata": {},
   "source": [
    "Оптимизировать функцию"
   ]
  },
  {
   "cell_type": "code",
   "execution_count": null,
   "metadata": {},
   "outputs": [],
   "source": [
    "def func1(x):\n",
    "    return 3*x**2 - 6*x -45\n",
    "def func2(x):\n",
    "    return 6*x - 6\n",
    "\n",
    "init_value = 42\n",
    "iter_count = 0\n",
    "x_curr = init_value\n",
    "epsilon = 0.0001\n",
    "f = func1(x_curr)\n",
    "\n",
    "while (abs(f) > epsilon):\n",
    "    f = func1(x_curr)\n",
    "    f_prime = func2(x_curr)\n",
    "    x_curr = x_curr - (f)/(f_prime)\n",
    "    iter_count += 1\n",
    "    print(x_curr)"
   ]
  },
  {
   "cell_type": "code",
   "execution_count": null,
   "metadata": {},
   "outputs": [],
   "source": [
    "def newtons_method(f, der, eps, init):\n",
    "    iter_count = 0\n",
    "    x_curr = init\n",
    "    f = f(x_curr)\n",
    "    while (abs(f) > eps):\n",
    "        f = f(x_curr)\n",
    "        f_der = der(x_curr)\n",
    "        x_curr = x_curr - (f)/(f_prime)\n",
    "        iter_count += 1\n",
    "    return x_curr\n",
    " \n",
    "from scipy.optimize import newton\n",
    "#newton(func=f_0,x0=50,fprime=f_1, tol=0.0001)"
   ]
  },
  {
   "cell_type": "markdown",
   "metadata": {},
   "source": [
    "Задание 3.6"
   ]
  },
  {
   "cell_type": "code",
   "execution_count": null,
   "metadata": {},
   "outputs": [],
   "source": [
    "def func(x):\n",
    "    return x ** 3 - 72 * x - 220\n",
    "def derivative(x):\n",
    "    return 3 * x ** 2 - 72\n",
    "\n",
    "init_value = 12\n",
    "iter_count = 0\n",
    "x_curr = init_value\n",
    "epsilon = 0.0001\n",
    "f = func1(x_curr)\n",
    "\n",
    "while (abs(f) > epsilon):\n",
    "    f = func1(x_curr)\n",
    "    f_prime = func2(x_curr)\n",
    "    x_curr = x_curr - (f)/(f_prime)\n",
    "    iter_count += 1\n",
    "    print(x_curr)"
   ]
  },
  {
   "cell_type": "markdown",
   "metadata": {},
   "source": [
    "Задание 3.7"
   ]
  },
  {
   "cell_type": "code",
   "execution_count": null,
   "metadata": {},
   "outputs": [],
   "source": [
    "def func(x):\n",
    "    return x ** 2 + 9 * x - 5\n",
    "def derivative(x):\n",
    "    return 2 * x + 9\n",
    "\n",
    "init_value = 2.2\n",
    "iter_count = 0\n",
    "x_curr = init_value\n",
    "epsilon = 0.00001\n",
    "f = func(x_curr)\n",
    "\n",
    "while (abs(f) > epsilon):\n",
    "    f = func(x_curr)\n",
    "    f_prime = derivative(x_curr)\n",
    "    x_curr = x_curr - (f)/(f_prime)\n",
    "    iter_count += 1\n",
    "    print(x_curr)"
   ]
  },
  {
   "cell_type": "markdown",
   "metadata": {},
   "source": [
    "Задание 3.9"
   ]
  },
  {
   "cell_type": "code",
   "execution_count": null,
   "metadata": {},
   "outputs": [],
   "source": [
    "from scipy.optimize import newton\n",
    "\n",
    "def func1(x): #the first derivative\n",
    "    return 24 * x ** 2 - 4 * x\n",
    "def func2(x): #the second derivative\n",
    "    return 48 * x - 4\n",
    "\n",
    "init_value = 42\n",
    "iter_count = 0\n",
    "x_curr = init_value\n",
    "epsilon = 0.0001\n",
    "f = func1(x_curr)\n",
    "\n",
    "while (abs(f) > epsilon):\n",
    "    f = func1(x_curr)\n",
    "    f_prime = func2(x_curr)\n",
    "    x_curr = x_curr - (f)/(f_prime)\n",
    "    iter_count += 1\n",
    "    print(np.round(x_curr, 3))"
   ]
  },
  {
   "cell_type": "code",
   "execution_count": null,
   "metadata": {},
   "outputs": [],
   "source": [
    "newton(func=func1, x0=42, fprime=func2, tol=0.0001)"
   ]
  },
  {
   "cell_type": "markdown",
   "metadata": {},
   "source": [
    "### MATH&ML-6. Математический анализ в контексте задачи оптимизации. Часть III\n",
    "#### 4. Квазиньютоновские методы"
   ]
  },
  {
   "cell_type": "code",
   "execution_count": null,
   "metadata": {},
   "outputs": [],
   "source": [
    "import numpy as np\n",
    "from scipy.optimize import minimize"
   ]
  },
  {
   "cell_type": "code",
   "execution_count": null,
   "metadata": {},
   "outputs": [],
   "source": [
    "def func(x):\n",
    "    return x[0]**2.0 + x[1]**2.0\n",
    "\n",
    "def grad_func(x):\n",
    "    return np.array([x[0] * 2, x[1] * 2])\n",
    "\n",
    "x_0 = [1.0, 1.0]\n",
    "result = minimize(func, x_0, method='BFGS', jac=grad_func)\n",
    "print('Статус оптимизации %s' % result['message'])\n",
    "print('Количество оценок: %d' % result['nfev'])\n",
    "solution = result['x']\n",
    "evaluation = func(solution)\n",
    "print('Решение: f(%s) = %.5f' % (solution, evaluation))"
   ]
  },
  {
   "cell_type": "code",
   "execution_count": null,
   "metadata": {},
   "outputs": [],
   "source": [
    "# определяем нашу функцию\n",
    "def func(x):\n",
    "    return x[0]**2.0 + x[1]**2.0\n",
    " \n",
    "#  определяем градиент функции\n",
    "def grad_func(x):\n",
    "    return np.array([x[0] * 2, x[1] * 2])\n",
    " \n",
    "# определяем начальную точку\n",
    "x_0 = [1, 1]\n",
    "# реализуем алгоритм L-BFGS-B\n",
    "result = minimize(func, x_0, method='L-BFGS-B', jac=grad_func)\n",
    "# получаем результат\n",
    "print('Статус оптимизации %s' % result['message'])\n",
    "print('Количество оценок: %d' % result['nfev'])\n",
    "solution = result['x']\n",
    "evaluation = func(solution)\n",
    "print('Решение: f(%s) = %.5f' % (solution, evaluation))"
   ]
  },
  {
   "cell_type": "markdown",
   "metadata": {},
   "source": [
    "Задание 4.1"
   ]
  },
  {
   "cell_type": "code",
   "execution_count": null,
   "metadata": {},
   "outputs": [],
   "source": [
    "def func(x):\n",
    "    return x[0]**2 - x[0]*x[1] + x[1]**2 + 9*x[0] - 6*x[1] + 20\n",
    "\n",
    "def grad_func(x):\n",
    "    return np.array([2*x[0] - x[1] + 9, (-1)*x[0] + 2*x[1] - 6])\n",
    "\n",
    "x_0 = [-400, -400]\n",
    "result = minimize(func, x_0, method='BFGS', jac=grad_func)\n",
    "print('Статус оптимизации %s' % result['message'])\n",
    "print('Количество оценок: %d' % result['nfev'])\n",
    "solution = result['x']\n",
    "evaluation = func(solution)\n",
    "print('Решение: f(%s) = %.5f' % (solution, evaluation))"
   ]
  },
  {
   "cell_type": "markdown",
   "metadata": {},
   "source": [
    "Задание 4.4"
   ]
  },
  {
   "cell_type": "code",
   "execution_count": null,
   "metadata": {},
   "outputs": [],
   "source": [
    "def func(x):\n",
    "    return x ** 2 - 3 * x + 45\n",
    "\n",
    "def grad_func(x):\n",
    "    return np.array(2 * x - 3)\n",
    "\n",
    "x_0 = 10\n",
    "result = minimize(func, x_0, method='BFGS', jac=grad_func)\n",
    "print('Статус оптимизации %s' % result['message'])\n",
    "print('Количество оценок: %d' % result['nfev'])\n",
    "solution = result['x']\n",
    "evaluation = func(solution)\n",
    "print('Решение: f(%s) = %.5f' % (solution, evaluation))"
   ]
  },
  {
   "cell_type": "markdown",
   "metadata": {},
   "source": [
    "Задание 4.5"
   ]
  },
  {
   "cell_type": "code",
   "execution_count": null,
   "metadata": {},
   "outputs": [],
   "source": [
    "def func(x):\n",
    "    return x ** 2 - 3 * x + 45\n",
    "\n",
    "def grad_func(x):\n",
    "    return np.array(2 * x - 3)\n",
    "\n",
    "x_0 = 10\n",
    "result = minimize(func, x_0, method='L-BFGS-B', jac=grad_func)\n",
    "print('Статус оптимизации %s' % result['message'])\n",
    "print('Количество оценок: %d' % result['nfev'])\n",
    "solution = result['x']\n",
    "evaluation = func(solution)\n",
    "print('Решение: f(%s) = %.5f' % (solution, evaluation))"
   ]
  },
  {
   "cell_type": "markdown",
   "metadata": {},
   "source": [
    "Задание 4.7"
   ]
  },
  {
   "cell_type": "code",
   "execution_count": null,
   "metadata": {},
   "outputs": [],
   "source": [
    "def func(x):\n",
    "    return x[0]**4 + 6 * x[1]**2 + 10\n",
    "\n",
    "def grad_func(x):\n",
    "    return np.array([4*x[0]**3,12*x[1]])\n",
    "\n",
    "x_0 = [100, 100]\n",
    "result = minimize(func, x_0, method='BFGS', jac=grad_func)\n",
    "print('Статус оптимизации %s' % result['message'])\n",
    "print('Количество оценок: %d' % result['nfev'])\n",
    "solution = result['x']\n",
    "evaluation = func(solution)\n",
    "print('Решение: f(%s) = %.5f' % (solution, evaluation))"
   ]
  },
  {
   "cell_type": "code",
   "execution_count": null,
   "metadata": {},
   "outputs": [],
   "source": [
    "def func(x):\n",
    "    return x[0]**4 + 6 * x[1]**2 + 10\n",
    "\n",
    "def grad_func(x):\n",
    "    return np.array([4*x[0]**3,12*x[1]])\n",
    "\n",
    "x_0 = [100, 100]\n",
    "result = minimize(func, x_0, method='L-BFGS-B', jac=grad_func)\n",
    "print('Статус оптимизации %s' % result['message'])\n",
    "print('Количество оценок: %d' % result['nfev'])\n",
    "solution = result['x']\n",
    "evaluation = func(solution)\n",
    "print('Решение: f(%s) = %.5f' % (solution, evaluation))"
   ]
  },
  {
   "cell_type": "markdown",
   "metadata": {},
   "source": [
    "### MATH&ML-6. Математический анализ в контексте задачи оптимизации. Часть III\n",
    "#### 6. Практика: линейное программирование"
   ]
  },
  {
   "cell_type": "markdown",
   "metadata": {},
   "source": [
    "Пример № 1. SciPy (scipy.optimize.linprog)"
   ]
  },
  {
   "cell_type": "code",
   "execution_count": null,
   "metadata": {},
   "outputs": [],
   "source": [
    "values = [4, 2, 1, 7, 3, 6] #стоимости товаров\n",
    "weights = [5, 9, 8, 2, 6, 5] #вес товаров\n",
    "C = 15 #вместимость сумки\n",
    "n = 6 #количество товаров   \n",
    "\n",
    "c = - np.array(values) #изменяем знак, чтобы перейти от задачи максимизации к задаче минимизации\n",
    "A = np.array(weights)  #конвертируем список с весами в массив\n",
    "A = np.expand_dims(A, 0) #преобразуем размерность массива\n",
    "b = np.array([C]) #конвертируем вместимость в массив\n",
    "\n",
    "print(A.shape) #2-dim array)\n",
    "print(b.shape) #1-dim array\n",
    "\n",
    "from scipy.optimize import linprog\n",
    "linprog(c=c, A_ub=A, b_ub=b)\n"
   ]
  },
  {
   "cell_type": "markdown",
   "metadata": {},
   "source": [
    "Пример № 2. CVXPY (лучше запускать в Colaboratory)"
   ]
  },
  {
   "cell_type": "code",
   "execution_count": null,
   "metadata": {},
   "outputs": [],
   "source": [
    "x = cvxpy.Variable(shape=n, integer=True)\n",
    "constraint = (A @ x <= b)\n",
    "x_positive = (x >= 0)\n",
    "total_value = c * x\n",
    "problem = cvxpy.Problem(cvxpy.Minimize(total_value), constraints=[constraint, x_positive])\n",
    "problem.solve()\n",
    "x.value"
   ]
  },
  {
   "cell_type": "code",
   "execution_count": null,
   "metadata": {},
   "outputs": [],
   "source": [
    "x = cvxpy.Variable(shape=n, boolean=True)\n",
    "constraint = A @ x <= b\n",
    "x_positive = x >= 0\n",
    "total_value = c * x\n",
    "problem = cvxpy.Problem(cvxpy.Minimize(total_value), constraints=[constraint, x_positive])\n",
    "problem.solve()\n",
    "x.value"
   ]
  },
  {
   "cell_type": "markdown",
   "metadata": {},
   "source": [
    "Пример № 3. PuLP"
   ]
  },
  {
   "cell_type": "code",
   "execution_count": null,
   "metadata": {},
   "outputs": [],
   "source": [
    "from pulp import *\n",
    "\n",
    "problem = LpProblem('Производство машин', LpMaximize)\n",
    "A = LpVariable('Автомобиль A', lowBound=0 , cat=LpInteger)\n",
    "B = LpVariable('Автомобиль B', lowBound=0 , cat=LpInteger)\n",
    "#Целевая функция\n",
    "problem += 20000*A + 45000*B \n",
    "#Ограничения\n",
    "problem += 4*A + 5*B <= 30 \n",
    "problem += 3*A + 6*B <=30\n",
    "problem += 2*A + 7*B <=30\n",
    "problem.solve()\n",
    "print(\"Количество автомобилей модели А: \", A.varValue)\n",
    "print(\"Количество автомобилей модели В: \", B.varValue)\n",
    "print(\"Суммарный доход: \", value(problem.objective))"
   ]
  },
  {
   "cell_type": "code",
   "execution_count": null,
   "metadata": {},
   "outputs": [],
   "source": [
    "import pandas as pd\n",
    "import numpy as np\n",
    "\n",
    "adver_data = pd.read_csv('data/Advertising.csv', index_col=0)\n",
    "n = len(adver_data) #количество строк\n",
    "X = adver_data[['TV', 'radio', 'newspaper']].values.reshape(n,3) #вектор признаков (предикторов) X \n",
    "y = adver_data['sales'] #вектор целевой переменной y"
   ]
  },
  {
   "cell_type": "code",
   "execution_count": null,
   "metadata": {},
   "outputs": [],
   "source": [
    "from sklearn.preprocessing import StandardScaler\n",
    "\n",
    "scaler = StandardScaler()\n",
    "pd.DataFrame(scaler.fit_transform(adver_data), columns=['TV', 'Radio', 'Newspaper', 'Sales']).head()"
   ]
  },
  {
   "cell_type": "code",
   "execution_count": null,
   "metadata": {},
   "outputs": [],
   "source": [
    "adver_data['bias'] = 1\n",
    "adver_data.head(2)"
   ]
  },
  {
   "cell_type": "code",
   "execution_count": null,
   "metadata": {},
   "outputs": [],
   "source": [
    "import numpy as np\n",
    "def mserror(y, y_pred):\n",
    "    return ( \n",
    "      \t\t(y-y_pred)**2 # считаем квадраты отклонения \n",
    "           ).sum()/len(y_pred) # суммируем их и делим на длину вектора"
   ]
  },
  {
   "cell_type": "code",
   "execution_count": null,
   "metadata": {},
   "outputs": [],
   "source": [
    "def linear_prediction(X, w):\n",
    "    return np.dot(X, w)"
   ]
  },
  {
   "cell_type": "code",
   "execution_count": null,
   "metadata": {},
   "outputs": [],
   "source": [
    "def stochastic_gradient_step_v(X, y, w, train_ind, eta=0.01):\n",
    "    N = X.shape[0]                   \n",
    "    x = X[train_ind]                 \n",
    "    y_pred = linear_prediction(x, w) \n",
    "    rs = (y_pred - y[train_ind])     \n",
    "    return  w - (2.0*eta*x*rs)/N"
   ]
  },
  {
   "cell_type": "code",
   "execution_count": null,
   "metadata": {},
   "outputs": [],
   "source": [
    "def stochastic_gradient_descent(X, y, w_init, eta=1e-2, max_iter=1e4,\n",
    "                                min_weight_dist=1e-8, seed=42, verbose=False):\n",
    "    # Инициализируем расстояние между векторами весов на соседних\n",
    "    # итерациях большим числом. \n",
    "    weight_dist = np.inf\n",
    "    # Инициализируем вектор весов\n",
    "    w = w_init\n",
    "    # Сюда будем записывать ошибки на каждой итерации\n",
    "    errors = []\n",
    "    # Счетчик итераций\n",
    "    iter_num = 0\n",
    "    # Будем порождать псевдослучайные числа \n",
    "    # (номер объекта, который будет менять веса), а для воспроизводимости\n",
    "    # этой последовательности псевдослучайных чисел используем seed.\n",
    "    np.random.seed(seed)\n",
    "        \n",
    "    # Основной цикл\n",
    "    while iter_num < max_iter:\n",
    "        # порождаем псевдослучайный \n",
    "        # индекс объекта обучающей выборки\n",
    "        random_ind = np.random.randint(X.shape[0])\n",
    "        \n",
    "        # Обновляем веса\n",
    "        new_w = stochastic_gradient_step_v(X, y, w, random_ind, eta)\n",
    "        \n",
    "        # Считаем ошибку\n",
    "        error = mserror(y, linear_prediction(X, new_w))\n",
    "        errors.append(error)\n",
    "        \n",
    "        weight_dist = np.linalg.norm(w-new_w)\n",
    "        w = new_w\n",
    "        iter_num += 1\n",
    "    print(weight_dist)            \n",
    "    return w, errors"
   ]
  },
  {
   "cell_type": "code",
   "execution_count": null,
   "metadata": {},
   "outputs": [],
   "source": [
    "adver_data"
   ]
  },
  {
   "cell_type": "code",
   "execution_count": null,
   "metadata": {},
   "outputs": [],
   "source": [
    "adver_data[['TV', 'radio', 'newspaper', 'bias']]"
   ]
  },
  {
   "cell_type": "code",
   "execution_count": null,
   "metadata": {},
   "outputs": [],
   "source": [
    "FeatureMatrix = adver_data[['TV', 'radio', 'newspaper', 'bias']].values\n",
    "TargetMatrix  = adver_data.sales.values"
   ]
  },
  {
   "cell_type": "code",
   "execution_count": null,
   "metadata": {},
   "outputs": [],
   "source": [
    "stoch_grad_desc_weights, stoch_errors_by_iter = stochastic_gradient_descent(FeatureMatrix, TargetMatrix, [0,0,0,0], max_iter=1e5)             \n",
    "print(stoch_grad_desc_weights)"
   ]
  },
  {
   "cell_type": "markdown",
   "metadata": {},
   "source": [
    "### MATH&ML-7. Теория вероятностей в контексте наивного байесовского классификатора\n",
    "#### 8. Дискретные распределения"
   ]
  },
  {
   "cell_type": "code",
   "execution_count": null,
   "metadata": {},
   "outputs": [],
   "source": [
    "import numpy as np\n",
    "from scipy.stats import randint # A uniform discrete random variable\n",
    "import matplotlib.pyplot as plt\n",
    "x = np.arange(1, 7)\n",
    "disc_uni_dist = randint(1,7) # Probability mass function\n",
    "pmf = disc_uni_dist.pmf(x)\n",
    "pmf"
   ]
  },
  {
   "cell_type": "code",
   "execution_count": null,
   "metadata": {},
   "outputs": [],
   "source": [
    "cdf = disc_uni_dist.cdf(x) # Кумулятивная вероятность для распределения\n",
    "print(cdf)"
   ]
  },
  {
   "cell_type": "markdown",
   "metadata": {},
   "source": [
    "Вы участвуете в розыгрыше бесплатного места на новый курс по Data Science. Вы знаете, что участников 250.\n",
    "\n",
    "Какова вероятность, что на курс попадёт кто-то из первых пятидесяти зарегистрировавшихся?"
   ]
  },
  {
   "cell_type": "code",
   "execution_count": null,
   "metadata": {},
   "outputs": [],
   "source": [
    "x = np.arange(1, 251)\n",
    "disc_uni_dist = randint(1,251)\n",
    "cdf = disc_uni_dist.cdf(x)\n",
    "print(cdf[49])"
   ]
  },
  {
   "cell_type": "markdown",
   "metadata": {},
   "source": [
    "Вы стреляете по мишени в тире. Вероятность попасть составляет . В случае успеха вы выиграете плюшевого медведя стоимостью 3000 рублей, а в случае промаха — не выиграете ничего. У вас есть только один выстрел.\n",
    "\n",
    "Какой должна быть стоимость билета, чтобы игра была честной, то есть чтобы цена билета равнялась ожидаемому выигрышу, а значит, не уводила в убыток продавца или вас при большом количестве выстрелов?"
   ]
  },
  {
   "cell_type": "code",
   "execution_count": null,
   "metadata": {},
   "outputs": [],
   "source": [
    "from scipy.stats import bernoulli\n",
    "import seaborn as sns\n",
    "\n",
    "data = bernoulli.rvs(size=500, p=0.6) # Random variates. Generate random numbers\n",
    "ax = sns.distplot(data,\n",
    "                  kde = False,\n",
    "                  color='dodgerblue')\n",
    "ax.set(xlabel='Значение случайной величины', ylabel='Частота')"
   ]
  },
  {
   "cell_type": "code",
   "execution_count": null,
   "metadata": {},
   "outputs": [],
   "source": [
    "unique, counts = np.unique(data, return_counts=True)\n",
    "print(np.asarray((unique, counts)).T)"
   ]
  },
  {
   "cell_type": "markdown",
   "metadata": {},
   "source": [
    "Производитель гаджетов знает, что 20 % производимых им товаров — бракованные.\n",
    "\n",
    "Если он производит десять изделий в день, какова вероятность того, что не более двух из них бракованные?"
   ]
  },
  {
   "cell_type": "code",
   "execution_count": null,
   "metadata": {},
   "outputs": [],
   "source": [
    "import scipy \n",
    "scipy.stats.binom.pmf(8,10,0.8)+scipy.stats.binom.pmf(9,10,0.8)+scipy.stats.binom.pmf(10,10,0.8)"
   ]
  },
  {
   "cell_type": "code",
   "execution_count": null,
   "metadata": {},
   "outputs": [],
   "source": [
    "x = np.random.binomial(n=10, p=0.5, size=10) # Можно смоделировать биноминальное распределение с параметром p = 0.5 и количеством испытаний, равным 10, и реализовать 1000 попыток\n",
    "sns.distplot(np.random.binomial(n=10, p=0.5, size=1000), hist=True, kde=False)\n",
    "plt.show()"
   ]
  },
  {
   "cell_type": "code",
   "execution_count": null,
   "metadata": {},
   "outputs": [],
   "source": [
    "scipy.stats.distributions.poisson.pmf(5, 4.5)"
   ]
  },
  {
   "cell_type": "code",
   "execution_count": null,
   "metadata": {},
   "outputs": [],
   "source": [
    "sns.distplot(np.random.poisson(lam=3, size=1000), kde=False)\n",
    "plt.show()"
   ]
  },
  {
   "cell_type": "markdown",
   "metadata": {},
   "source": [
    "### MATH&ML-7. Теория вероятностей в контексте наивного байесовского классификатора\n",
    "#### 9. Непрерывные распределения"
   ]
  },
  {
   "cell_type": "code",
   "execution_count": null,
   "metadata": {},
   "outputs": [],
   "source": [
    "from scipy.stats import uniform\n",
    "data = uniform.rvs(size=10000, loc = 10, scale=30)\n",
    "ax = sns.distplot(data,\n",
    "                  bins=50)\n",
    "ax.set(xlabel='Равномерное распределение', ylabel='Плотность')"
   ]
  },
  {
   "cell_type": "code",
   "execution_count": null,
   "metadata": {},
   "outputs": [],
   "source": [
    "from scipy.stats import norm\n",
    "data = norm.rvs(size=10000,loc=4,scale=5)\n",
    " \n",
    "ax = sns.distplot(data,\n",
    "                  bins=50)\n",
    "ax.set(xlabel='Нормальное распределение', ylabel='Плотность')"
   ]
  },
  {
   "cell_type": "code",
   "execution_count": null,
   "metadata": {},
   "outputs": [],
   "source": [
    "from numpy import asarray\n",
    "from sklearn.preprocessing import StandardScaler\n",
    "data = asarray([[93, 44],\n",
    "                [4, 2],\n",
    "                [36, 1],\n",
    "                [14, 29],\n",
    "                [78, 21]])\n",
    "print(data)\n",
    "scaler = StandardScaler()\n",
    "scaled = scaler.fit_transform(data)\n",
    "print(scaled)"
   ]
  },
  {
   "cell_type": "code",
   "execution_count": null,
   "metadata": {},
   "outputs": [],
   "source": [
    "from scipy.stats import expon\n",
    "data = expon.rvs(scale=1,loc=0,size=1000)\n",
    "ax = sns.distplot(data,\n",
    "                  bins=50)\n",
    "ax.set(xlabel='Экспоненциальное распределение', ylabel='Плотность')"
   ]
  },
  {
   "cell_type": "markdown",
   "metadata": {},
   "source": [
    "### MATH&ML-8. Алгоритмы на основе деревьев решений\n",
    "#### 2. Деревья решений в контексте задач классификации и регрессии"
   ]
  },
  {
   "cell_type": "code",
   "execution_count": null,
   "metadata": {},
   "outputs": [],
   "source": [
    "import pandas as pd\n",
    "import matplotlib.pyplot as plt\n",
    "import seaborn as sns\n",
    "import numpy as np\n",
    "from sklearn import tree"
   ]
  },
  {
   "cell_type": "code",
   "execution_count": null,
   "metadata": {},
   "outputs": [],
   "source": [
    "# Создаём обучающую выборку\n",
    "ames_data = pd.read_csv('data/AmesHousing.csv')\n",
    "ames_data = ames_data[(ames_data['Lot Frontage'] <=150) & (ames_data['Lot Area'] <=20000)]\n",
    "X = ames_data[['Lot Frontage', 'Lot Area']]\n",
    "y = ames_data['SalePrice']\n",
    "\n",
    "# Инициализируем модель дерева решений с максимальной глубиной 3 и обучаем её\n",
    "dt_reg = tree.DecisionTreeRegressor(max_depth=3)\n",
    "dt_reg.fit(X.values, y)\n",
    "\n",
    "# Визуализируем дерево решений в виде графа\n",
    "fig = plt.figure(figsize=(15, 7))\n",
    "tree_graph = tree.plot_tree(\n",
    "    dt_reg, #дерево решений \n",
    "    feature_names=X.columns, #имена факторов\n",
    "    filled=True, #расцветка\n",
    "    impurity=False, #отображать ли неоднородность\n",
    ");"
   ]
  },
  {
   "cell_type": "code",
   "execution_count": null,
   "metadata": {},
   "outputs": [],
   "source": [
    "def plot_decision_bound_regression(X, y, model, fig):\n",
    "    xx1, xx2 = np.meshgrid(\n",
    "        np.arange(X.iloc[:, 0].min()-1, X.iloc[:, 0].max()+1, 1),\n",
    "        np.arange(X.iloc[:, 1].min()-1, X.iloc[:, 1].max()+1, 1)\n",
    "    )\n",
    "    X_net = np.hstack([xx1.reshape(-1, 1), xx2.reshape(-1, 1)])\n",
    "    y_pred = model.predict(X_net)\n",
    "    y_pred = y_pred.reshape(xx1.shape)\n",
    "    sns.scatterplot(x=X.iloc[:, 0], y=X.iloc[:, 1], s=15, color='black', alpha=0.8)\n",
    "    contour = plt.contourf(xx1, xx2, y_pred, 10, cmap='cividis', alpha=0.5)\n",
    "    fig.colorbar(contour)\n",
    "\n",
    "# Визуализируем разделяющую поверхность дерева решений\n",
    "fig = plt.figure(figsize = (10, 7))\n",
    "plot_decision_bound_regression(X, y, dt_reg, fig)"
   ]
  },
  {
   "cell_type": "code",
   "execution_count": null,
   "metadata": {},
   "outputs": [],
   "source": [
    "# Создаём обучающую выборку    \n",
    "bill_data = pd.read_csv('data/bill_authentication.csv')\n",
    "X = bill_data[['Variance', 'Skewness']]\n",
    "y = bill_data['Class']\n",
    "\n",
    "# Инициализируем модель дерева решений с максимальной глубиной 4 и обучаем её\n",
    "dt_clf = tree.DecisionTreeClassifier(max_depth=4)\n",
    "dt_clf.fit(X.values, y)\n",
    "\n",
    "# Визуализируем дерево решений в виде графа\n",
    "fig = plt.figure(figsize=(15, 7))\n",
    "tree_graph = tree.plot_tree(\n",
    "    dt_clf, #дерево решений\n",
    "    feature_names=X.columns, #имена факторов\n",
    "    filled=True, #расцветка\n",
    "    impurity=False, #отображать ли неоднородность\n",
    ");"
   ]
  },
  {
   "cell_type": "code",
   "execution_count": null,
   "metadata": {},
   "outputs": [],
   "source": [
    "def plot_decision_bound_classification(X, y, model, fig):\n",
    "    xx1, xx2 = np.meshgrid(\n",
    "        np.arange(X.iloc[:, 0].min()-1, X.iloc[:, 0].max()+1, 0.1),\n",
    "        np.arange(X.iloc[:, 1].min()-1, X.iloc[:, 1].max()+1, 0.1)\n",
    "    )\n",
    "    X_net = np.hstack([xx1.reshape(-1, 1), xx2.reshape(-1, 1)])\n",
    "    probs = model.predict_proba(X_net)[:, 1]\n",
    "    probs = probs.reshape(xx1.shape)\n",
    "    \n",
    "    sns.scatterplot(x=X.iloc[:, 0], y=X.iloc[:, 1], hue=y, s=15, alpha=1)\n",
    "    contour = plt.contourf(xx1, xx2, probs, 10, cmap='cividis', alpha=0.5)\n",
    "    bound = plt.contour(xx1, xx2, probs, [0.5], linewidths=2, colors='black');\n",
    "    fig.colorbar(contour)\n",
    "    plt.legend(bbox_to_anchor=(-0.05, 1))\n",
    "\n",
    "# Визуализируем разделяющую поверхность дерева решений\n",
    "fig = plt.figure(figsize = (10, 7))\n",
    "plot_decision_bound_classification(X, y, dt_clf, fig)"
   ]
  },
  {
   "cell_type": "markdown",
   "metadata": {},
   "source": [
    "MATH&ML-9. Математика ансамблевых методов  2. Ансамбли моделей. Бутстреппинг. Бэггинг"
   ]
  },
  {
   "cell_type": "markdown",
   "metadata": {},
   "source": [
    "Задание 2.2"
   ]
  },
  {
   "cell_type": "code",
   "execution_count": null,
   "metadata": {},
   "outputs": [],
   "source": [
    "import numpy as np\n",
    "a = np.array([4.4, 3.8, 4.8, 4.0, 3.4, 4.2, 5.2])\n",
    "b = a.mean()\n",
    "d = np.sum((a-b)**2)/7\n",
    "d"
   ]
  },
  {
   "cell_type": "markdown",
   "metadata": {},
   "source": [
    "Задание 2.7 / 2.8"
   ]
  },
  {
   "cell_type": "code",
   "execution_count": null,
   "metadata": {},
   "outputs": [],
   "source": [
    "import pandas as pd\n",
    "import numpy as np\n",
    "from sklearn import tree, linear_model, ensemble\n",
    "from sklearn import model_selection\n",
    "from sklearn import metrics\n",
    "\n",
    "df = pd.read_csv('data/wineQualityReds.csv')\n",
    "df.head(3)"
   ]
  },
  {
   "cell_type": "code",
   "execution_count": null,
   "metadata": {},
   "outputs": [],
   "source": [
    "df['target'] = np.where(df.quality >= 6, 1, 0)\n",
    "Y = df['target']\n",
    "X = df.drop(['target', 'quality'], axis= 1)\n",
    "X_train, X_test, y_train, y_test = model_selection.train_test_split(X, Y, test_size=0.3, random_state=42)\n",
    "model_lr = linear_model.LogisticRegression()\n",
    "model_lr.fit(X_train, y_train)\n",
    "preds_train = model_lr.predict(X_train)\n",
    "preds_test = model_lr.predict(X_test)\n",
    "metrics.f1_score(preds_test, y_test)"
   ]
  },
  {
   "cell_type": "code",
   "execution_count": null,
   "metadata": {},
   "outputs": [],
   "source": [
    "model_tree = tree.DecisionTreeClassifier(max_depth = 10, random_state=42)\n",
    "model_tree.fit(X_train, y_train)\n",
    "preds_train = model_tree.predict(X_train)\n",
    "preds_test = model_tree.predict(X_test)\n",
    "metrics.f1_score(preds_test, y_test)"
   ]
  },
  {
   "cell_type": "code",
   "execution_count": null,
   "metadata": {},
   "outputs": [],
   "source": [
    "bagging = ensemble.BaggingClassifier(base_estimator=model_tree, n_estimators=1500, random_state=42)\n",
    "bagging.fit(X_train, y_train)\n",
    "preds_train = bagging.predict(X_train)\n",
    "preds_test = bagging.predict(X_test)\n",
    "metrics.f1_score(preds_test, y_test)"
   ]
  },
  {
   "cell_type": "markdown",
   "metadata": {},
   "source": [
    "MATH&ML-9. Математика ансамблевых методов  3. Случайный лес"
   ]
  },
  {
   "cell_type": "markdown",
   "metadata": {},
   "source": [
    "Задание 3.4"
   ]
  },
  {
   "cell_type": "code",
   "execution_count": 123,
   "metadata": {},
   "outputs": [],
   "source": [
    "import pandas as pd\n",
    "import numpy as np\n",
    "from sklearn import tree, linear_model, ensemble\n",
    "from sklearn import model_selection\n",
    "from sklearn import metrics"
   ]
  },
  {
   "cell_type": "code",
   "execution_count": 124,
   "metadata": {},
   "outputs": [
    {
     "data": {
      "text/html": [
       "<div>\n",
       "<style scoped>\n",
       "    .dataframe tbody tr th:only-of-type {\n",
       "        vertical-align: middle;\n",
       "    }\n",
       "\n",
       "    .dataframe tbody tr th {\n",
       "        vertical-align: top;\n",
       "    }\n",
       "\n",
       "    .dataframe thead th {\n",
       "        text-align: right;\n",
       "    }\n",
       "</style>\n",
       "<table border=\"1\" class=\"dataframe\">\n",
       "  <thead>\n",
       "    <tr style=\"text-align: right;\">\n",
       "      <th></th>\n",
       "      <th>crim_rate</th>\n",
       "      <th>zn</th>\n",
       "      <th>business</th>\n",
       "      <th>river</th>\n",
       "      <th>nit_oxiden</th>\n",
       "      <th>rooms</th>\n",
       "      <th>age</th>\n",
       "      <th>dist</th>\n",
       "      <th>highways_index</th>\n",
       "      <th>tax</th>\n",
       "      <th>pup_per_teaс</th>\n",
       "      <th>lower</th>\n",
       "      <th>target</th>\n",
       "    </tr>\n",
       "  </thead>\n",
       "  <tbody>\n",
       "    <tr>\n",
       "      <th>0</th>\n",
       "      <td>0,00632</td>\n",
       "      <td>18</td>\n",
       "      <td>2,31</td>\n",
       "      <td>0</td>\n",
       "      <td>0,538</td>\n",
       "      <td>6,575</td>\n",
       "      <td>65,2</td>\n",
       "      <td>4,09</td>\n",
       "      <td>1</td>\n",
       "      <td>296</td>\n",
       "      <td>15,3</td>\n",
       "      <td>4,98</td>\n",
       "      <td>24</td>\n",
       "    </tr>\n",
       "    <tr>\n",
       "      <th>1</th>\n",
       "      <td>0,02731</td>\n",
       "      <td>0</td>\n",
       "      <td>7,07</td>\n",
       "      <td>0</td>\n",
       "      <td>0,469</td>\n",
       "      <td>6,421</td>\n",
       "      <td>78,9</td>\n",
       "      <td>4,9671</td>\n",
       "      <td>2</td>\n",
       "      <td>242</td>\n",
       "      <td>17,8</td>\n",
       "      <td>9,14</td>\n",
       "      <td>21,6</td>\n",
       "    </tr>\n",
       "    <tr>\n",
       "      <th>2</th>\n",
       "      <td>0,02729</td>\n",
       "      <td>0</td>\n",
       "      <td>7,07</td>\n",
       "      <td>0</td>\n",
       "      <td>0,469</td>\n",
       "      <td>7,185</td>\n",
       "      <td>61,1</td>\n",
       "      <td>4,9671</td>\n",
       "      <td>2</td>\n",
       "      <td>242</td>\n",
       "      <td>17,8</td>\n",
       "      <td>4,03</td>\n",
       "      <td>34,7</td>\n",
       "    </tr>\n",
       "    <tr>\n",
       "      <th>3</th>\n",
       "      <td>0,03237</td>\n",
       "      <td>0</td>\n",
       "      <td>2,18</td>\n",
       "      <td>0</td>\n",
       "      <td>0,458</td>\n",
       "      <td>6,998</td>\n",
       "      <td>45,8</td>\n",
       "      <td>6,0622</td>\n",
       "      <td>3</td>\n",
       "      <td>222</td>\n",
       "      <td>18,7</td>\n",
       "      <td>2,94</td>\n",
       "      <td>33,4</td>\n",
       "    </tr>\n",
       "    <tr>\n",
       "      <th>4</th>\n",
       "      <td>0,06905</td>\n",
       "      <td>0</td>\n",
       "      <td>2,18</td>\n",
       "      <td>0</td>\n",
       "      <td>0,458</td>\n",
       "      <td>7,147</td>\n",
       "      <td>54,2</td>\n",
       "      <td>6,0622</td>\n",
       "      <td>3</td>\n",
       "      <td>222</td>\n",
       "      <td>18,7</td>\n",
       "      <td>5,33</td>\n",
       "      <td>36,2</td>\n",
       "    </tr>\n",
       "  </tbody>\n",
       "</table>\n",
       "</div>"
      ],
      "text/plain": [
       "  crim_rate  zn business  river nit_oxiden  rooms   age    dist  \\\n",
       "0   0,00632  18     2,31      0      0,538  6,575  65,2    4,09   \n",
       "1   0,02731   0     7,07      0      0,469  6,421  78,9  4,9671   \n",
       "2   0,02729   0     7,07      0      0,469  7,185  61,1  4,9671   \n",
       "3   0,03237   0     2,18      0      0,458  6,998  45,8  6,0622   \n",
       "4   0,06905   0     2,18      0      0,458  7,147  54,2  6,0622   \n",
       "\n",
       "   highways_index  tax pup_per_teaс lower target  \n",
       "0               1  296         15,3  4,98     24  \n",
       "1               2  242         17,8  9,14   21,6  \n",
       "2               2  242         17,8  4,03   34,7  \n",
       "3               3  222         18,7  2,94   33,4  \n",
       "4               3  222         18,7  5,33   36,2  "
      ]
     },
     "execution_count": 124,
     "metadata": {},
     "output_type": "execute_result"
    }
   ],
   "source": [
    "data = pd.read_csv('data/boston.csv')\n",
    "data.head()"
   ]
  },
  {
   "cell_type": "code",
   "execution_count": null,
   "metadata": {},
   "outputs": [],
   "source": [
    "data.info()"
   ]
  },
  {
   "cell_type": "code",
   "execution_count": null,
   "metadata": {},
   "outputs": [],
   "source": [
    "data.columns"
   ]
  },
  {
   "cell_type": "code",
   "execution_count": 125,
   "metadata": {},
   "outputs": [],
   "source": [
    "for column in ['crim_rate', 'zn', 'business', 'nit_oxiden', 'rooms', 'age', 'dist', 'pup_per_teaс', 'lower', 'target']:\n",
    "    data[column] = data[column].str.replace(',', '.')   "
   ]
  },
  {
   "cell_type": "code",
   "execution_count": null,
   "metadata": {},
   "outputs": [],
   "source": [
    "data.head()"
   ]
  },
  {
   "cell_type": "code",
   "execution_count": 126,
   "metadata": {},
   "outputs": [],
   "source": [
    "for column in ['crim_rate', 'zn', 'business', 'nit_oxiden', 'rooms', 'age', 'dist', 'pup_per_teaс', 'lower', 'target']:\n",
    "    data[column] = pd.to_numeric(data[column]) "
   ]
  },
  {
   "cell_type": "code",
   "execution_count": null,
   "metadata": {},
   "outputs": [],
   "source": [
    "data.info()"
   ]
  },
  {
   "cell_type": "code",
   "execution_count": 127,
   "metadata": {},
   "outputs": [],
   "source": [
    "X = data[data.columns[:-1]]\n",
    "Y = data[\"target\"]\n",
    "X_train, X_test, Y_train, Y_test = model_selection.train_test_split(X, Y, test_size=0.3, random_state = 13)"
   ]
  },
  {
   "cell_type": "code",
   "execution_count": null,
   "metadata": {},
   "outputs": [],
   "source": [
    "Y_train.mean()"
   ]
  },
  {
   "cell_type": "code",
   "execution_count": null,
   "metadata": {},
   "outputs": [],
   "source": [
    "lr = linear_model.LinearRegression()\n",
    "lr.fit(X_train, Y_train)\n",
    "y_test_pred = lr.predict(X_test)\n",
    "y_train_pred = lr.predict(X_train)\n",
    "metrics.mean_absolute_error(Y_test, y_test_pred)"
   ]
  },
  {
   "cell_type": "code",
   "execution_count": 128,
   "metadata": {},
   "outputs": [
    {
     "data": {
      "text/plain": [
       "2.8388157894736845"
      ]
     },
     "execution_count": 128,
     "metadata": {},
     "output_type": "execute_result"
    }
   ],
   "source": [
    "tree = tree.DecisionTreeRegressor(random_state=13)\n",
    "tree.fit(X_train, Y_train)\n",
    "y_test_pred = tree.predict(X_test)\n",
    "y_train_pred = tree.predict(X_train)\n",
    "metrics.mean_absolute_error(Y_test, y_test_pred)"
   ]
  },
  {
   "cell_type": "code",
   "execution_count": 129,
   "metadata": {},
   "outputs": [
    {
     "data": {
      "text/plain": [
       "0.0"
      ]
     },
     "execution_count": 129,
     "metadata": {},
     "output_type": "execute_result"
    }
   ],
   "source": [
    "metrics.mean_absolute_error(Y_train, y_train_pred)"
   ]
  },
  {
   "cell_type": "code",
   "execution_count": 132,
   "metadata": {},
   "outputs": [],
   "source": [
    "rf = ensemble.RandomForestRegressor(n_estimators=3, random_state=13)"
   ]
  },
  {
   "cell_type": "code",
   "execution_count": 133,
   "metadata": {},
   "outputs": [
    {
     "data": {
      "text/plain": [
       "2.9328947368421057"
      ]
     },
     "execution_count": 133,
     "metadata": {},
     "output_type": "execute_result"
    }
   ],
   "source": [
    "rf.fit(X_train, Y_train)\n",
    "y_test_pred = rf.predict(X_test)\n",
    "y_train_pred = rf.predict(X_train)\n",
    "metrics.mean_absolute_error(Y_test, y_test_pred)"
   ]
  },
  {
   "cell_type": "code",
   "execution_count": 135,
   "metadata": {},
   "outputs": [
    {
     "data": {
      "text/plain": [
       "2.466315789473684"
      ]
     },
     "execution_count": 135,
     "metadata": {},
     "output_type": "execute_result"
    }
   ],
   "source": [
    "rf = ensemble.RandomForestRegressor(n_estimators=10, random_state=13)\n",
    "rf.fit(X_train, Y_train)\n",
    "y_test_pred = rf.predict(X_test)\n",
    "y_train_pred = rf.predict(X_train)\n",
    "metrics.mean_absolute_error(Y_test, y_test_pred)"
   ]
  },
  {
   "cell_type": "code",
   "execution_count": 136,
   "metadata": {},
   "outputs": [
    {
     "data": {
      "text/plain": [
       "2.2559736842105265"
      ]
     },
     "execution_count": 136,
     "metadata": {},
     "output_type": "execute_result"
    }
   ],
   "source": [
    "rf = ensemble.RandomForestRegressor(n_estimators=100, random_state=13)\n",
    "rf.fit(X_train, Y_train)\n",
    "y_test_pred = rf.predict(X_test)\n",
    "y_train_pred = rf.predict(X_train)\n",
    "metrics.mean_absolute_error(Y_test, y_test_pred)"
   ]
  },
  {
   "cell_type": "code",
   "execution_count": 137,
   "metadata": {},
   "outputs": [
    {
     "data": {
      "text/plain": [
       "2.2365657894736892"
      ]
     },
     "execution_count": 137,
     "metadata": {},
     "output_type": "execute_result"
    }
   ],
   "source": [
    "rf = ensemble.RandomForestRegressor(n_estimators=500, random_state=13)\n",
    "rf.fit(X_train, Y_train)\n",
    "y_test_pred = rf.predict(X_test)\n",
    "y_train_pred = rf.predict(X_train)\n",
    "metrics.mean_absolute_error(Y_test, y_test_pred)"
   ]
  },
  {
   "cell_type": "markdown",
   "metadata": {},
   "source": [
    "### MATH&ML-9. Математика ансамблевых методов\n",
    "#### 4. Случайный лес. Практика"
   ]
  },
  {
   "cell_type": "code",
   "execution_count": 229,
   "metadata": {},
   "outputs": [],
   "source": [
    "import pandas as pd\n",
    "import numpy as np\n",
    "from sklearn import tree, linear_model, ensemble\n",
    "from sklearn.model_selection import train_test_split, GridSearchCV\n",
    "from sklearn import metrics\n"
   ]
  },
  {
   "cell_type": "code",
   "execution_count": 198,
   "metadata": {},
   "outputs": [
    {
     "data": {
      "text/html": [
       "<div>\n",
       "<style scoped>\n",
       "    .dataframe tbody tr th:only-of-type {\n",
       "        vertical-align: middle;\n",
       "    }\n",
       "\n",
       "    .dataframe tbody tr th {\n",
       "        vertical-align: top;\n",
       "    }\n",
       "\n",
       "    .dataframe thead th {\n",
       "        text-align: right;\n",
       "    }\n",
       "</style>\n",
       "<table border=\"1\" class=\"dataframe\">\n",
       "  <thead>\n",
       "    <tr style=\"text-align: right;\">\n",
       "      <th></th>\n",
       "      <th>Date</th>\n",
       "      <th>Location</th>\n",
       "      <th>MinTemp</th>\n",
       "      <th>MaxTemp</th>\n",
       "      <th>Rainfall</th>\n",
       "      <th>Evaporation</th>\n",
       "      <th>Sunshine</th>\n",
       "      <th>WindGustDir</th>\n",
       "      <th>WindGustSpeed</th>\n",
       "      <th>WindDir9am</th>\n",
       "      <th>...</th>\n",
       "      <th>Humidity9am</th>\n",
       "      <th>Humidity3pm</th>\n",
       "      <th>Pressure9am</th>\n",
       "      <th>Pressure3pm</th>\n",
       "      <th>Cloud9am</th>\n",
       "      <th>Cloud3pm</th>\n",
       "      <th>Temp9am</th>\n",
       "      <th>Temp3pm</th>\n",
       "      <th>RainToday</th>\n",
       "      <th>RainTomorrow</th>\n",
       "    </tr>\n",
       "  </thead>\n",
       "  <tbody>\n",
       "    <tr>\n",
       "      <th>0</th>\n",
       "      <td>2008-12-01</td>\n",
       "      <td>Albury</td>\n",
       "      <td>13.4</td>\n",
       "      <td>22.9</td>\n",
       "      <td>0.6</td>\n",
       "      <td>NaN</td>\n",
       "      <td>NaN</td>\n",
       "      <td>W</td>\n",
       "      <td>44.0</td>\n",
       "      <td>W</td>\n",
       "      <td>...</td>\n",
       "      <td>71.0</td>\n",
       "      <td>22.0</td>\n",
       "      <td>1007.7</td>\n",
       "      <td>1007.1</td>\n",
       "      <td>8.0</td>\n",
       "      <td>NaN</td>\n",
       "      <td>16.9</td>\n",
       "      <td>21.8</td>\n",
       "      <td>No</td>\n",
       "      <td>No</td>\n",
       "    </tr>\n",
       "    <tr>\n",
       "      <th>1</th>\n",
       "      <td>2008-12-02</td>\n",
       "      <td>Albury</td>\n",
       "      <td>7.4</td>\n",
       "      <td>25.1</td>\n",
       "      <td>0.0</td>\n",
       "      <td>NaN</td>\n",
       "      <td>NaN</td>\n",
       "      <td>WNW</td>\n",
       "      <td>44.0</td>\n",
       "      <td>NNW</td>\n",
       "      <td>...</td>\n",
       "      <td>44.0</td>\n",
       "      <td>25.0</td>\n",
       "      <td>1010.6</td>\n",
       "      <td>1007.8</td>\n",
       "      <td>NaN</td>\n",
       "      <td>NaN</td>\n",
       "      <td>17.2</td>\n",
       "      <td>24.3</td>\n",
       "      <td>No</td>\n",
       "      <td>No</td>\n",
       "    </tr>\n",
       "    <tr>\n",
       "      <th>2</th>\n",
       "      <td>2008-12-03</td>\n",
       "      <td>Albury</td>\n",
       "      <td>12.9</td>\n",
       "      <td>25.7</td>\n",
       "      <td>0.0</td>\n",
       "      <td>NaN</td>\n",
       "      <td>NaN</td>\n",
       "      <td>WSW</td>\n",
       "      <td>46.0</td>\n",
       "      <td>W</td>\n",
       "      <td>...</td>\n",
       "      <td>38.0</td>\n",
       "      <td>30.0</td>\n",
       "      <td>1007.6</td>\n",
       "      <td>1008.7</td>\n",
       "      <td>NaN</td>\n",
       "      <td>2.0</td>\n",
       "      <td>21.0</td>\n",
       "      <td>23.2</td>\n",
       "      <td>No</td>\n",
       "      <td>No</td>\n",
       "    </tr>\n",
       "    <tr>\n",
       "      <th>3</th>\n",
       "      <td>2008-12-04</td>\n",
       "      <td>Albury</td>\n",
       "      <td>9.2</td>\n",
       "      <td>28.0</td>\n",
       "      <td>0.0</td>\n",
       "      <td>NaN</td>\n",
       "      <td>NaN</td>\n",
       "      <td>NE</td>\n",
       "      <td>24.0</td>\n",
       "      <td>SE</td>\n",
       "      <td>...</td>\n",
       "      <td>45.0</td>\n",
       "      <td>16.0</td>\n",
       "      <td>1017.6</td>\n",
       "      <td>1012.8</td>\n",
       "      <td>NaN</td>\n",
       "      <td>NaN</td>\n",
       "      <td>18.1</td>\n",
       "      <td>26.5</td>\n",
       "      <td>No</td>\n",
       "      <td>No</td>\n",
       "    </tr>\n",
       "    <tr>\n",
       "      <th>4</th>\n",
       "      <td>2008-12-05</td>\n",
       "      <td>Albury</td>\n",
       "      <td>17.5</td>\n",
       "      <td>32.3</td>\n",
       "      <td>1.0</td>\n",
       "      <td>NaN</td>\n",
       "      <td>NaN</td>\n",
       "      <td>W</td>\n",
       "      <td>41.0</td>\n",
       "      <td>ENE</td>\n",
       "      <td>...</td>\n",
       "      <td>82.0</td>\n",
       "      <td>33.0</td>\n",
       "      <td>1010.8</td>\n",
       "      <td>1006.0</td>\n",
       "      <td>7.0</td>\n",
       "      <td>8.0</td>\n",
       "      <td>17.8</td>\n",
       "      <td>29.7</td>\n",
       "      <td>No</td>\n",
       "      <td>No</td>\n",
       "    </tr>\n",
       "  </tbody>\n",
       "</table>\n",
       "<p>5 rows × 23 columns</p>\n",
       "</div>"
      ],
      "text/plain": [
       "         Date Location  MinTemp  MaxTemp  Rainfall  Evaporation  Sunshine  \\\n",
       "0  2008-12-01   Albury     13.4     22.9       0.6          NaN       NaN   \n",
       "1  2008-12-02   Albury      7.4     25.1       0.0          NaN       NaN   \n",
       "2  2008-12-03   Albury     12.9     25.7       0.0          NaN       NaN   \n",
       "3  2008-12-04   Albury      9.2     28.0       0.0          NaN       NaN   \n",
       "4  2008-12-05   Albury     17.5     32.3       1.0          NaN       NaN   \n",
       "\n",
       "  WindGustDir  WindGustSpeed WindDir9am  ... Humidity9am  Humidity3pm  \\\n",
       "0           W           44.0          W  ...        71.0         22.0   \n",
       "1         WNW           44.0        NNW  ...        44.0         25.0   \n",
       "2         WSW           46.0          W  ...        38.0         30.0   \n",
       "3          NE           24.0         SE  ...        45.0         16.0   \n",
       "4           W           41.0        ENE  ...        82.0         33.0   \n",
       "\n",
       "   Pressure9am  Pressure3pm  Cloud9am  Cloud3pm  Temp9am  Temp3pm  RainToday  \\\n",
       "0       1007.7       1007.1       8.0       NaN     16.9     21.8         No   \n",
       "1       1010.6       1007.8       NaN       NaN     17.2     24.3         No   \n",
       "2       1007.6       1008.7       NaN       2.0     21.0     23.2         No   \n",
       "3       1017.6       1012.8       NaN       NaN     18.1     26.5         No   \n",
       "4       1010.8       1006.0       7.0       8.0     17.8     29.7         No   \n",
       "\n",
       "   RainTomorrow  \n",
       "0            No  \n",
       "1            No  \n",
       "2            No  \n",
       "3            No  \n",
       "4            No  \n",
       "\n",
       "[5 rows x 23 columns]"
      ]
     },
     "execution_count": 198,
     "metadata": {},
     "output_type": "execute_result"
    }
   ],
   "source": [
    "data = pd.read_csv('data/weatherAUS.csv')\n",
    "data.head()"
   ]
  },
  {
   "cell_type": "code",
   "execution_count": 199,
   "metadata": {},
   "outputs": [
    {
     "data": {
      "text/plain": [
       "343248"
      ]
     },
     "execution_count": 199,
     "metadata": {},
     "output_type": "execute_result"
    }
   ],
   "source": [
    "data.isnull().sum().sum()"
   ]
  },
  {
   "cell_type": "code",
   "execution_count": 200,
   "metadata": {},
   "outputs": [
    {
     "name": "stdout",
     "output_type": "stream",
     "text": [
      "Sunshine       48.009762\n",
      "Evaporation    43.166506\n",
      "Cloud3pm       40.807095\n",
      "dtype: float64\n"
     ]
    }
   ],
   "source": [
    "cols_null_percent = data.isnull().mean() * 100\n",
    "cols_with_null = cols_null_percent[cols_null_percent>40].sort_values(ascending=False)\n",
    "print(cols_with_null)"
   ]
  },
  {
   "cell_type": "code",
   "execution_count": 201,
   "metadata": {},
   "outputs": [],
   "source": [
    "data = data.drop(columns=['Sunshine', 'Evaporation', 'Cloud3pm'])"
   ]
  },
  {
   "cell_type": "code",
   "execution_count": 202,
   "metadata": {},
   "outputs": [],
   "source": [
    "data.RainToday = data.RainToday.map({'No': 0, 'Yes': 1})\n",
    "data.RainTomorrow = data.RainTomorrow.map({'No': 0, 'Yes': 1})"
   ]
  },
  {
   "cell_type": "code",
   "execution_count": 188,
   "metadata": {},
   "outputs": [
    {
     "data": {
      "text/plain": [
       "0.0    110319\n",
       "1.0     31880\n",
       "Name: RainToday, dtype: int64"
      ]
     },
     "execution_count": 188,
     "metadata": {},
     "output_type": "execute_result"
    }
   ],
   "source": [
    "#data['RainToday'] = data['RainToday'].apply(lambda x: 1 if x == 'Yes' else (0 if x == 'No' else None))\n",
    "#data['RainToday'].value_counts()"
   ]
  },
  {
   "cell_type": "code",
   "execution_count": 204,
   "metadata": {},
   "outputs": [
    {
     "data": {
      "text/plain": [
       "0.22"
      ]
     },
     "execution_count": 204,
     "metadata": {},
     "output_type": "execute_result"
    }
   ],
   "source": [
    "round(data['RainToday'].mean(), 2)"
   ]
  },
  {
   "cell_type": "code",
   "execution_count": 216,
   "metadata": {},
   "outputs": [],
   "source": [
    "data['Month'] = pd.to_datetime(data['Date']).dt.month\n",
    "data = data.drop(columns=['Date'])"
   ]
  },
  {
   "cell_type": "code",
   "execution_count": 219,
   "metadata": {},
   "outputs": [
    {
     "data": {
      "text/plain": [
       "Month\n",
       "7     0.270736\n",
       "6     0.263638\n",
       "8     0.253167\n",
       "9     0.229135\n",
       "5     0.222163\n",
       "3     0.217135\n",
       "4     0.216845\n",
       "12    0.213037\n",
       "11    0.210843\n",
       "2     0.206746\n",
       "10    0.196512\n",
       "1     0.189484\n",
       "Name: RainToday, dtype: float64"
      ]
     },
     "execution_count": 219,
     "metadata": {},
     "output_type": "execute_result"
    }
   ],
   "source": [
    "x = data.groupby(data['Month']).mean()\n",
    "x['RainToday'].sort_values(ascending=False)"
   ]
  },
  {
   "cell_type": "code",
   "execution_count": 221,
   "metadata": {},
   "outputs": [
    {
     "data": {
      "text/plain": [
       "(145460, 124)"
      ]
     },
     "execution_count": 221,
     "metadata": {},
     "output_type": "execute_result"
    }
   ],
   "source": [
    "categoricals = ['Month', 'Location', 'WindGustDir', 'WindDir9am', 'WindDir3pm']\n",
    "data_dummies = pd.get_dummies(data, columns=categoricals)\n",
    "data_dummies.shape"
   ]
  },
  {
   "cell_type": "code",
   "execution_count": 222,
   "metadata": {},
   "outputs": [],
   "source": [
    "data_dummies = data_dummies.dropna()"
   ]
  },
  {
   "cell_type": "code",
   "execution_count": 260,
   "metadata": {},
   "outputs": [
    {
     "data": {
      "text/plain": [
       "0.22770253002811142"
      ]
     },
     "execution_count": 260,
     "metadata": {},
     "output_type": "execute_result"
    }
   ],
   "source": [
    "X = data_dummies.drop('RainTomorrow', axis = 1)\n",
    "y = data_dummies['RainTomorrow']\n",
    "X_train, X_test, y_train, y_test = train_test_split(X, y, test_size=0.3, random_state=31)\n",
    "y_test.mean()"
   ]
  },
  {
   "cell_type": "code",
   "execution_count": 266,
   "metadata": {},
   "outputs": [
    {
     "data": {
      "text/plain": [
       "0.03"
      ]
     },
     "execution_count": 266,
     "metadata": {},
     "output_type": "execute_result"
    }
   ],
   "source": [
    "def gbs(data, n):     \n",
    "    inds = np.random.randint(0, len(data), size=(n, len(data))) #определяем индексы случайным образом\n",
    "    numbers = data[inds] #выбираем значения по индексам\n",
    "    return numbers\n",
    "target = X_train['MinTemp'].values #выбираем целевую переменную\n",
    "np.random.seed(31) #задаём параметр генератора случайных чисел\n",
    "mean_values = [np.mean(x) for x in gbs(target, 1000)] #получаем все средние значения\n",
    "round(np.std(mean_values),2) #находим для них стандартное отклонение"
   ]
  },
  {
   "cell_type": "code",
   "execution_count": 249,
   "metadata": {},
   "outputs": [
    {
     "name": "stdout",
     "output_type": "stream",
     "text": [
      "roc_auc_score test: 0.80\n"
     ]
    },
    {
     "name": "stderr",
     "output_type": "stream",
     "text": [
      "/Library/Frameworks/Python.framework/Versions/3.10/lib/python3.10/site-packages/sklearn/linear_model/_logistic.py:444: ConvergenceWarning: lbfgs failed to converge (status=1):\n",
      "STOP: TOTAL NO. of ITERATIONS REACHED LIMIT.\n",
      "\n",
      "Increase the number of iterations (max_iter) or scale the data as shown in:\n",
      "    https://scikit-learn.org/stable/modules/preprocessing.html\n",
      "Please also refer to the documentation for alternative solver options:\n",
      "    https://scikit-learn.org/stable/modules/linear_model.html#logistic-regression\n",
      "  n_iter_i = _check_optimize_result(\n"
     ]
    }
   ],
   "source": [
    "lr = linear_model.LogisticRegression()\n",
    "lr.fit(X_train, y_train)\n",
    "y_train_pred = lr.predict(X_train)\n",
    "y_test_pred = lr.predict(X_test)\n",
    "print('roc_auc_score test: {:.2f}'.format(metrics.roc_auc_score(y_test_pred, y_test)))"
   ]
  },
  {
   "cell_type": "code",
   "execution_count": 231,
   "metadata": {},
   "outputs": [
    {
     "name": "stdout",
     "output_type": "stream",
     "text": [
      "Fitting 3 folds for each of 96 candidates, totalling 288 fits\n",
      "[CV 1/3] END max_depth=5, max_leaf_nodes=2, min_samples_split=2;, score=0.817 total time=   0.1s\n",
      "[CV 2/3] END max_depth=5, max_leaf_nodes=2, min_samples_split=2;, score=0.820 total time=   0.1s\n",
      "[CV 3/3] END max_depth=5, max_leaf_nodes=2, min_samples_split=2;, score=0.825 total time=   0.1s\n",
      "[CV 1/3] END max_depth=5, max_leaf_nodes=2, min_samples_split=3;, score=0.817 total time=   0.1s\n",
      "[CV 2/3] END max_depth=5, max_leaf_nodes=2, min_samples_split=3;, score=0.820 total time=   0.1s\n",
      "[CV 3/3] END max_depth=5, max_leaf_nodes=2, min_samples_split=3;, score=0.825 total time=   0.1s\n",
      "[CV 1/3] END max_depth=5, max_leaf_nodes=2, min_samples_split=4;, score=0.817 total time=   0.1s\n",
      "[CV 2/3] END max_depth=5, max_leaf_nodes=2, min_samples_split=4;, score=0.820 total time=   0.1s\n",
      "[CV 3/3] END max_depth=5, max_leaf_nodes=2, min_samples_split=4;, score=0.825 total time=   0.1s\n",
      "[CV 1/3] END max_depth=5, max_leaf_nodes=3, min_samples_split=2;, score=0.819 total time=   0.1s\n",
      "[CV 2/3] END max_depth=5, max_leaf_nodes=3, min_samples_split=2;, score=0.820 total time=   0.1s\n",
      "[CV 3/3] END max_depth=5, max_leaf_nodes=3, min_samples_split=2;, score=0.825 total time=   0.1s\n",
      "[CV 1/3] END max_depth=5, max_leaf_nodes=3, min_samples_split=3;, score=0.819 total time=   0.1s\n",
      "[CV 2/3] END max_depth=5, max_leaf_nodes=3, min_samples_split=3;, score=0.820 total time=   0.1s\n",
      "[CV 3/3] END max_depth=5, max_leaf_nodes=3, min_samples_split=3;, score=0.825 total time=   0.1s\n",
      "[CV 1/3] END max_depth=5, max_leaf_nodes=3, min_samples_split=4;, score=0.819 total time=   0.1s\n",
      "[CV 2/3] END max_depth=5, max_leaf_nodes=3, min_samples_split=4;, score=0.820 total time=   0.1s\n",
      "[CV 3/3] END max_depth=5, max_leaf_nodes=3, min_samples_split=4;, score=0.825 total time=   0.1s\n",
      "[CV 1/3] END max_depth=5, max_leaf_nodes=4, min_samples_split=2;, score=0.819 total time=   0.1s\n",
      "[CV 2/3] END max_depth=5, max_leaf_nodes=4, min_samples_split=2;, score=0.820 total time=   0.1s\n",
      "[CV 3/3] END max_depth=5, max_leaf_nodes=4, min_samples_split=2;, score=0.825 total time=   0.1s\n",
      "[CV 1/3] END max_depth=5, max_leaf_nodes=4, min_samples_split=3;, score=0.819 total time=   0.1s\n",
      "[CV 2/3] END max_depth=5, max_leaf_nodes=4, min_samples_split=3;, score=0.820 total time=   0.1s\n",
      "[CV 3/3] END max_depth=5, max_leaf_nodes=4, min_samples_split=3;, score=0.825 total time=   0.1s\n",
      "[CV 1/3] END max_depth=5, max_leaf_nodes=4, min_samples_split=4;, score=0.819 total time=   0.1s\n",
      "[CV 2/3] END max_depth=5, max_leaf_nodes=4, min_samples_split=4;, score=0.820 total time=   0.1s\n",
      "[CV 3/3] END max_depth=5, max_leaf_nodes=4, min_samples_split=4;, score=0.825 total time=   0.1s\n",
      "[CV 1/3] END max_depth=5, max_leaf_nodes=5, min_samples_split=2;, score=0.819 total time=   0.1s\n",
      "[CV 2/3] END max_depth=5, max_leaf_nodes=5, min_samples_split=2;, score=0.820 total time=   0.1s\n",
      "[CV 3/3] END max_depth=5, max_leaf_nodes=5, min_samples_split=2;, score=0.825 total time=   0.1s\n",
      "[CV 1/3] END max_depth=5, max_leaf_nodes=5, min_samples_split=3;, score=0.819 total time=   0.1s\n",
      "[CV 2/3] END max_depth=5, max_leaf_nodes=5, min_samples_split=3;, score=0.820 total time=   0.1s\n",
      "[CV 3/3] END max_depth=5, max_leaf_nodes=5, min_samples_split=3;, score=0.825 total time=   0.1s\n",
      "[CV 1/3] END max_depth=5, max_leaf_nodes=5, min_samples_split=4;, score=0.819 total time=   0.1s\n",
      "[CV 2/3] END max_depth=5, max_leaf_nodes=5, min_samples_split=4;, score=0.820 total time=   0.1s\n",
      "[CV 3/3] END max_depth=5, max_leaf_nodes=5, min_samples_split=4;, score=0.825 total time=   0.1s\n",
      "[CV 1/3] END max_depth=5, max_leaf_nodes=6, min_samples_split=2;, score=0.819 total time=   0.1s\n",
      "[CV 2/3] END max_depth=5, max_leaf_nodes=6, min_samples_split=2;, score=0.820 total time=   0.1s\n",
      "[CV 3/3] END max_depth=5, max_leaf_nodes=6, min_samples_split=2;, score=0.832 total time=   0.1s\n",
      "[CV 1/3] END max_depth=5, max_leaf_nodes=6, min_samples_split=3;, score=0.819 total time=   0.1s\n",
      "[CV 2/3] END max_depth=5, max_leaf_nodes=6, min_samples_split=3;, score=0.820 total time=   0.1s\n",
      "[CV 3/3] END max_depth=5, max_leaf_nodes=6, min_samples_split=3;, score=0.832 total time=   0.1s\n",
      "[CV 1/3] END max_depth=5, max_leaf_nodes=6, min_samples_split=4;, score=0.819 total time=   0.1s\n",
      "[CV 2/3] END max_depth=5, max_leaf_nodes=6, min_samples_split=4;, score=0.820 total time=   0.1s\n",
      "[CV 3/3] END max_depth=5, max_leaf_nodes=6, min_samples_split=4;, score=0.832 total time=   0.1s\n",
      "[CV 1/3] END max_depth=5, max_leaf_nodes=7, min_samples_split=2;, score=0.831 total time=   0.1s\n",
      "[CV 2/3] END max_depth=5, max_leaf_nodes=7, min_samples_split=2;, score=0.834 total time=   0.1s\n",
      "[CV 3/3] END max_depth=5, max_leaf_nodes=7, min_samples_split=2;, score=0.832 total time=   0.1s\n",
      "[CV 1/3] END max_depth=5, max_leaf_nodes=7, min_samples_split=3;, score=0.831 total time=   0.1s\n",
      "[CV 2/3] END max_depth=5, max_leaf_nodes=7, min_samples_split=3;, score=0.834 total time=   0.1s\n",
      "[CV 3/3] END max_depth=5, max_leaf_nodes=7, min_samples_split=3;, score=0.832 total time=   0.1s\n",
      "[CV 1/3] END max_depth=5, max_leaf_nodes=7, min_samples_split=4;, score=0.831 total time=   0.1s\n",
      "[CV 2/3] END max_depth=5, max_leaf_nodes=7, min_samples_split=4;, score=0.834 total time=   0.1s\n",
      "[CV 3/3] END max_depth=5, max_leaf_nodes=7, min_samples_split=4;, score=0.832 total time=   0.1s\n",
      "[CV 1/3] END max_depth=5, max_leaf_nodes=8, min_samples_split=2;, score=0.835 total time=   0.1s\n",
      "[CV 2/3] END max_depth=5, max_leaf_nodes=8, min_samples_split=2;, score=0.840 total time=   0.1s\n",
      "[CV 3/3] END max_depth=5, max_leaf_nodes=8, min_samples_split=2;, score=0.836 total time=   0.1s\n",
      "[CV 1/3] END max_depth=5, max_leaf_nodes=8, min_samples_split=3;, score=0.835 total time=   0.1s\n",
      "[CV 2/3] END max_depth=5, max_leaf_nodes=8, min_samples_split=3;, score=0.840 total time=   0.1s\n",
      "[CV 3/3] END max_depth=5, max_leaf_nodes=8, min_samples_split=3;, score=0.836 total time=   0.1s\n",
      "[CV 1/3] END max_depth=5, max_leaf_nodes=8, min_samples_split=4;, score=0.835 total time=   0.1s\n",
      "[CV 2/3] END max_depth=5, max_leaf_nodes=8, min_samples_split=4;, score=0.840 total time=   0.1s\n",
      "[CV 3/3] END max_depth=5, max_leaf_nodes=8, min_samples_split=4;, score=0.836 total time=   0.1s\n",
      "[CV 1/3] END max_depth=5, max_leaf_nodes=9, min_samples_split=2;, score=0.835 total time=   0.1s\n",
      "[CV 2/3] END max_depth=5, max_leaf_nodes=9, min_samples_split=2;, score=0.840 total time=   0.1s\n",
      "[CV 3/3] END max_depth=5, max_leaf_nodes=9, min_samples_split=2;, score=0.837 total time=   0.1s\n",
      "[CV 1/3] END max_depth=5, max_leaf_nodes=9, min_samples_split=3;, score=0.835 total time=   0.1s\n",
      "[CV 2/3] END max_depth=5, max_leaf_nodes=9, min_samples_split=3;, score=0.840 total time=   0.1s\n",
      "[CV 3/3] END max_depth=5, max_leaf_nodes=9, min_samples_split=3;, score=0.837 total time=   0.1s\n",
      "[CV 1/3] END max_depth=5, max_leaf_nodes=9, min_samples_split=4;, score=0.835 total time=   0.1s\n",
      "[CV 2/3] END max_depth=5, max_leaf_nodes=9, min_samples_split=4;, score=0.840 total time=   0.1s\n",
      "[CV 3/3] END max_depth=5, max_leaf_nodes=9, min_samples_split=4;, score=0.837 total time=   0.1s\n",
      "[CV 1/3] END max_depth=7, max_leaf_nodes=2, min_samples_split=2;, score=0.817 total time=   0.1s\n",
      "[CV 2/3] END max_depth=7, max_leaf_nodes=2, min_samples_split=2;, score=0.820 total time=   0.1s\n",
      "[CV 3/3] END max_depth=7, max_leaf_nodes=2, min_samples_split=2;, score=0.825 total time=   0.1s\n",
      "[CV 1/3] END max_depth=7, max_leaf_nodes=2, min_samples_split=3;, score=0.817 total time=   0.1s\n",
      "[CV 2/3] END max_depth=7, max_leaf_nodes=2, min_samples_split=3;, score=0.820 total time=   0.1s\n",
      "[CV 3/3] END max_depth=7, max_leaf_nodes=2, min_samples_split=3;, score=0.825 total time=   0.1s\n",
      "[CV 1/3] END max_depth=7, max_leaf_nodes=2, min_samples_split=4;, score=0.817 total time=   0.1s\n",
      "[CV 2/3] END max_depth=7, max_leaf_nodes=2, min_samples_split=4;, score=0.820 total time=   0.1s\n",
      "[CV 3/3] END max_depth=7, max_leaf_nodes=2, min_samples_split=4;, score=0.825 total time=   0.1s\n",
      "[CV 1/3] END max_depth=7, max_leaf_nodes=3, min_samples_split=2;, score=0.819 total time=   0.1s\n",
      "[CV 2/3] END max_depth=7, max_leaf_nodes=3, min_samples_split=2;, score=0.820 total time=   0.1s\n",
      "[CV 3/3] END max_depth=7, max_leaf_nodes=3, min_samples_split=2;, score=0.825 total time=   0.1s\n",
      "[CV 1/3] END max_depth=7, max_leaf_nodes=3, min_samples_split=3;, score=0.819 total time=   0.1s\n",
      "[CV 2/3] END max_depth=7, max_leaf_nodes=3, min_samples_split=3;, score=0.820 total time=   0.1s\n",
      "[CV 3/3] END max_depth=7, max_leaf_nodes=3, min_samples_split=3;, score=0.825 total time=   0.1s\n",
      "[CV 1/3] END max_depth=7, max_leaf_nodes=3, min_samples_split=4;, score=0.819 total time=   0.1s\n",
      "[CV 2/3] END max_depth=7, max_leaf_nodes=3, min_samples_split=4;, score=0.820 total time=   0.1s\n",
      "[CV 3/3] END max_depth=7, max_leaf_nodes=3, min_samples_split=4;, score=0.825 total time=   0.1s\n",
      "[CV 1/3] END max_depth=7, max_leaf_nodes=4, min_samples_split=2;, score=0.819 total time=   0.1s\n",
      "[CV 2/3] END max_depth=7, max_leaf_nodes=4, min_samples_split=2;, score=0.820 total time=   0.1s\n",
      "[CV 3/3] END max_depth=7, max_leaf_nodes=4, min_samples_split=2;, score=0.825 total time=   0.1s\n",
      "[CV 1/3] END max_depth=7, max_leaf_nodes=4, min_samples_split=3;, score=0.819 total time=   0.1s\n",
      "[CV 2/3] END max_depth=7, max_leaf_nodes=4, min_samples_split=3;, score=0.820 total time=   0.1s\n",
      "[CV 3/3] END max_depth=7, max_leaf_nodes=4, min_samples_split=3;, score=0.825 total time=   0.1s\n",
      "[CV 1/3] END max_depth=7, max_leaf_nodes=4, min_samples_split=4;, score=0.819 total time=   0.1s\n",
      "[CV 2/3] END max_depth=7, max_leaf_nodes=4, min_samples_split=4;, score=0.820 total time=   0.1s\n",
      "[CV 3/3] END max_depth=7, max_leaf_nodes=4, min_samples_split=4;, score=0.825 total time=   0.1s\n",
      "[CV 1/3] END max_depth=7, max_leaf_nodes=5, min_samples_split=2;, score=0.819 total time=   0.1s\n",
      "[CV 2/3] END max_depth=7, max_leaf_nodes=5, min_samples_split=2;, score=0.820 total time=   0.1s\n",
      "[CV 3/3] END max_depth=7, max_leaf_nodes=5, min_samples_split=2;, score=0.825 total time=   0.1s\n",
      "[CV 1/3] END max_depth=7, max_leaf_nodes=5, min_samples_split=3;, score=0.819 total time=   0.1s\n",
      "[CV 2/3] END max_depth=7, max_leaf_nodes=5, min_samples_split=3;, score=0.820 total time=   0.1s\n",
      "[CV 3/3] END max_depth=7, max_leaf_nodes=5, min_samples_split=3;, score=0.825 total time=   0.1s\n",
      "[CV 1/3] END max_depth=7, max_leaf_nodes=5, min_samples_split=4;, score=0.819 total time=   0.1s\n",
      "[CV 2/3] END max_depth=7, max_leaf_nodes=5, min_samples_split=4;, score=0.820 total time=   0.1s\n",
      "[CV 3/3] END max_depth=7, max_leaf_nodes=5, min_samples_split=4;, score=0.825 total time=   0.1s\n",
      "[CV 1/3] END max_depth=7, max_leaf_nodes=6, min_samples_split=2;, score=0.819 total time=   0.1s\n",
      "[CV 2/3] END max_depth=7, max_leaf_nodes=6, min_samples_split=2;, score=0.820 total time=   0.1s\n",
      "[CV 3/3] END max_depth=7, max_leaf_nodes=6, min_samples_split=2;, score=0.832 total time=   0.1s\n",
      "[CV 1/3] END max_depth=7, max_leaf_nodes=6, min_samples_split=3;, score=0.819 total time=   0.1s\n",
      "[CV 2/3] END max_depth=7, max_leaf_nodes=6, min_samples_split=3;, score=0.820 total time=   0.1s\n",
      "[CV 3/3] END max_depth=7, max_leaf_nodes=6, min_samples_split=3;, score=0.832 total time=   0.1s\n",
      "[CV 1/3] END max_depth=7, max_leaf_nodes=6, min_samples_split=4;, score=0.819 total time=   0.1s\n",
      "[CV 2/3] END max_depth=7, max_leaf_nodes=6, min_samples_split=4;, score=0.820 total time=   0.1s\n",
      "[CV 3/3] END max_depth=7, max_leaf_nodes=6, min_samples_split=4;, score=0.832 total time=   0.1s\n",
      "[CV 1/3] END max_depth=7, max_leaf_nodes=7, min_samples_split=2;, score=0.831 total time=   0.1s\n",
      "[CV 2/3] END max_depth=7, max_leaf_nodes=7, min_samples_split=2;, score=0.834 total time=   0.1s\n",
      "[CV 3/3] END max_depth=7, max_leaf_nodes=7, min_samples_split=2;, score=0.832 total time=   0.1s\n",
      "[CV 1/3] END max_depth=7, max_leaf_nodes=7, min_samples_split=3;, score=0.831 total time=   0.1s\n",
      "[CV 2/3] END max_depth=7, max_leaf_nodes=7, min_samples_split=3;, score=0.834 total time=   0.1s\n",
      "[CV 3/3] END max_depth=7, max_leaf_nodes=7, min_samples_split=3;, score=0.832 total time=   0.1s\n",
      "[CV 1/3] END max_depth=7, max_leaf_nodes=7, min_samples_split=4;, score=0.831 total time=   0.1s\n",
      "[CV 2/3] END max_depth=7, max_leaf_nodes=7, min_samples_split=4;, score=0.834 total time=   0.1s\n",
      "[CV 3/3] END max_depth=7, max_leaf_nodes=7, min_samples_split=4;, score=0.832 total time=   0.1s\n",
      "[CV 1/3] END max_depth=7, max_leaf_nodes=8, min_samples_split=2;, score=0.835 total time=   0.1s\n",
      "[CV 2/3] END max_depth=7, max_leaf_nodes=8, min_samples_split=2;, score=0.840 total time=   0.1s\n",
      "[CV 3/3] END max_depth=7, max_leaf_nodes=8, min_samples_split=2;, score=0.836 total time=   0.1s\n",
      "[CV 1/3] END max_depth=7, max_leaf_nodes=8, min_samples_split=3;, score=0.835 total time=   0.1s\n",
      "[CV 2/3] END max_depth=7, max_leaf_nodes=8, min_samples_split=3;, score=0.840 total time=   0.1s\n",
      "[CV 3/3] END max_depth=7, max_leaf_nodes=8, min_samples_split=3;, score=0.836 total time=   0.1s\n",
      "[CV 1/3] END max_depth=7, max_leaf_nodes=8, min_samples_split=4;, score=0.835 total time=   0.1s\n",
      "[CV 2/3] END max_depth=7, max_leaf_nodes=8, min_samples_split=4;, score=0.840 total time=   0.1s\n",
      "[CV 3/3] END max_depth=7, max_leaf_nodes=8, min_samples_split=4;, score=0.836 total time=   0.1s\n",
      "[CV 1/3] END max_depth=7, max_leaf_nodes=9, min_samples_split=2;, score=0.835 total time=   0.1s\n",
      "[CV 2/3] END max_depth=7, max_leaf_nodes=9, min_samples_split=2;, score=0.840 total time=   0.1s\n",
      "[CV 3/3] END max_depth=7, max_leaf_nodes=9, min_samples_split=2;, score=0.837 total time=   0.1s\n",
      "[CV 1/3] END max_depth=7, max_leaf_nodes=9, min_samples_split=3;, score=0.835 total time=   0.1s\n",
      "[CV 2/3] END max_depth=7, max_leaf_nodes=9, min_samples_split=3;, score=0.840 total time=   0.1s\n",
      "[CV 3/3] END max_depth=7, max_leaf_nodes=9, min_samples_split=3;, score=0.837 total time=   0.1s\n",
      "[CV 1/3] END max_depth=7, max_leaf_nodes=9, min_samples_split=4;, score=0.835 total time=   0.1s\n",
      "[CV 2/3] END max_depth=7, max_leaf_nodes=9, min_samples_split=4;, score=0.840 total time=   0.1s\n",
      "[CV 3/3] END max_depth=7, max_leaf_nodes=9, min_samples_split=4;, score=0.837 total time=   0.1s\n",
      "[CV 1/3] END max_depth=9, max_leaf_nodes=2, min_samples_split=2;, score=0.817 total time=   0.1s\n",
      "[CV 2/3] END max_depth=9, max_leaf_nodes=2, min_samples_split=2;, score=0.820 total time=   0.1s\n",
      "[CV 3/3] END max_depth=9, max_leaf_nodes=2, min_samples_split=2;, score=0.825 total time=   0.1s\n",
      "[CV 1/3] END max_depth=9, max_leaf_nodes=2, min_samples_split=3;, score=0.817 total time=   0.1s\n",
      "[CV 2/3] END max_depth=9, max_leaf_nodes=2, min_samples_split=3;, score=0.820 total time=   0.1s\n",
      "[CV 3/3] END max_depth=9, max_leaf_nodes=2, min_samples_split=3;, score=0.825 total time=   0.1s\n",
      "[CV 1/3] END max_depth=9, max_leaf_nodes=2, min_samples_split=4;, score=0.817 total time=   0.1s\n",
      "[CV 2/3] END max_depth=9, max_leaf_nodes=2, min_samples_split=4;, score=0.820 total time=   0.1s\n",
      "[CV 3/3] END max_depth=9, max_leaf_nodes=2, min_samples_split=4;, score=0.825 total time=   0.1s\n",
      "[CV 1/3] END max_depth=9, max_leaf_nodes=3, min_samples_split=2;, score=0.819 total time=   0.1s\n",
      "[CV 2/3] END max_depth=9, max_leaf_nodes=3, min_samples_split=2;, score=0.820 total time=   0.1s\n",
      "[CV 3/3] END max_depth=9, max_leaf_nodes=3, min_samples_split=2;, score=0.825 total time=   0.1s\n",
      "[CV 1/3] END max_depth=9, max_leaf_nodes=3, min_samples_split=3;, score=0.819 total time=   0.1s\n",
      "[CV 2/3] END max_depth=9, max_leaf_nodes=3, min_samples_split=3;, score=0.820 total time=   0.1s\n",
      "[CV 3/3] END max_depth=9, max_leaf_nodes=3, min_samples_split=3;, score=0.825 total time=   0.1s\n",
      "[CV 1/3] END max_depth=9, max_leaf_nodes=3, min_samples_split=4;, score=0.819 total time=   0.1s\n",
      "[CV 2/3] END max_depth=9, max_leaf_nodes=3, min_samples_split=4;, score=0.820 total time=   0.1s\n",
      "[CV 3/3] END max_depth=9, max_leaf_nodes=3, min_samples_split=4;, score=0.825 total time=   0.1s\n",
      "[CV 1/3] END max_depth=9, max_leaf_nodes=4, min_samples_split=2;, score=0.819 total time=   0.1s\n",
      "[CV 2/3] END max_depth=9, max_leaf_nodes=4, min_samples_split=2;, score=0.820 total time=   0.1s\n",
      "[CV 3/3] END max_depth=9, max_leaf_nodes=4, min_samples_split=2;, score=0.825 total time=   0.1s\n",
      "[CV 1/3] END max_depth=9, max_leaf_nodes=4, min_samples_split=3;, score=0.819 total time=   0.1s\n",
      "[CV 2/3] END max_depth=9, max_leaf_nodes=4, min_samples_split=3;, score=0.820 total time=   0.1s\n",
      "[CV 3/3] END max_depth=9, max_leaf_nodes=4, min_samples_split=3;, score=0.825 total time=   0.1s\n",
      "[CV 1/3] END max_depth=9, max_leaf_nodes=4, min_samples_split=4;, score=0.819 total time=   0.1s\n",
      "[CV 2/3] END max_depth=9, max_leaf_nodes=4, min_samples_split=4;, score=0.820 total time=   0.1s\n",
      "[CV 3/3] END max_depth=9, max_leaf_nodes=4, min_samples_split=4;, score=0.825 total time=   0.1s\n",
      "[CV 1/3] END max_depth=9, max_leaf_nodes=5, min_samples_split=2;, score=0.819 total time=   0.1s\n",
      "[CV 2/3] END max_depth=9, max_leaf_nodes=5, min_samples_split=2;, score=0.820 total time=   0.1s\n",
      "[CV 3/3] END max_depth=9, max_leaf_nodes=5, min_samples_split=2;, score=0.825 total time=   0.1s\n",
      "[CV 1/3] END max_depth=9, max_leaf_nodes=5, min_samples_split=3;, score=0.819 total time=   0.1s\n",
      "[CV 2/3] END max_depth=9, max_leaf_nodes=5, min_samples_split=3;, score=0.820 total time=   0.1s\n",
      "[CV 3/3] END max_depth=9, max_leaf_nodes=5, min_samples_split=3;, score=0.825 total time=   0.1s\n",
      "[CV 1/3] END max_depth=9, max_leaf_nodes=5, min_samples_split=4;, score=0.819 total time=   0.1s\n",
      "[CV 2/3] END max_depth=9, max_leaf_nodes=5, min_samples_split=4;, score=0.820 total time=   0.1s\n",
      "[CV 3/3] END max_depth=9, max_leaf_nodes=5, min_samples_split=4;, score=0.825 total time=   0.1s\n",
      "[CV 1/3] END max_depth=9, max_leaf_nodes=6, min_samples_split=2;, score=0.819 total time=   0.1s\n",
      "[CV 2/3] END max_depth=9, max_leaf_nodes=6, min_samples_split=2;, score=0.820 total time=   0.1s\n",
      "[CV 3/3] END max_depth=9, max_leaf_nodes=6, min_samples_split=2;, score=0.832 total time=   0.1s\n",
      "[CV 1/3] END max_depth=9, max_leaf_nodes=6, min_samples_split=3;, score=0.819 total time=   0.1s\n",
      "[CV 2/3] END max_depth=9, max_leaf_nodes=6, min_samples_split=3;, score=0.820 total time=   0.1s\n",
      "[CV 3/3] END max_depth=9, max_leaf_nodes=6, min_samples_split=3;, score=0.832 total time=   0.1s\n",
      "[CV 1/3] END max_depth=9, max_leaf_nodes=6, min_samples_split=4;, score=0.819 total time=   0.1s\n",
      "[CV 2/3] END max_depth=9, max_leaf_nodes=6, min_samples_split=4;, score=0.820 total time=   0.1s\n",
      "[CV 3/3] END max_depth=9, max_leaf_nodes=6, min_samples_split=4;, score=0.832 total time=   0.1s\n",
      "[CV 1/3] END max_depth=9, max_leaf_nodes=7, min_samples_split=2;, score=0.831 total time=   0.1s\n",
      "[CV 2/3] END max_depth=9, max_leaf_nodes=7, min_samples_split=2;, score=0.834 total time=   0.1s\n",
      "[CV 3/3] END max_depth=9, max_leaf_nodes=7, min_samples_split=2;, score=0.832 total time=   0.1s\n",
      "[CV 1/3] END max_depth=9, max_leaf_nodes=7, min_samples_split=3;, score=0.831 total time=   0.1s\n",
      "[CV 2/3] END max_depth=9, max_leaf_nodes=7, min_samples_split=3;, score=0.834 total time=   0.1s\n",
      "[CV 3/3] END max_depth=9, max_leaf_nodes=7, min_samples_split=3;, score=0.832 total time=   0.1s\n",
      "[CV 1/3] END max_depth=9, max_leaf_nodes=7, min_samples_split=4;, score=0.831 total time=   0.1s\n",
      "[CV 2/3] END max_depth=9, max_leaf_nodes=7, min_samples_split=4;, score=0.834 total time=   0.1s\n",
      "[CV 3/3] END max_depth=9, max_leaf_nodes=7, min_samples_split=4;, score=0.832 total time=   0.1s\n",
      "[CV 1/3] END max_depth=9, max_leaf_nodes=8, min_samples_split=2;, score=0.835 total time=   0.1s\n",
      "[CV 2/3] END max_depth=9, max_leaf_nodes=8, min_samples_split=2;, score=0.840 total time=   0.1s\n",
      "[CV 3/3] END max_depth=9, max_leaf_nodes=8, min_samples_split=2;, score=0.836 total time=   0.1s\n",
      "[CV 1/3] END max_depth=9, max_leaf_nodes=8, min_samples_split=3;, score=0.835 total time=   0.1s\n",
      "[CV 2/3] END max_depth=9, max_leaf_nodes=8, min_samples_split=3;, score=0.840 total time=   0.1s\n",
      "[CV 3/3] END max_depth=9, max_leaf_nodes=8, min_samples_split=3;, score=0.836 total time=   0.1s\n",
      "[CV 1/3] END max_depth=9, max_leaf_nodes=8, min_samples_split=4;, score=0.835 total time=   0.1s\n",
      "[CV 2/3] END max_depth=9, max_leaf_nodes=8, min_samples_split=4;, score=0.840 total time=   0.1s\n",
      "[CV 3/3] END max_depth=9, max_leaf_nodes=8, min_samples_split=4;, score=0.836 total time=   0.1s\n",
      "[CV 1/3] END max_depth=9, max_leaf_nodes=9, min_samples_split=2;, score=0.835 total time=   0.1s\n",
      "[CV 2/3] END max_depth=9, max_leaf_nodes=9, min_samples_split=2;, score=0.840 total time=   0.1s\n",
      "[CV 3/3] END max_depth=9, max_leaf_nodes=9, min_samples_split=2;, score=0.837 total time=   0.1s\n",
      "[CV 1/3] END max_depth=9, max_leaf_nodes=9, min_samples_split=3;, score=0.835 total time=   0.1s\n",
      "[CV 2/3] END max_depth=9, max_leaf_nodes=9, min_samples_split=3;, score=0.840 total time=   0.1s\n",
      "[CV 3/3] END max_depth=9, max_leaf_nodes=9, min_samples_split=3;, score=0.837 total time=   0.1s\n",
      "[CV 1/3] END max_depth=9, max_leaf_nodes=9, min_samples_split=4;, score=0.835 total time=   0.1s\n",
      "[CV 2/3] END max_depth=9, max_leaf_nodes=9, min_samples_split=4;, score=0.840 total time=   0.1s\n",
      "[CV 3/3] END max_depth=9, max_leaf_nodes=9, min_samples_split=4;, score=0.837 total time=   0.1s\n",
      "[CV 1/3] END max_depth=11, max_leaf_nodes=2, min_samples_split=2;, score=0.817 total time=   0.1s\n",
      "[CV 2/3] END max_depth=11, max_leaf_nodes=2, min_samples_split=2;, score=0.820 total time=   0.1s\n",
      "[CV 3/3] END max_depth=11, max_leaf_nodes=2, min_samples_split=2;, score=0.825 total time=   0.1s\n",
      "[CV 1/3] END max_depth=11, max_leaf_nodes=2, min_samples_split=3;, score=0.817 total time=   0.1s\n",
      "[CV 2/3] END max_depth=11, max_leaf_nodes=2, min_samples_split=3;, score=0.820 total time=   0.1s\n",
      "[CV 3/3] END max_depth=11, max_leaf_nodes=2, min_samples_split=3;, score=0.825 total time=   0.1s\n",
      "[CV 1/3] END max_depth=11, max_leaf_nodes=2, min_samples_split=4;, score=0.817 total time=   0.1s\n",
      "[CV 2/3] END max_depth=11, max_leaf_nodes=2, min_samples_split=4;, score=0.820 total time=   0.1s\n",
      "[CV 3/3] END max_depth=11, max_leaf_nodes=2, min_samples_split=4;, score=0.825 total time=   0.1s\n",
      "[CV 1/3] END max_depth=11, max_leaf_nodes=3, min_samples_split=2;, score=0.819 total time=   0.1s\n",
      "[CV 2/3] END max_depth=11, max_leaf_nodes=3, min_samples_split=2;, score=0.820 total time=   0.1s\n",
      "[CV 3/3] END max_depth=11, max_leaf_nodes=3, min_samples_split=2;, score=0.825 total time=   0.1s\n",
      "[CV 1/3] END max_depth=11, max_leaf_nodes=3, min_samples_split=3;, score=0.819 total time=   0.1s\n",
      "[CV 2/3] END max_depth=11, max_leaf_nodes=3, min_samples_split=3;, score=0.820 total time=   0.1s\n",
      "[CV 3/3] END max_depth=11, max_leaf_nodes=3, min_samples_split=3;, score=0.825 total time=   0.1s\n",
      "[CV 1/3] END max_depth=11, max_leaf_nodes=3, min_samples_split=4;, score=0.819 total time=   0.1s\n",
      "[CV 2/3] END max_depth=11, max_leaf_nodes=3, min_samples_split=4;, score=0.820 total time=   0.1s\n",
      "[CV 3/3] END max_depth=11, max_leaf_nodes=3, min_samples_split=4;, score=0.825 total time=   0.1s\n",
      "[CV 1/3] END max_depth=11, max_leaf_nodes=4, min_samples_split=2;, score=0.819 total time=   0.1s\n",
      "[CV 2/3] END max_depth=11, max_leaf_nodes=4, min_samples_split=2;, score=0.820 total time=   0.1s\n",
      "[CV 3/3] END max_depth=11, max_leaf_nodes=4, min_samples_split=2;, score=0.825 total time=   0.1s\n",
      "[CV 1/3] END max_depth=11, max_leaf_nodes=4, min_samples_split=3;, score=0.819 total time=   0.1s\n",
      "[CV 2/3] END max_depth=11, max_leaf_nodes=4, min_samples_split=3;, score=0.820 total time=   0.1s\n",
      "[CV 3/3] END max_depth=11, max_leaf_nodes=4, min_samples_split=3;, score=0.825 total time=   0.1s\n",
      "[CV 1/3] END max_depth=11, max_leaf_nodes=4, min_samples_split=4;, score=0.819 total time=   0.1s\n",
      "[CV 2/3] END max_depth=11, max_leaf_nodes=4, min_samples_split=4;, score=0.820 total time=   0.1s\n",
      "[CV 3/3] END max_depth=11, max_leaf_nodes=4, min_samples_split=4;, score=0.825 total time=   0.1s\n",
      "[CV 1/3] END max_depth=11, max_leaf_nodes=5, min_samples_split=2;, score=0.819 total time=   0.1s\n",
      "[CV 2/3] END max_depth=11, max_leaf_nodes=5, min_samples_split=2;, score=0.820 total time=   0.1s\n",
      "[CV 3/3] END max_depth=11, max_leaf_nodes=5, min_samples_split=2;, score=0.825 total time=   0.1s\n",
      "[CV 1/3] END max_depth=11, max_leaf_nodes=5, min_samples_split=3;, score=0.819 total time=   0.1s\n",
      "[CV 2/3] END max_depth=11, max_leaf_nodes=5, min_samples_split=3;, score=0.820 total time=   0.1s\n",
      "[CV 3/3] END max_depth=11, max_leaf_nodes=5, min_samples_split=3;, score=0.825 total time=   0.1s\n",
      "[CV 1/3] END max_depth=11, max_leaf_nodes=5, min_samples_split=4;, score=0.819 total time=   0.1s\n",
      "[CV 2/3] END max_depth=11, max_leaf_nodes=5, min_samples_split=4;, score=0.820 total time=   0.1s\n",
      "[CV 3/3] END max_depth=11, max_leaf_nodes=5, min_samples_split=4;, score=0.825 total time=   0.1s\n",
      "[CV 1/3] END max_depth=11, max_leaf_nodes=6, min_samples_split=2;, score=0.819 total time=   0.1s\n",
      "[CV 2/3] END max_depth=11, max_leaf_nodes=6, min_samples_split=2;, score=0.820 total time=   0.1s\n",
      "[CV 3/3] END max_depth=11, max_leaf_nodes=6, min_samples_split=2;, score=0.832 total time=   0.1s\n",
      "[CV 1/3] END max_depth=11, max_leaf_nodes=6, min_samples_split=3;, score=0.819 total time=   0.1s\n",
      "[CV 2/3] END max_depth=11, max_leaf_nodes=6, min_samples_split=3;, score=0.820 total time=   0.1s\n",
      "[CV 3/3] END max_depth=11, max_leaf_nodes=6, min_samples_split=3;, score=0.832 total time=   0.1s\n",
      "[CV 1/3] END max_depth=11, max_leaf_nodes=6, min_samples_split=4;, score=0.819 total time=   0.1s\n",
      "[CV 2/3] END max_depth=11, max_leaf_nodes=6, min_samples_split=4;, score=0.820 total time=   0.1s\n",
      "[CV 3/3] END max_depth=11, max_leaf_nodes=6, min_samples_split=4;, score=0.832 total time=   0.1s\n",
      "[CV 1/3] END max_depth=11, max_leaf_nodes=7, min_samples_split=2;, score=0.831 total time=   0.1s\n",
      "[CV 2/3] END max_depth=11, max_leaf_nodes=7, min_samples_split=2;, score=0.834 total time=   0.1s\n",
      "[CV 3/3] END max_depth=11, max_leaf_nodes=7, min_samples_split=2;, score=0.832 total time=   0.1s\n",
      "[CV 1/3] END max_depth=11, max_leaf_nodes=7, min_samples_split=3;, score=0.831 total time=   0.1s\n",
      "[CV 2/3] END max_depth=11, max_leaf_nodes=7, min_samples_split=3;, score=0.834 total time=   0.1s\n",
      "[CV 3/3] END max_depth=11, max_leaf_nodes=7, min_samples_split=3;, score=0.832 total time=   0.1s\n",
      "[CV 1/3] END max_depth=11, max_leaf_nodes=7, min_samples_split=4;, score=0.831 total time=   0.1s\n",
      "[CV 2/3] END max_depth=11, max_leaf_nodes=7, min_samples_split=4;, score=0.834 total time=   0.1s\n",
      "[CV 3/3] END max_depth=11, max_leaf_nodes=7, min_samples_split=4;, score=0.832 total time=   0.1s\n",
      "[CV 1/3] END max_depth=11, max_leaf_nodes=8, min_samples_split=2;, score=0.835 total time=   0.1s\n",
      "[CV 2/3] END max_depth=11, max_leaf_nodes=8, min_samples_split=2;, score=0.840 total time=   0.1s\n",
      "[CV 3/3] END max_depth=11, max_leaf_nodes=8, min_samples_split=2;, score=0.836 total time=   0.1s\n",
      "[CV 1/3] END max_depth=11, max_leaf_nodes=8, min_samples_split=3;, score=0.835 total time=   0.1s\n",
      "[CV 2/3] END max_depth=11, max_leaf_nodes=8, min_samples_split=3;, score=0.840 total time=   0.1s\n",
      "[CV 3/3] END max_depth=11, max_leaf_nodes=8, min_samples_split=3;, score=0.836 total time=   0.1s\n",
      "[CV 1/3] END max_depth=11, max_leaf_nodes=8, min_samples_split=4;, score=0.835 total time=   0.1s\n",
      "[CV 2/3] END max_depth=11, max_leaf_nodes=8, min_samples_split=4;, score=0.840 total time=   0.1s\n",
      "[CV 3/3] END max_depth=11, max_leaf_nodes=8, min_samples_split=4;, score=0.836 total time=   0.1s\n",
      "[CV 1/3] END max_depth=11, max_leaf_nodes=9, min_samples_split=2;, score=0.835 total time=   0.1s\n",
      "[CV 2/3] END max_depth=11, max_leaf_nodes=9, min_samples_split=2;, score=0.840 total time=   0.1s\n",
      "[CV 3/3] END max_depth=11, max_leaf_nodes=9, min_samples_split=2;, score=0.837 total time=   0.1s\n",
      "[CV 1/3] END max_depth=11, max_leaf_nodes=9, min_samples_split=3;, score=0.835 total time=   0.1s\n",
      "[CV 2/3] END max_depth=11, max_leaf_nodes=9, min_samples_split=3;, score=0.840 total time=   0.1s\n",
      "[CV 3/3] END max_depth=11, max_leaf_nodes=9, min_samples_split=3;, score=0.837 total time=   0.1s\n",
      "[CV 1/3] END max_depth=11, max_leaf_nodes=9, min_samples_split=4;, score=0.835 total time=   0.1s\n",
      "[CV 2/3] END max_depth=11, max_leaf_nodes=9, min_samples_split=4;, score=0.840 total time=   0.1s\n",
      "[CV 3/3] END max_depth=11, max_leaf_nodes=9, min_samples_split=4;, score=0.837 total time=   0.1s\n"
     ]
    },
    {
     "data": {
      "text/plain": [
       "{'max_depth': 5, 'max_leaf_nodes': 9, 'min_samples_split': 2}"
      ]
     },
     "execution_count": 231,
     "metadata": {},
     "output_type": "execute_result"
    }
   ],
   "source": [
    "params = {'max_leaf_nodes': list(range(2, 10)), 'min_samples_split': [2, 3, 4], 'max_depth': [5,7,9,11]}\n",
    "model = tree.DecisionTreeClassifier(random_state=42)\n",
    "gs = GridSearchCV(estimator=model, param_grid=params, cv=3, verbose=3)\n",
    "gs.fit(X_train, y_train)\n",
    "gs.best_params_"
   ]
  },
  {
   "cell_type": "code",
   "execution_count": 236,
   "metadata": {},
   "outputs": [],
   "source": [
    "best_params = gs.best_params_"
   ]
  },
  {
   "cell_type": "code",
   "execution_count": 248,
   "metadata": {},
   "outputs": [
    {
     "name": "stdout",
     "output_type": "stream",
     "text": [
      "roc_auc_score test: 0.79\n"
     ]
    }
   ],
   "source": [
    "dt = tree.DecisionTreeClassifier(**best_params)\n",
    "dt.fit(X_train, y_train)\n",
    "y_train_pred = dt.predict(X_train)\n",
    "y_test_pred = dt.predict(X_test)\n",
    "print('roc_auc_score test: {:.2f}'.format(metrics.roc_auc_score(y_test_pred, y_test)))"
   ]
  },
  {
   "cell_type": "code",
   "execution_count": 247,
   "metadata": {},
   "outputs": [
    {
     "name": "stdout",
     "output_type": "stream",
     "text": [
      "roc_auc_score test: 0.79\n",
      "roc_auc_score train: 0.79\n"
     ]
    }
   ],
   "source": [
    "dt = tree.DecisionTreeClassifier(max_depth=5, max_leaf_nodes=9, min_samples_split=2)\n",
    "dt.fit(X_train, y_train)\n",
    "y_train_pred = dt.predict(X_train)\n",
    "y_test_pred = dt.predict(X_test)\n",
    "print('roc_auc_score test: {:.2f}'.format(metrics.roc_auc_score(y_test_pred, y_test)))\n",
    "print('roc_auc_score train: {:.2f}'.format(metrics.roc_auc_score(y_train_pred, y_train)))"
   ]
  },
  {
   "cell_type": "code",
   "execution_count": 246,
   "metadata": {},
   "outputs": [
    {
     "name": "stdout",
     "output_type": "stream",
     "text": [
      "roc_auc_score test: 0.82\n",
      "roc_auc_score train: 1.00\n"
     ]
    }
   ],
   "source": [
    "rf = ensemble.RandomForestClassifier(n_estimators=100, random_state=31)\n",
    "rf.fit(X_train, y_train)\n",
    "y_train_pred = rf.predict(X_train)\n",
    "y_test_pred = rf.predict(X_test)\n",
    "print('roc_auc_score test: {:.2f}'.format(metrics.roc_auc_score(y_test_pred, y_test)))\n",
    "print('roc_auc_score train: {:.2f}'.format(metrics.roc_auc_score(y_train_pred, y_train)))"
   ]
  },
  {
   "cell_type": "code",
   "execution_count": 245,
   "metadata": {},
   "outputs": [
    {
     "data": {
      "text/plain": [
       "0.8215242568663885"
      ]
     },
     "execution_count": 245,
     "metadata": {},
     "output_type": "execute_result"
    }
   ],
   "source": [
    "clf =  ensemble.RandomForestClassifier(n_estimators = 100, random_state=31)\n",
    "clf.fit(X_train, y_train)\n",
    "preds_train = clf.predict(X_train)\n",
    "preds_test = clf.predict(X_test)\n",
    "metrics.roc_auc_score(preds_test, y_test)"
   ]
  },
  {
   "cell_type": "code",
   "execution_count": 251,
   "metadata": {},
   "outputs": [],
   "source": [
    "params = {'max_features': [ 4, 5, 6, 7], 'min_samples_leaf': [3, 5, 7, 9, 11], 'max_depth': [5, 10, 15]}\n",
    "model = ensemble.RandomForestClassifier(n_estimators=100, random_state=31)\n",
    "gs = GridSearchCV(estimator=model, param_grid=params, cv=3)\n",
    "gs.fit(X_train, y_train)\n",
    "best_params = gs.best_params_\n"
   ]
  },
  {
   "cell_type": "code",
   "execution_count": 252,
   "metadata": {},
   "outputs": [
    {
     "data": {
      "text/plain": [
       "0.8224045019493705"
      ]
     },
     "execution_count": 252,
     "metadata": {},
     "output_type": "execute_result"
    }
   ],
   "source": [
    "rf_gs = ensemble.RandomForestClassifier(**best_params)\n",
    "rf_gs.fit(X_train, y_train)\n",
    "preds_train = rf_gs.predict(X_train)\n",
    "preds_test = rf_gs.predict(X_test)\n",
    "metrics.roc_auc_score(preds_test, y_test)"
   ]
  },
  {
   "cell_type": "code",
   "execution_count": 259,
   "metadata": {},
   "outputs": [
    {
     "data": {
      "text/html": [
       "<div>\n",
       "<style scoped>\n",
       "    .dataframe tbody tr th:only-of-type {\n",
       "        vertical-align: middle;\n",
       "    }\n",
       "\n",
       "    .dataframe tbody tr th {\n",
       "        vertical-align: top;\n",
       "    }\n",
       "\n",
       "    .dataframe thead th {\n",
       "        text-align: right;\n",
       "    }\n",
       "</style>\n",
       "<table border=\"1\" class=\"dataframe\">\n",
       "  <thead>\n",
       "    <tr style=\"text-align: right;\">\n",
       "      <th></th>\n",
       "      <th>feature</th>\n",
       "      <th>coef</th>\n",
       "    </tr>\n",
       "  </thead>\n",
       "  <tbody>\n",
       "    <tr>\n",
       "      <th>7</th>\n",
       "      <td>Humidity3pm</td>\n",
       "      <td>0.247062</td>\n",
       "    </tr>\n",
       "    <tr>\n",
       "      <th>2</th>\n",
       "      <td>Rainfall</td>\n",
       "      <td>0.078087</td>\n",
       "    </tr>\n",
       "    <tr>\n",
       "      <th>6</th>\n",
       "      <td>Humidity9am</td>\n",
       "      <td>0.070821</td>\n",
       "    </tr>\n",
       "    <tr>\n",
       "      <th>10</th>\n",
       "      <td>Cloud9am</td>\n",
       "      <td>0.068033</td>\n",
       "    </tr>\n",
       "    <tr>\n",
       "      <th>8</th>\n",
       "      <td>Pressure9am</td>\n",
       "      <td>0.063170</td>\n",
       "    </tr>\n",
       "    <tr>\n",
       "      <th>...</th>\n",
       "      <td>...</td>\n",
       "      <td>...</td>\n",
       "    </tr>\n",
       "    <tr>\n",
       "      <th>50</th>\n",
       "      <td>Location_Newcastle</td>\n",
       "      <td>0.000000</td>\n",
       "    </tr>\n",
       "    <tr>\n",
       "      <th>49</th>\n",
       "      <td>Location_MountGinini</td>\n",
       "      <td>0.000000</td>\n",
       "    </tr>\n",
       "    <tr>\n",
       "      <th>43</th>\n",
       "      <td>Location_Launceston</td>\n",
       "      <td>0.000000</td>\n",
       "    </tr>\n",
       "    <tr>\n",
       "      <th>40</th>\n",
       "      <td>Location_GoldCoast</td>\n",
       "      <td>0.000000</td>\n",
       "    </tr>\n",
       "    <tr>\n",
       "      <th>62</th>\n",
       "      <td>Location_SalmonGums</td>\n",
       "      <td>0.000000</td>\n",
       "    </tr>\n",
       "  </tbody>\n",
       "</table>\n",
       "<p>123 rows × 2 columns</p>\n",
       "</div>"
      ],
      "text/plain": [
       "                 feature      coef\n",
       "7            Humidity3pm  0.247062\n",
       "2               Rainfall  0.078087\n",
       "6            Humidity9am  0.070821\n",
       "10              Cloud9am  0.068033\n",
       "8            Pressure9am  0.063170\n",
       "..                   ...       ...\n",
       "50    Location_Newcastle  0.000000\n",
       "49  Location_MountGinini  0.000000\n",
       "43   Location_Launceston  0.000000\n",
       "40    Location_GoldCoast  0.000000\n",
       "62   Location_SalmonGums  0.000000\n",
       "\n",
       "[123 rows x 2 columns]"
      ]
     },
     "execution_count": 259,
     "metadata": {},
     "output_type": "execute_result"
    }
   ],
   "source": [
    "feature_importance = rf_gs.feature_importances_\n",
    "columns = X_train.columns\n",
    "\n",
    "pd.DataFrame({'feature': columns, 'coef': feature_importance}).sort_values(by='coef', ascending=False)"
   ]
  },
  {
   "cell_type": "markdown",
   "metadata": {},
   "source": [
    "### MATH&ML-9. Математика ансамблевых методов\n",
    "#### 6. Бустинг. Практика"
   ]
  },
  {
   "cell_type": "code",
   "execution_count": 51,
   "metadata": {},
   "outputs": [],
   "source": [
    "import pandas as pd\n",
    "import numpy as np\n",
    "from sklearn import tree\n",
    "from sklearn.model_selection import train_test_split, GridSearchCV\n",
    "import matplotlib.pyplot as plt\n",
    "%matplotlib inline\n",
    "import seaborn as sns\n",
    "from sklearn import preprocessing\n",
    "from sklearn import metrics\n",
    "from sklearn import linear_model, ensemble"
   ]
  },
  {
   "cell_type": "code",
   "execution_count": 4,
   "metadata": {},
   "outputs": [
    {
     "data": {
      "text/html": [
       "<div>\n",
       "<style scoped>\n",
       "    .dataframe tbody tr th:only-of-type {\n",
       "        vertical-align: middle;\n",
       "    }\n",
       "\n",
       "    .dataframe tbody tr th {\n",
       "        vertical-align: top;\n",
       "    }\n",
       "\n",
       "    .dataframe thead th {\n",
       "        text-align: right;\n",
       "    }\n",
       "</style>\n",
       "<table border=\"1\" class=\"dataframe\">\n",
       "  <thead>\n",
       "    <tr style=\"text-align: right;\">\n",
       "      <th></th>\n",
       "      <th>id</th>\n",
       "      <th>Gender</th>\n",
       "      <th>Customer Type</th>\n",
       "      <th>Age</th>\n",
       "      <th>Type of Travel</th>\n",
       "      <th>Class</th>\n",
       "      <th>Flight Distance</th>\n",
       "      <th>Inflight wifi service</th>\n",
       "      <th>Departure/Arrival time convenient</th>\n",
       "      <th>Ease of Online booking</th>\n",
       "      <th>...</th>\n",
       "      <th>Inflight entertainment</th>\n",
       "      <th>On-board service</th>\n",
       "      <th>Leg room service</th>\n",
       "      <th>Baggage handling</th>\n",
       "      <th>Checkin service</th>\n",
       "      <th>Inflight service</th>\n",
       "      <th>Cleanliness</th>\n",
       "      <th>Departure Delay in Minutes</th>\n",
       "      <th>Arrival Delay in Minutes</th>\n",
       "      <th>satisfaction</th>\n",
       "    </tr>\n",
       "  </thead>\n",
       "  <tbody>\n",
       "    <tr>\n",
       "      <th>0</th>\n",
       "      <td>70172</td>\n",
       "      <td>Male</td>\n",
       "      <td>Loyal Customer</td>\n",
       "      <td>13</td>\n",
       "      <td>Personal Travel</td>\n",
       "      <td>Eco Plus</td>\n",
       "      <td>460</td>\n",
       "      <td>3</td>\n",
       "      <td>4</td>\n",
       "      <td>3</td>\n",
       "      <td>...</td>\n",
       "      <td>5</td>\n",
       "      <td>4</td>\n",
       "      <td>3</td>\n",
       "      <td>4</td>\n",
       "      <td>4</td>\n",
       "      <td>5</td>\n",
       "      <td>5</td>\n",
       "      <td>25</td>\n",
       "      <td>18.0</td>\n",
       "      <td>neutral or dissatisfied</td>\n",
       "    </tr>\n",
       "    <tr>\n",
       "      <th>1</th>\n",
       "      <td>5047</td>\n",
       "      <td>Male</td>\n",
       "      <td>disloyal Customer</td>\n",
       "      <td>25</td>\n",
       "      <td>Business travel</td>\n",
       "      <td>Business</td>\n",
       "      <td>235</td>\n",
       "      <td>3</td>\n",
       "      <td>2</td>\n",
       "      <td>3</td>\n",
       "      <td>...</td>\n",
       "      <td>1</td>\n",
       "      <td>1</td>\n",
       "      <td>5</td>\n",
       "      <td>3</td>\n",
       "      <td>1</td>\n",
       "      <td>4</td>\n",
       "      <td>1</td>\n",
       "      <td>1</td>\n",
       "      <td>6.0</td>\n",
       "      <td>neutral or dissatisfied</td>\n",
       "    </tr>\n",
       "    <tr>\n",
       "      <th>2</th>\n",
       "      <td>110028</td>\n",
       "      <td>Female</td>\n",
       "      <td>Loyal Customer</td>\n",
       "      <td>26</td>\n",
       "      <td>Business travel</td>\n",
       "      <td>Business</td>\n",
       "      <td>1142</td>\n",
       "      <td>2</td>\n",
       "      <td>2</td>\n",
       "      <td>2</td>\n",
       "      <td>...</td>\n",
       "      <td>5</td>\n",
       "      <td>4</td>\n",
       "      <td>3</td>\n",
       "      <td>4</td>\n",
       "      <td>4</td>\n",
       "      <td>4</td>\n",
       "      <td>5</td>\n",
       "      <td>0</td>\n",
       "      <td>0.0</td>\n",
       "      <td>satisfied</td>\n",
       "    </tr>\n",
       "  </tbody>\n",
       "</table>\n",
       "<p>3 rows × 24 columns</p>\n",
       "</div>"
      ],
      "text/plain": [
       "       id  Gender      Customer Type  Age   Type of Travel     Class  \\\n",
       "0   70172    Male     Loyal Customer   13  Personal Travel  Eco Plus   \n",
       "1    5047    Male  disloyal Customer   25  Business travel  Business   \n",
       "2  110028  Female     Loyal Customer   26  Business travel  Business   \n",
       "\n",
       "   Flight Distance  Inflight wifi service  Departure/Arrival time convenient  \\\n",
       "0              460                      3                                  4   \n",
       "1              235                      3                                  2   \n",
       "2             1142                      2                                  2   \n",
       "\n",
       "   Ease of Online booking  ...  Inflight entertainment  On-board service  \\\n",
       "0                       3  ...                       5                 4   \n",
       "1                       3  ...                       1                 1   \n",
       "2                       2  ...                       5                 4   \n",
       "\n",
       "   Leg room service  Baggage handling  Checkin service  Inflight service  \\\n",
       "0                 3                 4                4                 5   \n",
       "1                 5                 3                1                 4   \n",
       "2                 3                 4                4                 4   \n",
       "\n",
       "   Cleanliness  Departure Delay in Minutes  Arrival Delay in Minutes  \\\n",
       "0            5                          25                      18.0   \n",
       "1            1                           1                       6.0   \n",
       "2            5                           0                       0.0   \n",
       "\n",
       "              satisfaction  \n",
       "0  neutral or dissatisfied  \n",
       "1  neutral or dissatisfied  \n",
       "2                satisfied  \n",
       "\n",
       "[3 rows x 24 columns]"
      ]
     },
     "execution_count": 4,
     "metadata": {},
     "output_type": "execute_result"
    }
   ],
   "source": [
    "data = pd.read_csv('data/AirPass.csv')\n",
    "data = data.drop('Unnamed: 0', axis=1)\n",
    "data.head(3)"
   ]
  },
  {
   "cell_type": "code",
   "execution_count": 5,
   "metadata": {},
   "outputs": [
    {
     "data": {
      "text/plain": [
       "310"
      ]
     },
     "execution_count": 5,
     "metadata": {},
     "output_type": "execute_result"
    }
   ],
   "source": [
    "data.isnull().sum().sum()"
   ]
  },
  {
   "cell_type": "code",
   "execution_count": 7,
   "metadata": {},
   "outputs": [],
   "source": [
    "data['Arrival Delay in Minutes'] = data['Arrival Delay in Minutes'].fillna(data['Arrival Delay in Minutes'].median())"
   ]
  },
  {
   "cell_type": "code",
   "execution_count": 10,
   "metadata": {},
   "outputs": [
    {
     "data": {
      "text/plain": [
       "15.13"
      ]
     },
     "execution_count": 10,
     "metadata": {},
     "output_type": "execute_result"
    }
   ],
   "source": [
    "round(data['Arrival Delay in Minutes'].mean(),2)"
   ]
  },
  {
   "cell_type": "code",
   "execution_count": 18,
   "metadata": {},
   "outputs": [
    {
     "data": {
      "text/plain": [
       "Gender  satisfaction           \n",
       "Female  neutral or dissatisfied    30193\n",
       "        satisfied                  22534\n",
       "Male    neutral or dissatisfied    28686\n",
       "        satisfied                  22491\n",
       "Name: satisfaction, dtype: int64"
      ]
     },
     "execution_count": 18,
     "metadata": {},
     "output_type": "execute_result"
    }
   ],
   "source": [
    "data_visualization = data.groupby(['Gender', 'satisfaction'])['satisfaction'].count()\n",
    "data_visualization"
   ]
  },
  {
   "cell_type": "code",
   "execution_count": 20,
   "metadata": {},
   "outputs": [
    {
     "data": {
      "text/plain": [
       "Type of Travel   satisfaction           \n",
       "Business travel  neutral or dissatisfied    29909\n",
       "                 satisfied                  41746\n",
       "Personal Travel  neutral or dissatisfied    28970\n",
       "                 satisfied                   3279\n",
       "Name: satisfaction, dtype: int64"
      ]
     },
     "execution_count": 20,
     "metadata": {},
     "output_type": "execute_result"
    }
   ],
   "source": [
    "data_visualization = data.groupby(['Type of Travel', 'satisfaction'])['satisfaction'].count()\n",
    "data_visualization"
   ]
  },
  {
   "cell_type": "code",
   "execution_count": 22,
   "metadata": {},
   "outputs": [
    {
     "data": {
      "text/plain": [
       "Class\n",
       "Business    34480\n",
       "Eco          8701\n",
       "Eco Plus     1844\n",
       "Name: id, dtype: int64"
      ]
     },
     "execution_count": 22,
     "metadata": {},
     "output_type": "execute_result"
    }
   ],
   "source": [
    "data_visualization = data[data['satisfaction'] == 'satisfied'].groupby(['Class'])['id'].count()\n",
    "data_visualization"
   ]
  },
  {
   "cell_type": "code",
   "execution_count": 23,
   "metadata": {},
   "outputs": [
    {
     "data": {
      "text/plain": [
       "<BarContainer object of 3 artists>"
      ]
     },
     "execution_count": 23,
     "metadata": {},
     "output_type": "execute_result"
    },
    {
     "data": {
      "image/png": "[encoded data removed]",
      "text/plain": [
       "<Figure size 504x288 with 1 Axes>"
      ]
     },
     "metadata": {
      "needs_background": "light"
     },
     "output_type": "display_data"
    }
   ],
   "source": [
    "fig = plt.figure(figsize=(7, 4))\n",
    "axes = fig.add_axes([0, 0, 1, 1])\n",
    "axes.bar(x=data_visualization.index, height=data_visualization)"
   ]
  },
  {
   "cell_type": "code",
   "execution_count": 29,
   "metadata": {},
   "outputs": [],
   "source": [
    "data['satisfaction'] = data['satisfaction'].map({'neutral or dissatisfied': 0, 'satisfied': 1})\n",
    "data['Customer Type'] = data['Customer Type'].map({'Loyal Customer': 1, 'disloyal Customer': 0})\n",
    "data['Type of Travel'] = data['Type of Travel'].map({'Personal Travel': 0, 'Business travel': 1})"
   ]
  },
  {
   "cell_type": "code",
   "execution_count": 32,
   "metadata": {},
   "outputs": [
    {
     "data": {
      "text/plain": [
       "(103904, 27)"
      ]
     },
     "execution_count": 32,
     "metadata": {},
     "output_type": "execute_result"
    }
   ],
   "source": [
    "data = pd.get_dummies(data)\n",
    "data.shape"
   ]
  },
  {
   "cell_type": "code",
   "execution_count": 34,
   "metadata": {},
   "outputs": [],
   "source": [
    "X = data.drop('satisfaction', axis=1)\n",
    "y = data['satisfaction']"
   ]
  },
  {
   "cell_type": "code",
   "execution_count": 36,
   "metadata": {},
   "outputs": [
    {
     "data": {
      "text/plain": [
       "20781"
      ]
     },
     "execution_count": 36,
     "metadata": {},
     "output_type": "execute_result"
    }
   ],
   "source": [
    "X_train, X_test, y_train, y_test = train_test_split(X, y, test_size=0.2, random_state=26)\n",
    "X_test.shape[0]"
   ]
  },
  {
   "cell_type": "code",
   "execution_count": 44,
   "metadata": {},
   "outputs": [
    {
     "data": {
      "text/plain": [
       "0.94"
      ]
     },
     "execution_count": 44,
     "metadata": {},
     "output_type": "execute_result"
    }
   ],
   "source": [
    "scaler = preprocessing.StandardScaler()\n",
    "scaler.fit(X_train)\n",
    "X_train_scaled = scaler.transform(X_train)\n",
    "X_test_scaled = scaler.transform(X_test)\n",
    "round(X_test_scaled[0][0], 2)"
   ]
  },
  {
   "cell_type": "code",
   "execution_count": 47,
   "metadata": {},
   "outputs": [
    {
     "name": "stdout",
     "output_type": "stream",
     "text": [
      "f1-score train 0.854\n",
      "f1-score test 0.855\n"
     ]
    }
   ],
   "source": [
    "log_reg = linear_model.LogisticRegression()\n",
    "log_reg.fit(X_train_scaled, y_train)\n",
    "y_train_pred = log_reg.predict(X_train_scaled)\n",
    "y_test_pred = log_reg.predict(X_test_scaled)\n",
    "\n",
    "print('f1-score train {:.3f}'.format(metrics.f1_score(y_train, y_train_pred)))\n",
    "print('f1-score test {:.3f}'.format(metrics.f1_score(y_test, y_test_pred)))"
   ]
  },
  {
   "cell_type": "code",
   "execution_count": 49,
   "metadata": {},
   "outputs": [
    {
     "name": "stdout",
     "output_type": "stream",
     "text": [
      "f1-score train 1.000\n",
      "f1-score test 0.940\n"
     ]
    }
   ],
   "source": [
    "ada_boost = ensemble.AdaBoostClassifier(base_estimator=tree.DecisionTreeClassifier(random_state = 26), random_state=26, learning_rate=0.01)\n",
    "ada_boost.fit(X_train_scaled, y_train)\n",
    "y_train_pred = ada_boost.predict(X_train_scaled)\n",
    "y_test_pred = ada_boost.predict(X_test_scaled)\n",
    "\n",
    "print('f1-score train {:.3f}'.format(metrics.f1_score(y_train, y_train_pred)))\n",
    "print('f1-score test {:.3f}'.format(metrics.f1_score(y_test, y_test_pred)))"
   ]
  },
  {
   "cell_type": "code",
   "execution_count": 55,
   "metadata": {},
   "outputs": [
    {
     "name": "stdout",
     "output_type": "stream",
     "text": [
      "Лучшие гиперпараметры: {'learning_rate': 1.0, 'n_estimators': 128}\n",
      "Лучшее значение метрики: 0.95\n"
     ]
    }
   ],
   "source": [
    "params = {\"n_estimators\":2**np.arange(8), \"learning_rate\":0.1**np.arange(3)}\n",
    "model = ensemble.GradientBoostingClassifier()\n",
    "gs = GridSearchCV(\n",
    "    estimator=model,\n",
    "    param_grid=params,\n",
    "    cv=3,\n",
    "    scoring='f1'\n",
    ")\n",
    "gs.fit(X_train, y_train)\n",
    "print(\"Лучшие гиперпараметры:\", gs.best_params_)\n",
    "print(\"Лучшее значение метрики:\", round(gs.best_score_, 3))"
   ]
  },
  {
   "cell_type": "code",
   "execution_count": 57,
   "metadata": {},
   "outputs": [
    {
     "name": "stdout",
     "output_type": "stream",
     "text": [
      "f1-score train 0.975\n",
      "f1-score test 0.958\n"
     ]
    }
   ],
   "source": [
    "import xgboost\n",
    "\n",
    "xg_boost = xgboost.XGBClassifier(random_state=26)\n",
    "xg_boost.fit(X_train_scaled, y_train)\n",
    "y_train_pred = xg_boost.predict(X_train_scaled)\n",
    "y_test_pred = xg_boost.predict(X_test_scaled)\n",
    "\n",
    "print('f1-score train {:.3f}'.format(metrics.f1_score(y_train, y_train_pred)))\n",
    "print('f1-score test {:.3f}'.format(metrics.f1_score(y_test, y_test_pred)))"
   ]
  },
  {
   "cell_type": "code",
   "execution_count": 65,
   "metadata": {},
   "outputs": [
    {
     "name": "stdout",
     "output_type": "stream",
     "text": [
      "Learning rate set to 0.068023\n",
      "0:\tlearn: 0.6008092\ttotal: 7.47ms\tremaining: 7.46s\n",
      "1:\tlearn: 0.5274384\ttotal: 20ms\tremaining: 9.97s\n",
      "2:\tlearn: 0.4526901\ttotal: 28.9ms\tremaining: 9.6s\n",
      "3:\tlearn: 0.4085056\ttotal: 37.8ms\tremaining: 9.41s\n",
      "4:\tlearn: 0.3754319\ttotal: 47.3ms\tremaining: 9.42s\n",
      "5:\tlearn: 0.3316909\ttotal: 56.5ms\tremaining: 9.36s\n",
      "6:\tlearn: 0.3110782\ttotal: 65.5ms\tremaining: 9.3s\n",
      "7:\tlearn: 0.2929223\ttotal: 75.2ms\tremaining: 9.32s\n",
      "8:\tlearn: 0.2731868\ttotal: 84.5ms\tremaining: 9.3s\n",
      "9:\tlearn: 0.2584989\ttotal: 93.2ms\tremaining: 9.23s\n",
      "10:\tlearn: 0.2433966\ttotal: 102ms\tremaining: 9.15s\n",
      "11:\tlearn: 0.2327963\ttotal: 111ms\tremaining: 9.15s\n",
      "12:\tlearn: 0.2245691\ttotal: 121ms\tremaining: 9.2s\n",
      "13:\tlearn: 0.2158969\ttotal: 130ms\tremaining: 9.18s\n",
      "14:\tlearn: 0.2073526\ttotal: 139ms\tremaining: 9.15s\n",
      "15:\tlearn: 0.1986438\ttotal: 149ms\tremaining: 9.17s\n",
      "16:\tlearn: 0.1921241\ttotal: 158ms\tremaining: 9.14s\n",
      "17:\tlearn: 0.1881226\ttotal: 168ms\tremaining: 9.17s\n",
      "18:\tlearn: 0.1841774\ttotal: 177ms\tremaining: 9.16s\n",
      "19:\tlearn: 0.1780370\ttotal: 187ms\tremaining: 9.15s\n",
      "20:\tlearn: 0.1748222\ttotal: 196ms\tremaining: 9.14s\n",
      "21:\tlearn: 0.1721007\ttotal: 206ms\tremaining: 9.16s\n",
      "22:\tlearn: 0.1686361\ttotal: 218ms\tremaining: 9.25s\n",
      "23:\tlearn: 0.1659813\ttotal: 228ms\tremaining: 9.26s\n",
      "24:\tlearn: 0.1642521\ttotal: 238ms\tremaining: 9.28s\n",
      "25:\tlearn: 0.1608862\ttotal: 247ms\tremaining: 9.27s\n",
      "26:\tlearn: 0.1580731\ttotal: 256ms\tremaining: 9.23s\n",
      "27:\tlearn: 0.1561550\ttotal: 264ms\tremaining: 9.18s\n",
      "28:\tlearn: 0.1540250\ttotal: 273ms\tremaining: 9.14s\n",
      "29:\tlearn: 0.1526906\ttotal: 282ms\tremaining: 9.11s\n",
      "30:\tlearn: 0.1507915\ttotal: 291ms\tremaining: 9.09s\n",
      "31:\tlearn: 0.1492845\ttotal: 299ms\tremaining: 9.05s\n",
      "32:\tlearn: 0.1478594\ttotal: 308ms\tremaining: 9.03s\n",
      "33:\tlearn: 0.1468347\ttotal: 318ms\tremaining: 9.03s\n",
      "34:\tlearn: 0.1457730\ttotal: 326ms\tremaining: 8.99s\n",
      "35:\tlearn: 0.1443365\ttotal: 335ms\tremaining: 8.98s\n",
      "36:\tlearn: 0.1413197\ttotal: 344ms\tremaining: 8.96s\n",
      "37:\tlearn: 0.1401143\ttotal: 353ms\tremaining: 8.94s\n",
      "38:\tlearn: 0.1391472\ttotal: 362ms\tremaining: 8.91s\n",
      "39:\tlearn: 0.1383164\ttotal: 371ms\tremaining: 8.9s\n",
      "40:\tlearn: 0.1367106\ttotal: 380ms\tremaining: 8.88s\n",
      "41:\tlearn: 0.1357269\ttotal: 388ms\tremaining: 8.86s\n",
      "42:\tlearn: 0.1349442\ttotal: 399ms\tremaining: 8.88s\n",
      "43:\tlearn: 0.1344547\ttotal: 408ms\tremaining: 8.87s\n",
      "44:\tlearn: 0.1337330\ttotal: 417ms\tremaining: 8.86s\n",
      "45:\tlearn: 0.1323062\ttotal: 427ms\tremaining: 8.86s\n",
      "46:\tlearn: 0.1307019\ttotal: 437ms\tremaining: 8.86s\n",
      "47:\tlearn: 0.1299123\ttotal: 446ms\tremaining: 8.84s\n",
      "48:\tlearn: 0.1292331\ttotal: 454ms\tremaining: 8.81s\n",
      "49:\tlearn: 0.1287522\ttotal: 463ms\tremaining: 8.8s\n",
      "50:\tlearn: 0.1285238\ttotal: 472ms\tremaining: 8.78s\n",
      "51:\tlearn: 0.1274167\ttotal: 480ms\tremaining: 8.75s\n",
      "52:\tlearn: 0.1270345\ttotal: 490ms\tremaining: 8.75s\n",
      "53:\tlearn: 0.1263893\ttotal: 502ms\tremaining: 8.79s\n",
      "54:\tlearn: 0.1259668\ttotal: 511ms\tremaining: 8.77s\n",
      "55:\tlearn: 0.1257231\ttotal: 520ms\tremaining: 8.76s\n",
      "56:\tlearn: 0.1251752\ttotal: 529ms\tremaining: 8.75s\n",
      "57:\tlearn: 0.1245938\ttotal: 538ms\tremaining: 8.74s\n",
      "58:\tlearn: 0.1238143\ttotal: 556ms\tremaining: 8.86s\n",
      "59:\tlearn: 0.1232619\ttotal: 571ms\tremaining: 8.94s\n",
      "60:\tlearn: 0.1226433\ttotal: 583ms\tremaining: 8.98s\n",
      "61:\tlearn: 0.1223272\ttotal: 598ms\tremaining: 9.04s\n",
      "62:\tlearn: 0.1214761\ttotal: 616ms\tremaining: 9.16s\n",
      "63:\tlearn: 0.1208945\ttotal: 627ms\tremaining: 9.17s\n",
      "64:\tlearn: 0.1206228\ttotal: 637ms\tremaining: 9.16s\n",
      "65:\tlearn: 0.1203367\ttotal: 649ms\tremaining: 9.18s\n",
      "66:\tlearn: 0.1195464\ttotal: 659ms\tremaining: 9.17s\n",
      "67:\tlearn: 0.1189675\ttotal: 666ms\tremaining: 9.13s\n",
      "68:\tlearn: 0.1184484\ttotal: 675ms\tremaining: 9.11s\n",
      "69:\tlearn: 0.1175493\ttotal: 683ms\tremaining: 9.08s\n",
      "70:\tlearn: 0.1167766\ttotal: 693ms\tremaining: 9.06s\n",
      "71:\tlearn: 0.1164845\ttotal: 702ms\tremaining: 9.05s\n",
      "72:\tlearn: 0.1161334\ttotal: 711ms\tremaining: 9.02s\n",
      "73:\tlearn: 0.1159440\ttotal: 719ms\tremaining: 9s\n",
      "74:\tlearn: 0.1156201\ttotal: 729ms\tremaining: 8.98s\n",
      "75:\tlearn: 0.1148764\ttotal: 739ms\tremaining: 8.98s\n",
      "76:\tlearn: 0.1145800\ttotal: 748ms\tremaining: 8.97s\n",
      "77:\tlearn: 0.1141278\ttotal: 758ms\tremaining: 8.96s\n",
      "78:\tlearn: 0.1136361\ttotal: 768ms\tremaining: 8.95s\n",
      "79:\tlearn: 0.1129810\ttotal: 778ms\tremaining: 8.94s\n",
      "80:\tlearn: 0.1125276\ttotal: 789ms\tremaining: 8.95s\n",
      "81:\tlearn: 0.1118945\ttotal: 800ms\tremaining: 8.95s\n",
      "82:\tlearn: 0.1114434\ttotal: 809ms\tremaining: 8.94s\n",
      "83:\tlearn: 0.1111927\ttotal: 818ms\tremaining: 8.92s\n",
      "84:\tlearn: 0.1109498\ttotal: 828ms\tremaining: 8.91s\n",
      "85:\tlearn: 0.1106537\ttotal: 837ms\tremaining: 8.89s\n",
      "86:\tlearn: 0.1096611\ttotal: 846ms\tremaining: 8.88s\n",
      "87:\tlearn: 0.1085289\ttotal: 855ms\tremaining: 8.86s\n",
      "88:\tlearn: 0.1083751\ttotal: 862ms\tremaining: 8.82s\n",
      "89:\tlearn: 0.1081181\ttotal: 872ms\tremaining: 8.81s\n",
      "90:\tlearn: 0.1075841\ttotal: 882ms\tremaining: 8.8s\n",
      "91:\tlearn: 0.1072432\ttotal: 893ms\tremaining: 8.82s\n",
      "92:\tlearn: 0.1069936\ttotal: 907ms\tremaining: 8.85s\n",
      "93:\tlearn: 0.1068441\ttotal: 916ms\tremaining: 8.82s\n",
      "94:\tlearn: 0.1064685\ttotal: 927ms\tremaining: 8.83s\n",
      "95:\tlearn: 0.1061759\ttotal: 937ms\tremaining: 8.83s\n",
      "96:\tlearn: 0.1059988\ttotal: 947ms\tremaining: 8.81s\n",
      "97:\tlearn: 0.1055940\ttotal: 955ms\tremaining: 8.79s\n",
      "98:\tlearn: 0.1054219\ttotal: 964ms\tremaining: 8.77s\n",
      "99:\tlearn: 0.1053505\ttotal: 974ms\tremaining: 8.76s\n",
      "100:\tlearn: 0.1046496\ttotal: 984ms\tremaining: 8.76s\n",
      "101:\tlearn: 0.1043393\ttotal: 1000ms\tremaining: 8.8s\n",
      "102:\tlearn: 0.1040134\ttotal: 1.01s\tremaining: 8.8s\n",
      "103:\tlearn: 0.1037716\ttotal: 1.02s\tremaining: 8.81s\n",
      "104:\tlearn: 0.1035425\ttotal: 1.03s\tremaining: 8.82s\n",
      "105:\tlearn: 0.1034167\ttotal: 1.05s\tremaining: 8.83s\n",
      "106:\tlearn: 0.1032101\ttotal: 1.06s\tremaining: 8.81s\n",
      "107:\tlearn: 0.1031029\ttotal: 1.07s\tremaining: 8.8s\n",
      "108:\tlearn: 0.1026002\ttotal: 1.08s\tremaining: 8.8s\n",
      "109:\tlearn: 0.1025303\ttotal: 1.09s\tremaining: 8.82s\n",
      "110:\tlearn: 0.1024017\ttotal: 1.1s\tremaining: 8.81s\n",
      "111:\tlearn: 0.1022199\ttotal: 1.11s\tremaining: 8.8s\n",
      "112:\tlearn: 0.1019022\ttotal: 1.12s\tremaining: 8.79s\n",
      "113:\tlearn: 0.1015495\ttotal: 1.13s\tremaining: 8.78s\n",
      "114:\tlearn: 0.1014136\ttotal: 1.14s\tremaining: 8.76s\n",
      "115:\tlearn: 0.1012063\ttotal: 1.16s\tremaining: 8.86s\n",
      "116:\tlearn: 0.1009780\ttotal: 1.19s\tremaining: 8.96s\n",
      "117:\tlearn: 0.1008164\ttotal: 1.2s\tremaining: 9s\n",
      "118:\tlearn: 0.1006753\ttotal: 1.21s\tremaining: 8.99s\n",
      "119:\tlearn: 0.1003448\ttotal: 1.23s\tremaining: 8.99s\n",
      "120:\tlearn: 0.1001766\ttotal: 1.23s\tremaining: 8.97s\n",
      "121:\tlearn: 0.1000755\ttotal: 1.25s\tremaining: 8.97s\n",
      "122:\tlearn: 0.0999313\ttotal: 1.26s\tremaining: 8.96s\n",
      "123:\tlearn: 0.0997812\ttotal: 1.27s\tremaining: 8.95s\n",
      "124:\tlearn: 0.0996501\ttotal: 1.28s\tremaining: 8.95s\n",
      "125:\tlearn: 0.0994233\ttotal: 1.29s\tremaining: 8.94s\n",
      "126:\tlearn: 0.0992418\ttotal: 1.3s\tremaining: 8.93s\n",
      "127:\tlearn: 0.0991224\ttotal: 1.31s\tremaining: 8.91s\n",
      "128:\tlearn: 0.0988620\ttotal: 1.32s\tremaining: 8.9s\n",
      "129:\tlearn: 0.0986984\ttotal: 1.33s\tremaining: 8.88s\n",
      "130:\tlearn: 0.0986271\ttotal: 1.34s\tremaining: 8.88s\n",
      "131:\tlearn: 0.0984758\ttotal: 1.35s\tremaining: 8.86s\n",
      "132:\tlearn: 0.0980848\ttotal: 1.36s\tremaining: 8.84s\n",
      "133:\tlearn: 0.0978722\ttotal: 1.36s\tremaining: 8.82s\n",
      "134:\tlearn: 0.0977747\ttotal: 1.37s\tremaining: 8.8s\n",
      "135:\tlearn: 0.0974264\ttotal: 1.38s\tremaining: 8.79s\n",
      "136:\tlearn: 0.0971987\ttotal: 1.39s\tremaining: 8.77s\n",
      "137:\tlearn: 0.0970938\ttotal: 1.4s\tremaining: 8.76s\n",
      "138:\tlearn: 0.0968751\ttotal: 1.41s\tremaining: 8.74s\n",
      "139:\tlearn: 0.0966895\ttotal: 1.42s\tremaining: 8.72s\n",
      "140:\tlearn: 0.0964842\ttotal: 1.43s\tremaining: 8.71s\n",
      "141:\tlearn: 0.0962714\ttotal: 1.44s\tremaining: 8.69s\n",
      "142:\tlearn: 0.0961699\ttotal: 1.45s\tremaining: 8.67s\n",
      "143:\tlearn: 0.0960440\ttotal: 1.45s\tremaining: 8.64s\n",
      "144:\tlearn: 0.0958623\ttotal: 1.46s\tremaining: 8.63s\n",
      "145:\tlearn: 0.0954302\ttotal: 1.47s\tremaining: 8.6s\n",
      "146:\tlearn: 0.0953811\ttotal: 1.48s\tremaining: 8.58s\n",
      "147:\tlearn: 0.0952834\ttotal: 1.49s\tremaining: 8.57s\n",
      "148:\tlearn: 0.0951529\ttotal: 1.5s\tremaining: 8.55s\n",
      "149:\tlearn: 0.0948870\ttotal: 1.51s\tremaining: 8.54s\n",
      "150:\tlearn: 0.0948472\ttotal: 1.51s\tremaining: 8.52s\n",
      "151:\tlearn: 0.0946873\ttotal: 1.52s\tremaining: 8.5s\n",
      "152:\tlearn: 0.0944821\ttotal: 1.53s\tremaining: 8.49s\n",
      "153:\tlearn: 0.0943700\ttotal: 1.54s\tremaining: 8.47s\n",
      "154:\tlearn: 0.0941990\ttotal: 1.55s\tremaining: 8.45s\n",
      "155:\tlearn: 0.0938563\ttotal: 1.56s\tremaining: 8.43s\n",
      "156:\tlearn: 0.0937659\ttotal: 1.57s\tremaining: 8.41s\n",
      "157:\tlearn: 0.0937030\ttotal: 1.57s\tremaining: 8.39s\n",
      "158:\tlearn: 0.0935496\ttotal: 1.58s\tremaining: 8.38s\n",
      "159:\tlearn: 0.0932152\ttotal: 1.59s\tremaining: 8.36s\n",
      "160:\tlearn: 0.0931645\ttotal: 1.6s\tremaining: 8.35s\n",
      "161:\tlearn: 0.0929737\ttotal: 1.61s\tremaining: 8.33s\n",
      "162:\tlearn: 0.0928808\ttotal: 1.62s\tremaining: 8.32s\n",
      "163:\tlearn: 0.0925944\ttotal: 1.63s\tremaining: 8.3s\n",
      "164:\tlearn: 0.0924279\ttotal: 1.64s\tremaining: 8.29s\n",
      "165:\tlearn: 0.0921479\ttotal: 1.65s\tremaining: 8.27s\n",
      "166:\tlearn: 0.0919694\ttotal: 1.65s\tremaining: 8.25s\n",
      "167:\tlearn: 0.0916383\ttotal: 1.66s\tremaining: 8.24s\n",
      "168:\tlearn: 0.0916052\ttotal: 1.67s\tremaining: 8.22s\n",
      "169:\tlearn: 0.0914689\ttotal: 1.68s\tremaining: 8.21s\n",
      "170:\tlearn: 0.0913685\ttotal: 1.69s\tremaining: 8.2s\n",
      "171:\tlearn: 0.0911758\ttotal: 1.7s\tremaining: 8.19s\n",
      "172:\tlearn: 0.0910132\ttotal: 1.71s\tremaining: 8.18s\n",
      "173:\tlearn: 0.0907911\ttotal: 1.72s\tremaining: 8.17s\n",
      "174:\tlearn: 0.0907185\ttotal: 1.73s\tremaining: 8.16s\n",
      "175:\tlearn: 0.0906398\ttotal: 1.74s\tremaining: 8.15s\n",
      "176:\tlearn: 0.0905763\ttotal: 1.75s\tremaining: 8.13s\n",
      "177:\tlearn: 0.0904935\ttotal: 1.76s\tremaining: 8.12s\n",
      "178:\tlearn: 0.0903968\ttotal: 1.77s\tremaining: 8.11s\n",
      "179:\tlearn: 0.0902456\ttotal: 1.78s\tremaining: 8.11s\n",
      "180:\tlearn: 0.0901579\ttotal: 1.79s\tremaining: 8.11s\n",
      "181:\tlearn: 0.0900505\ttotal: 1.8s\tremaining: 8.1s\n",
      "182:\tlearn: 0.0898712\ttotal: 1.81s\tremaining: 8.1s\n",
      "183:\tlearn: 0.0896009\ttotal: 1.82s\tremaining: 8.09s\n",
      "184:\tlearn: 0.0895113\ttotal: 1.83s\tremaining: 8.08s\n",
      "185:\tlearn: 0.0894295\ttotal: 1.85s\tremaining: 8.09s\n",
      "186:\tlearn: 0.0892286\ttotal: 1.87s\tremaining: 8.13s\n",
      "187:\tlearn: 0.0891426\ttotal: 1.89s\tremaining: 8.15s\n",
      "188:\tlearn: 0.0890122\ttotal: 1.9s\tremaining: 8.16s\n",
      "189:\tlearn: 0.0888974\ttotal: 1.91s\tremaining: 8.15s\n",
      "190:\tlearn: 0.0888147\ttotal: 1.92s\tremaining: 8.13s\n",
      "191:\tlearn: 0.0887220\ttotal: 1.93s\tremaining: 8.12s\n",
      "192:\tlearn: 0.0885267\ttotal: 1.94s\tremaining: 8.1s\n",
      "193:\tlearn: 0.0883989\ttotal: 1.95s\tremaining: 8.09s\n",
      "194:\tlearn: 0.0883214\ttotal: 1.96s\tremaining: 8.07s\n",
      "195:\tlearn: 0.0882673\ttotal: 1.96s\tremaining: 8.06s\n",
      "196:\tlearn: 0.0882194\ttotal: 1.97s\tremaining: 8.04s\n",
      "197:\tlearn: 0.0881451\ttotal: 1.98s\tremaining: 8.03s\n",
      "198:\tlearn: 0.0880528\ttotal: 1.99s\tremaining: 8.02s\n",
      "199:\tlearn: 0.0878970\ttotal: 2s\tremaining: 8s\n",
      "200:\tlearn: 0.0876821\ttotal: 2.01s\tremaining: 7.99s\n",
      "201:\tlearn: 0.0875998\ttotal: 2.02s\tremaining: 7.97s\n",
      "202:\tlearn: 0.0875484\ttotal: 2.03s\tremaining: 7.96s\n",
      "203:\tlearn: 0.0874258\ttotal: 2.04s\tremaining: 7.94s\n",
      "204:\tlearn: 0.0873684\ttotal: 2.04s\tremaining: 7.93s\n",
      "205:\tlearn: 0.0873037\ttotal: 2.05s\tremaining: 7.92s\n",
      "206:\tlearn: 0.0872418\ttotal: 2.06s\tremaining: 7.91s\n",
      "207:\tlearn: 0.0870978\ttotal: 2.07s\tremaining: 7.89s\n",
      "208:\tlearn: 0.0869184\ttotal: 2.08s\tremaining: 7.88s\n",
      "209:\tlearn: 0.0868136\ttotal: 2.09s\tremaining: 7.87s\n",
      "210:\tlearn: 0.0866502\ttotal: 2.1s\tremaining: 7.85s\n",
      "211:\tlearn: 0.0865733\ttotal: 2.11s\tremaining: 7.84s\n",
      "212:\tlearn: 0.0864425\ttotal: 2.12s\tremaining: 7.82s\n",
      "213:\tlearn: 0.0864055\ttotal: 2.13s\tremaining: 7.81s\n",
      "214:\tlearn: 0.0863285\ttotal: 2.13s\tremaining: 7.79s\n",
      "215:\tlearn: 0.0862404\ttotal: 2.14s\tremaining: 7.78s\n",
      "216:\tlearn: 0.0861632\ttotal: 2.15s\tremaining: 7.76s\n",
      "217:\tlearn: 0.0860868\ttotal: 2.16s\tremaining: 7.75s\n",
      "218:\tlearn: 0.0860272\ttotal: 2.17s\tremaining: 7.74s\n",
      "219:\tlearn: 0.0859059\ttotal: 2.18s\tremaining: 7.73s\n",
      "220:\tlearn: 0.0858050\ttotal: 2.19s\tremaining: 7.71s\n",
      "221:\tlearn: 0.0856531\ttotal: 2.2s\tremaining: 7.7s\n",
      "222:\tlearn: 0.0856031\ttotal: 2.21s\tremaining: 7.68s\n",
      "223:\tlearn: 0.0855471\ttotal: 2.21s\tremaining: 7.67s\n",
      "224:\tlearn: 0.0854803\ttotal: 2.22s\tremaining: 7.66s\n",
      "225:\tlearn: 0.0854129\ttotal: 2.23s\tremaining: 7.64s\n",
      "226:\tlearn: 0.0851957\ttotal: 2.24s\tremaining: 7.63s\n",
      "227:\tlearn: 0.0851104\ttotal: 2.25s\tremaining: 7.61s\n",
      "228:\tlearn: 0.0850429\ttotal: 2.26s\tremaining: 7.6s\n",
      "229:\tlearn: 0.0848334\ttotal: 2.27s\tremaining: 7.58s\n",
      "230:\tlearn: 0.0847754\ttotal: 2.27s\tremaining: 7.57s\n",
      "231:\tlearn: 0.0846884\ttotal: 2.28s\tremaining: 7.56s\n",
      "232:\tlearn: 0.0845865\ttotal: 2.29s\tremaining: 7.56s\n",
      "233:\tlearn: 0.0842849\ttotal: 2.3s\tremaining: 7.54s\n",
      "234:\tlearn: 0.0842263\ttotal: 2.31s\tremaining: 7.53s\n",
      "235:\tlearn: 0.0840633\ttotal: 2.32s\tremaining: 7.52s\n",
      "236:\tlearn: 0.0839935\ttotal: 2.33s\tremaining: 7.5s\n",
      "237:\tlearn: 0.0838758\ttotal: 2.34s\tremaining: 7.49s\n",
      "238:\tlearn: 0.0838187\ttotal: 2.35s\tremaining: 7.47s\n",
      "239:\tlearn: 0.0837420\ttotal: 2.36s\tremaining: 7.47s\n",
      "240:\tlearn: 0.0836447\ttotal: 2.38s\tremaining: 7.48s\n",
      "241:\tlearn: 0.0835902\ttotal: 2.39s\tremaining: 7.5s\n",
      "242:\tlearn: 0.0835351\ttotal: 2.4s\tremaining: 7.49s\n",
      "243:\tlearn: 0.0834711\ttotal: 2.41s\tremaining: 7.48s\n",
      "244:\tlearn: 0.0833501\ttotal: 2.42s\tremaining: 7.47s\n",
      "245:\tlearn: 0.0833022\ttotal: 2.43s\tremaining: 7.46s\n",
      "246:\tlearn: 0.0832668\ttotal: 2.44s\tremaining: 7.45s\n",
      "247:\tlearn: 0.0831849\ttotal: 2.46s\tremaining: 7.45s\n",
      "248:\tlearn: 0.0831147\ttotal: 2.46s\tremaining: 7.44s\n",
      "249:\tlearn: 0.0828875\ttotal: 2.48s\tremaining: 7.43s\n",
      "250:\tlearn: 0.0828122\ttotal: 2.49s\tremaining: 7.42s\n",
      "251:\tlearn: 0.0827011\ttotal: 2.5s\tremaining: 7.41s\n",
      "252:\tlearn: 0.0826933\ttotal: 2.51s\tremaining: 7.4s\n",
      "253:\tlearn: 0.0826590\ttotal: 2.52s\tremaining: 7.39s\n",
      "254:\tlearn: 0.0825600\ttotal: 2.52s\tremaining: 7.38s\n",
      "255:\tlearn: 0.0824892\ttotal: 2.53s\tremaining: 7.37s\n",
      "256:\tlearn: 0.0824270\ttotal: 2.54s\tremaining: 7.35s\n",
      "257:\tlearn: 0.0823749\ttotal: 2.55s\tremaining: 7.34s\n",
      "258:\tlearn: 0.0822936\ttotal: 2.56s\tremaining: 7.33s\n",
      "259:\tlearn: 0.0822466\ttotal: 2.57s\tremaining: 7.32s\n",
      "260:\tlearn: 0.0821947\ttotal: 2.58s\tremaining: 7.31s\n",
      "261:\tlearn: 0.0821285\ttotal: 2.59s\tremaining: 7.29s\n",
      "262:\tlearn: 0.0820457\ttotal: 2.6s\tremaining: 7.28s\n",
      "263:\tlearn: 0.0819196\ttotal: 2.61s\tremaining: 7.27s\n",
      "264:\tlearn: 0.0818372\ttotal: 2.62s\tremaining: 7.26s\n",
      "265:\tlearn: 0.0818265\ttotal: 2.62s\tremaining: 7.24s\n",
      "266:\tlearn: 0.0817990\ttotal: 2.63s\tremaining: 7.23s\n",
      "267:\tlearn: 0.0817087\ttotal: 2.64s\tremaining: 7.22s\n",
      "268:\tlearn: 0.0816694\ttotal: 2.65s\tremaining: 7.21s\n",
      "269:\tlearn: 0.0815216\ttotal: 2.66s\tremaining: 7.2s\n",
      "270:\tlearn: 0.0814758\ttotal: 2.67s\tremaining: 7.19s\n",
      "271:\tlearn: 0.0813559\ttotal: 2.68s\tremaining: 7.17s\n",
      "272:\tlearn: 0.0813094\ttotal: 2.69s\tremaining: 7.16s\n",
      "273:\tlearn: 0.0812831\ttotal: 2.7s\tremaining: 7.15s\n",
      "274:\tlearn: 0.0812365\ttotal: 2.71s\tremaining: 7.13s\n",
      "275:\tlearn: 0.0811802\ttotal: 2.71s\tremaining: 7.12s\n",
      "276:\tlearn: 0.0810782\ttotal: 2.72s\tremaining: 7.11s\n",
      "277:\tlearn: 0.0810085\ttotal: 2.73s\tremaining: 7.1s\n",
      "278:\tlearn: 0.0809547\ttotal: 2.74s\tremaining: 7.08s\n",
      "279:\tlearn: 0.0809087\ttotal: 2.75s\tremaining: 7.07s\n",
      "280:\tlearn: 0.0808332\ttotal: 2.76s\tremaining: 7.06s\n",
      "281:\tlearn: 0.0807867\ttotal: 2.77s\tremaining: 7.05s\n",
      "282:\tlearn: 0.0806999\ttotal: 2.78s\tremaining: 7.04s\n",
      "283:\tlearn: 0.0806147\ttotal: 2.79s\tremaining: 7.03s\n",
      "284:\tlearn: 0.0805557\ttotal: 2.79s\tremaining: 7.01s\n",
      "285:\tlearn: 0.0805106\ttotal: 2.8s\tremaining: 7s\n",
      "286:\tlearn: 0.0804611\ttotal: 2.81s\tremaining: 6.99s\n",
      "287:\tlearn: 0.0804250\ttotal: 2.82s\tremaining: 6.98s\n",
      "288:\tlearn: 0.0803369\ttotal: 2.83s\tremaining: 6.96s\n",
      "289:\tlearn: 0.0802049\ttotal: 2.84s\tremaining: 6.95s\n",
      "290:\tlearn: 0.0801242\ttotal: 2.85s\tremaining: 6.94s\n",
      "291:\tlearn: 0.0800898\ttotal: 2.86s\tremaining: 6.93s\n",
      "292:\tlearn: 0.0800080\ttotal: 2.87s\tremaining: 6.92s\n",
      "293:\tlearn: 0.0799881\ttotal: 2.88s\tremaining: 6.91s\n",
      "294:\tlearn: 0.0798933\ttotal: 2.88s\tremaining: 6.89s\n",
      "295:\tlearn: 0.0798610\ttotal: 2.89s\tremaining: 6.88s\n",
      "296:\tlearn: 0.0796800\ttotal: 2.9s\tremaining: 6.87s\n",
      "297:\tlearn: 0.0796250\ttotal: 2.91s\tremaining: 6.86s\n",
      "298:\tlearn: 0.0795626\ttotal: 2.92s\tremaining: 6.84s\n",
      "299:\tlearn: 0.0795417\ttotal: 2.93s\tremaining: 6.83s\n",
      "300:\tlearn: 0.0794151\ttotal: 2.94s\tremaining: 6.82s\n",
      "301:\tlearn: 0.0793393\ttotal: 2.94s\tremaining: 6.8s\n",
      "302:\tlearn: 0.0792558\ttotal: 2.95s\tremaining: 6.79s\n",
      "303:\tlearn: 0.0791715\ttotal: 2.96s\tremaining: 6.78s\n",
      "304:\tlearn: 0.0791327\ttotal: 2.97s\tremaining: 6.77s\n",
      "305:\tlearn: 0.0790766\ttotal: 2.98s\tremaining: 6.75s\n",
      "306:\tlearn: 0.0790215\ttotal: 2.99s\tremaining: 6.74s\n",
      "307:\tlearn: 0.0788621\ttotal: 3s\tremaining: 6.73s\n",
      "308:\tlearn: 0.0787600\ttotal: 3s\tremaining: 6.72s\n",
      "309:\tlearn: 0.0787218\ttotal: 3.01s\tremaining: 6.71s\n",
      "310:\tlearn: 0.0786768\ttotal: 3.02s\tremaining: 6.7s\n",
      "311:\tlearn: 0.0785702\ttotal: 3.03s\tremaining: 6.68s\n",
      "312:\tlearn: 0.0784772\ttotal: 3.04s\tremaining: 6.67s\n",
      "313:\tlearn: 0.0784392\ttotal: 3.05s\tremaining: 6.66s\n",
      "314:\tlearn: 0.0783915\ttotal: 3.06s\tremaining: 6.65s\n",
      "315:\tlearn: 0.0783470\ttotal: 3.07s\tremaining: 6.64s\n",
      "316:\tlearn: 0.0782994\ttotal: 3.08s\tremaining: 6.63s\n",
      "317:\tlearn: 0.0782182\ttotal: 3.08s\tremaining: 6.61s\n",
      "318:\tlearn: 0.0781402\ttotal: 3.09s\tremaining: 6.6s\n",
      "319:\tlearn: 0.0781212\ttotal: 3.1s\tremaining: 6.59s\n",
      "320:\tlearn: 0.0780669\ttotal: 3.11s\tremaining: 6.58s\n",
      "321:\tlearn: 0.0780137\ttotal: 3.12s\tremaining: 6.57s\n",
      "322:\tlearn: 0.0779402\ttotal: 3.13s\tremaining: 6.55s\n",
      "323:\tlearn: 0.0779162\ttotal: 3.13s\tremaining: 6.54s\n",
      "324:\tlearn: 0.0778777\ttotal: 3.14s\tremaining: 6.53s\n",
      "325:\tlearn: 0.0777150\ttotal: 3.15s\tremaining: 6.52s\n",
      "326:\tlearn: 0.0776777\ttotal: 3.16s\tremaining: 6.51s\n",
      "327:\tlearn: 0.0776229\ttotal: 3.17s\tremaining: 6.5s\n",
      "328:\tlearn: 0.0775662\ttotal: 3.18s\tremaining: 6.48s\n",
      "329:\tlearn: 0.0775175\ttotal: 3.19s\tremaining: 6.47s\n",
      "330:\tlearn: 0.0775007\ttotal: 3.2s\tremaining: 6.46s\n",
      "331:\tlearn: 0.0774429\ttotal: 3.21s\tremaining: 6.45s\n",
      "332:\tlearn: 0.0773903\ttotal: 3.21s\tremaining: 6.44s\n",
      "333:\tlearn: 0.0773733\ttotal: 3.22s\tremaining: 6.43s\n",
      "334:\tlearn: 0.0773307\ttotal: 3.23s\tremaining: 6.42s\n",
      "335:\tlearn: 0.0772694\ttotal: 3.24s\tremaining: 6.41s\n",
      "336:\tlearn: 0.0772358\ttotal: 3.25s\tremaining: 6.39s\n",
      "337:\tlearn: 0.0772018\ttotal: 3.26s\tremaining: 6.38s\n",
      "338:\tlearn: 0.0771042\ttotal: 3.27s\tremaining: 6.37s\n",
      "339:\tlearn: 0.0770262\ttotal: 3.28s\tremaining: 6.36s\n",
      "340:\tlearn: 0.0770036\ttotal: 3.29s\tremaining: 6.35s\n",
      "341:\tlearn: 0.0769279\ttotal: 3.29s\tremaining: 6.34s\n",
      "342:\tlearn: 0.0768081\ttotal: 3.3s\tremaining: 6.33s\n",
      "343:\tlearn: 0.0767359\ttotal: 3.31s\tremaining: 6.31s\n",
      "344:\tlearn: 0.0766616\ttotal: 3.32s\tremaining: 6.3s\n",
      "345:\tlearn: 0.0766358\ttotal: 3.33s\tremaining: 6.29s\n",
      "346:\tlearn: 0.0765745\ttotal: 3.33s\tremaining: 6.28s\n",
      "347:\tlearn: 0.0765574\ttotal: 3.34s\tremaining: 6.26s\n",
      "348:\tlearn: 0.0765146\ttotal: 3.35s\tremaining: 6.25s\n",
      "349:\tlearn: 0.0764691\ttotal: 3.36s\tremaining: 6.24s\n",
      "350:\tlearn: 0.0764330\ttotal: 3.37s\tremaining: 6.23s\n",
      "351:\tlearn: 0.0763499\ttotal: 3.38s\tremaining: 6.22s\n",
      "352:\tlearn: 0.0763071\ttotal: 3.39s\tremaining: 6.21s\n",
      "353:\tlearn: 0.0762878\ttotal: 3.4s\tremaining: 6.2s\n",
      "354:\tlearn: 0.0762481\ttotal: 3.4s\tremaining: 6.19s\n",
      "355:\tlearn: 0.0762143\ttotal: 3.41s\tremaining: 6.17s\n",
      "356:\tlearn: 0.0761720\ttotal: 3.42s\tremaining: 6.16s\n",
      "357:\tlearn: 0.0761076\ttotal: 3.43s\tremaining: 6.16s\n",
      "358:\tlearn: 0.0760733\ttotal: 3.44s\tremaining: 6.15s\n",
      "359:\tlearn: 0.0760460\ttotal: 3.45s\tremaining: 6.13s\n",
      "360:\tlearn: 0.0759669\ttotal: 3.46s\tremaining: 6.12s\n",
      "361:\tlearn: 0.0759181\ttotal: 3.47s\tremaining: 6.11s\n",
      "362:\tlearn: 0.0757823\ttotal: 3.48s\tremaining: 6.1s\n",
      "363:\tlearn: 0.0757393\ttotal: 3.49s\tremaining: 6.09s\n",
      "364:\tlearn: 0.0756706\ttotal: 3.5s\tremaining: 6.08s\n",
      "365:\tlearn: 0.0756242\ttotal: 3.5s\tremaining: 6.07s\n",
      "366:\tlearn: 0.0755582\ttotal: 3.51s\tremaining: 6.06s\n",
      "367:\tlearn: 0.0754972\ttotal: 3.52s\tremaining: 6.05s\n",
      "368:\tlearn: 0.0754723\ttotal: 3.53s\tremaining: 6.04s\n",
      "369:\tlearn: 0.0754176\ttotal: 3.54s\tremaining: 6.03s\n",
      "370:\tlearn: 0.0753974\ttotal: 3.55s\tremaining: 6.01s\n",
      "371:\tlearn: 0.0753646\ttotal: 3.56s\tremaining: 6s\n",
      "372:\tlearn: 0.0753376\ttotal: 3.56s\tremaining: 5.99s\n",
      "373:\tlearn: 0.0752846\ttotal: 3.57s\tremaining: 5.98s\n",
      "374:\tlearn: 0.0752570\ttotal: 3.58s\tremaining: 5.97s\n",
      "375:\tlearn: 0.0752295\ttotal: 3.59s\tremaining: 5.96s\n",
      "376:\tlearn: 0.0752060\ttotal: 3.6s\tremaining: 5.95s\n",
      "377:\tlearn: 0.0751650\ttotal: 3.61s\tremaining: 5.94s\n",
      "378:\tlearn: 0.0751138\ttotal: 3.62s\tremaining: 5.92s\n",
      "379:\tlearn: 0.0751004\ttotal: 3.63s\tremaining: 5.91s\n",
      "380:\tlearn: 0.0750314\ttotal: 3.63s\tremaining: 5.9s\n",
      "381:\tlearn: 0.0749712\ttotal: 3.64s\tremaining: 5.89s\n",
      "382:\tlearn: 0.0749051\ttotal: 3.65s\tremaining: 5.88s\n",
      "383:\tlearn: 0.0748813\ttotal: 3.66s\tremaining: 5.88s\n",
      "384:\tlearn: 0.0748194\ttotal: 3.67s\tremaining: 5.87s\n",
      "385:\tlearn: 0.0747800\ttotal: 3.68s\tremaining: 5.85s\n",
      "386:\tlearn: 0.0746838\ttotal: 3.69s\tremaining: 5.84s\n",
      "387:\tlearn: 0.0746327\ttotal: 3.7s\tremaining: 5.83s\n",
      "388:\tlearn: 0.0745958\ttotal: 3.71s\tremaining: 5.82s\n",
      "389:\tlearn: 0.0745242\ttotal: 3.71s\tremaining: 5.81s\n",
      "390:\tlearn: 0.0745166\ttotal: 3.72s\tremaining: 5.8s\n",
      "391:\tlearn: 0.0744682\ttotal: 3.73s\tremaining: 5.79s\n",
      "392:\tlearn: 0.0744604\ttotal: 3.74s\tremaining: 5.78s\n",
      "393:\tlearn: 0.0743749\ttotal: 3.75s\tremaining: 5.77s\n",
      "394:\tlearn: 0.0743325\ttotal: 3.76s\tremaining: 5.76s\n",
      "395:\tlearn: 0.0742893\ttotal: 3.77s\tremaining: 5.75s\n",
      "396:\tlearn: 0.0741837\ttotal: 3.78s\tremaining: 5.74s\n",
      "397:\tlearn: 0.0741271\ttotal: 3.79s\tremaining: 5.73s\n",
      "398:\tlearn: 0.0741054\ttotal: 3.79s\tremaining: 5.71s\n",
      "399:\tlearn: 0.0740736\ttotal: 3.8s\tremaining: 5.7s\n",
      "400:\tlearn: 0.0740191\ttotal: 3.81s\tremaining: 5.69s\n",
      "401:\tlearn: 0.0739943\ttotal: 3.82s\tremaining: 5.68s\n",
      "402:\tlearn: 0.0739809\ttotal: 3.83s\tremaining: 5.67s\n",
      "403:\tlearn: 0.0739397\ttotal: 3.83s\tremaining: 5.66s\n",
      "404:\tlearn: 0.0738801\ttotal: 3.84s\tremaining: 5.65s\n",
      "405:\tlearn: 0.0738355\ttotal: 3.85s\tremaining: 5.64s\n",
      "406:\tlearn: 0.0738047\ttotal: 3.86s\tremaining: 5.63s\n",
      "407:\tlearn: 0.0737638\ttotal: 3.87s\tremaining: 5.62s\n",
      "408:\tlearn: 0.0737415\ttotal: 3.88s\tremaining: 5.61s\n",
      "409:\tlearn: 0.0736945\ttotal: 3.89s\tremaining: 5.6s\n",
      "410:\tlearn: 0.0736361\ttotal: 3.9s\tremaining: 5.58s\n",
      "411:\tlearn: 0.0735871\ttotal: 3.91s\tremaining: 5.58s\n",
      "412:\tlearn: 0.0735783\ttotal: 3.92s\tremaining: 5.56s\n",
      "413:\tlearn: 0.0735406\ttotal: 3.92s\tremaining: 5.55s\n",
      "414:\tlearn: 0.0734815\ttotal: 3.93s\tremaining: 5.54s\n",
      "415:\tlearn: 0.0734199\ttotal: 3.94s\tremaining: 5.53s\n",
      "416:\tlearn: 0.0734064\ttotal: 3.95s\tremaining: 5.52s\n",
      "417:\tlearn: 0.0733598\ttotal: 3.96s\tremaining: 5.51s\n",
      "418:\tlearn: 0.0733108\ttotal: 3.97s\tremaining: 5.5s\n",
      "419:\tlearn: 0.0732886\ttotal: 3.98s\tremaining: 5.49s\n",
      "420:\tlearn: 0.0732633\ttotal: 3.99s\tremaining: 5.48s\n",
      "421:\tlearn: 0.0732351\ttotal: 4s\tremaining: 5.47s\n",
      "422:\tlearn: 0.0732019\ttotal: 4s\tremaining: 5.46s\n",
      "423:\tlearn: 0.0731597\ttotal: 4.01s\tremaining: 5.45s\n",
      "424:\tlearn: 0.0730827\ttotal: 4.02s\tremaining: 5.44s\n",
      "425:\tlearn: 0.0729742\ttotal: 4.03s\tremaining: 5.43s\n",
      "426:\tlearn: 0.0729428\ttotal: 4.04s\tremaining: 5.42s\n",
      "427:\tlearn: 0.0729141\ttotal: 4.05s\tremaining: 5.41s\n",
      "428:\tlearn: 0.0728851\ttotal: 4.06s\tremaining: 5.4s\n",
      "429:\tlearn: 0.0728107\ttotal: 4.07s\tremaining: 5.39s\n",
      "430:\tlearn: 0.0727964\ttotal: 4.08s\tremaining: 5.38s\n",
      "431:\tlearn: 0.0727484\ttotal: 4.09s\tremaining: 5.37s\n",
      "432:\tlearn: 0.0727090\ttotal: 4.09s\tremaining: 5.36s\n",
      "433:\tlearn: 0.0726678\ttotal: 4.1s\tremaining: 5.35s\n",
      "434:\tlearn: 0.0726218\ttotal: 4.11s\tremaining: 5.34s\n",
      "435:\tlearn: 0.0725798\ttotal: 4.12s\tremaining: 5.33s\n",
      "436:\tlearn: 0.0725527\ttotal: 4.13s\tremaining: 5.32s\n",
      "437:\tlearn: 0.0725200\ttotal: 4.14s\tremaining: 5.31s\n",
      "438:\tlearn: 0.0724798\ttotal: 4.14s\tremaining: 5.3s\n",
      "439:\tlearn: 0.0724560\ttotal: 4.15s\tremaining: 5.29s\n",
      "440:\tlearn: 0.0724264\ttotal: 4.16s\tremaining: 5.28s\n",
      "441:\tlearn: 0.0724105\ttotal: 4.17s\tremaining: 5.26s\n",
      "442:\tlearn: 0.0723947\ttotal: 4.18s\tremaining: 5.25s\n",
      "443:\tlearn: 0.0723423\ttotal: 4.19s\tremaining: 5.24s\n",
      "444:\tlearn: 0.0723086\ttotal: 4.2s\tremaining: 5.23s\n",
      "445:\tlearn: 0.0722645\ttotal: 4.2s\tremaining: 5.22s\n",
      "446:\tlearn: 0.0722411\ttotal: 4.21s\tremaining: 5.21s\n",
      "447:\tlearn: 0.0721804\ttotal: 4.22s\tremaining: 5.2s\n",
      "448:\tlearn: 0.0721725\ttotal: 4.23s\tremaining: 5.19s\n",
      "449:\tlearn: 0.0721550\ttotal: 4.24s\tremaining: 5.18s\n",
      "450:\tlearn: 0.0721416\ttotal: 4.25s\tremaining: 5.17s\n",
      "451:\tlearn: 0.0721022\ttotal: 4.26s\tremaining: 5.16s\n",
      "452:\tlearn: 0.0720778\ttotal: 4.26s\tremaining: 5.15s\n",
      "453:\tlearn: 0.0720485\ttotal: 4.27s\tremaining: 5.14s\n",
      "454:\tlearn: 0.0719891\ttotal: 4.28s\tremaining: 5.13s\n",
      "455:\tlearn: 0.0719529\ttotal: 4.29s\tremaining: 5.12s\n",
      "456:\tlearn: 0.0719067\ttotal: 4.3s\tremaining: 5.11s\n",
      "457:\tlearn: 0.0717213\ttotal: 4.31s\tremaining: 5.1s\n",
      "458:\tlearn: 0.0716942\ttotal: 4.32s\tremaining: 5.09s\n",
      "459:\tlearn: 0.0716581\ttotal: 4.32s\tremaining: 5.08s\n",
      "460:\tlearn: 0.0716206\ttotal: 4.33s\tremaining: 5.07s\n",
      "461:\tlearn: 0.0715916\ttotal: 4.34s\tremaining: 5.06s\n",
      "462:\tlearn: 0.0715625\ttotal: 4.35s\tremaining: 5.04s\n",
      "463:\tlearn: 0.0715170\ttotal: 4.36s\tremaining: 5.04s\n",
      "464:\tlearn: 0.0715001\ttotal: 4.37s\tremaining: 5.03s\n",
      "465:\tlearn: 0.0714472\ttotal: 4.38s\tremaining: 5.02s\n",
      "466:\tlearn: 0.0714304\ttotal: 4.39s\tremaining: 5.01s\n",
      "467:\tlearn: 0.0713987\ttotal: 4.39s\tremaining: 5s\n",
      "468:\tlearn: 0.0713454\ttotal: 4.4s\tremaining: 4.99s\n",
      "469:\tlearn: 0.0713059\ttotal: 4.41s\tremaining: 4.97s\n",
      "470:\tlearn: 0.0712520\ttotal: 4.42s\tremaining: 4.96s\n",
      "471:\tlearn: 0.0712520\ttotal: 4.43s\tremaining: 4.95s\n",
      "472:\tlearn: 0.0712342\ttotal: 4.43s\tremaining: 4.94s\n",
      "473:\tlearn: 0.0711838\ttotal: 4.45s\tremaining: 4.93s\n",
      "474:\tlearn: 0.0711016\ttotal: 4.45s\tremaining: 4.92s\n",
      "475:\tlearn: 0.0710792\ttotal: 4.46s\tremaining: 4.91s\n",
      "476:\tlearn: 0.0710536\ttotal: 4.47s\tremaining: 4.9s\n",
      "477:\tlearn: 0.0710127\ttotal: 4.48s\tremaining: 4.89s\n",
      "478:\tlearn: 0.0709724\ttotal: 4.49s\tremaining: 4.88s\n",
      "479:\tlearn: 0.0709390\ttotal: 4.5s\tremaining: 4.87s\n",
      "480:\tlearn: 0.0709249\ttotal: 4.5s\tremaining: 4.86s\n",
      "481:\tlearn: 0.0708676\ttotal: 4.51s\tremaining: 4.85s\n",
      "482:\tlearn: 0.0708257\ttotal: 4.52s\tremaining: 4.84s\n",
      "483:\tlearn: 0.0707599\ttotal: 4.53s\tremaining: 4.83s\n",
      "484:\tlearn: 0.0707401\ttotal: 4.54s\tremaining: 4.82s\n",
      "485:\tlearn: 0.0706716\ttotal: 4.55s\tremaining: 4.81s\n",
      "486:\tlearn: 0.0706286\ttotal: 4.56s\tremaining: 4.8s\n",
      "487:\tlearn: 0.0705840\ttotal: 4.57s\tremaining: 4.79s\n",
      "488:\tlearn: 0.0705489\ttotal: 4.58s\tremaining: 4.78s\n",
      "489:\tlearn: 0.0705252\ttotal: 4.58s\tremaining: 4.77s\n",
      "490:\tlearn: 0.0705018\ttotal: 4.59s\tremaining: 4.76s\n",
      "491:\tlearn: 0.0704634\ttotal: 4.6s\tremaining: 4.75s\n",
      "492:\tlearn: 0.0704322\ttotal: 4.61s\tremaining: 4.74s\n",
      "493:\tlearn: 0.0703782\ttotal: 4.62s\tremaining: 4.73s\n",
      "494:\tlearn: 0.0703462\ttotal: 4.63s\tremaining: 4.72s\n",
      "495:\tlearn: 0.0703281\ttotal: 4.64s\tremaining: 4.71s\n",
      "496:\tlearn: 0.0703044\ttotal: 4.65s\tremaining: 4.7s\n",
      "497:\tlearn: 0.0702629\ttotal: 4.66s\tremaining: 4.69s\n",
      "498:\tlearn: 0.0702421\ttotal: 4.66s\tremaining: 4.68s\n",
      "499:\tlearn: 0.0701665\ttotal: 4.67s\tremaining: 4.67s\n",
      "500:\tlearn: 0.0701498\ttotal: 4.68s\tremaining: 4.66s\n",
      "501:\tlearn: 0.0701393\ttotal: 4.69s\tremaining: 4.65s\n",
      "502:\tlearn: 0.0701190\ttotal: 4.7s\tremaining: 4.64s\n",
      "503:\tlearn: 0.0700963\ttotal: 4.71s\tremaining: 4.63s\n",
      "504:\tlearn: 0.0700909\ttotal: 4.71s\tremaining: 4.62s\n",
      "505:\tlearn: 0.0700453\ttotal: 4.72s\tremaining: 4.61s\n",
      "506:\tlearn: 0.0700201\ttotal: 4.73s\tremaining: 4.6s\n",
      "507:\tlearn: 0.0700002\ttotal: 4.74s\tremaining: 4.59s\n",
      "508:\tlearn: 0.0699731\ttotal: 4.75s\tremaining: 4.58s\n",
      "509:\tlearn: 0.0699189\ttotal: 4.76s\tremaining: 4.57s\n",
      "510:\tlearn: 0.0698798\ttotal: 4.77s\tremaining: 4.56s\n",
      "511:\tlearn: 0.0698711\ttotal: 4.78s\tremaining: 4.55s\n",
      "512:\tlearn: 0.0698505\ttotal: 4.78s\tremaining: 4.54s\n",
      "513:\tlearn: 0.0697279\ttotal: 4.79s\tremaining: 4.53s\n",
      "514:\tlearn: 0.0696920\ttotal: 4.8s\tremaining: 4.52s\n",
      "515:\tlearn: 0.0696518\ttotal: 4.81s\tremaining: 4.51s\n",
      "516:\tlearn: 0.0696309\ttotal: 4.82s\tremaining: 4.5s\n",
      "517:\tlearn: 0.0696225\ttotal: 4.83s\tremaining: 4.49s\n",
      "518:\tlearn: 0.0695961\ttotal: 4.84s\tremaining: 4.48s\n",
      "519:\tlearn: 0.0695467\ttotal: 4.85s\tremaining: 4.47s\n",
      "520:\tlearn: 0.0695072\ttotal: 4.86s\tremaining: 4.46s\n",
      "521:\tlearn: 0.0694768\ttotal: 4.87s\tremaining: 4.46s\n",
      "522:\tlearn: 0.0694321\ttotal: 4.87s\tremaining: 4.44s\n",
      "523:\tlearn: 0.0694057\ttotal: 4.88s\tremaining: 4.43s\n",
      "524:\tlearn: 0.0693798\ttotal: 4.89s\tremaining: 4.42s\n",
      "525:\tlearn: 0.0693608\ttotal: 4.9s\tremaining: 4.41s\n",
      "526:\tlearn: 0.0693284\ttotal: 4.91s\tremaining: 4.4s\n",
      "527:\tlearn: 0.0693043\ttotal: 4.92s\tremaining: 4.39s\n",
      "528:\tlearn: 0.0692830\ttotal: 4.92s\tremaining: 4.38s\n",
      "529:\tlearn: 0.0692453\ttotal: 4.93s\tremaining: 4.37s\n",
      "530:\tlearn: 0.0692287\ttotal: 4.94s\tremaining: 4.36s\n",
      "531:\tlearn: 0.0691956\ttotal: 4.95s\tremaining: 4.35s\n",
      "532:\tlearn: 0.0691211\ttotal: 4.96s\tremaining: 4.34s\n",
      "533:\tlearn: 0.0690842\ttotal: 4.97s\tremaining: 4.33s\n",
      "534:\tlearn: 0.0690461\ttotal: 4.97s\tremaining: 4.32s\n",
      "535:\tlearn: 0.0690207\ttotal: 4.98s\tremaining: 4.31s\n",
      "536:\tlearn: 0.0689878\ttotal: 4.99s\tremaining: 4.3s\n",
      "537:\tlearn: 0.0689654\ttotal: 5s\tremaining: 4.29s\n",
      "538:\tlearn: 0.0689139\ttotal: 5.01s\tremaining: 4.28s\n",
      "539:\tlearn: 0.0688270\ttotal: 5.02s\tremaining: 4.28s\n",
      "540:\tlearn: 0.0687991\ttotal: 5.03s\tremaining: 4.27s\n",
      "541:\tlearn: 0.0687768\ttotal: 5.04s\tremaining: 4.26s\n",
      "542:\tlearn: 0.0687638\ttotal: 5.05s\tremaining: 4.25s\n",
      "543:\tlearn: 0.0687555\ttotal: 5.06s\tremaining: 4.24s\n",
      "544:\tlearn: 0.0687347\ttotal: 5.06s\tremaining: 4.23s\n",
      "545:\tlearn: 0.0687183\ttotal: 5.07s\tremaining: 4.22s\n",
      "546:\tlearn: 0.0686619\ttotal: 5.08s\tremaining: 4.21s\n",
      "547:\tlearn: 0.0686058\ttotal: 5.09s\tremaining: 4.2s\n",
      "548:\tlearn: 0.0685827\ttotal: 5.1s\tremaining: 4.19s\n",
      "549:\tlearn: 0.0685610\ttotal: 5.11s\tremaining: 4.18s\n",
      "550:\tlearn: 0.0685144\ttotal: 5.12s\tremaining: 4.17s\n",
      "551:\tlearn: 0.0685012\ttotal: 5.12s\tremaining: 4.16s\n",
      "552:\tlearn: 0.0684687\ttotal: 5.13s\tremaining: 4.15s\n",
      "553:\tlearn: 0.0684326\ttotal: 5.14s\tremaining: 4.14s\n",
      "554:\tlearn: 0.0684164\ttotal: 5.15s\tremaining: 4.13s\n",
      "555:\tlearn: 0.0683894\ttotal: 5.16s\tremaining: 4.12s\n",
      "556:\tlearn: 0.0683581\ttotal: 5.17s\tremaining: 4.11s\n",
      "557:\tlearn: 0.0683358\ttotal: 5.18s\tremaining: 4.1s\n",
      "558:\tlearn: 0.0682887\ttotal: 5.18s\tremaining: 4.09s\n",
      "559:\tlearn: 0.0682317\ttotal: 5.19s\tremaining: 4.08s\n",
      "560:\tlearn: 0.0682050\ttotal: 5.2s\tremaining: 4.07s\n",
      "561:\tlearn: 0.0681456\ttotal: 5.21s\tremaining: 4.06s\n",
      "562:\tlearn: 0.0681282\ttotal: 5.22s\tremaining: 4.05s\n",
      "563:\tlearn: 0.0681180\ttotal: 5.23s\tremaining: 4.04s\n",
      "564:\tlearn: 0.0681108\ttotal: 5.24s\tremaining: 4.03s\n",
      "565:\tlearn: 0.0680757\ttotal: 5.25s\tremaining: 4.02s\n",
      "566:\tlearn: 0.0680581\ttotal: 5.26s\tremaining: 4.01s\n",
      "567:\tlearn: 0.0680425\ttotal: 5.26s\tremaining: 4s\n",
      "568:\tlearn: 0.0680096\ttotal: 5.27s\tremaining: 3.99s\n",
      "569:\tlearn: 0.0679765\ttotal: 5.28s\tremaining: 3.98s\n",
      "570:\tlearn: 0.0679677\ttotal: 5.29s\tremaining: 3.98s\n",
      "571:\tlearn: 0.0678908\ttotal: 5.3s\tremaining: 3.96s\n",
      "572:\tlearn: 0.0678714\ttotal: 5.31s\tremaining: 3.96s\n",
      "573:\tlearn: 0.0678497\ttotal: 5.32s\tremaining: 3.94s\n",
      "574:\tlearn: 0.0678012\ttotal: 5.32s\tremaining: 3.94s\n",
      "575:\tlearn: 0.0677677\ttotal: 5.33s\tremaining: 3.92s\n",
      "576:\tlearn: 0.0677214\ttotal: 5.34s\tremaining: 3.92s\n",
      "577:\tlearn: 0.0676946\ttotal: 5.35s\tremaining: 3.91s\n",
      "578:\tlearn: 0.0676620\ttotal: 5.36s\tremaining: 3.9s\n",
      "579:\tlearn: 0.0676303\ttotal: 5.37s\tremaining: 3.89s\n",
      "580:\tlearn: 0.0675962\ttotal: 5.38s\tremaining: 3.88s\n",
      "581:\tlearn: 0.0675611\ttotal: 5.38s\tremaining: 3.87s\n",
      "582:\tlearn: 0.0675470\ttotal: 5.39s\tremaining: 3.86s\n",
      "583:\tlearn: 0.0675055\ttotal: 5.4s\tremaining: 3.85s\n",
      "584:\tlearn: 0.0674885\ttotal: 5.41s\tremaining: 3.84s\n",
      "585:\tlearn: 0.0674736\ttotal: 5.42s\tremaining: 3.83s\n",
      "586:\tlearn: 0.0674126\ttotal: 5.43s\tremaining: 3.82s\n",
      "587:\tlearn: 0.0673945\ttotal: 5.44s\tremaining: 3.81s\n",
      "588:\tlearn: 0.0673698\ttotal: 5.45s\tremaining: 3.8s\n",
      "589:\tlearn: 0.0673449\ttotal: 5.46s\tremaining: 3.79s\n",
      "590:\tlearn: 0.0673208\ttotal: 5.47s\tremaining: 3.78s\n",
      "591:\tlearn: 0.0673078\ttotal: 5.47s\tremaining: 3.77s\n",
      "592:\tlearn: 0.0672892\ttotal: 5.48s\tremaining: 3.76s\n",
      "593:\tlearn: 0.0672773\ttotal: 5.49s\tremaining: 3.75s\n",
      "594:\tlearn: 0.0672600\ttotal: 5.5s\tremaining: 3.74s\n",
      "595:\tlearn: 0.0671950\ttotal: 5.51s\tremaining: 3.73s\n",
      "596:\tlearn: 0.0671645\ttotal: 5.52s\tremaining: 3.72s\n",
      "597:\tlearn: 0.0671617\ttotal: 5.53s\tremaining: 3.71s\n",
      "598:\tlearn: 0.0671419\ttotal: 5.54s\tremaining: 3.71s\n",
      "599:\tlearn: 0.0671114\ttotal: 5.54s\tremaining: 3.69s\n",
      "600:\tlearn: 0.0670903\ttotal: 5.55s\tremaining: 3.69s\n",
      "601:\tlearn: 0.0670746\ttotal: 5.56s\tremaining: 3.68s\n",
      "602:\tlearn: 0.0670541\ttotal: 5.57s\tremaining: 3.67s\n",
      "603:\tlearn: 0.0670214\ttotal: 5.58s\tremaining: 3.66s\n",
      "604:\tlearn: 0.0669710\ttotal: 5.59s\tremaining: 3.65s\n",
      "605:\tlearn: 0.0669404\ttotal: 5.59s\tremaining: 3.64s\n",
      "606:\tlearn: 0.0669066\ttotal: 5.6s\tremaining: 3.63s\n",
      "607:\tlearn: 0.0668853\ttotal: 5.61s\tremaining: 3.62s\n",
      "608:\tlearn: 0.0668487\ttotal: 5.62s\tremaining: 3.61s\n",
      "609:\tlearn: 0.0668094\ttotal: 5.63s\tremaining: 3.6s\n",
      "610:\tlearn: 0.0667962\ttotal: 5.64s\tremaining: 3.59s\n",
      "611:\tlearn: 0.0667231\ttotal: 5.65s\tremaining: 3.58s\n",
      "612:\tlearn: 0.0666828\ttotal: 5.66s\tremaining: 3.57s\n",
      "613:\tlearn: 0.0666457\ttotal: 5.67s\tremaining: 3.56s\n",
      "614:\tlearn: 0.0665949\ttotal: 5.67s\tremaining: 3.55s\n",
      "615:\tlearn: 0.0665823\ttotal: 5.68s\tremaining: 3.54s\n",
      "616:\tlearn: 0.0665507\ttotal: 5.69s\tremaining: 3.53s\n",
      "617:\tlearn: 0.0665345\ttotal: 5.7s\tremaining: 3.52s\n",
      "618:\tlearn: 0.0665247\ttotal: 5.71s\tremaining: 3.51s\n",
      "619:\tlearn: 0.0664963\ttotal: 5.72s\tremaining: 3.5s\n",
      "620:\tlearn: 0.0664607\ttotal: 5.72s\tremaining: 3.49s\n",
      "621:\tlearn: 0.0664042\ttotal: 5.73s\tremaining: 3.48s\n",
      "622:\tlearn: 0.0663883\ttotal: 5.74s\tremaining: 3.47s\n",
      "623:\tlearn: 0.0663744\ttotal: 5.75s\tremaining: 3.46s\n",
      "624:\tlearn: 0.0663419\ttotal: 5.76s\tremaining: 3.46s\n",
      "625:\tlearn: 0.0663391\ttotal: 5.77s\tremaining: 3.44s\n",
      "626:\tlearn: 0.0663068\ttotal: 5.78s\tremaining: 3.44s\n",
      "627:\tlearn: 0.0662575\ttotal: 5.79s\tremaining: 3.43s\n",
      "628:\tlearn: 0.0662284\ttotal: 5.79s\tremaining: 3.42s\n",
      "629:\tlearn: 0.0661931\ttotal: 5.8s\tremaining: 3.41s\n",
      "630:\tlearn: 0.0661566\ttotal: 5.81s\tremaining: 3.4s\n",
      "631:\tlearn: 0.0661196\ttotal: 5.82s\tremaining: 3.39s\n",
      "632:\tlearn: 0.0660794\ttotal: 5.83s\tremaining: 3.38s\n",
      "633:\tlearn: 0.0660579\ttotal: 5.84s\tremaining: 3.37s\n",
      "634:\tlearn: 0.0660186\ttotal: 5.85s\tremaining: 3.36s\n",
      "635:\tlearn: 0.0659886\ttotal: 5.86s\tremaining: 3.35s\n",
      "636:\tlearn: 0.0659638\ttotal: 5.87s\tremaining: 3.34s\n",
      "637:\tlearn: 0.0659136\ttotal: 5.87s\tremaining: 3.33s\n",
      "638:\tlearn: 0.0659059\ttotal: 5.88s\tremaining: 3.32s\n",
      "639:\tlearn: 0.0658764\ttotal: 5.89s\tremaining: 3.31s\n",
      "640:\tlearn: 0.0658354\ttotal: 5.9s\tremaining: 3.3s\n",
      "641:\tlearn: 0.0658354\ttotal: 5.91s\tremaining: 3.29s\n",
      "642:\tlearn: 0.0657997\ttotal: 5.91s\tremaining: 3.28s\n",
      "643:\tlearn: 0.0657701\ttotal: 5.92s\tremaining: 3.27s\n",
      "644:\tlearn: 0.0657192\ttotal: 5.93s\tremaining: 3.26s\n",
      "645:\tlearn: 0.0656947\ttotal: 5.94s\tremaining: 3.25s\n",
      "646:\tlearn: 0.0656561\ttotal: 5.95s\tremaining: 3.25s\n",
      "647:\tlearn: 0.0656360\ttotal: 5.96s\tremaining: 3.24s\n",
      "648:\tlearn: 0.0656088\ttotal: 5.97s\tremaining: 3.23s\n",
      "649:\tlearn: 0.0655888\ttotal: 5.97s\tremaining: 3.22s\n",
      "650:\tlearn: 0.0655722\ttotal: 5.98s\tremaining: 3.21s\n",
      "651:\tlearn: 0.0655557\ttotal: 5.99s\tremaining: 3.2s\n",
      "652:\tlearn: 0.0655319\ttotal: 6s\tremaining: 3.19s\n",
      "653:\tlearn: 0.0655065\ttotal: 6.01s\tremaining: 3.18s\n",
      "654:\tlearn: 0.0654654\ttotal: 6.02s\tremaining: 3.17s\n",
      "655:\tlearn: 0.0654168\ttotal: 6.03s\tremaining: 3.16s\n",
      "656:\tlearn: 0.0654009\ttotal: 6.04s\tremaining: 3.15s\n",
      "657:\tlearn: 0.0653773\ttotal: 6.04s\tremaining: 3.14s\n",
      "658:\tlearn: 0.0653522\ttotal: 6.05s\tremaining: 3.13s\n",
      "659:\tlearn: 0.0653440\ttotal: 6.06s\tremaining: 3.12s\n",
      "660:\tlearn: 0.0653156\ttotal: 6.07s\tremaining: 3.11s\n",
      "661:\tlearn: 0.0652921\ttotal: 6.08s\tremaining: 3.1s\n",
      "662:\tlearn: 0.0652713\ttotal: 6.09s\tremaining: 3.1s\n",
      "663:\tlearn: 0.0652554\ttotal: 6.1s\tremaining: 3.09s\n",
      "664:\tlearn: 0.0651661\ttotal: 6.11s\tremaining: 3.08s\n",
      "665:\tlearn: 0.0651305\ttotal: 6.12s\tremaining: 3.07s\n",
      "666:\tlearn: 0.0650994\ttotal: 6.13s\tremaining: 3.06s\n",
      "667:\tlearn: 0.0650657\ttotal: 6.13s\tremaining: 3.05s\n",
      "668:\tlearn: 0.0650350\ttotal: 6.14s\tremaining: 3.04s\n",
      "669:\tlearn: 0.0650075\ttotal: 6.15s\tremaining: 3.03s\n",
      "670:\tlearn: 0.0649804\ttotal: 6.16s\tremaining: 3.02s\n",
      "671:\tlearn: 0.0649372\ttotal: 6.17s\tremaining: 3.01s\n",
      "672:\tlearn: 0.0648943\ttotal: 6.18s\tremaining: 3s\n",
      "673:\tlearn: 0.0648608\ttotal: 6.19s\tremaining: 2.99s\n",
      "674:\tlearn: 0.0648139\ttotal: 6.2s\tremaining: 2.98s\n",
      "675:\tlearn: 0.0647782\ttotal: 6.2s\tremaining: 2.97s\n",
      "676:\tlearn: 0.0647279\ttotal: 6.21s\tremaining: 2.96s\n",
      "677:\tlearn: 0.0647087\ttotal: 6.22s\tremaining: 2.95s\n",
      "678:\tlearn: 0.0646809\ttotal: 6.23s\tremaining: 2.95s\n",
      "679:\tlearn: 0.0646602\ttotal: 6.24s\tremaining: 2.94s\n",
      "680:\tlearn: 0.0646285\ttotal: 6.25s\tremaining: 2.93s\n",
      "681:\tlearn: 0.0646261\ttotal: 6.26s\tremaining: 2.92s\n",
      "682:\tlearn: 0.0646035\ttotal: 6.27s\tremaining: 2.91s\n",
      "683:\tlearn: 0.0645863\ttotal: 6.28s\tremaining: 2.9s\n",
      "684:\tlearn: 0.0645567\ttotal: 6.29s\tremaining: 2.89s\n",
      "685:\tlearn: 0.0645393\ttotal: 6.3s\tremaining: 2.88s\n",
      "686:\tlearn: 0.0645232\ttotal: 6.31s\tremaining: 2.87s\n",
      "687:\tlearn: 0.0644674\ttotal: 6.32s\tremaining: 2.86s\n",
      "688:\tlearn: 0.0644395\ttotal: 6.32s\tremaining: 2.85s\n",
      "689:\tlearn: 0.0644051\ttotal: 6.33s\tremaining: 2.84s\n",
      "690:\tlearn: 0.0643757\ttotal: 6.34s\tremaining: 2.83s\n",
      "691:\tlearn: 0.0643304\ttotal: 6.35s\tremaining: 2.83s\n",
      "692:\tlearn: 0.0642803\ttotal: 6.36s\tremaining: 2.82s\n",
      "693:\tlearn: 0.0642325\ttotal: 6.37s\tremaining: 2.81s\n",
      "694:\tlearn: 0.0642048\ttotal: 6.37s\tremaining: 2.8s\n",
      "695:\tlearn: 0.0641532\ttotal: 6.38s\tremaining: 2.79s\n",
      "696:\tlearn: 0.0641247\ttotal: 6.39s\tremaining: 2.78s\n",
      "697:\tlearn: 0.0640874\ttotal: 6.4s\tremaining: 2.77s\n",
      "698:\tlearn: 0.0640792\ttotal: 6.41s\tremaining: 2.76s\n",
      "699:\tlearn: 0.0640054\ttotal: 6.42s\tremaining: 2.75s\n",
      "700:\tlearn: 0.0639659\ttotal: 6.43s\tremaining: 2.74s\n",
      "701:\tlearn: 0.0639279\ttotal: 6.44s\tremaining: 2.73s\n",
      "702:\tlearn: 0.0638910\ttotal: 6.45s\tremaining: 2.72s\n",
      "703:\tlearn: 0.0638630\ttotal: 6.45s\tremaining: 2.71s\n",
      "704:\tlearn: 0.0638447\ttotal: 6.46s\tremaining: 2.7s\n",
      "705:\tlearn: 0.0638077\ttotal: 6.47s\tremaining: 2.69s\n",
      "706:\tlearn: 0.0637823\ttotal: 6.48s\tremaining: 2.69s\n",
      "707:\tlearn: 0.0637243\ttotal: 6.49s\tremaining: 2.67s\n",
      "708:\tlearn: 0.0637158\ttotal: 6.5s\tremaining: 2.67s\n",
      "709:\tlearn: 0.0637158\ttotal: 6.5s\tremaining: 2.65s\n",
      "710:\tlearn: 0.0637073\ttotal: 6.51s\tremaining: 2.65s\n",
      "711:\tlearn: 0.0636760\ttotal: 6.52s\tremaining: 2.64s\n",
      "712:\tlearn: 0.0636667\ttotal: 6.53s\tremaining: 2.63s\n",
      "713:\tlearn: 0.0636551\ttotal: 6.54s\tremaining: 2.62s\n",
      "714:\tlearn: 0.0636411\ttotal: 6.54s\tremaining: 2.61s\n",
      "715:\tlearn: 0.0636240\ttotal: 6.55s\tremaining: 2.6s\n",
      "716:\tlearn: 0.0636161\ttotal: 6.56s\tremaining: 2.59s\n",
      "717:\tlearn: 0.0636007\ttotal: 6.57s\tremaining: 2.58s\n",
      "718:\tlearn: 0.0635833\ttotal: 6.58s\tremaining: 2.57s\n",
      "719:\tlearn: 0.0635505\ttotal: 6.59s\tremaining: 2.56s\n",
      "720:\tlearn: 0.0635165\ttotal: 6.59s\tremaining: 2.55s\n",
      "721:\tlearn: 0.0634542\ttotal: 6.6s\tremaining: 2.54s\n",
      "722:\tlearn: 0.0634467\ttotal: 6.61s\tremaining: 2.53s\n",
      "723:\tlearn: 0.0634394\ttotal: 6.62s\tremaining: 2.52s\n",
      "724:\tlearn: 0.0634101\ttotal: 6.63s\tremaining: 2.52s\n",
      "725:\tlearn: 0.0633889\ttotal: 6.64s\tremaining: 2.51s\n",
      "726:\tlearn: 0.0633868\ttotal: 6.65s\tremaining: 2.5s\n",
      "727:\tlearn: 0.0633261\ttotal: 6.66s\tremaining: 2.49s\n",
      "728:\tlearn: 0.0633225\ttotal: 6.67s\tremaining: 2.48s\n",
      "729:\tlearn: 0.0633175\ttotal: 6.67s\tremaining: 2.47s\n",
      "730:\tlearn: 0.0632813\ttotal: 6.68s\tremaining: 2.46s\n",
      "731:\tlearn: 0.0632436\ttotal: 6.69s\tremaining: 2.45s\n",
      "732:\tlearn: 0.0632163\ttotal: 6.7s\tremaining: 2.44s\n",
      "733:\tlearn: 0.0631801\ttotal: 6.71s\tremaining: 2.43s\n",
      "734:\tlearn: 0.0631397\ttotal: 6.72s\tremaining: 2.42s\n",
      "735:\tlearn: 0.0631184\ttotal: 6.74s\tremaining: 2.42s\n",
      "736:\tlearn: 0.0630860\ttotal: 6.76s\tremaining: 2.41s\n",
      "737:\tlearn: 0.0630712\ttotal: 6.77s\tremaining: 2.4s\n",
      "738:\tlearn: 0.0630408\ttotal: 6.78s\tremaining: 2.39s\n",
      "739:\tlearn: 0.0630131\ttotal: 6.79s\tremaining: 2.38s\n",
      "740:\tlearn: 0.0629903\ttotal: 6.8s\tremaining: 2.38s\n",
      "741:\tlearn: 0.0629797\ttotal: 6.81s\tremaining: 2.37s\n",
      "742:\tlearn: 0.0629498\ttotal: 6.82s\tremaining: 2.36s\n",
      "743:\tlearn: 0.0628752\ttotal: 6.82s\tremaining: 2.35s\n",
      "744:\tlearn: 0.0628501\ttotal: 6.83s\tremaining: 2.34s\n",
      "745:\tlearn: 0.0628166\ttotal: 6.84s\tremaining: 2.33s\n",
      "746:\tlearn: 0.0627704\ttotal: 6.85s\tremaining: 2.32s\n",
      "747:\tlearn: 0.0627396\ttotal: 6.86s\tremaining: 2.31s\n",
      "748:\tlearn: 0.0627094\ttotal: 6.87s\tremaining: 2.3s\n",
      "749:\tlearn: 0.0626703\ttotal: 6.88s\tremaining: 2.29s\n",
      "750:\tlearn: 0.0626397\ttotal: 6.88s\tremaining: 2.28s\n",
      "751:\tlearn: 0.0626147\ttotal: 6.89s\tremaining: 2.27s\n",
      "752:\tlearn: 0.0625897\ttotal: 6.9s\tremaining: 2.26s\n",
      "753:\tlearn: 0.0625627\ttotal: 6.91s\tremaining: 2.25s\n",
      "754:\tlearn: 0.0625421\ttotal: 6.92s\tremaining: 2.25s\n",
      "755:\tlearn: 0.0625259\ttotal: 6.93s\tremaining: 2.24s\n",
      "756:\tlearn: 0.0624880\ttotal: 6.94s\tremaining: 2.23s\n",
      "757:\tlearn: 0.0624635\ttotal: 6.95s\tremaining: 2.22s\n",
      "758:\tlearn: 0.0624362\ttotal: 6.95s\tremaining: 2.21s\n",
      "759:\tlearn: 0.0624006\ttotal: 6.96s\tremaining: 2.2s\n",
      "760:\tlearn: 0.0623717\ttotal: 6.97s\tremaining: 2.19s\n",
      "761:\tlearn: 0.0623514\ttotal: 6.98s\tremaining: 2.18s\n",
      "762:\tlearn: 0.0623189\ttotal: 6.99s\tremaining: 2.17s\n",
      "763:\tlearn: 0.0622932\ttotal: 7s\tremaining: 2.16s\n",
      "764:\tlearn: 0.0622747\ttotal: 7.01s\tremaining: 2.15s\n",
      "765:\tlearn: 0.0622378\ttotal: 7.02s\tremaining: 2.14s\n",
      "766:\tlearn: 0.0622020\ttotal: 7.02s\tremaining: 2.13s\n",
      "767:\tlearn: 0.0621767\ttotal: 7.03s\tremaining: 2.12s\n",
      "768:\tlearn: 0.0621558\ttotal: 7.04s\tremaining: 2.12s\n",
      "769:\tlearn: 0.0621314\ttotal: 7.05s\tremaining: 2.11s\n",
      "770:\tlearn: 0.0621178\ttotal: 7.06s\tremaining: 2.1s\n",
      "771:\tlearn: 0.0620936\ttotal: 7.07s\tremaining: 2.09s\n",
      "772:\tlearn: 0.0620774\ttotal: 7.08s\tremaining: 2.08s\n",
      "773:\tlearn: 0.0620611\ttotal: 7.08s\tremaining: 2.07s\n",
      "774:\tlearn: 0.0620315\ttotal: 7.09s\tremaining: 2.06s\n",
      "775:\tlearn: 0.0619996\ttotal: 7.1s\tremaining: 2.05s\n",
      "776:\tlearn: 0.0619750\ttotal: 7.11s\tremaining: 2.04s\n",
      "777:\tlearn: 0.0619510\ttotal: 7.12s\tremaining: 2.03s\n",
      "778:\tlearn: 0.0619184\ttotal: 7.13s\tremaining: 2.02s\n",
      "779:\tlearn: 0.0618896\ttotal: 7.14s\tremaining: 2.01s\n",
      "780:\tlearn: 0.0618534\ttotal: 7.15s\tremaining: 2s\n",
      "781:\tlearn: 0.0618229\ttotal: 7.16s\tremaining: 2s\n",
      "782:\tlearn: 0.0617970\ttotal: 7.17s\tremaining: 1.99s\n",
      "783:\tlearn: 0.0617396\ttotal: 7.17s\tremaining: 1.98s\n",
      "784:\tlearn: 0.0617169\ttotal: 7.18s\tremaining: 1.97s\n",
      "785:\tlearn: 0.0616906\ttotal: 7.19s\tremaining: 1.96s\n",
      "786:\tlearn: 0.0616740\ttotal: 7.2s\tremaining: 1.95s\n",
      "787:\tlearn: 0.0616431\ttotal: 7.21s\tremaining: 1.94s\n",
      "788:\tlearn: 0.0616132\ttotal: 7.22s\tremaining: 1.93s\n",
      "789:\tlearn: 0.0615745\ttotal: 7.22s\tremaining: 1.92s\n",
      "790:\tlearn: 0.0615435\ttotal: 7.23s\tremaining: 1.91s\n",
      "791:\tlearn: 0.0615093\ttotal: 7.24s\tremaining: 1.9s\n",
      "792:\tlearn: 0.0614855\ttotal: 7.25s\tremaining: 1.89s\n",
      "793:\tlearn: 0.0614833\ttotal: 7.26s\tremaining: 1.88s\n",
      "794:\tlearn: 0.0614617\ttotal: 7.27s\tremaining: 1.87s\n",
      "795:\tlearn: 0.0614372\ttotal: 7.28s\tremaining: 1.86s\n",
      "796:\tlearn: 0.0613889\ttotal: 7.28s\tremaining: 1.85s\n",
      "797:\tlearn: 0.0613698\ttotal: 7.29s\tremaining: 1.85s\n",
      "798:\tlearn: 0.0613576\ttotal: 7.3s\tremaining: 1.84s\n",
      "799:\tlearn: 0.0613437\ttotal: 7.31s\tremaining: 1.83s\n",
      "800:\tlearn: 0.0613350\ttotal: 7.32s\tremaining: 1.82s\n",
      "801:\tlearn: 0.0613163\ttotal: 7.33s\tremaining: 1.81s\n",
      "802:\tlearn: 0.0612807\ttotal: 7.34s\tremaining: 1.8s\n",
      "803:\tlearn: 0.0612559\ttotal: 7.35s\tremaining: 1.79s\n",
      "804:\tlearn: 0.0612279\ttotal: 7.36s\tremaining: 1.78s\n",
      "805:\tlearn: 0.0612066\ttotal: 7.37s\tremaining: 1.77s\n",
      "806:\tlearn: 0.0611878\ttotal: 7.38s\tremaining: 1.76s\n",
      "807:\tlearn: 0.0611541\ttotal: 7.38s\tremaining: 1.75s\n",
      "808:\tlearn: 0.0611218\ttotal: 7.39s\tremaining: 1.75s\n",
      "809:\tlearn: 0.0611089\ttotal: 7.4s\tremaining: 1.74s\n",
      "810:\tlearn: 0.0610477\ttotal: 7.41s\tremaining: 1.73s\n",
      "811:\tlearn: 0.0610454\ttotal: 7.42s\tremaining: 1.72s\n",
      "812:\tlearn: 0.0610322\ttotal: 7.43s\tremaining: 1.71s\n",
      "813:\tlearn: 0.0610106\ttotal: 7.44s\tremaining: 1.7s\n",
      "814:\tlearn: 0.0609721\ttotal: 7.45s\tremaining: 1.69s\n",
      "815:\tlearn: 0.0609479\ttotal: 7.46s\tremaining: 1.68s\n",
      "816:\tlearn: 0.0608940\ttotal: 7.46s\tremaining: 1.67s\n",
      "817:\tlearn: 0.0608779\ttotal: 7.47s\tremaining: 1.66s\n",
      "818:\tlearn: 0.0608519\ttotal: 7.48s\tremaining: 1.65s\n",
      "819:\tlearn: 0.0608436\ttotal: 7.49s\tremaining: 1.64s\n",
      "820:\tlearn: 0.0608303\ttotal: 7.5s\tremaining: 1.64s\n",
      "821:\tlearn: 0.0608140\ttotal: 7.51s\tremaining: 1.63s\n",
      "822:\tlearn: 0.0607979\ttotal: 7.52s\tremaining: 1.62s\n",
      "823:\tlearn: 0.0607829\ttotal: 7.52s\tremaining: 1.61s\n",
      "824:\tlearn: 0.0607701\ttotal: 7.53s\tremaining: 1.6s\n",
      "825:\tlearn: 0.0607656\ttotal: 7.54s\tremaining: 1.59s\n",
      "826:\tlearn: 0.0607616\ttotal: 7.55s\tremaining: 1.58s\n",
      "827:\tlearn: 0.0607598\ttotal: 7.56s\tremaining: 1.57s\n",
      "828:\tlearn: 0.0607517\ttotal: 7.57s\tremaining: 1.56s\n",
      "829:\tlearn: 0.0607443\ttotal: 7.58s\tremaining: 1.55s\n",
      "830:\tlearn: 0.0607111\ttotal: 7.58s\tremaining: 1.54s\n",
      "831:\tlearn: 0.0606925\ttotal: 7.59s\tremaining: 1.53s\n",
      "832:\tlearn: 0.0606794\ttotal: 7.6s\tremaining: 1.52s\n",
      "833:\tlearn: 0.0606444\ttotal: 7.61s\tremaining: 1.51s\n",
      "834:\tlearn: 0.0606147\ttotal: 7.62s\tremaining: 1.5s\n",
      "835:\tlearn: 0.0605883\ttotal: 7.63s\tremaining: 1.5s\n",
      "836:\tlearn: 0.0605532\ttotal: 7.64s\tremaining: 1.49s\n",
      "837:\tlearn: 0.0605361\ttotal: 7.65s\tremaining: 1.48s\n",
      "838:\tlearn: 0.0605278\ttotal: 7.66s\tremaining: 1.47s\n",
      "839:\tlearn: 0.0604962\ttotal: 7.66s\tremaining: 1.46s\n",
      "840:\tlearn: 0.0604762\ttotal: 7.67s\tremaining: 1.45s\n",
      "841:\tlearn: 0.0604550\ttotal: 7.68s\tremaining: 1.44s\n",
      "842:\tlearn: 0.0604283\ttotal: 7.69s\tremaining: 1.43s\n",
      "843:\tlearn: 0.0603976\ttotal: 7.7s\tremaining: 1.42s\n",
      "844:\tlearn: 0.0603770\ttotal: 7.71s\tremaining: 1.41s\n",
      "845:\tlearn: 0.0603550\ttotal: 7.72s\tremaining: 1.4s\n",
      "846:\tlearn: 0.0603352\ttotal: 7.73s\tremaining: 1.4s\n",
      "847:\tlearn: 0.0603180\ttotal: 7.74s\tremaining: 1.39s\n",
      "848:\tlearn: 0.0602775\ttotal: 7.74s\tremaining: 1.38s\n",
      "849:\tlearn: 0.0602672\ttotal: 7.75s\tremaining: 1.37s\n",
      "850:\tlearn: 0.0602440\ttotal: 7.76s\tremaining: 1.36s\n",
      "851:\tlearn: 0.0602119\ttotal: 7.77s\tremaining: 1.35s\n",
      "852:\tlearn: 0.0601891\ttotal: 7.78s\tremaining: 1.34s\n",
      "853:\tlearn: 0.0601618\ttotal: 7.79s\tremaining: 1.33s\n",
      "854:\tlearn: 0.0601444\ttotal: 7.8s\tremaining: 1.32s\n",
      "855:\tlearn: 0.0601185\ttotal: 7.8s\tremaining: 1.31s\n",
      "856:\tlearn: 0.0601012\ttotal: 7.81s\tremaining: 1.3s\n",
      "857:\tlearn: 0.0600708\ttotal: 7.83s\tremaining: 1.29s\n",
      "858:\tlearn: 0.0600224\ttotal: 7.84s\tremaining: 1.29s\n",
      "859:\tlearn: 0.0600054\ttotal: 7.84s\tremaining: 1.28s\n",
      "860:\tlearn: 0.0599784\ttotal: 7.85s\tremaining: 1.27s\n",
      "861:\tlearn: 0.0599594\ttotal: 7.86s\tremaining: 1.26s\n",
      "862:\tlearn: 0.0599352\ttotal: 7.87s\tremaining: 1.25s\n",
      "863:\tlearn: 0.0599119\ttotal: 7.88s\tremaining: 1.24s\n",
      "864:\tlearn: 0.0598819\ttotal: 7.89s\tremaining: 1.23s\n",
      "865:\tlearn: 0.0598494\ttotal: 7.9s\tremaining: 1.22s\n",
      "866:\tlearn: 0.0598398\ttotal: 7.91s\tremaining: 1.21s\n",
      "867:\tlearn: 0.0598194\ttotal: 7.92s\tremaining: 1.2s\n",
      "868:\tlearn: 0.0597906\ttotal: 7.92s\tremaining: 1.19s\n",
      "869:\tlearn: 0.0597817\ttotal: 7.93s\tremaining: 1.19s\n",
      "870:\tlearn: 0.0597695\ttotal: 7.94s\tremaining: 1.18s\n",
      "871:\tlearn: 0.0597379\ttotal: 7.95s\tremaining: 1.17s\n",
      "872:\tlearn: 0.0597184\ttotal: 7.96s\tremaining: 1.16s\n",
      "873:\tlearn: 0.0597076\ttotal: 7.97s\tremaining: 1.15s\n",
      "874:\tlearn: 0.0596754\ttotal: 7.98s\tremaining: 1.14s\n",
      "875:\tlearn: 0.0596449\ttotal: 7.99s\tremaining: 1.13s\n",
      "876:\tlearn: 0.0596193\ttotal: 8s\tremaining: 1.12s\n",
      "877:\tlearn: 0.0596117\ttotal: 8s\tremaining: 1.11s\n",
      "878:\tlearn: 0.0596057\ttotal: 8.01s\tremaining: 1.1s\n",
      "879:\tlearn: 0.0595715\ttotal: 8.02s\tremaining: 1.09s\n",
      "880:\tlearn: 0.0595345\ttotal: 8.03s\tremaining: 1.08s\n",
      "881:\tlearn: 0.0595162\ttotal: 8.04s\tremaining: 1.07s\n",
      "882:\tlearn: 0.0594852\ttotal: 8.05s\tremaining: 1.07s\n",
      "883:\tlearn: 0.0594628\ttotal: 8.05s\tremaining: 1.06s\n",
      "884:\tlearn: 0.0594483\ttotal: 8.06s\tremaining: 1.05s\n",
      "885:\tlearn: 0.0594300\ttotal: 8.07s\tremaining: 1.04s\n",
      "886:\tlearn: 0.0593862\ttotal: 8.09s\tremaining: 1.03s\n",
      "887:\tlearn: 0.0593658\ttotal: 8.11s\tremaining: 1.02s\n",
      "888:\tlearn: 0.0593514\ttotal: 8.13s\tremaining: 1.01s\n",
      "889:\tlearn: 0.0593195\ttotal: 8.13s\tremaining: 1s\n",
      "890:\tlearn: 0.0592996\ttotal: 8.15s\tremaining: 997ms\n",
      "891:\tlearn: 0.0592650\ttotal: 8.16s\tremaining: 988ms\n",
      "892:\tlearn: 0.0592498\ttotal: 8.16s\tremaining: 978ms\n",
      "893:\tlearn: 0.0592261\ttotal: 8.17s\tremaining: 969ms\n",
      "894:\tlearn: 0.0591980\ttotal: 8.18s\tremaining: 960ms\n",
      "895:\tlearn: 0.0591738\ttotal: 8.19s\tremaining: 951ms\n",
      "896:\tlearn: 0.0591433\ttotal: 8.2s\tremaining: 942ms\n",
      "897:\tlearn: 0.0591144\ttotal: 8.21s\tremaining: 933ms\n",
      "898:\tlearn: 0.0591005\ttotal: 8.22s\tremaining: 923ms\n",
      "899:\tlearn: 0.0590989\ttotal: 8.23s\tremaining: 914ms\n",
      "900:\tlearn: 0.0590716\ttotal: 8.23s\tremaining: 905ms\n",
      "901:\tlearn: 0.0590542\ttotal: 8.25s\tremaining: 896ms\n",
      "902:\tlearn: 0.0590234\ttotal: 8.26s\tremaining: 887ms\n",
      "903:\tlearn: 0.0590045\ttotal: 8.27s\tremaining: 878ms\n",
      "904:\tlearn: 0.0589783\ttotal: 8.28s\tremaining: 869ms\n",
      "905:\tlearn: 0.0589535\ttotal: 8.28s\tremaining: 860ms\n",
      "906:\tlearn: 0.0589389\ttotal: 8.29s\tremaining: 851ms\n",
      "907:\tlearn: 0.0589158\ttotal: 8.3s\tremaining: 841ms\n",
      "908:\tlearn: 0.0589039\ttotal: 8.31s\tremaining: 832ms\n",
      "909:\tlearn: 0.0588844\ttotal: 8.32s\tremaining: 823ms\n",
      "910:\tlearn: 0.0588575\ttotal: 8.33s\tremaining: 813ms\n",
      "911:\tlearn: 0.0588355\ttotal: 8.34s\tremaining: 804ms\n",
      "912:\tlearn: 0.0588054\ttotal: 8.34s\tremaining: 795ms\n",
      "913:\tlearn: 0.0587749\ttotal: 8.35s\tremaining: 786ms\n",
      "914:\tlearn: 0.0587670\ttotal: 8.36s\tremaining: 777ms\n",
      "915:\tlearn: 0.0587570\ttotal: 8.37s\tremaining: 767ms\n",
      "916:\tlearn: 0.0587363\ttotal: 8.38s\tremaining: 758ms\n",
      "917:\tlearn: 0.0587084\ttotal: 8.39s\tremaining: 749ms\n",
      "918:\tlearn: 0.0586770\ttotal: 8.39s\tremaining: 740ms\n",
      "919:\tlearn: 0.0586370\ttotal: 8.4s\tremaining: 731ms\n",
      "920:\tlearn: 0.0586147\ttotal: 8.41s\tremaining: 722ms\n",
      "921:\tlearn: 0.0585980\ttotal: 8.42s\tremaining: 712ms\n",
      "922:\tlearn: 0.0585819\ttotal: 8.43s\tremaining: 703ms\n",
      "923:\tlearn: 0.0585462\ttotal: 8.44s\tremaining: 694ms\n",
      "924:\tlearn: 0.0585124\ttotal: 8.45s\tremaining: 685ms\n",
      "925:\tlearn: 0.0584869\ttotal: 8.46s\tremaining: 676ms\n",
      "926:\tlearn: 0.0584784\ttotal: 8.47s\tremaining: 667ms\n",
      "927:\tlearn: 0.0584744\ttotal: 8.48s\tremaining: 658ms\n",
      "928:\tlearn: 0.0584517\ttotal: 8.48s\tremaining: 648ms\n",
      "929:\tlearn: 0.0584219\ttotal: 8.49s\tremaining: 639ms\n",
      "930:\tlearn: 0.0584035\ttotal: 8.5s\tremaining: 630ms\n",
      "931:\tlearn: 0.0583877\ttotal: 8.51s\tremaining: 621ms\n",
      "932:\tlearn: 0.0583865\ttotal: 8.52s\tremaining: 612ms\n",
      "933:\tlearn: 0.0583785\ttotal: 8.53s\tremaining: 603ms\n",
      "934:\tlearn: 0.0583548\ttotal: 8.54s\tremaining: 593ms\n",
      "935:\tlearn: 0.0583501\ttotal: 8.54s\tremaining: 584ms\n",
      "936:\tlearn: 0.0583407\ttotal: 8.55s\tremaining: 575ms\n",
      "937:\tlearn: 0.0583179\ttotal: 8.56s\tremaining: 566ms\n",
      "938:\tlearn: 0.0583031\ttotal: 8.57s\tremaining: 557ms\n",
      "939:\tlearn: 0.0582786\ttotal: 8.58s\tremaining: 548ms\n",
      "940:\tlearn: 0.0582560\ttotal: 8.59s\tremaining: 539ms\n",
      "941:\tlearn: 0.0582200\ttotal: 8.6s\tremaining: 529ms\n",
      "942:\tlearn: 0.0581938\ttotal: 8.61s\tremaining: 520ms\n",
      "943:\tlearn: 0.0581714\ttotal: 8.62s\tremaining: 511ms\n",
      "944:\tlearn: 0.0581320\ttotal: 8.62s\tremaining: 502ms\n",
      "945:\tlearn: 0.0580962\ttotal: 8.63s\tremaining: 493ms\n",
      "946:\tlearn: 0.0580638\ttotal: 8.64s\tremaining: 484ms\n",
      "947:\tlearn: 0.0580404\ttotal: 8.65s\tremaining: 475ms\n",
      "948:\tlearn: 0.0580065\ttotal: 8.66s\tremaining: 465ms\n",
      "949:\tlearn: 0.0579813\ttotal: 8.67s\tremaining: 456ms\n",
      "950:\tlearn: 0.0579390\ttotal: 8.68s\tremaining: 447ms\n",
      "951:\tlearn: 0.0579280\ttotal: 8.69s\tremaining: 438ms\n",
      "952:\tlearn: 0.0579063\ttotal: 8.7s\tremaining: 429ms\n",
      "953:\tlearn: 0.0578957\ttotal: 8.7s\tremaining: 420ms\n",
      "954:\tlearn: 0.0578828\ttotal: 8.71s\tremaining: 411ms\n",
      "955:\tlearn: 0.0578520\ttotal: 8.72s\tremaining: 401ms\n",
      "956:\tlearn: 0.0578288\ttotal: 8.73s\tremaining: 392ms\n",
      "957:\tlearn: 0.0578132\ttotal: 8.74s\tremaining: 383ms\n",
      "958:\tlearn: 0.0578008\ttotal: 8.75s\tremaining: 374ms\n",
      "959:\tlearn: 0.0577803\ttotal: 8.76s\tremaining: 365ms\n",
      "960:\tlearn: 0.0577611\ttotal: 8.77s\tremaining: 356ms\n",
      "961:\tlearn: 0.0577251\ttotal: 8.78s\tremaining: 347ms\n",
      "962:\tlearn: 0.0577127\ttotal: 8.79s\tremaining: 338ms\n",
      "963:\tlearn: 0.0576956\ttotal: 8.79s\tremaining: 328ms\n",
      "964:\tlearn: 0.0576772\ttotal: 8.8s\tremaining: 319ms\n",
      "965:\tlearn: 0.0576604\ttotal: 8.81s\tremaining: 310ms\n",
      "966:\tlearn: 0.0576286\ttotal: 8.82s\tremaining: 301ms\n",
      "967:\tlearn: 0.0576019\ttotal: 8.83s\tremaining: 292ms\n",
      "968:\tlearn: 0.0575734\ttotal: 8.84s\tremaining: 283ms\n",
      "969:\tlearn: 0.0575393\ttotal: 8.85s\tremaining: 274ms\n",
      "970:\tlearn: 0.0574992\ttotal: 8.86s\tremaining: 265ms\n",
      "971:\tlearn: 0.0574973\ttotal: 8.86s\tremaining: 255ms\n",
      "972:\tlearn: 0.0574772\ttotal: 8.87s\tremaining: 246ms\n",
      "973:\tlearn: 0.0574714\ttotal: 8.88s\tremaining: 237ms\n",
      "974:\tlearn: 0.0574679\ttotal: 8.89s\tremaining: 228ms\n",
      "975:\tlearn: 0.0574604\ttotal: 8.9s\tremaining: 219ms\n",
      "976:\tlearn: 0.0574508\ttotal: 8.91s\tremaining: 210ms\n",
      "977:\tlearn: 0.0574447\ttotal: 8.92s\tremaining: 201ms\n",
      "978:\tlearn: 0.0574229\ttotal: 8.93s\tremaining: 191ms\n",
      "979:\tlearn: 0.0574207\ttotal: 8.94s\tremaining: 182ms\n",
      "980:\tlearn: 0.0574092\ttotal: 8.94s\tremaining: 173ms\n",
      "981:\tlearn: 0.0573674\ttotal: 8.95s\tremaining: 164ms\n",
      "982:\tlearn: 0.0573469\ttotal: 8.96s\tremaining: 155ms\n",
      "983:\tlearn: 0.0573132\ttotal: 8.97s\tremaining: 146ms\n",
      "984:\tlearn: 0.0572742\ttotal: 8.98s\tremaining: 137ms\n",
      "985:\tlearn: 0.0572507\ttotal: 8.99s\tremaining: 128ms\n",
      "986:\tlearn: 0.0572237\ttotal: 9s\tremaining: 118ms\n",
      "987:\tlearn: 0.0571891\ttotal: 9.01s\tremaining: 109ms\n",
      "988:\tlearn: 0.0571453\ttotal: 9.01s\tremaining: 100ms\n",
      "989:\tlearn: 0.0571282\ttotal: 9.02s\tremaining: 91.1ms\n",
      "990:\tlearn: 0.0571136\ttotal: 9.03s\tremaining: 82ms\n",
      "991:\tlearn: 0.0570751\ttotal: 9.04s\tremaining: 72.9ms\n",
      "992:\tlearn: 0.0570549\ttotal: 9.05s\tremaining: 63.8ms\n",
      "993:\tlearn: 0.0570336\ttotal: 9.06s\tremaining: 54.7ms\n",
      "994:\tlearn: 0.0570177\ttotal: 9.07s\tremaining: 45.6ms\n",
      "995:\tlearn: 0.0570084\ttotal: 9.07s\tremaining: 36.4ms\n",
      "996:\tlearn: 0.0569797\ttotal: 9.08s\tremaining: 27.3ms\n",
      "997:\tlearn: 0.0569700\ttotal: 9.09s\tremaining: 18.2ms\n",
      "998:\tlearn: 0.0569437\ttotal: 9.1s\tremaining: 9.11ms\n",
      "999:\tlearn: 0.0569233\ttotal: 9.11s\tremaining: 0us\n",
      "f1-score train 0.975\n",
      "f1-score test 0.960\n"
     ]
    }
   ],
   "source": [
    "import catboost\n",
    "\n",
    "cat_boost = catboost.CatBoostClassifier(random_state=26)\n",
    "cat_boost.fit(X_train_scaled, y_train)\n",
    "y_train_pred = cat_boost.predict(X_train_scaled)\n",
    "y_test_pred = cat_boost.predict(X_test_scaled)\n",
    "\n",
    "print('f1-score train {:.3f}'.format(metrics.f1_score(y_train, y_train_pred)))\n",
    "print('f1-score test {:.3f}'.format(metrics.f1_score(y_test, y_test_pred)))"
   ]
  },
  {
   "cell_type": "code",
   "execution_count": 66,
   "metadata": {},
   "outputs": [
    {
     "data": {
      "text/plain": [
       "array([[46676.,   530.],\n",
       "       [ 1264., 34653.]])"
      ]
     },
     "execution_count": 66,
     "metadata": {},
     "output_type": "execute_result"
    }
   ],
   "source": [
    "from catboost import Pool, CatBoostClassifier\n",
    "from catboost.utils import get_confusion_matrix\n",
    "cm = get_confusion_matrix(cat_boost, Pool(X_train_scaled, y_train))\n",
    "cm"
   ]
  },
  {
   "cell_type": "code",
   "execution_count": 75,
   "metadata": {},
   "outputs": [
    {
     "data": {
      "text/html": [
       "<div>\n",
       "<style scoped>\n",
       "    .dataframe tbody tr th:only-of-type {\n",
       "        vertical-align: middle;\n",
       "    }\n",
       "\n",
       "    .dataframe tbody tr th {\n",
       "        vertical-align: top;\n",
       "    }\n",
       "\n",
       "    .dataframe thead th {\n",
       "        text-align: right;\n",
       "    }\n",
       "</style>\n",
       "<table border=\"1\" class=\"dataframe\">\n",
       "  <thead>\n",
       "    <tr style=\"text-align: right;\">\n",
       "      <th></th>\n",
       "      <th>feature_importance</th>\n",
       "      <th>feature_names</th>\n",
       "    </tr>\n",
       "  </thead>\n",
       "  <tbody>\n",
       "    <tr>\n",
       "      <th>5</th>\n",
       "      <td>25.216338</td>\n",
       "      <td>Inflight wifi service</td>\n",
       "    </tr>\n",
       "    <tr>\n",
       "      <th>3</th>\n",
       "      <td>18.639739</td>\n",
       "      <td>Type of Travel</td>\n",
       "    </tr>\n",
       "    <tr>\n",
       "      <th>10</th>\n",
       "      <td>7.181637</td>\n",
       "      <td>Online boarding</td>\n",
       "    </tr>\n",
       "    <tr>\n",
       "      <th>1</th>\n",
       "      <td>6.992390</td>\n",
       "      <td>Customer Type</td>\n",
       "    </tr>\n",
       "    <tr>\n",
       "      <th>23</th>\n",
       "      <td>5.038930</td>\n",
       "      <td>Class_Business</td>\n",
       "    </tr>\n",
       "    <tr>\n",
       "      <th>16</th>\n",
       "      <td>3.992617</td>\n",
       "      <td>Checkin service</td>\n",
       "    </tr>\n",
       "    <tr>\n",
       "      <th>2</th>\n",
       "      <td>3.586166</td>\n",
       "      <td>Age</td>\n",
       "    </tr>\n",
       "    <tr>\n",
       "      <th>15</th>\n",
       "      <td>3.428861</td>\n",
       "      <td>Baggage handling</td>\n",
       "    </tr>\n",
       "    <tr>\n",
       "      <th>11</th>\n",
       "      <td>3.209202</td>\n",
       "      <td>Seat comfort</td>\n",
       "    </tr>\n",
       "    <tr>\n",
       "      <th>17</th>\n",
       "      <td>3.112616</td>\n",
       "      <td>Inflight service</td>\n",
       "    </tr>\n",
       "    <tr>\n",
       "      <th>8</th>\n",
       "      <td>2.962314</td>\n",
       "      <td>Gate location</td>\n",
       "    </tr>\n",
       "    <tr>\n",
       "      <th>12</th>\n",
       "      <td>2.795896</td>\n",
       "      <td>Inflight entertainment</td>\n",
       "    </tr>\n",
       "    <tr>\n",
       "      <th>0</th>\n",
       "      <td>2.024945</td>\n",
       "      <td>id</td>\n",
       "    </tr>\n",
       "    <tr>\n",
       "      <th>7</th>\n",
       "      <td>1.733797</td>\n",
       "      <td>Ease of Online booking</td>\n",
       "    </tr>\n",
       "    <tr>\n",
       "      <th>13</th>\n",
       "      <td>1.733302</td>\n",
       "      <td>On-board service</td>\n",
       "    </tr>\n",
       "    <tr>\n",
       "      <th>6</th>\n",
       "      <td>1.727606</td>\n",
       "      <td>Departure/Arrival time convenient</td>\n",
       "    </tr>\n",
       "    <tr>\n",
       "      <th>4</th>\n",
       "      <td>1.710939</td>\n",
       "      <td>Flight Distance</td>\n",
       "    </tr>\n",
       "    <tr>\n",
       "      <th>18</th>\n",
       "      <td>1.576314</td>\n",
       "      <td>Cleanliness</td>\n",
       "    </tr>\n",
       "    <tr>\n",
       "      <th>14</th>\n",
       "      <td>1.202031</td>\n",
       "      <td>Leg room service</td>\n",
       "    </tr>\n",
       "    <tr>\n",
       "      <th>20</th>\n",
       "      <td>0.908887</td>\n",
       "      <td>Arrival Delay in Minutes</td>\n",
       "    </tr>\n",
       "    <tr>\n",
       "      <th>19</th>\n",
       "      <td>0.462716</td>\n",
       "      <td>Departure Delay in Minutes</td>\n",
       "    </tr>\n",
       "    <tr>\n",
       "      <th>9</th>\n",
       "      <td>0.347241</td>\n",
       "      <td>Food and drink</td>\n",
       "    </tr>\n",
       "    <tr>\n",
       "      <th>24</th>\n",
       "      <td>0.215604</td>\n",
       "      <td>Class_Eco</td>\n",
       "    </tr>\n",
       "    <tr>\n",
       "      <th>25</th>\n",
       "      <td>0.129909</td>\n",
       "      <td>Class_Eco Plus</td>\n",
       "    </tr>\n",
       "    <tr>\n",
       "      <th>21</th>\n",
       "      <td>0.051211</td>\n",
       "      <td>Gender_Female</td>\n",
       "    </tr>\n",
       "    <tr>\n",
       "      <th>22</th>\n",
       "      <td>0.018794</td>\n",
       "      <td>Gender_Male</td>\n",
       "    </tr>\n",
       "  </tbody>\n",
       "</table>\n",
       "</div>"
      ],
      "text/plain": [
       "    feature_importance                      feature_names\n",
       "5            25.216338              Inflight wifi service\n",
       "3            18.639739                     Type of Travel\n",
       "10            7.181637                    Online boarding\n",
       "1             6.992390                      Customer Type\n",
       "23            5.038930                     Class_Business\n",
       "16            3.992617                    Checkin service\n",
       "2             3.586166                                Age\n",
       "15            3.428861                   Baggage handling\n",
       "11            3.209202                       Seat comfort\n",
       "17            3.112616                   Inflight service\n",
       "8             2.962314                      Gate location\n",
       "12            2.795896             Inflight entertainment\n",
       "0             2.024945                                 id\n",
       "7             1.733797             Ease of Online booking\n",
       "13            1.733302                   On-board service\n",
       "6             1.727606  Departure/Arrival time convenient\n",
       "4             1.710939                    Flight Distance\n",
       "18            1.576314                        Cleanliness\n",
       "14            1.202031                   Leg room service\n",
       "20            0.908887           Arrival Delay in Minutes\n",
       "19            0.462716         Departure Delay in Minutes\n",
       "9             0.347241                     Food and drink\n",
       "24            0.215604                          Class_Eco\n",
       "25            0.129909                     Class_Eco Plus\n",
       "21            0.051211                      Gender_Female\n",
       "22            0.018794                        Gender_Male"
      ]
     },
     "execution_count": 75,
     "metadata": {},
     "output_type": "execute_result"
    }
   ],
   "source": [
    "pd.DataFrame({'feature_importance': cat_boost.get_feature_importance(), 'feature_names': X.columns}).sort_values(by='feature_importance', ascending=False)"
   ]
  },
  {
   "cell_type": "markdown",
   "metadata": {},
   "source": [
    "### MATH&ML-9. Математика ансамблевых методов\n",
    "#### 7. Стекинг"
   ]
  },
  {
   "cell_type": "code",
   "execution_count": 24,
   "metadata": {},
   "outputs": [],
   "source": [
    "import pandas as pd\n",
    "import numpy as np\n",
    "from sklearn import tree\n",
    "from sklearn.model_selection import train_test_split, GridSearchCV\n",
    "import matplotlib.pyplot as plt\n",
    "%matplotlib inline\n",
    "import seaborn as sns\n",
    "from sklearn import preprocessing\n",
    "from sklearn import metrics\n",
    "from sklearn import linear_model, ensemble, neighbors, naive_bayes"
   ]
  },
  {
   "cell_type": "code",
   "execution_count": 25,
   "metadata": {},
   "outputs": [
    {
     "data": {
      "text/html": [
       "<div>\n",
       "<style scoped>\n",
       "    .dataframe tbody tr th:only-of-type {\n",
       "        vertical-align: middle;\n",
       "    }\n",
       "\n",
       "    .dataframe tbody tr th {\n",
       "        vertical-align: top;\n",
       "    }\n",
       "\n",
       "    .dataframe thead th {\n",
       "        text-align: right;\n",
       "    }\n",
       "</style>\n",
       "<table border=\"1\" class=\"dataframe\">\n",
       "  <thead>\n",
       "    <tr style=\"text-align: right;\">\n",
       "      <th></th>\n",
       "      <th>MFCCs_ 1</th>\n",
       "      <th>MFCCs_ 2</th>\n",
       "      <th>MFCCs_ 3</th>\n",
       "      <th>MFCCs_ 4</th>\n",
       "      <th>MFCCs_ 5</th>\n",
       "      <th>MFCCs_ 6</th>\n",
       "      <th>MFCCs_ 7</th>\n",
       "      <th>MFCCs_ 8</th>\n",
       "      <th>MFCCs_ 9</th>\n",
       "      <th>MFCCs_10</th>\n",
       "      <th>...</th>\n",
       "      <th>MFCCs_17</th>\n",
       "      <th>MFCCs_18</th>\n",
       "      <th>MFCCs_19</th>\n",
       "      <th>MFCCs_20</th>\n",
       "      <th>MFCCs_21</th>\n",
       "      <th>MFCCs_22</th>\n",
       "      <th>Family</th>\n",
       "      <th>Genus</th>\n",
       "      <th>Species</th>\n",
       "      <th>RecordID</th>\n",
       "    </tr>\n",
       "  </thead>\n",
       "  <tbody>\n",
       "    <tr>\n",
       "      <th>0</th>\n",
       "      <td>1.0</td>\n",
       "      <td>0.152936</td>\n",
       "      <td>-0.105586</td>\n",
       "      <td>0.200722</td>\n",
       "      <td>0.317201</td>\n",
       "      <td>0.260764</td>\n",
       "      <td>0.100945</td>\n",
       "      <td>-0.150063</td>\n",
       "      <td>-0.171128</td>\n",
       "      <td>0.124676</td>\n",
       "      <td>...</td>\n",
       "      <td>-0.108351</td>\n",
       "      <td>-0.077623</td>\n",
       "      <td>-0.009568</td>\n",
       "      <td>0.057684</td>\n",
       "      <td>0.118680</td>\n",
       "      <td>0.014038</td>\n",
       "      <td>Leptodactylidae</td>\n",
       "      <td>Adenomera</td>\n",
       "      <td>AdenomeraAndre</td>\n",
       "      <td>1</td>\n",
       "    </tr>\n",
       "    <tr>\n",
       "      <th>1</th>\n",
       "      <td>1.0</td>\n",
       "      <td>0.171534</td>\n",
       "      <td>-0.098975</td>\n",
       "      <td>0.268425</td>\n",
       "      <td>0.338672</td>\n",
       "      <td>0.268353</td>\n",
       "      <td>0.060835</td>\n",
       "      <td>-0.222475</td>\n",
       "      <td>-0.207693</td>\n",
       "      <td>0.170883</td>\n",
       "      <td>...</td>\n",
       "      <td>-0.090974</td>\n",
       "      <td>-0.056510</td>\n",
       "      <td>-0.035303</td>\n",
       "      <td>0.020140</td>\n",
       "      <td>0.082263</td>\n",
       "      <td>0.029056</td>\n",
       "      <td>Leptodactylidae</td>\n",
       "      <td>Adenomera</td>\n",
       "      <td>AdenomeraAndre</td>\n",
       "      <td>1</td>\n",
       "    </tr>\n",
       "    <tr>\n",
       "      <th>2</th>\n",
       "      <td>1.0</td>\n",
       "      <td>0.152317</td>\n",
       "      <td>-0.082973</td>\n",
       "      <td>0.287128</td>\n",
       "      <td>0.276014</td>\n",
       "      <td>0.189867</td>\n",
       "      <td>0.008714</td>\n",
       "      <td>-0.242234</td>\n",
       "      <td>-0.219153</td>\n",
       "      <td>0.232538</td>\n",
       "      <td>...</td>\n",
       "      <td>-0.050691</td>\n",
       "      <td>-0.023590</td>\n",
       "      <td>-0.066722</td>\n",
       "      <td>-0.025083</td>\n",
       "      <td>0.099108</td>\n",
       "      <td>0.077162</td>\n",
       "      <td>Leptodactylidae</td>\n",
       "      <td>Adenomera</td>\n",
       "      <td>AdenomeraAndre</td>\n",
       "      <td>1</td>\n",
       "    </tr>\n",
       "    <tr>\n",
       "      <th>3</th>\n",
       "      <td>1.0</td>\n",
       "      <td>0.224392</td>\n",
       "      <td>0.118985</td>\n",
       "      <td>0.329432</td>\n",
       "      <td>0.372088</td>\n",
       "      <td>0.361005</td>\n",
       "      <td>0.015501</td>\n",
       "      <td>-0.194347</td>\n",
       "      <td>-0.098181</td>\n",
       "      <td>0.270375</td>\n",
       "      <td>...</td>\n",
       "      <td>-0.136009</td>\n",
       "      <td>-0.177037</td>\n",
       "      <td>-0.130498</td>\n",
       "      <td>-0.054766</td>\n",
       "      <td>-0.018691</td>\n",
       "      <td>0.023954</td>\n",
       "      <td>Leptodactylidae</td>\n",
       "      <td>Adenomera</td>\n",
       "      <td>AdenomeraAndre</td>\n",
       "      <td>1</td>\n",
       "    </tr>\n",
       "    <tr>\n",
       "      <th>4</th>\n",
       "      <td>1.0</td>\n",
       "      <td>0.087817</td>\n",
       "      <td>-0.068345</td>\n",
       "      <td>0.306967</td>\n",
       "      <td>0.330923</td>\n",
       "      <td>0.249144</td>\n",
       "      <td>0.006884</td>\n",
       "      <td>-0.265423</td>\n",
       "      <td>-0.172700</td>\n",
       "      <td>0.266434</td>\n",
       "      <td>...</td>\n",
       "      <td>-0.048885</td>\n",
       "      <td>-0.053074</td>\n",
       "      <td>-0.088550</td>\n",
       "      <td>-0.031346</td>\n",
       "      <td>0.108610</td>\n",
       "      <td>0.079244</td>\n",
       "      <td>Leptodactylidae</td>\n",
       "      <td>Adenomera</td>\n",
       "      <td>AdenomeraAndre</td>\n",
       "      <td>1</td>\n",
       "    </tr>\n",
       "  </tbody>\n",
       "</table>\n",
       "<p>5 rows × 26 columns</p>\n",
       "</div>"
      ],
      "text/plain": [
       "   MFCCs_ 1  MFCCs_ 2  MFCCs_ 3  MFCCs_ 4  MFCCs_ 5  MFCCs_ 6  MFCCs_ 7  \\\n",
       "0       1.0  0.152936 -0.105586  0.200722  0.317201  0.260764  0.100945   \n",
       "1       1.0  0.171534 -0.098975  0.268425  0.338672  0.268353  0.060835   \n",
       "2       1.0  0.152317 -0.082973  0.287128  0.276014  0.189867  0.008714   \n",
       "3       1.0  0.224392  0.118985  0.329432  0.372088  0.361005  0.015501   \n",
       "4       1.0  0.087817 -0.068345  0.306967  0.330923  0.249144  0.006884   \n",
       "\n",
       "   MFCCs_ 8  MFCCs_ 9  MFCCs_10  ...  MFCCs_17  MFCCs_18  MFCCs_19  MFCCs_20  \\\n",
       "0 -0.150063 -0.171128  0.124676  ... -0.108351 -0.077623 -0.009568  0.057684   \n",
       "1 -0.222475 -0.207693  0.170883  ... -0.090974 -0.056510 -0.035303  0.020140   \n",
       "2 -0.242234 -0.219153  0.232538  ... -0.050691 -0.023590 -0.066722 -0.025083   \n",
       "3 -0.194347 -0.098181  0.270375  ... -0.136009 -0.177037 -0.130498 -0.054766   \n",
       "4 -0.265423 -0.172700  0.266434  ... -0.048885 -0.053074 -0.088550 -0.031346   \n",
       "\n",
       "   MFCCs_21  MFCCs_22           Family      Genus         Species  RecordID  \n",
       "0  0.118680  0.014038  Leptodactylidae  Adenomera  AdenomeraAndre         1  \n",
       "1  0.082263  0.029056  Leptodactylidae  Adenomera  AdenomeraAndre         1  \n",
       "2  0.099108  0.077162  Leptodactylidae  Adenomera  AdenomeraAndre         1  \n",
       "3 -0.018691  0.023954  Leptodactylidae  Adenomera  AdenomeraAndre         1  \n",
       "4  0.108610  0.079244  Leptodactylidae  Adenomera  AdenomeraAndre         1  \n",
       "\n",
       "[5 rows x 26 columns]"
      ]
     },
     "execution_count": 25,
     "metadata": {},
     "output_type": "execute_result"
    }
   ],
   "source": [
    "data = pd.read_csv('data/Frogs_MFCCs.csv')\n",
    "data.head()"
   ]
  },
  {
   "cell_type": "code",
   "execution_count": 26,
   "metadata": {},
   "outputs": [],
   "source": [
    "X = data.drop(columns=['Family', 'Genus', 'Species', 'RecordID'])\n",
    "y = data['Family']\n",
    "y = y.map({'Leptodactylidae': 0, 'Hylidae': 1, 'Dendrobatidae': 2, 'Bufonidae': 3})\n",
    "X_train, X_test, y_train, y_test = train_test_split(X, y, test_size=0.2, random_state=31)"
   ]
  },
  {
   "cell_type": "code",
   "execution_count": 27,
   "metadata": {},
   "outputs": [
    {
     "data": {
      "text/plain": [
       "0    4420\n",
       "1    2165\n",
       "2     542\n",
       "3      68\n",
       "Name: Family, dtype: int64"
      ]
     },
     "execution_count": 27,
     "metadata": {},
     "output_type": "execute_result"
    }
   ],
   "source": [
    "y.value_counts()"
   ]
  },
  {
   "cell_type": "code",
   "execution_count": 31,
   "metadata": {},
   "outputs": [],
   "source": [
    "rf = ensemble.RandomForestClassifier(n_estimators=10, random_state=42)\n",
    "rf.fit(X_train, y_train)\n",
    "y_test_pred = rf.predict(X_test)"
   ]
  },
  {
   "cell_type": "code",
   "execution_count": 32,
   "metadata": {},
   "outputs": [
    {
     "data": {
      "text/plain": [
       "0.9791521890201529"
      ]
     },
     "execution_count": 32,
     "metadata": {},
     "output_type": "execute_result"
    }
   ],
   "source": [
    "metrics.f1_score(y_test, y_test_pred, average='micro')"
   ]
  },
  {
   "cell_type": "code",
   "execution_count": 33,
   "metadata": {},
   "outputs": [
    {
     "data": {
      "text/plain": [
       "0.9840166782487839"
      ]
     },
     "execution_count": 33,
     "metadata": {},
     "output_type": "execute_result"
    }
   ],
   "source": [
    "estimators = [('rf', ensemble.RandomForestClassifier(n_estimators=10, random_state=31)),\n",
    "              ('knn', neighbors.KNeighborsClassifier(n_neighbors=11)),\n",
    "              ('nb', naive_bayes.GaussianNB())]\n",
    "metamodel = ensemble.StackingClassifier(estimators=estimators, final_estimator=linear_model.LogisticRegression())\n",
    "metamodel.fit(X_train, y_train)\n",
    "y_test_pred = metamodel.predict(X_test)\n",
    "metrics.f1_score(y_test, y_test_pred, average='micro')"
   ]
  },
  {
   "cell_type": "markdown",
   "metadata": {},
   "source": [
    "### MATH&ML-10. Кластеризация и техники понижения размерности. Часть I\n",
    "#### 4. K-Means и EM-алгоритм: практика"
   ]
  },
  {
   "cell_type": "code",
   "execution_count": 36,
   "metadata": {},
   "outputs": [],
   "source": [
    "import pandas as pd\n",
    "import numpy as np\n",
    "from sklearn import metrics\n",
    "from sklearn import preprocessing\n",
    "from sklearn.cluster import KMeans\n",
    "from sklearn.mixture import GaussianMixture\n",
    "import matplotlib.pyplot as plt"
   ]
  },
  {
   "cell_type": "code",
   "execution_count": 8,
   "metadata": {},
   "outputs": [
    {
     "data": {
      "text/plain": [
       "(30000, 36)"
      ]
     },
     "execution_count": 8,
     "metadata": {},
     "output_type": "execute_result"
    }
   ],
   "source": [
    "data = pd.read_csv('data/snsdata.csv')\n",
    "data.drop(['gradyear', 'gender', 'age', 'friends'], axis=1, inplace=True)\n",
    "data.shape"
   ]
  },
  {
   "cell_type": "code",
   "execution_count": 10,
   "metadata": {},
   "outputs": [
    {
     "data": {
      "text/plain": [
       "-0.3322172643985876"
      ]
     },
     "execution_count": 10,
     "metadata": {},
     "output_type": "execute_result"
    }
   ],
   "source": [
    "scaler = preprocessing.StandardScaler()\n",
    "scaler.fit(data)\n",
    "X_norm = scaler.transform(data)\n",
    "X_norm[0][0]"
   ]
  },
  {
   "cell_type": "code",
   "execution_count": 13,
   "metadata": {},
   "outputs": [
    {
     "data": {
      "text/plain": [
       "857169.1033997748"
      ]
     },
     "execution_count": 13,
     "metadata": {},
     "output_type": "execute_result"
    }
   ],
   "source": [
    "kmeans = KMeans(n_clusters=9, random_state=42)\n",
    "kmeans.fit(X_norm)\n",
    "kmeans.inertia_"
   ]
  },
  {
   "cell_type": "code",
   "execution_count": 17,
   "metadata": {},
   "outputs": [
    {
     "data": {
      "text/plain": [
       "0    19659\n",
       "3     4490\n",
       "7     2098\n",
       "1      930\n",
       "4      851\n",
       "6      762\n",
       "8      716\n",
       "5      493\n",
       "2        1\n",
       "Name: label, dtype: int64"
      ]
     },
     "execution_count": 17,
     "metadata": {},
     "output_type": "execute_result"
    }
   ],
   "source": [
    "data.loc[:, 'label'] = kmeans.labels_\n",
    "data.label.value_counts()"
   ]
  },
  {
   "cell_type": "code",
   "execution_count": 23,
   "metadata": {},
   "outputs": [
    {
     "data": {
      "text/plain": [
       "Text(0, 0.5, 'inertia')"
      ]
     },
     "execution_count": 23,
     "metadata": {},
     "output_type": "execute_result"
    },
    {
     "data": {
      "image/png": "[encoded data removed]",
      "text/plain": [
       "<Figure size 432x288 with 1 Axes>"
      ]
     },
     "metadata": {
      "needs_background": "light"
     },
     "output_type": "display_data"
    }
   ],
   "source": [
    "def get_inertia(cluster_num, X):\n",
    "    kmeans = KMeans(n_clusters=cluster_num, random_state=42)\n",
    "    kmeans.fit(X)\n",
    "    inertia = kmeans.inertia_\n",
    "    return inertia\n",
    "\n",
    "inertia_list = []\n",
    "for cluster_num in range(3,10):\n",
    "    inertia = get_inertia(cluster_num, X_norm)\n",
    "    inertia_list.append(inertia)\n",
    "\n",
    "plt.plot([i for i in range(3,10)], inertia_list, 'xb-')\n",
    "plt.xlabel(\"cluster\", fontsize=12)\n",
    "plt.ylabel(\"inertia\", fontsize=12)"
   ]
  },
  {
   "cell_type": "code",
   "execution_count": 28,
   "metadata": {},
   "outputs": [
    {
     "data": {
      "text/plain": [
       "Text(0, 0.5, 'silhouette')"
      ]
     },
     "execution_count": 28,
     "metadata": {},
     "output_type": "execute_result"
    },
    {
     "data": {
      "image/png": "[encoded data removed]",
      "text/plain": [
       "<Figure size 432x288 with 1 Axes>"
      ]
     },
     "metadata": {
      "needs_background": "light"
     },
     "output_type": "display_data"
    }
   ],
   "source": [
    "def get_silhouette(cluster_num, X):\n",
    "    kmeans = KMeans(n_clusters=cluster_num, random_state=42)\n",
    "    kmeans.fit(X)\n",
    "    silhouette = metrics.silhouette_score(X, kmeans.labels_)\n",
    "    return silhouette\n",
    "\n",
    "silhouette_list = []\n",
    "for cluster_num in range(3,10):\n",
    "    silhouette = get_silhouette(cluster_num, X_norm)\n",
    "    silhouette_list.append(silhouette)\n",
    "\n",
    "plt.plot([i for i in range(3,10)], silhouette_list, 'xb-')\n",
    "plt.xlabel(\"cluster\", fontsize=12)\n",
    "plt.ylabel(\"silhouette\", fontsize=12)"
   ]
  },
  {
   "cell_type": "code",
   "execution_count": 29,
   "metadata": {},
   "outputs": [
    {
     "data": {
      "text/plain": [
       "2    22932\n",
       "0     5938\n",
       "1     1130\n",
       "Name: label, dtype: int64"
      ]
     },
     "execution_count": 29,
     "metadata": {},
     "output_type": "execute_result"
    }
   ],
   "source": [
    "kmeans = KMeans(n_clusters=3, random_state=42)\n",
    "kmeans.fit(X_norm)\n",
    "data.loc[:, 'label'] = kmeans.labels_\n",
    "data.label.value_counts()"
   ]
  },
  {
   "cell_type": "code",
   "execution_count": 30,
   "metadata": {},
   "outputs": [
    {
     "name": "stdout",
     "output_type": "stream",
     "text": [
      "music         1.055406\n",
      "dance         0.998484\n",
      "shopping      0.939205\n",
      "god           0.886325\n",
      "cute          0.798417\n",
      "hair          0.736948\n",
      "church        0.670428\n",
      "basketball    0.661839\n",
      "mall          0.658976\n",
      "football      0.590603\n",
      "dtype: float64\n",
      "hair      3.223894\n",
      "sex       2.430088\n",
      "music     2.262832\n",
      "kissed    1.575221\n",
      "die       1.211504\n",
      "rock      1.115044\n",
      "god       0.998230\n",
      "band      0.973451\n",
      "drugs     0.955752\n",
      "dance     0.951327\n",
      "dtype: float64\n",
      "music       0.580455\n",
      "god         0.330019\n",
      "dance       0.250785\n",
      "band        0.243328\n",
      "hair        0.203122\n",
      "shopping    0.190563\n",
      "cute        0.180490\n",
      "rock        0.164486\n",
      "soccer      0.152189\n",
      "football    0.151361\n",
      "dtype: float64\n"
     ]
    }
   ],
   "source": [
    "for label, group in data.groupby('label'):\n",
    "    means = group.iloc[:,:-1].mean().sort_values(ascending=False)\n",
    "    print(means.head(10))"
   ]
  },
  {
   "cell_type": "code",
   "execution_count": 37,
   "metadata": {},
   "outputs": [],
   "source": [
    "em_model = GaussianMixture(n_components=3, random_state=42)\n",
    "em_model.fit(X_norm)\n",
    "predictions = em_model.predict(X_norm)"
   ]
  },
  {
   "cell_type": "code",
   "execution_count": 39,
   "metadata": {},
   "outputs": [
    {
     "data": {
      "text/plain": [
       "(array([0, 1, 2]), array([23426,  6573,     1]))"
      ]
     },
     "execution_count": 39,
     "metadata": {},
     "output_type": "execute_result"
    }
   ],
   "source": [
    "np.unique(predictions, return_counts=True)"
   ]
  },
  {
   "cell_type": "code",
   "execution_count": 42,
   "metadata": {},
   "outputs": [],
   "source": [
    "data.loc[:, 'label'] = predictions"
   ]
  },
  {
   "cell_type": "code",
   "execution_count": 63,
   "metadata": {},
   "outputs": [
    {
     "data": {
      "text/plain": [
       "blonde          327\n",
       "sex              22\n",
       "hair             12\n",
       "god              10\n",
       "drunk             6\n",
       "death             6\n",
       "die               6\n",
       "dress             2\n",
       "football          2\n",
       "label             2\n",
       "cute              1\n",
       "clothes           1\n",
       "sexy              1\n",
       "dance             1\n",
       "band              1\n",
       "rock              1\n",
       "swimming          1\n",
       "jesus             1\n",
       "shopping          0\n",
       "mall              0\n",
       "hollister         0\n",
       "abercrombie       0\n",
       "drugs             0\n",
       "basketball        0\n",
       "bible             0\n",
       "church            0\n",
       "marching          0\n",
       "kissed            0\n",
       "hot               0\n",
       "sports            0\n",
       "tennis            0\n",
       "baseball          0\n",
       "cheerleading      0\n",
       "volleyball        0\n",
       "softball          0\n",
       "soccer            0\n",
       "music             0\n",
       "dtype: int64"
      ]
     },
     "execution_count": 63,
     "metadata": {},
     "output_type": "execute_result"
    }
   ],
   "source": [
    "y = data[data['label'] == 2]\n",
    "y.sum().sort_values(ascending=False)"
   ]
  },
  {
   "cell_type": "code",
   "execution_count": 49,
   "metadata": {},
   "outputs": [
    {
     "data": {
      "text/html": [
       "<div>\n",
       "<style scoped>\n",
       "    .dataframe tbody tr th:only-of-type {\n",
       "        vertical-align: middle;\n",
       "    }\n",
       "\n",
       "    .dataframe tbody tr th {\n",
       "        vertical-align: top;\n",
       "    }\n",
       "\n",
       "    .dataframe thead th {\n",
       "        text-align: right;\n",
       "    }\n",
       "</style>\n",
       "<table border=\"1\" class=\"dataframe\">\n",
       "  <thead>\n",
       "    <tr style=\"text-align: right;\">\n",
       "      <th></th>\n",
       "      <th>basketball</th>\n",
       "      <th>football</th>\n",
       "      <th>soccer</th>\n",
       "      <th>softball</th>\n",
       "      <th>volleyball</th>\n",
       "      <th>swimming</th>\n",
       "      <th>cheerleading</th>\n",
       "      <th>baseball</th>\n",
       "      <th>tennis</th>\n",
       "      <th>sports</th>\n",
       "      <th>...</th>\n",
       "      <th>mall</th>\n",
       "      <th>shopping</th>\n",
       "      <th>clothes</th>\n",
       "      <th>hollister</th>\n",
       "      <th>abercrombie</th>\n",
       "      <th>die</th>\n",
       "      <th>death</th>\n",
       "      <th>drunk</th>\n",
       "      <th>drugs</th>\n",
       "      <th>label</th>\n",
       "    </tr>\n",
       "  </thead>\n",
       "  <tbody>\n",
       "    <tr>\n",
       "      <th>14187</th>\n",
       "      <td>0</td>\n",
       "      <td>2</td>\n",
       "      <td>0</td>\n",
       "      <td>0</td>\n",
       "      <td>0</td>\n",
       "      <td>1</td>\n",
       "      <td>0</td>\n",
       "      <td>0</td>\n",
       "      <td>0</td>\n",
       "      <td>0</td>\n",
       "      <td>...</td>\n",
       "      <td>0</td>\n",
       "      <td>0</td>\n",
       "      <td>1</td>\n",
       "      <td>0</td>\n",
       "      <td>0</td>\n",
       "      <td>6</td>\n",
       "      <td>6</td>\n",
       "      <td>6</td>\n",
       "      <td>0</td>\n",
       "      <td>2</td>\n",
       "    </tr>\n",
       "  </tbody>\n",
       "</table>\n",
       "<p>1 rows × 37 columns</p>\n",
       "</div>"
      ],
      "text/plain": [
       "       basketball  football  soccer  softball  volleyball  swimming  \\\n",
       "14187           0         2       0         0           0         1   \n",
       "\n",
       "       cheerleading  baseball  tennis  sports  ...  mall  shopping  clothes  \\\n",
       "14187             0         0       0       0  ...     0         0        1   \n",
       "\n",
       "       hollister  abercrombie  die  death  drunk  drugs  label  \n",
       "14187          0            0    6      6      6      0      2  \n",
       "\n",
       "[1 rows x 37 columns]"
      ]
     },
     "execution_count": 49,
     "metadata": {},
     "output_type": "execute_result"
    }
   ],
   "source": [
    "a = np.where(predictions == 2)\n",
    "data.iloc[a]"
   ]
  },
  {
   "cell_type": "markdown",
   "metadata": {},
   "source": [
    "### MATH&ML-10. Кластеризация и техники понижения размерности. Часть I\n",
    "#### 7. Итоговая практика по алгоритмам кластеризации"
   ]
  },
  {
   "cell_type": "markdown",
   "metadata": {},
   "source": [
    "Задача - сегментировать клиентов банка, которые пользуются кредитными картами."
   ]
  },
  {
   "cell_type": "markdown",
   "metadata": {},
   "source": [
    "В нашем распоряжении есть данные о 8950 держателях кредитных карт одного из банков Нью-Йорка. Банк собрал достаточно много данных об этих людях и о том, как они пользовались кредитными картами за последние полгода.\n",
    "\n",
    "Маркетологи хотят запустить рекламную кампанию, однако для этого необходимо произвести сегментацию клиентов, чтобы сделать акционное предложение более персонализированным. Мы попробуем использовать все известные нам методы кластеризации и посмотрим на получившиеся результаты."
   ]
  },
  {
   "cell_type": "code",
   "execution_count": 49,
   "metadata": {},
   "outputs": [],
   "source": [
    "import pandas as pd\n",
    "import numpy as np\n",
    "from sklearn import preprocessing, metrics\n",
    "from sklearn.cluster import KMeans\n",
    "from sklearn.cluster import DBSCAN\n",
    "from sklearn.cluster import AgglomerativeClustering\n",
    "import matplotlib.pyplot as plt\n",
    "import seaborn as sns"
   ]
  },
  {
   "cell_type": "code",
   "execution_count": 12,
   "metadata": {},
   "outputs": [
    {
     "data": {
      "text/html": [
       "<div>\n",
       "<style scoped>\n",
       "    .dataframe tbody tr th:only-of-type {\n",
       "        vertical-align: middle;\n",
       "    }\n",
       "\n",
       "    .dataframe tbody tr th {\n",
       "        vertical-align: top;\n",
       "    }\n",
       "\n",
       "    .dataframe thead th {\n",
       "        text-align: right;\n",
       "    }\n",
       "</style>\n",
       "<table border=\"1\" class=\"dataframe\">\n",
       "  <thead>\n",
       "    <tr style=\"text-align: right;\">\n",
       "      <th></th>\n",
       "      <th>CUST_ID</th>\n",
       "      <th>BALANCE</th>\n",
       "      <th>BALANCE_FREQUENCY</th>\n",
       "      <th>PURCHASES</th>\n",
       "      <th>ONEOFF_PURCHASES</th>\n",
       "      <th>INSTALLMENTS_PURCHASES</th>\n",
       "      <th>CASH_ADVANCE</th>\n",
       "      <th>PURCHASES_FREQUENCY</th>\n",
       "      <th>ONEOFF_PURCHASES_FREQUENCY</th>\n",
       "      <th>PURCHASES_INSTALLMENTS_FREQUENCY</th>\n",
       "      <th>CASH_ADVANCE_FREQUENCY</th>\n",
       "      <th>CASH_ADVANCE_TRX</th>\n",
       "      <th>PURCHASES_TRX</th>\n",
       "      <th>CREDIT_LIMIT</th>\n",
       "      <th>PAYMENTS</th>\n",
       "      <th>MINIMUM_PAYMENTS</th>\n",
       "      <th>PRC_FULL_PAYMENT</th>\n",
       "      <th>TENURE</th>\n",
       "    </tr>\n",
       "  </thead>\n",
       "  <tbody>\n",
       "    <tr>\n",
       "      <th>0</th>\n",
       "      <td>C10001</td>\n",
       "      <td>40.900749</td>\n",
       "      <td>0.818182</td>\n",
       "      <td>95.40</td>\n",
       "      <td>0.00</td>\n",
       "      <td>95.4</td>\n",
       "      <td>0.000000</td>\n",
       "      <td>0.166667</td>\n",
       "      <td>0.000000</td>\n",
       "      <td>0.083333</td>\n",
       "      <td>0.000000</td>\n",
       "      <td>0</td>\n",
       "      <td>2</td>\n",
       "      <td>1000.0</td>\n",
       "      <td>201.802084</td>\n",
       "      <td>139.509787</td>\n",
       "      <td>0.000000</td>\n",
       "      <td>12</td>\n",
       "    </tr>\n",
       "    <tr>\n",
       "      <th>1</th>\n",
       "      <td>C10002</td>\n",
       "      <td>3202.467416</td>\n",
       "      <td>0.909091</td>\n",
       "      <td>0.00</td>\n",
       "      <td>0.00</td>\n",
       "      <td>0.0</td>\n",
       "      <td>6442.945483</td>\n",
       "      <td>0.000000</td>\n",
       "      <td>0.000000</td>\n",
       "      <td>0.000000</td>\n",
       "      <td>0.250000</td>\n",
       "      <td>4</td>\n",
       "      <td>0</td>\n",
       "      <td>7000.0</td>\n",
       "      <td>4103.032597</td>\n",
       "      <td>1072.340217</td>\n",
       "      <td>0.222222</td>\n",
       "      <td>12</td>\n",
       "    </tr>\n",
       "    <tr>\n",
       "      <th>2</th>\n",
       "      <td>C10003</td>\n",
       "      <td>2495.148862</td>\n",
       "      <td>1.000000</td>\n",
       "      <td>773.17</td>\n",
       "      <td>773.17</td>\n",
       "      <td>0.0</td>\n",
       "      <td>0.000000</td>\n",
       "      <td>1.000000</td>\n",
       "      <td>1.000000</td>\n",
       "      <td>0.000000</td>\n",
       "      <td>0.000000</td>\n",
       "      <td>0</td>\n",
       "      <td>12</td>\n",
       "      <td>7500.0</td>\n",
       "      <td>622.066742</td>\n",
       "      <td>627.284787</td>\n",
       "      <td>0.000000</td>\n",
       "      <td>12</td>\n",
       "    </tr>\n",
       "    <tr>\n",
       "      <th>3</th>\n",
       "      <td>C10004</td>\n",
       "      <td>1666.670542</td>\n",
       "      <td>0.636364</td>\n",
       "      <td>1499.00</td>\n",
       "      <td>1499.00</td>\n",
       "      <td>0.0</td>\n",
       "      <td>205.788017</td>\n",
       "      <td>0.083333</td>\n",
       "      <td>0.083333</td>\n",
       "      <td>0.000000</td>\n",
       "      <td>0.083333</td>\n",
       "      <td>1</td>\n",
       "      <td>1</td>\n",
       "      <td>7500.0</td>\n",
       "      <td>0.000000</td>\n",
       "      <td>NaN</td>\n",
       "      <td>0.000000</td>\n",
       "      <td>12</td>\n",
       "    </tr>\n",
       "    <tr>\n",
       "      <th>4</th>\n",
       "      <td>C10005</td>\n",
       "      <td>817.714335</td>\n",
       "      <td>1.000000</td>\n",
       "      <td>16.00</td>\n",
       "      <td>16.00</td>\n",
       "      <td>0.0</td>\n",
       "      <td>0.000000</td>\n",
       "      <td>0.083333</td>\n",
       "      <td>0.083333</td>\n",
       "      <td>0.000000</td>\n",
       "      <td>0.000000</td>\n",
       "      <td>0</td>\n",
       "      <td>1</td>\n",
       "      <td>1200.0</td>\n",
       "      <td>678.334763</td>\n",
       "      <td>244.791237</td>\n",
       "      <td>0.000000</td>\n",
       "      <td>12</td>\n",
       "    </tr>\n",
       "  </tbody>\n",
       "</table>\n",
       "</div>"
      ],
      "text/plain": [
       "  CUST_ID      BALANCE  BALANCE_FREQUENCY  PURCHASES  ONEOFF_PURCHASES  \\\n",
       "0  C10001    40.900749           0.818182      95.40              0.00   \n",
       "1  C10002  3202.467416           0.909091       0.00              0.00   \n",
       "2  C10003  2495.148862           1.000000     773.17            773.17   \n",
       "3  C10004  1666.670542           0.636364    1499.00           1499.00   \n",
       "4  C10005   817.714335           1.000000      16.00             16.00   \n",
       "\n",
       "   INSTALLMENTS_PURCHASES  CASH_ADVANCE  PURCHASES_FREQUENCY  \\\n",
       "0                    95.4      0.000000             0.166667   \n",
       "1                     0.0   6442.945483             0.000000   \n",
       "2                     0.0      0.000000             1.000000   \n",
       "3                     0.0    205.788017             0.083333   \n",
       "4                     0.0      0.000000             0.083333   \n",
       "\n",
       "   ONEOFF_PURCHASES_FREQUENCY  PURCHASES_INSTALLMENTS_FREQUENCY  \\\n",
       "0                    0.000000                          0.083333   \n",
       "1                    0.000000                          0.000000   \n",
       "2                    1.000000                          0.000000   \n",
       "3                    0.083333                          0.000000   \n",
       "4                    0.083333                          0.000000   \n",
       "\n",
       "   CASH_ADVANCE_FREQUENCY  CASH_ADVANCE_TRX  PURCHASES_TRX  CREDIT_LIMIT  \\\n",
       "0                0.000000                 0              2        1000.0   \n",
       "1                0.250000                 4              0        7000.0   \n",
       "2                0.000000                 0             12        7500.0   \n",
       "3                0.083333                 1              1        7500.0   \n",
       "4                0.000000                 0              1        1200.0   \n",
       "\n",
       "      PAYMENTS  MINIMUM_PAYMENTS  PRC_FULL_PAYMENT  TENURE  \n",
       "0   201.802084        139.509787          0.000000      12  \n",
       "1  4103.032597       1072.340217          0.222222      12  \n",
       "2   622.066742        627.284787          0.000000      12  \n",
       "3     0.000000               NaN          0.000000      12  \n",
       "4   678.334763        244.791237          0.000000      12  "
      ]
     },
     "execution_count": 12,
     "metadata": {},
     "output_type": "execute_result"
    }
   ],
   "source": [
    "data = pd.read_csv('data/CC GENERAL.csv')\n",
    "data.head()"
   ]
  },
  {
   "cell_type": "code",
   "execution_count": 14,
   "metadata": {},
   "outputs": [
    {
     "data": {
      "text/plain": [
       "314"
      ]
     },
     "execution_count": 14,
     "metadata": {},
     "output_type": "execute_result"
    }
   ],
   "source": [
    "data.isnull().sum().sum()"
   ]
  },
  {
   "cell_type": "code",
   "execution_count": 15,
   "metadata": {},
   "outputs": [
    {
     "name": "stderr",
     "output_type": "stream",
     "text": [
      "/var/folders/8_/y936460960110gnpk46t3fw00000gn/T/ipykernel_5261/1234024251.py:1: FutureWarning: Dropping of nuisance columns in DataFrame reductions (with 'numeric_only=None') is deprecated; in a future version this will raise TypeError.  Select only valid columns before calling the reduction.\n",
      "  data.fillna(data.mean(), inplace=True)\n"
     ]
    },
    {
     "data": {
      "text/plain": [
       "864.21"
      ]
     },
     "execution_count": 15,
     "metadata": {},
     "output_type": "execute_result"
    }
   ],
   "source": [
    "data.fillna(data.mean(), inplace=True)\n",
    "round(data['MINIMUM_PAYMENTS'].mean(),2)"
   ]
  },
  {
   "cell_type": "code",
   "execution_count": 16,
   "metadata": {},
   "outputs": [
    {
     "data": {
      "text/plain": [
       "-0.73"
      ]
     },
     "execution_count": 16,
     "metadata": {},
     "output_type": "execute_result"
    }
   ],
   "source": [
    "data.drop('CUST_ID', axis = 1, inplace = True)\n",
    "X = data.values\n",
    "scaler = preprocessing.StandardScaler()\n",
    "scaler.fit(X)\n",
    "X_norm = scaler.transform(X)\n",
    "round(X_norm[0][0],2)"
   ]
  },
  {
   "cell_type": "code",
   "execution_count": 24,
   "metadata": {},
   "outputs": [
    {
     "data": {
      "text/plain": [
       "Text(0, 0.5, 'silhouette')"
      ]
     },
     "execution_count": 24,
     "metadata": {},
     "output_type": "execute_result"
    },
    {
     "data": {
      "image/png": "[encoded data removed]",
      "text/plain": [
       "<Figure size 432x288 with 1 Axes>"
      ]
     },
     "metadata": {
      "needs_background": "light"
     },
     "output_type": "display_data"
    }
   ],
   "source": [
    "def get_silhouette(n_cluster, X):\n",
    "    model = KMeans(n_clusters=n_cluster, random_state=42)\n",
    "    model.fit(X)\n",
    "    silhouette = metrics.silhouette_score(X, model.labels_, metric='euclidean')\n",
    "    return silhouette\n",
    "\n",
    "silhouette_list = []\n",
    "for n_cluster in range(2,10):\n",
    "    silhouette_list.append(get_silhouette(n_cluster, X_norm))\n",
    "\n",
    "plt.plot([i for i in range(2,10)], silhouette_list, 'xb-')\n",
    "plt.xlabel('cluster', fontsize=12)\n",
    "plt.ylabel('silhouette', fontsize=12)"
   ]
  },
  {
   "cell_type": "code",
   "execution_count": 27,
   "metadata": {},
   "outputs": [
    {
     "data": {
      "text/plain": [
       "0    6118\n",
       "1    1597\n",
       "2    1235\n",
       "Name: label, dtype: int64"
      ]
     },
     "execution_count": 27,
     "metadata": {},
     "output_type": "execute_result"
    }
   ],
   "source": [
    "kmeans_model = KMeans(n_clusters=3, random_state=42)\n",
    "kmeans_model.fit(X_norm)\n",
    "data.loc[:, 'label'] = kmeans_model.labels_\n",
    "data['label'].value_counts()\n"
   ]
  },
  {
   "cell_type": "code",
   "execution_count": 38,
   "metadata": {},
   "outputs": [
    {
     "data": {
      "text/plain": [
       "38"
      ]
     },
     "execution_count": 38,
     "metadata": {},
     "output_type": "execute_result"
    }
   ],
   "source": [
    "dbscan_model = DBSCAN()\n",
    "dbscan_model.fit(X_norm)\n",
    "clusters = dbscan_model.labels_\n",
    "len(set(clusters)) - (1 if -1 in clusters else 0)"
   ]
  },
  {
   "cell_type": "code",
   "execution_count": 42,
   "metadata": {},
   "outputs": [
    {
     "name": "stdout",
     "output_type": "stream",
     "text": [
      "0.6173453608696496\n"
     ]
    },
    {
     "data": {
      "text/html": [
       "<div>\n",
       "<style scoped>\n",
       "    .dataframe tbody tr th:only-of-type {\n",
       "        vertical-align: middle;\n",
       "    }\n",
       "\n",
       "    .dataframe tbody tr th {\n",
       "        vertical-align: top;\n",
       "    }\n",
       "\n",
       "    .dataframe thead th {\n",
       "        text-align: right;\n",
       "    }\n",
       "</style>\n",
       "<table border=\"1\" class=\"dataframe\">\n",
       "  <thead>\n",
       "    <tr style=\"text-align: right;\">\n",
       "      <th></th>\n",
       "      <th>eps</th>\n",
       "      <th>min_samples</th>\n",
       "      <th>sil_score</th>\n",
       "      <th>number_of_clusters</th>\n",
       "    </tr>\n",
       "  </thead>\n",
       "  <tbody>\n",
       "    <tr>\n",
       "      <th>11</th>\n",
       "      <td>0.5</td>\n",
       "      <td>5</td>\n",
       "      <td>-0.443701</td>\n",
       "      <td>39</td>\n",
       "    </tr>\n",
       "    <tr>\n",
       "      <th>16</th>\n",
       "      <td>0.7</td>\n",
       "      <td>5</td>\n",
       "      <td>-0.438837</td>\n",
       "      <td>29</td>\n",
       "    </tr>\n",
       "    <tr>\n",
       "      <th>6</th>\n",
       "      <td>0.3</td>\n",
       "      <td>5</td>\n",
       "      <td>-0.424475</td>\n",
       "      <td>42</td>\n",
       "    </tr>\n",
       "    <tr>\n",
       "      <th>7</th>\n",
       "      <td>0.3</td>\n",
       "      <td>9</td>\n",
       "      <td>-0.404209</td>\n",
       "      <td>15</td>\n",
       "    </tr>\n",
       "    <tr>\n",
       "      <th>30</th>\n",
       "      <td>1.3</td>\n",
       "      <td>1</td>\n",
       "      <td>-0.399305</td>\n",
       "      <td>1536</td>\n",
       "    </tr>\n",
       "    <tr>\n",
       "      <th>...</th>\n",
       "      <td>...</td>\n",
       "      <td>...</td>\n",
       "      <td>...</td>\n",
       "      <td>...</td>\n",
       "    </tr>\n",
       "    <tr>\n",
       "      <th>74</th>\n",
       "      <td>2.9</td>\n",
       "      <td>17</td>\n",
       "      <td>0.591924</td>\n",
       "      <td>2</td>\n",
       "    </tr>\n",
       "    <tr>\n",
       "      <th>66</th>\n",
       "      <td>2.7</td>\n",
       "      <td>5</td>\n",
       "      <td>0.592182</td>\n",
       "      <td>2</td>\n",
       "    </tr>\n",
       "    <tr>\n",
       "      <th>73</th>\n",
       "      <td>2.9</td>\n",
       "      <td>13</td>\n",
       "      <td>0.595399</td>\n",
       "      <td>2</td>\n",
       "    </tr>\n",
       "    <tr>\n",
       "      <th>72</th>\n",
       "      <td>2.9</td>\n",
       "      <td>9</td>\n",
       "      <td>0.603811</td>\n",
       "      <td>2</td>\n",
       "    </tr>\n",
       "    <tr>\n",
       "      <th>71</th>\n",
       "      <td>2.9</td>\n",
       "      <td>5</td>\n",
       "      <td>0.617345</td>\n",
       "      <td>2</td>\n",
       "    </tr>\n",
       "  </tbody>\n",
       "</table>\n",
       "<p>75 rows × 4 columns</p>\n",
       "</div>"
      ],
      "text/plain": [
       "    eps  min_samples  sil_score  number_of_clusters\n",
       "11  0.5            5  -0.443701                  39\n",
       "16  0.7            5  -0.438837                  29\n",
       "6   0.3            5  -0.424475                  42\n",
       "7   0.3            9  -0.404209                  15\n",
       "30  1.3            1  -0.399305                1536\n",
       "..  ...          ...        ...                 ...\n",
       "74  2.9           17   0.591924                   2\n",
       "66  2.7            5   0.592182                   2\n",
       "73  2.9           13   0.595399                   2\n",
       "72  2.9            9   0.603811                   2\n",
       "71  2.9            5   0.617345                   2\n",
       "\n",
       "[75 rows x 4 columns]"
      ]
     },
     "execution_count": 42,
     "metadata": {},
     "output_type": "execute_result"
    }
   ],
   "source": [
    "max_silhouette = 0\n",
    "silhouette_list = []\n",
    "for eps in np.arange(0.1, 3, 0.2):\n",
    "    for min_samples in range(1, 20, 4):\n",
    "        dbscan_model = DBSCAN(eps=eps, min_samples=min_samples)\n",
    "        dbscan_model.fit(X_norm)\n",
    "        current_silhouette = metrics.silhouette_score(X_norm, dbscan_model.labels_, metric='euclidean')\n",
    "        silhouette_list.append((eps, min_samples, current_silhouette, len(set(dbscan_model.labels_))))\n",
    "        if current_silhouette > max_silhouette:\n",
    "            max_silhouette = current_silhouette\n",
    "\n",
    "print(max_silhouette)\n",
    "dbscan_data = pd.DataFrame(silhouette_list, columns=['eps', 'min_samples', 'sil_score', 'number_of_clusters'])\n",
    "dbscan_data.sort_values(by = 'sil_score')"
   ]
  },
  {
   "cell_type": "code",
   "execution_count": 45,
   "metadata": {},
   "outputs": [
    {
     "data": {
      "text/plain": [
       "Text(0, 0.5, 'silhouette')"
      ]
     },
     "execution_count": 45,
     "metadata": {},
     "output_type": "execute_result"
    },
    {
     "data": {
      "image/png": "[encoded data removed]",
      "text/plain": [
       "<Figure size 432x288 with 1 Axes>"
      ]
     },
     "metadata": {
      "needs_background": "light"
     },
     "output_type": "display_data"
    }
   ],
   "source": [
    "agglomer_model = AgglomerativeClustering()\n",
    "\n",
    "def get_silhouette(n_cluster, X):\n",
    "    agglomer_model = AgglomerativeClustering(n_clusters=n_cluster)\n",
    "    agglomer_model.fit(X)\n",
    "    silhouette = metrics.silhouette_score(X, agglomer_model.labels_, metric='euclidean')\n",
    "    return silhouette\n",
    "\n",
    "silhouette_list = []\n",
    "for n_cluster in range(3, 10):\n",
    "    silhouette_list.append(get_silhouette(n_cluster, X_norm))\n",
    "\n",
    "plt.plot([i for i in range(3, 10)], silhouette_list, 'xb-')\n",
    "plt.xlabel('cluster', fontsize=12)\n",
    "plt.ylabel('silhouette', fontsize=12)"
   ]
  },
  {
   "cell_type": "code",
   "execution_count": 48,
   "metadata": {},
   "outputs": [
    {
     "data": {
      "text/plain": [
       "1    8921\n",
       "2      18\n",
       "0       5\n",
       "4       4\n",
       "3       1\n",
       "5       1\n",
       "Name: label, dtype: int64"
      ]
     },
     "execution_count": 48,
     "metadata": {},
     "output_type": "execute_result"
    }
   ],
   "source": [
    "agglomer_model = AgglomerativeClustering(linkage='average', affinity='euclidean', n_clusters=6)\n",
    "agglomer_model.fit(X_norm)\n",
    "data.loc[:, 'label'] = agglomer_model.labels_\n",
    "data['label'].value_counts()"
   ]
  },
  {
   "cell_type": "code",
   "execution_count": 50,
   "metadata": {},
   "outputs": [
    {
     "data": {
      "image/png": "[encoded data removed]",
      "text/plain": [
       "<Figure size 720x432 with 1 Axes>"
      ]
     },
     "metadata": {
      "needs_background": "light"
     },
     "output_type": "display_data"
    }
   ],
   "source": [
    "kmeans_model = KMeans(n_clusters=3, random_state=42)\n",
    "kmeans_model.fit(X_norm)\n",
    "data['cluster'] = kmeans_model.labels_\n",
    "plt.figure(figsize=(10,6))\n",
    "sns.scatterplot(data=data, x='CREDIT_LIMIT', y='PURCHASES', hue='cluster')\n",
    "plt.show()"
   ]
  },
  {
   "attachments": {},
   "cell_type": "markdown",
   "metadata": {},
   "source": [
    "### MATH&ML-11. Кластеризация и техники понижения размерности. Часть II\n",
    "#### 4. Меры качества кластеризации. Практика"
   ]
  },
  {
   "cell_type": "code",
   "execution_count": 1,
   "metadata": {},
   "outputs": [],
   "source": [
    "import pandas as pd\n",
    "import numpy as np\n",
    "from sklearn import metrics"
   ]
  },
  {
   "cell_type": "code",
   "execution_count": 6,
   "metadata": {},
   "outputs": [],
   "source": [
    "X_train = np.loadtxt('data/Physical Activity Data/train.txt')\n",
    "X_test = np.loadtxt('data/Physical Activity Data/test.txt')\n",
    "y_train = np.loadtxt('data/Physical Activity Data/train_labels.txt')\n",
    "y_test = np.loadtxt('data/Physical Activity Data/test_labels.txt')"
   ]
  },
  {
   "cell_type": "code",
   "execution_count": 10,
   "metadata": {},
   "outputs": [
    {
     "data": {
      "text/plain": [
       "(10299, 561)"
      ]
     },
     "execution_count": 10,
     "metadata": {},
     "output_type": "execute_result"
    }
   ],
   "source": [
    "X = np.concatenate((X_train, X_test))\n",
    "y = np.concatenate((y_train, y_test))\n",
    "X.shape"
   ]
  },
  {
   "cell_type": "code",
   "execution_count": 12,
   "metadata": {},
   "outputs": [
    {
     "data": {
      "text/plain": [
       "array([1., 2., 3., 4., 5., 6.])"
      ]
     },
     "execution_count": 12,
     "metadata": {},
     "output_type": "execute_result"
    }
   ],
   "source": [
    "np.unique(y)"
   ]
  },
  {
   "cell_type": "code",
   "execution_count": 17,
   "metadata": {},
   "outputs": [
    {
     "data": {
      "text/plain": [
       "0.21"
      ]
     },
     "execution_count": 17,
     "metadata": {},
     "output_type": "execute_result"
    }
   ],
   "source": [
    "from sklearn.preprocessing import StandardScaler\n",
    "\n",
    "scaler = StandardScaler()\n",
    "X_scaled = scaler.fit_transform(X)\n",
    "round(X_scaled[0][0],2)"
   ]
  },
  {
   "cell_type": "code",
   "execution_count": 20,
   "metadata": {},
   "outputs": [
    {
     "name": "stdout",
     "output_type": "stream",
     "text": [
      "[0.3937324764077081, 0.31548375272734164, 0.15052911849826184, 0.12723671885995458, 0.11096892121098482, 0.08541910378666204, 0.07618332955957027, 0.07648837092046105]\n",
      "[7880.813903657111, 5034.4752572242, 3696.3381978005555, 3027.0761722557045, 2556.7735736855657, 2216.563937360621, 1974.9714963243528, 1790.9531728187399]\n",
      "[1.070744182238566, 1.7865164653652823, 2.340930104045465, 2.431375173184107, 2.367036374724895, 2.6819795075319037, 2.611225993977313, 2.5818882774756027]\n"
     ]
    }
   ],
   "source": [
    "from sklearn.cluster import KMeans\n",
    "\n",
    "def get_silhouette(n_clusters, X):\n",
    "    kmeans_model = KMeans(n_clusters=n_clusters, init='k-means++', random_state=42)\n",
    "    kmeans_model.fit(X)\n",
    "    silhouette = metrics.silhouette_score(X_scaled, kmeans_model.labels_)\n",
    "    return silhouette\n",
    "\n",
    "def get_calinski_harabasz(n_clusters, X):\n",
    "    kmeans_model = KMeans(n_clusters=n_clusters, init='k-means++', random_state=42)\n",
    "    kmeans_model.fit(X)\n",
    "    calinski_harabasz = metrics.calinski_harabasz_score(X_scaled, kmeans_model.labels_)\n",
    "    return calinski_harabasz\n",
    "\n",
    "def get_davies_bouldin(n_clusters, X):\n",
    "    kmeans_model = KMeans(n_clusters=n_clusters, init='k-means++', random_state=42)\n",
    "    kmeans_model.fit(X)\n",
    "    davies_bouldin = metrics.davies_bouldin_score(X_scaled, kmeans_model.labels_)\n",
    "    return davies_bouldin\n",
    "\n",
    "silhouette_list = []\n",
    "calinski_harabasz_list = []\n",
    "davies_bouldin_list = []\n",
    "for n_cluster in range(2, 10):\n",
    "    silhouette_list.append(get_silhouette(n_cluster, X_scaled))\n",
    "    calinski_harabasz_list.append(get_calinski_harabasz(n_cluster, X_scaled))\n",
    "    davies_bouldin_list.append(get_davies_bouldin(n_cluster, X_scaled))\n",
    "    \n",
    "print(silhouette_list)\n",
    "print(calinski_harabasz_list)\n",
    "print(davies_bouldin_list)"
   ]
  },
  {
   "cell_type": "code",
   "execution_count": 26,
   "metadata": {},
   "outputs": [
    {
     "name": "stdout",
     "output_type": "stream",
     "text": [
      "0.54\n",
      "0.58\n",
      "0.42\n"
     ]
    }
   ],
   "source": [
    "#определяем модель k-means\n",
    "model= KMeans(n_clusters=6, init='random', random_state=42)\n",
    "model.fit(X_scaled)\n",
    "y_pred = model.labels_\n",
    "print(round(metrics.homogeneity_score(y, y_pred),2))\n",
    "print(round(metrics.completeness_score(y, y_pred),2))\n",
    "print(round(metrics.adjusted_rand_score(y, y_pred),2))"
   ]
  },
  {
   "cell_type": "code",
   "execution_count": 27,
   "metadata": {},
   "outputs": [
    {
     "data": {
      "text/html": [
       "<div>\n",
       "<style scoped>\n",
       "    .dataframe tbody tr th:only-of-type {\n",
       "        vertical-align: middle;\n",
       "    }\n",
       "\n",
       "    .dataframe tbody tr th {\n",
       "        vertical-align: top;\n",
       "    }\n",
       "\n",
       "    .dataframe thead th {\n",
       "        text-align: right;\n",
       "    }\n",
       "</style>\n",
       "<table border=\"1\" class=\"dataframe\">\n",
       "  <thead>\n",
       "    <tr style=\"text-align: right;\">\n",
       "      <th></th>\n",
       "      <th>1</th>\n",
       "      <th>2</th>\n",
       "      <th>3</th>\n",
       "      <th>4</th>\n",
       "      <th>5</th>\n",
       "      <th>6</th>\n",
       "    </tr>\n",
       "  </thead>\n",
       "  <tbody>\n",
       "    <tr>\n",
       "      <th>ходьба</th>\n",
       "      <td>0</td>\n",
       "      <td>0</td>\n",
       "      <td>903</td>\n",
       "      <td>78</td>\n",
       "      <td>741</td>\n",
       "      <td>0</td>\n",
       "    </tr>\n",
       "    <tr>\n",
       "      <th>подъём</th>\n",
       "      <td>0</td>\n",
       "      <td>0</td>\n",
       "      <td>1242</td>\n",
       "      <td>5</td>\n",
       "      <td>295</td>\n",
       "      <td>2</td>\n",
       "    </tr>\n",
       "    <tr>\n",
       "      <th>спуск</th>\n",
       "      <td>0</td>\n",
       "      <td>0</td>\n",
       "      <td>321</td>\n",
       "      <td>196</td>\n",
       "      <td>889</td>\n",
       "      <td>0</td>\n",
       "    </tr>\n",
       "    <tr>\n",
       "      <th>сидение</th>\n",
       "      <td>91</td>\n",
       "      <td>1238</td>\n",
       "      <td>1</td>\n",
       "      <td>0</td>\n",
       "      <td>0</td>\n",
       "      <td>447</td>\n",
       "    </tr>\n",
       "    <tr>\n",
       "      <th>стояние</th>\n",
       "      <td>0</td>\n",
       "      <td>1346</td>\n",
       "      <td>0</td>\n",
       "      <td>0</td>\n",
       "      <td>0</td>\n",
       "      <td>560</td>\n",
       "    </tr>\n",
       "    <tr>\n",
       "      <th>лежание</th>\n",
       "      <td>1556</td>\n",
       "      <td>54</td>\n",
       "      <td>5</td>\n",
       "      <td>0</td>\n",
       "      <td>0</td>\n",
       "      <td>329</td>\n",
       "    </tr>\n",
       "  </tbody>\n",
       "</table>\n",
       "</div>"
      ],
      "text/plain": [
       "            1     2     3    4    5    6\n",
       "ходьба      0     0   903   78  741    0\n",
       "подъём      0     0  1242    5  295    2\n",
       "спуск       0     0   321  196  889    0\n",
       "сидение    91  1238     1    0    0  447\n",
       "стояние     0  1346     0    0    0  560\n",
       "лежание  1556    54     5    0    0  329"
      ]
     },
     "execution_count": 27,
     "metadata": {},
     "output_type": "execute_result"
    }
   ],
   "source": [
    "#создаём таблицу сопряжённости\n",
    "ct = pd.crosstab(y, y_pred)\n",
    "#определяем название активностей\n",
    "ct.index = ['ходьба', 'подъём', \n",
    "             'спуск', 'сидение', 'стояние', 'лежание']\n",
    "ct.columns = list(range(1,7))\n",
    "ct"
   ]
  },
  {
   "cell_type": "code",
   "execution_count": 28,
   "metadata": {},
   "outputs": [
    {
     "data": {
      "text/html": [
       "<div>\n",
       "<style scoped>\n",
       "    .dataframe tbody tr th:only-of-type {\n",
       "        vertical-align: middle;\n",
       "    }\n",
       "\n",
       "    .dataframe tbody tr th {\n",
       "        vertical-align: top;\n",
       "    }\n",
       "\n",
       "    .dataframe thead th {\n",
       "        text-align: right;\n",
       "    }\n",
       "</style>\n",
       "<table border=\"1\" class=\"dataframe\">\n",
       "  <thead>\n",
       "    <tr style=\"text-align: right;\">\n",
       "      <th></th>\n",
       "      <th>1</th>\n",
       "      <th>2</th>\n",
       "    </tr>\n",
       "  </thead>\n",
       "  <tbody>\n",
       "    <tr>\n",
       "      <th>ходьба</th>\n",
       "      <td>1722</td>\n",
       "      <td>0</td>\n",
       "    </tr>\n",
       "    <tr>\n",
       "      <th>подъём</th>\n",
       "      <td>1536</td>\n",
       "      <td>8</td>\n",
       "    </tr>\n",
       "    <tr>\n",
       "      <th>спуск</th>\n",
       "      <td>1406</td>\n",
       "      <td>0</td>\n",
       "    </tr>\n",
       "    <tr>\n",
       "      <th>сидение</th>\n",
       "      <td>3</td>\n",
       "      <td>1774</td>\n",
       "    </tr>\n",
       "    <tr>\n",
       "      <th>стояние</th>\n",
       "      <td>0</td>\n",
       "      <td>1906</td>\n",
       "    </tr>\n",
       "    <tr>\n",
       "      <th>лежание</th>\n",
       "      <td>12</td>\n",
       "      <td>1932</td>\n",
       "    </tr>\n",
       "  </tbody>\n",
       "</table>\n",
       "</div>"
      ],
      "text/plain": [
       "            1     2\n",
       "ходьба   1722     0\n",
       "подъём   1536     8\n",
       "спуск    1406     0\n",
       "сидение     3  1774\n",
       "стояние     0  1906\n",
       "лежание    12  1932"
      ]
     },
     "execution_count": 28,
     "metadata": {},
     "output_type": "execute_result"
    }
   ],
   "source": [
    "#определяем модель k-means\n",
    "model= KMeans(n_clusters=2, init='random', random_state=42)\n",
    "model.fit(X_scaled)\n",
    "y_pred = model.labels_\n",
    "#создаём таблицу сопряжённости\n",
    "ct = pd.crosstab(y, y_pred)\n",
    "#определяем название активностей\n",
    "ct.index = ['ходьба', 'подъём', \n",
    "             'спуск', 'сидение', 'стояние', 'лежание']\n",
    "ct.columns = list(range(1,3))\n",
    "ct"
   ]
  },
  {
   "cell_type": "code",
   "execution_count": 30,
   "metadata": {},
   "outputs": [
    {
     "name": "stdout",
     "output_type": "stream",
     "text": [
      "0.98\n"
     ]
    }
   ],
   "source": [
    "print(round(metrics.completeness_score(y, y_pred),2))"
   ]
  },
  {
   "cell_type": "code",
   "execution_count": 31,
   "metadata": {},
   "outputs": [
    {
     "name": "stdout",
     "output_type": "stream",
     "text": [
      "1.0\n"
     ]
    }
   ],
   "source": [
    "from sklearn.cluster import AgglomerativeClustering\n",
    "agglomer_clust_model = AgglomerativeClustering(n_clusters=2)\n",
    "agglomer_clust_model.fit(X_scaled)\n",
    "y_pred = agglomer_clust_model.labels_\n",
    "\n",
    "print(round(metrics.completeness_score(y, y_pred),2))"
   ]
  }
 ],
 "metadata": {
  "kernelspec": {
   "display_name": "Python 3.10.3 64-bit",
   "language": "python",
   "name": "python3"
  },
  "language_info": {
   "codemirror_mode": {
    "name": "ipython",
    "version": 3
   },
   "file_extension": ".py",
   "mimetype": "text/x-python",
   "name": "python",
   "nbconvert_exporter": "python",
   "pygments_lexer": "ipython3",
   "version": "3.10.3 (v3.10.3:a342a49189, Mar 16 2022, 09:34:18) [Clang 13.0.0 (clang-1300.0.29.30)]"
  },
  "orig_nbformat": 4,
  "vscode": {
   "interpreter": {
    "hash": "aee8b7b246df8f9039afb4144a1f6fd8d2ca17a180786b69acc140d282b71a49"
   }
  }
 },
 "nbformat": 4,
 "nbformat_minor": 2
}
