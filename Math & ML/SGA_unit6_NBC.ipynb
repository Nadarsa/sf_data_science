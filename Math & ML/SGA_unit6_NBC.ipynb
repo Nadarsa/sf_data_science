{
  "cells": [
    {
      "cell_type": "markdown",
      "id": "00009cca",
      "metadata": {
        "id": "00009cca"
      },
      "source": [
        "# Классификация текстов с использованием Наивного Байесовского Классификатора"
      ]
    },
    {
      "cell_type": "markdown",
      "id": "a52414b8",
      "metadata": {
        "id": "a52414b8"
      },
      "source": [
        "## Задание 1 (1 балл)"
      ]
    },
    {
      "cell_type": "markdown",
      "id": "f5f27b43",
      "metadata": {
        "id": "f5f27b43"
      },
      "source": [
        "Откройте данные. Узнайте, сколько в них спам- и не спам-писем. Визуализируйте полученные соотношение подходящим образом."
      ]
    },
    {
      "cell_type": "code",
      "execution_count": 72,
      "id": "ac369274",
      "metadata": {
        "id": "ac369274"
      },
      "outputs": [
        {
          "data": {
            "text/html": [
              "<div>\n",
              "<style scoped>\n",
              "    .dataframe tbody tr th:only-of-type {\n",
              "        vertical-align: middle;\n",
              "    }\n",
              "\n",
              "    .dataframe tbody tr th {\n",
              "        vertical-align: top;\n",
              "    }\n",
              "\n",
              "    .dataframe thead th {\n",
              "        text-align: right;\n",
              "    }\n",
              "</style>\n",
              "<table border=\"1\" class=\"dataframe\">\n",
              "  <thead>\n",
              "    <tr style=\"text-align: right;\">\n",
              "      <th></th>\n",
              "      <th>email</th>\n",
              "      <th>label</th>\n",
              "    </tr>\n",
              "  </thead>\n",
              "  <tbody>\n",
              "    <tr>\n",
              "      <th>0</th>\n",
              "      <td>date wed NUMBER aug NUMBER NUMBER NUMBER NUMB...</td>\n",
              "      <td>0</td>\n",
              "    </tr>\n",
              "    <tr>\n",
              "      <th>1</th>\n",
              "      <td>martin a posted tassos papadopoulos the greek ...</td>\n",
              "      <td>0</td>\n",
              "    </tr>\n",
              "    <tr>\n",
              "      <th>2</th>\n",
              "      <td>man threatens explosion in moscow thursday aug...</td>\n",
              "      <td>0</td>\n",
              "    </tr>\n",
              "    <tr>\n",
              "      <th>3</th>\n",
              "      <td>klez the virus that won t die already the most...</td>\n",
              "      <td>0</td>\n",
              "    </tr>\n",
              "    <tr>\n",
              "      <th>4</th>\n",
              "      <td>in adding cream to spaghetti carbonara which ...</td>\n",
              "      <td>0</td>\n",
              "    </tr>\n",
              "  </tbody>\n",
              "</table>\n",
              "</div>"
            ],
            "text/plain": [
              "                                               email  label\n",
              "0   date wed NUMBER aug NUMBER NUMBER NUMBER NUMB...      0\n",
              "1  martin a posted tassos papadopoulos the greek ...      0\n",
              "2  man threatens explosion in moscow thursday aug...      0\n",
              "3  klez the virus that won t die already the most...      0\n",
              "4   in adding cream to spaghetti carbonara which ...      0"
            ]
          },
          "execution_count": 72,
          "metadata": {},
          "output_type": "execute_result"
        }
      ],
      "source": [
        "import pandas as pd\n",
        "import numpy as np\n",
        "\n",
        "data = pd.read_csv('data/spam_or_not_spam.csv')\n",
        "data.head()"
      ]
    },
    {
      "cell_type": "code",
      "execution_count": 73,
      "id": "f4231781",
      "metadata": {
        "id": "f4231781"
      },
      "outputs": [
        {
          "name": "stdout",
          "output_type": "stream",
          "text": [
            "Количество спам-писем 500\n",
            "Количество не спам-писем 2500\n"
          ]
        }
      ],
      "source": [
        "print('Количество спам-писем', data[data['label'] == 1]['label'].count())\n",
        "print('Количество не спам-писем', data[data['label'] == 0]['label'].count())"
      ]
    },
    {
      "cell_type": "code",
      "execution_count": 74,
      "id": "9b871636",
      "metadata": {
        "id": "9b871636"
      },
      "outputs": [
        {
          "data": {
            "text/plain": [
              "0    0.833333\n",
              "1    0.166667\n",
              "Name: label, dtype: float64"
            ]
          },
          "metadata": {},
          "output_type": "display_data"
        },
        {
          "data": {
            "image/png": "[encoded data removed]",
            "text/plain": [
              "<Figure size 432x288 with 1 Axes>"
            ]
          },
          "metadata": {
            "needs_background": "light"
          },
          "output_type": "display_data"
        }
      ],
      "source": [
        "import seaborn as sns\n",
        "\n",
        "display(data['label'].value_counts(normalize=True))\n",
        "sns.countplot(data=data, x='label');"
      ]
    },
    {
      "cell_type": "markdown",
      "id": "b161614b",
      "metadata": {
        "id": "b161614b"
      },
      "source": [
        "## Задание 2 (2 балла)"
      ]
    },
    {
      "cell_type": "markdown",
      "id": "dd29763b",
      "metadata": {
        "id": "dd29763b"
      },
      "source": [
        "Вам необходимо предобработать ваши данные и перевести их в векторный вид. Подгрузим необходимый модуль:"
      ]
    },
    {
      "cell_type": "code",
      "execution_count": 75,
      "id": "382eac9c",
      "metadata": {
        "id": "382eac9c"
      },
      "outputs": [],
      "source": [
        "from sklearn.feature_extraction.text import CountVectorizer"
      ]
    },
    {
      "cell_type": "markdown",
      "id": "89546b95",
      "metadata": {
        "id": "89546b95"
      },
      "source": [
        "Замените все пустоты (пустые строки) в данных на пропуски (NaN). После этого удалите из данных все строки, в которых наблюдаются пропущенные значения."
      ]
    },
    {
      "cell_type": "code",
      "execution_count": 76,
      "id": "45180f82",
      "metadata": {
        "id": "45180f82"
      },
      "outputs": [
        {
          "name": "stdout",
          "output_type": "stream",
          "text": [
            "<class 'pandas.core.frame.DataFrame'>\n",
            "RangeIndex: 3000 entries, 0 to 2999\n",
            "Data columns (total 2 columns):\n",
            " #   Column  Non-Null Count  Dtype \n",
            "---  ------  --------------  ----- \n",
            " 0   email   2999 non-null   object\n",
            " 1   label   3000 non-null   int64 \n",
            "dtypes: int64(1), object(1)\n",
            "memory usage: 47.0+ KB\n",
            "None\n",
            "<class 'pandas.core.frame.DataFrame'>\n",
            "Int64Index: 2999 entries, 0 to 2999\n",
            "Data columns (total 2 columns):\n",
            " #   Column  Non-Null Count  Dtype \n",
            "---  ------  --------------  ----- \n",
            " 0   email   2999 non-null   object\n",
            " 1   label   2999 non-null   int64 \n",
            "dtypes: int64(1), object(1)\n",
            "memory usage: 70.3+ KB\n",
            "None\n"
          ]
        }
      ],
      "source": [
        "print(data.info()) # Проверяем датасет на наличие пропущенных значений\n",
        "data = data.fillna(np.nan)\n",
        "data = data.dropna()\n",
        "\n",
        "print(data.info()) # Контрольная проверка"
      ]
    },
    {
      "cell_type": "markdown",
      "id": "2ca2fe88",
      "metadata": {
        "id": "2ca2fe88"
      },
      "source": [
        "Переводим данные в векторный вид:"
      ]
    },
    {
      "cell_type": "code",
      "execution_count": 77,
      "id": "29e9a37b",
      "metadata": {
        "id": "29e9a37b"
      },
      "outputs": [],
      "source": [
        "vectorizer = CountVectorizer()\n",
        "X = vectorizer.fit_transform(data[\"email\"])"
      ]
    },
    {
      "cell_type": "markdown",
      "id": "88c8b726",
      "metadata": {
        "id": "88c8b726"
      },
      "source": [
        "Определите, сколько теперь признаков в нашем наборе данных:"
      ]
    },
    {
      "cell_type": "code",
      "execution_count": 78,
      "id": "f19c2a02",
      "metadata": {
        "id": "f19c2a02"
      },
      "outputs": [
        {
          "name": "stdout",
          "output_type": "stream",
          "text": [
            "Количество признаков после преобразования данных в векторный вид 34116\n"
          ]
        }
      ],
      "source": [
        "print('Количество признаков после преобразования данных в векторный вид', X.shape[1])"
      ]
    },
    {
      "cell_type": "markdown",
      "id": "1803f282",
      "metadata": {
        "id": "1803f282"
      },
      "source": [
        "## Задание 3 (2 балла)"
      ]
    },
    {
      "cell_type": "markdown",
      "id": "39f400b7",
      "metadata": {
        "id": "39f400b7"
      },
      "source": [
        "Определите целевую переменную и признаки:"
      ]
    },
    {
      "cell_type": "code",
      "execution_count": 79,
      "id": "31f1acb6",
      "metadata": {
        "id": "31f1acb6"
      },
      "outputs": [],
      "source": [
        "y = data['label']\n",
        "X_data = X\n"
      ]
    },
    {
      "cell_type": "markdown",
      "id": "b20f273e",
      "metadata": {
        "id": "b20f273e"
      },
      "source": [
        "Разделите выборку на обучающую и тестовую, размер тестовой выборки возьмите как 0.25, параметр random_state определите со значением 42:"
      ]
    },
    {
      "cell_type": "code",
      "execution_count": 80,
      "id": "96538fb6",
      "metadata": {
        "id": "96538fb6"
      },
      "outputs": [],
      "source": [
        "from sklearn.model_selection import train_test_split\n",
        "X_train, X_test, y_train, y_test = train_test_split(X, y, test_size=0.25, random_state=42)"
      ]
    },
    {
      "cell_type": "markdown",
      "id": "139dac3d",
      "metadata": {
        "id": "139dac3d"
      },
      "source": [
        "Рассчитайте среднее значение целевой переменной по тестовой выборке:"
      ]
    },
    {
      "cell_type": "code",
      "execution_count": 81,
      "id": "e9baf72d",
      "metadata": {
        "id": "e9baf72d"
      },
      "outputs": [
        {
          "name": "stdout",
          "output_type": "stream",
          "text": [
            "Среднее значение целевой переменной по тестовой выборке 0.164\n"
          ]
        }
      ],
      "source": [
        "print('Среднее значение целевой переменной по тестовой выборке', y_test.mean())"
      ]
    },
    {
      "cell_type": "markdown",
      "id": "710e0e94",
      "metadata": {
        "id": "710e0e94"
      },
      "source": [
        "## Задание 4 (3 балла)"
      ]
    },
    {
      "cell_type": "markdown",
      "id": "26cf6885",
      "metadata": {
        "id": "26cf6885"
      },
      "source": [
        "Определите и обучите подходящий алгоритм с параметром alpha = 0.01"
      ]
    },
    {
      "cell_type": "code",
      "execution_count": 82,
      "id": "4865dd78",
      "metadata": {
        "id": "4865dd78"
      },
      "outputs": [],
      "source": [
        "from sklearn.naive_bayes import ComplementNB\n",
        "\n",
        "complement_nb = ComplementNB(alpha=0.01)\n",
        "complement_nb.fit(X_train, y_train)\n",
        "y_train_pred = complement_nb.predict(X_train)\n",
        "y_test_pred = complement_nb.predict(X_test)\n",
        "y_test_pred_proba = complement_nb.predict_proba(X_test)"
      ]
    },
    {
      "cell_type": "markdown",
      "id": "d803fbe3",
      "metadata": {
        "id": "d803fbe3"
      },
      "source": [
        "Оцените результат с точки зрения всех известных вам метрик (не менее трёх):"
      ]
    },
    {
      "cell_type": "code",
      "execution_count": 83,
      "id": "b0bbc4d2",
      "metadata": {
        "id": "b0bbc4d2"
      },
      "outputs": [
        {
          "name": "stdout",
          "output_type": "stream",
          "text": [
            "Accuracy на тестовой выборке 0.995\n",
            "Precision на тестовой выборке 0.984\n",
            "Recall на тестовой выборке 0.984\n",
            "F1-score на тестовой выборке 0.984\n"
          ]
        }
      ],
      "source": [
        "from sklearn import metrics\n",
        "\n",
        "print('Accuracy на тестовой выборке', round(metrics.accuracy_score(y_test, y_test_pred), 3))\n",
        "print('Precision на тестовой выборке', round(metrics.precision_score(y_test, y_test_pred), 3))\n",
        "print('Recall на тестовой выборке', round(metrics.recall_score(y_test, y_test_pred), 3))\n",
        "print('F1-score на тестовой выборке', round(metrics.f1_score(y_test, y_test_pred), 3))"
      ]
    },
    {
      "cell_type": "markdown",
      "id": "c85976d1",
      "metadata": {
        "id": "c85976d1"
      },
      "source": [
        "Нарисуйте ROC-кривую:"
      ]
    },
    {
      "cell_type": "code",
      "execution_count": 84,
      "id": "b4195126",
      "metadata": {
        "id": "b4195126"
      },
      "outputs": [
        {
          "data": {
            "image/png": "[encoded data removed]",
            "text/plain": [
              "<Figure size 432x288 with 1 Axes>"
            ]
          },
          "metadata": {
            "needs_background": "light"
          },
          "output_type": "display_data"
        },
        {
          "name": "stdout",
          "output_type": "stream",
          "text": [
            "No Skill: ROC AUC=0.98683\n",
            "Naive Bayes: ROC AUC=0.50000\n"
          ]
        }
      ],
      "source": [
        "from sklearn.metrics import roc_curve, auc\n",
        "from sklearn.metrics import roc_auc_score\n",
        "import matplotlib.pyplot as plt\n",
        "\n",
        "fpr = dict()\n",
        "tpr = dict()\n",
        "roc_auc = dict()\n",
        "\n",
        "fpr, tpr, _ = roc_curve(y_test, y_test_pred_proba[:,1], drop_intermediate=False)\n",
        "roc_auc = auc(fpr, tpr)\n",
        "\n",
        "\n",
        "plt.figure()\n",
        "plt.plot(fpr, tpr, color=\"cornflowerblue\", lw=4,  label=\"ROC curve\")\n",
        "plt.plot([0, 1], [0, 1], color=\"indigo\", lw=2, linestyle=\"--\")\n",
        "plt.xlim([0.0, 1.0])\n",
        "plt.ylim([0.0, 1.05])\n",
        "plt.xlabel(\"False Positive Rate\")\n",
        "plt.ylabel(\"True Positive Rate\")\n",
        "plt.title(\"ROC\")\n",
        "plt.legend(loc=\"lower right\")\n",
        "plt.show()\n",
        "\n",
        "print('No Skill: ROC AUC=%.5f' % (roc_auc))\n",
        "print('Naive Bayes: ROC AUC=%.5f' % 0.5)"
      ]
    },
    {
      "cell_type": "markdown",
      "id": "cf0bb49b",
      "metadata": {
        "id": "cf0bb49b"
      },
      "source": [
        "## Задание 5 (3 балла)"
      ]
    },
    {
      "cell_type": "markdown",
      "id": "30b7a0ae",
      "metadata": {
        "id": "30b7a0ae"
      },
      "source": [
        "Переберите несколько значений alpha с помощью кросс-валидации. Оцените, зависит ли от этого параметра качество классификации."
      ]
    },
    {
      "cell_type": "code",
      "execution_count": 85,
      "id": "3513d907",
      "metadata": {
        "id": "3513d907"
      },
      "outputs": [
        {
          "name": "stderr",
          "output_type": "stream",
          "text": [
            "/Library/Frameworks/Python.framework/Versions/3.10/lib/python3.10/site-packages/sklearn/naive_bayes.py:591: UserWarning: alpha too small will result in numeric errors, setting alpha = 1.0e-10\n",
            "  warnings.warn(\n",
            "/Library/Frameworks/Python.framework/Versions/3.10/lib/python3.10/site-packages/sklearn/naive_bayes.py:591: UserWarning: alpha too small will result in numeric errors, setting alpha = 1.0e-10\n",
            "  warnings.warn(\n",
            "/Library/Frameworks/Python.framework/Versions/3.10/lib/python3.10/site-packages/sklearn/naive_bayes.py:591: UserWarning: alpha too small will result in numeric errors, setting alpha = 1.0e-10\n",
            "  warnings.warn(\n",
            "/Library/Frameworks/Python.framework/Versions/3.10/lib/python3.10/site-packages/sklearn/naive_bayes.py:591: UserWarning: alpha too small will result in numeric errors, setting alpha = 1.0e-10\n",
            "  warnings.warn(\n",
            "/Library/Frameworks/Python.framework/Versions/3.10/lib/python3.10/site-packages/sklearn/naive_bayes.py:591: UserWarning: alpha too small will result in numeric errors, setting alpha = 1.0e-10\n",
            "  warnings.warn(\n"
          ]
        },
        {
          "name": "stdout",
          "output_type": "stream",
          "text": [
            "Наилучшие значения параметров: {'alpha': 0.1}\n",
            "F1-score на тестовой выборке 0.9877551020408164\n"
          ]
        },
        {
          "data": {
            "image/png": "[encoded data removed]",
            "text/plain": [
              "<Figure size 720x360 with 1 Axes>"
            ]
          },
          "metadata": {
            "needs_background": "light"
          },
          "output_type": "display_data"
        }
      ],
      "source": [
        "from sklearn.model_selection import GridSearchCV\n",
        "\n",
        "param_grid = {'alpha': [0, 0.0001, 0.001, 0.01, 0.1, 0.2, 0.3]}\n",
        "\n",
        "grid_search = GridSearchCV(\n",
        "    estimator=ComplementNB(), \n",
        "    param_grid=param_grid, \n",
        "    cv=5, \n",
        "    n_jobs = -1,\n",
        "    scoring='f1'\n",
        ")\n",
        "grid_search.fit(X_train, y_train) \n",
        "print(\"Наилучшие значения параметров: {}\".format(grid_search.best_params_))\n",
        "\n",
        "y_test_pred = grid_search.predict(X_test)\n",
        "y_test_pred_proba = grid_search.predict_proba(X_test)\n",
        "print('F1-score на тестовой выборке', metrics.f1_score(y_test, y_test_pred))\n",
        "\n",
        "fig, ax = plt.subplots(figsize=(10, 5))\n",
        "sns.lineplot(x=param_grid['alpha'], y=grid_search.cv_results_['mean_test_score'])\n",
        "ax.set_xlabel('alpha')\n",
        "ax.set_ylabel('mean_test_score')\n",
        "ax.grid()"
      ]
    },
    {
      "cell_type": "markdown",
      "id": "967291d0",
      "metadata": {},
      "source": [
        "Анализируя график средней метрики качества на тестовой выборке, можно увидеть, что до параметра alpha=0.1 включительно кривая растет, а после alpha=0.2 начинает убывать. То есть от параметра alpha зависит качество классификации."
      ]
    }
  ],
  "metadata": {
    "colab": {
      "name": "SGA_unit6_NBC.ipynb",
      "provenance": []
    },
    "kernelspec": {
      "display_name": "Python 3.10.3 64-bit",
      "language": "python",
      "name": "python3"
    },
    "language_info": {
      "codemirror_mode": {
        "name": "ipython",
        "version": 3
      },
      "file_extension": ".py",
      "mimetype": "text/x-python",
      "name": "python",
      "nbconvert_exporter": "python",
      "pygments_lexer": "ipython3",
      "version": "3.10.3"
    },
    "vscode": {
      "interpreter": {
        "hash": "aee8b7b246df8f9039afb4144a1f6fd8d2ca17a180786b69acc140d282b71a49"
      }
    }
  },
  "nbformat": 4,
  "nbformat_minor": 5
}
