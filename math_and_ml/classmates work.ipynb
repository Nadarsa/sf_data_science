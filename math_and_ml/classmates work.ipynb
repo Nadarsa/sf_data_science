{
 "cells": [
  {
   "cell_type": "markdown",
   "metadata": {
    "id": "00009cca"
   },
   "source": [
    "# Классификация текстов с использованием Наивного Байесовского Классификатора"
   ]
  },
  {
   "cell_type": "markdown",
   "metadata": {
    "id": "a52414b8"
   },
   "source": [
    "## Задание 1 (1 балл)"
   ]
  },
  {
   "cell_type": "markdown",
   "metadata": {
    "id": "f5f27b43"
   },
   "source": [
    "Откройте данные. Узнайте, сколько в них спам- и не спам-писем. Визуализируйте полученные соотношение подходящим образом."
   ]
  },
  {
   "cell_type": "code",
   "execution_count": 66,
   "metadata": {
    "id": "ac369274",
    "scrolled": true
   },
   "outputs": [
    {
     "data": {
      "text/html": [
       "<div>\n",
       "<style scoped>\n",
       "    .dataframe tbody tr th:only-of-type {\n",
       "        vertical-align: middle;\n",
       "    }\n",
       "\n",
       "    .dataframe tbody tr th {\n",
       "        vertical-align: top;\n",
       "    }\n",
       "\n",
       "    .dataframe thead th {\n",
       "        text-align: right;\n",
       "    }\n",
       "</style>\n",
       "<table border=\"1\" class=\"dataframe\">\n",
       "  <thead>\n",
       "    <tr style=\"text-align: right;\">\n",
       "      <th></th>\n",
       "      <th>email</th>\n",
       "      <th>label</th>\n",
       "    </tr>\n",
       "  </thead>\n",
       "  <tbody>\n",
       "    <tr>\n",
       "      <th>0</th>\n",
       "      <td>date wed NUMBER aug NUMBER NUMBER NUMBER NUMB...</td>\n",
       "      <td>0</td>\n",
       "    </tr>\n",
       "    <tr>\n",
       "      <th>1</th>\n",
       "      <td>martin a posted tassos papadopoulos the greek ...</td>\n",
       "      <td>0</td>\n",
       "    </tr>\n",
       "    <tr>\n",
       "      <th>2</th>\n",
       "      <td>man threatens explosion in moscow thursday aug...</td>\n",
       "      <td>0</td>\n",
       "    </tr>\n",
       "    <tr>\n",
       "      <th>3</th>\n",
       "      <td>klez the virus that won t die already the most...</td>\n",
       "      <td>0</td>\n",
       "    </tr>\n",
       "    <tr>\n",
       "      <th>4</th>\n",
       "      <td>in adding cream to spaghetti carbonara which ...</td>\n",
       "      <td>0</td>\n",
       "    </tr>\n",
       "    <tr>\n",
       "      <th>...</th>\n",
       "      <td>...</td>\n",
       "      <td>...</td>\n",
       "    </tr>\n",
       "    <tr>\n",
       "      <th>2995</th>\n",
       "      <td>abc s good morning america ranks it the NUMBE...</td>\n",
       "      <td>1</td>\n",
       "    </tr>\n",
       "    <tr>\n",
       "      <th>2996</th>\n",
       "      <td>hyperlink hyperlink hyperlink let mortgage le...</td>\n",
       "      <td>1</td>\n",
       "    </tr>\n",
       "    <tr>\n",
       "      <th>2997</th>\n",
       "      <td>thank you for shopping with us gifts for all ...</td>\n",
       "      <td>1</td>\n",
       "    </tr>\n",
       "    <tr>\n",
       "      <th>2998</th>\n",
       "      <td>the famous ebay marketing e course learn to s...</td>\n",
       "      <td>1</td>\n",
       "    </tr>\n",
       "    <tr>\n",
       "      <th>2999</th>\n",
       "      <td>hello this is chinese traditional 子 件 NUMBER世...</td>\n",
       "      <td>1</td>\n",
       "    </tr>\n",
       "  </tbody>\n",
       "</table>\n",
       "<p>3000 rows × 2 columns</p>\n",
       "</div>"
      ],
      "text/plain": [
       "                                                  email  label\n",
       "0      date wed NUMBER aug NUMBER NUMBER NUMBER NUMB...      0\n",
       "1     martin a posted tassos papadopoulos the greek ...      0\n",
       "2     man threatens explosion in moscow thursday aug...      0\n",
       "3     klez the virus that won t die already the most...      0\n",
       "4      in adding cream to spaghetti carbonara which ...      0\n",
       "...                                                 ...    ...\n",
       "2995   abc s good morning america ranks it the NUMBE...      1\n",
       "2996   hyperlink hyperlink hyperlink let mortgage le...      1\n",
       "2997   thank you for shopping with us gifts for all ...      1\n",
       "2998   the famous ebay marketing e course learn to s...      1\n",
       "2999   hello this is chinese traditional 子 件 NUMBER世...      1\n",
       "\n",
       "[3000 rows x 2 columns]"
      ]
     },
     "execution_count": 66,
     "metadata": {},
     "output_type": "execute_result"
    }
   ],
   "source": [
    "# откройте данные: ваш код здесь\n",
    "import pandas as pd\n",
    "data = pd.read_csv('spam_or_not_spam.zip', header=0)\n",
    "data"
   ]
  },
  {
   "cell_type": "code",
   "execution_count": 67,
   "metadata": {
    "id": "f4231781"
   },
   "outputs": [
    {
     "data": {
      "text/plain": [
       "0    2500\n",
       "1     500\n",
       "Name: label, dtype: int64"
      ]
     },
     "metadata": {},
     "output_type": "display_data"
    }
   ],
   "source": [
    "# рассчитайте частоты для классов : ваш код здесь\n",
    "display(data['label'].value_counts())"
   ]
  },
  {
   "cell_type": "code",
   "execution_count": 68,
   "metadata": {
    "id": "9b871636"
   },
   "outputs": [
    {
     "data": {
      "image/png": "[encoded data removed]",
      "text/plain": [
       "<Figure size 432x288 with 1 Axes>"
      ]
     },
     "metadata": {
      "needs_background": "light"
     },
     "output_type": "display_data"
    }
   ],
   "source": [
    "# визуализируйте результат: ваш код здесь\n",
    "import matplotlib.pyplot as plt\n",
    "plt.hist(data['label']);"
   ]
  },
  {
   "cell_type": "markdown",
   "metadata": {
    "id": "b161614b"
   },
   "source": [
    "## Задание 2 (2 балла)"
   ]
  },
  {
   "cell_type": "markdown",
   "metadata": {
    "id": "dd29763b"
   },
   "source": [
    "Вам необходимо предобработать ваши данные и перевести их в векторный вид. Подгрузим необходимый модуль:"
   ]
  },
  {
   "cell_type": "code",
   "execution_count": 69,
   "metadata": {
    "id": "382eac9c"
   },
   "outputs": [],
   "source": [
    "from sklearn.feature_extraction.text import CountVectorizer"
   ]
  },
  {
   "cell_type": "markdown",
   "metadata": {
    "id": "89546b95"
   },
   "source": [
    "Замените все пустоты (пустые строки) в данных на пропуски (NaN). После этого удалите из данных все строки, в которых наблюдаются пропущенные значения."
   ]
  },
  {
   "cell_type": "code",
   "execution_count": 70,
   "metadata": {},
   "outputs": [
    {
     "data": {
      "text/plain": [
       "'empty messages: '"
      ]
     },
     "metadata": {},
     "output_type": "display_data"
    },
    {
     "data": {
      "text/plain": [
       "0"
      ]
     },
     "metadata": {},
     "output_type": "display_data"
    },
    {
     "data": {
      "text/plain": [
       "'Nan messages: '"
      ]
     },
     "metadata": {},
     "output_type": "display_data"
    },
    {
     "data": {
      "text/plain": [
       "1"
      ]
     },
     "metadata": {},
     "output_type": "display_data"
    },
    {
     "data": {
      "text/plain": [
       "'after NaN removal: '"
      ]
     },
     "metadata": {},
     "output_type": "display_data"
    },
    {
     "data": {
      "text/html": [
       "<div>\n",
       "<style scoped>\n",
       "    .dataframe tbody tr th:only-of-type {\n",
       "        vertical-align: middle;\n",
       "    }\n",
       "\n",
       "    .dataframe tbody tr th {\n",
       "        vertical-align: top;\n",
       "    }\n",
       "\n",
       "    .dataframe thead th {\n",
       "        text-align: right;\n",
       "    }\n",
       "</style>\n",
       "<table border=\"1\" class=\"dataframe\">\n",
       "  <thead>\n",
       "    <tr style=\"text-align: right;\">\n",
       "      <th></th>\n",
       "      <th>email</th>\n",
       "      <th>label</th>\n",
       "    </tr>\n",
       "  </thead>\n",
       "  <tbody>\n",
       "    <tr>\n",
       "      <th>0</th>\n",
       "      <td>date wed NUMBER aug NUMBER NUMBER NUMBER NUMB...</td>\n",
       "      <td>0</td>\n",
       "    </tr>\n",
       "    <tr>\n",
       "      <th>1</th>\n",
       "      <td>martin a posted tassos papadopoulos the greek ...</td>\n",
       "      <td>0</td>\n",
       "    </tr>\n",
       "    <tr>\n",
       "      <th>2</th>\n",
       "      <td>man threatens explosion in moscow thursday aug...</td>\n",
       "      <td>0</td>\n",
       "    </tr>\n",
       "    <tr>\n",
       "      <th>3</th>\n",
       "      <td>klez the virus that won t die already the most...</td>\n",
       "      <td>0</td>\n",
       "    </tr>\n",
       "    <tr>\n",
       "      <th>4</th>\n",
       "      <td>in adding cream to spaghetti carbonara which ...</td>\n",
       "      <td>0</td>\n",
       "    </tr>\n",
       "    <tr>\n",
       "      <th>...</th>\n",
       "      <td>...</td>\n",
       "      <td>...</td>\n",
       "    </tr>\n",
       "    <tr>\n",
       "      <th>2995</th>\n",
       "      <td>abc s good morning america ranks it the NUMBE...</td>\n",
       "      <td>1</td>\n",
       "    </tr>\n",
       "    <tr>\n",
       "      <th>2996</th>\n",
       "      <td>hyperlink hyperlink hyperlink let mortgage le...</td>\n",
       "      <td>1</td>\n",
       "    </tr>\n",
       "    <tr>\n",
       "      <th>2997</th>\n",
       "      <td>thank you for shopping with us gifts for all ...</td>\n",
       "      <td>1</td>\n",
       "    </tr>\n",
       "    <tr>\n",
       "      <th>2998</th>\n",
       "      <td>the famous ebay marketing e course learn to s...</td>\n",
       "      <td>1</td>\n",
       "    </tr>\n",
       "    <tr>\n",
       "      <th>2999</th>\n",
       "      <td>hello this is chinese traditional 子 件 NUMBER世...</td>\n",
       "      <td>1</td>\n",
       "    </tr>\n",
       "  </tbody>\n",
       "</table>\n",
       "<p>2999 rows × 2 columns</p>\n",
       "</div>"
      ],
      "text/plain": [
       "                                                  email  label\n",
       "0      date wed NUMBER aug NUMBER NUMBER NUMBER NUMB...      0\n",
       "1     martin a posted tassos papadopoulos the greek ...      0\n",
       "2     man threatens explosion in moscow thursday aug...      0\n",
       "3     klez the virus that won t die already the most...      0\n",
       "4      in adding cream to spaghetti carbonara which ...      0\n",
       "...                                                 ...    ...\n",
       "2995   abc s good morning america ranks it the NUMBE...      1\n",
       "2996   hyperlink hyperlink hyperlink let mortgage le...      1\n",
       "2997   thank you for shopping with us gifts for all ...      1\n",
       "2998   the famous ebay marketing e course learn to s...      1\n",
       "2999   hello this is chinese traditional 子 件 NUMBER世...      1\n",
       "\n",
       "[2999 rows x 2 columns]"
      ]
     },
     "metadata": {},
     "output_type": "display_data"
    }
   ],
   "source": [
    "#ищем строкис нулевой длиной (ну мао ли):\n",
    "len_mask = data['email'].apply(lambda x: len(str(x)))\n",
    "display('empty messages: ', (len_mask == 0).sum())\n",
    "display('Nan messages: ', data['email'].isna().sum())\n",
    "data = data.dropna()\n",
    "display('after NaN removal: ', data)"
   ]
  },
  {
   "cell_type": "markdown",
   "metadata": {
    "id": "2ca2fe88"
   },
   "source": [
    "Переводим данные в векторный вид:"
   ]
  },
  {
   "cell_type": "code",
   "execution_count": 71,
   "metadata": {
    "id": "29e9a37b"
   },
   "outputs": [
    {
     "data": {
      "text/plain": [
       "<2999x34116 sparse matrix of type '<class 'numpy.int64'>'\n",
       "\twith 348376 stored elements in Compressed Sparse Row format>"
      ]
     },
     "execution_count": 71,
     "metadata": {},
     "output_type": "execute_result"
    }
   ],
   "source": [
    "vectorizer = CountVectorizer()\n",
    "X = vectorizer.fit_transform(data[\"email\"])\n",
    "X"
   ]
  },
  {
   "cell_type": "markdown",
   "metadata": {
    "id": "88c8b726"
   },
   "source": [
    "Определите, сколько теперь признаков в нашем наборе данных:"
   ]
  },
  {
   "cell_type": "code",
   "execution_count": 72,
   "metadata": {
    "id": "f19c2a02",
    "scrolled": true
   },
   "outputs": [
    {
     "data": {
      "text/plain": [
       "(2999, 34116)"
      ]
     },
     "execution_count": 72,
     "metadata": {},
     "output_type": "execute_result"
    }
   ],
   "source": [
    "#ваш код здесь\n",
    "X.shape"
   ]
  },
  {
   "cell_type": "markdown",
   "metadata": {
    "id": "1803f282"
   },
   "source": [
    "## Задание 3 (2 балла)"
   ]
  },
  {
   "cell_type": "markdown",
   "metadata": {
    "id": "39f400b7"
   },
   "source": [
    "Определите целевую переменную и признаки:"
   ]
  },
  {
   "cell_type": "code",
   "execution_count": 73,
   "metadata": {
    "id": "31f1acb6"
   },
   "outputs": [],
   "source": [
    "#ваш код здесь\n",
    "y = data['label']\n"
   ]
  },
  {
   "cell_type": "markdown",
   "metadata": {
    "id": "b20f273e"
   },
   "source": [
    "Разделите выборку на обучающую и тестовую, размер тестовой выборки возьмите как 0.25, параметр random_state определите со значением 42:"
   ]
  },
  {
   "cell_type": "code",
   "execution_count": 74,
   "metadata": {
    "id": "96538fb6",
    "scrolled": true
   },
   "outputs": [],
   "source": [
    "#ваш код здесь\n",
    "from sklearn.model_selection import train_test_split\n",
    "X_train, X_test, y_train, y_test = train_test_split(X, y, test_size=0.25, stratify=y, random_state=42)"
   ]
  },
  {
   "cell_type": "markdown",
   "metadata": {
    "id": "139dac3d"
   },
   "source": [
    "Рассчитайте среднее значение целевой переменной по тестовой выборке:"
   ]
  },
  {
   "cell_type": "code",
   "execution_count": 75,
   "metadata": {
    "id": "e9baf72d",
    "scrolled": true
   },
   "outputs": [
    {
     "data": {
      "text/plain": [
       "0.16666666666666666"
      ]
     },
     "execution_count": 75,
     "metadata": {},
     "output_type": "execute_result"
    }
   ],
   "source": [
    "#ваш код здесь\n",
    "y_test.mean()"
   ]
  },
  {
   "cell_type": "markdown",
   "metadata": {
    "id": "710e0e94"
   },
   "source": [
    "## Задание 4 (3 балла)"
   ]
  },
  {
   "cell_type": "markdown",
   "metadata": {
    "id": "26cf6885"
   },
   "source": [
    "Определите и обучите подходящий алгоритм с параметром alpha = 0.01"
   ]
  },
  {
   "cell_type": "code",
   "execution_count": 84,
   "metadata": {
    "id": "4865dd78"
   },
   "outputs": [],
   "source": [
    "#ваш код здесь\n",
    "from sklearn.naive_bayes import ComplementNB\n",
    "model = ComplementNB(alpha=0.01)\n",
    "model.fit(X_train, y_train)\n",
    "y_pred_train = model.predict(X_train)\n",
    "y_pred = model.predict(X_test)\n",
    "y_pred_proba = model.predict_proba(X_test) # columns correspond to probabilities of belonging to class 0 and 1"
   ]
  },
  {
   "cell_type": "markdown",
   "metadata": {
    "id": "d803fbe3"
   },
   "source": [
    "Оцените результат с точки зрения всех известных вам метрик (не менее трёх):"
   ]
  },
  {
   "cell_type": "code",
   "execution_count": 112,
   "metadata": {
    "id": "b0bbc4d2",
    "scrolled": true
   },
   "outputs": [
    {
     "name": "stdout",
     "output_type": "stream",
     "text": [
      "accuracy on train:  0.9986660738105825\n",
      "accuracy on test:  0.9893333333333333\n",
      "precision on train:  1.0\n",
      "precision on test:  0.9915966386554622\n",
      "recall on train:  0.9919786096256684\n",
      "recall on test:  0.944\n",
      "f1 score on train:  0.9959731543624161\n",
      "f1 score on test:  0.9672131147540983\n"
     ]
    }
   ],
   "source": [
    "from sklearn import metrics\n",
    "print('accuracy on train: ', metrics.accuracy_score(y_train, y_pred_train))\n",
    "print('accuracy on test: ', metrics.accuracy_score(y_test, y_pred))\n",
    "print('precision on train: ', metrics.precision_score(y_train, y_pred_train))\n",
    "print('precision on test: ', metrics.precision_score(y_test, y_pred))\n",
    "print('recall on train: ', metrics.recall_score(y_train, y_pred_train))\n",
    "print('recall on test: ', metrics.recall_score(y_test, y_pred))\n",
    "print('f1 score on train: ', metrics.f1_score(y_train, y_pred_train))\n",
    "print('f1 score on test: ', metrics.f1_score(y_test, y_pred))"
   ]
  },
  {
   "cell_type": "markdown",
   "metadata": {
    "id": "c85976d1"
   },
   "source": [
    "Нарисуйте ROC-кривую:"
   ]
  },
  {
   "cell_type": "code",
   "execution_count": 91,
   "metadata": {
    "id": "b4195126",
    "scrolled": false
   },
   "outputs": [
    {
     "data": {
      "image/png": "[encoded data removed]",
      "text/plain": [
       "<Figure size 432x288 with 1 Axes>"
      ]
     },
     "metadata": {
      "needs_background": "light"
     },
     "output_type": "display_data"
    },
    {
     "name": "stdout",
     "output_type": "stream",
     "text": [
      "No Skill: ROC AUC=0.99924\n",
      "Naive Bayes: ROC AUC=0.50000\n"
     ]
    }
   ],
   "source": [
    "#ваш код здесь\n",
    "from sklearn.metrics import roc_curve, auc\n",
    "from sklearn.metrics import roc_auc_score\n",
    "# Compute ROC curve and ROC area for each class\n",
    "fpr = dict()\n",
    "tpr = dict()\n",
    "roc_auc = dict()\n",
    "\n",
    "fpr, tpr, _ = roc_curve(y_test, y_pred_proba[:,1], drop_intermediate=False)\n",
    "roc_auc = auc(fpr, tpr)\n",
    "\n",
    "# Compute micro-average ROC curve and ROC area\n",
    "#fpr[\"micro\"], tpr[\"micro\"], _ = roc_curve(y_test.ravel(), y_pred.ravel())\n",
    "#roc_auc[\"micro\"] = auc(fpr[\"micro\"], tpr[\"micro\"])\n",
    "\n",
    "plt.figure()\n",
    "\n",
    "plt.plot(fpr, tpr, color=\"darkorange\", lw=4,  label=\"ROC curve\")\n",
    "plt.plot([0, 1], [0, 1], color=\"navy\", lw=2, linestyle=\"--\")\n",
    "plt.xlim([0.0, 1.0])\n",
    "plt.ylim([0.0, 1.05])\n",
    "plt.xlabel(\"False Positive Rate\")\n",
    "plt.ylabel(\"True Positive Rate\")\n",
    "plt.title(\"ROC\")\n",
    "plt.legend(loc=\"lower right\")\n",
    "plt.show()\n",
    "\n",
    "print('No Skill: ROC AUC=%.5f' % (roc_auc))\n",
    "print('Naive Bayes: ROC AUC=%.5f' % 0.5)"
   ]
  },
  {
   "cell_type": "markdown",
   "metadata": {
    "id": "cf0bb49b"
   },
   "source": [
    "## Задание 5 (3 балла)"
   ]
  },
  {
   "cell_type": "markdown",
   "metadata": {
    "id": "30b7a0ae"
   },
   "source": [
    "Переберите несколько значений alpha с помощью кросс-валидации. Оцените, зависит ли от этого параметра качество классификации."
   ]
  },
  {
   "cell_type": "code",
   "execution_count": 111,
   "metadata": {
    "id": "3513d907",
    "scrolled": false
   },
   "outputs": [
    {
     "data": {
      "text/plain": [
       "{'mean_fit_time': array([0.02732949, 0.01870279, 0.03435912, 0.02750735, 0.02711987,\n",
       "        0.02542148, 0.02857161, 0.01939368, 0.02565284, 0.01717973]),\n",
       " 'std_fit_time': array([0.00408383, 0.00370547, 0.01896392, 0.00973818, 0.00416445,\n",
       "        0.00508165, 0.00868938, 0.00387303, 0.00676249, 0.00466668]),\n",
       " 'mean_score_time': array([0.00597477, 0.00906134, 0.01574583, 0.00974202, 0.01039181,\n",
       "        0.0030169 , 0.00730171, 0.00799422, 0.00519242, 0.00169387]),\n",
       " 'std_score_time': array([0.00449719, 0.0013129 , 0.00586812, 0.00442077, 0.005706  ,\n",
       "        0.00251293, 0.00140462, 0.00505506, 0.00294447, 0.00338774]),\n",
       " 'param_alpha': masked_array(data=[0, 0.001, 0.003, 0.01, 0.03, 0.1, 0.3, 1, 3, 10],\n",
       "              mask=[False, False, False, False, False, False, False, False,\n",
       "                    False, False],\n",
       "        fill_value='?',\n",
       "             dtype=object),\n",
       " 'params': [{'alpha': 0},\n",
       "  {'alpha': 0.001},\n",
       "  {'alpha': 0.003},\n",
       "  {'alpha': 0.01},\n",
       "  {'alpha': 0.03},\n",
       "  {'alpha': 0.1},\n",
       "  {'alpha': 0.3},\n",
       "  {'alpha': 1},\n",
       "  {'alpha': 3},\n",
       "  {'alpha': 10}],\n",
       " 'split0_test_score': array([0.88405797, 0.92307692, 0.92307692, 0.92957746, 0.93055556,\n",
       "        0.93055556, 0.93055556, 0.91428571, 0.8       , 0.31460674]),\n",
       " 'split1_test_score': array([0.94366197, 0.98648649, 0.98648649, 0.99328859, 0.98666667,\n",
       "        0.98013245, 0.97368421, 0.97368421, 0.93706294, 0.46464646]),\n",
       " 'split2_test_score': array([0.88571429, 0.94594595, 0.96688742, 0.95424837, 0.96774194,\n",
       "        0.95483871, 0.96732026, 0.97368421, 0.92857143, 0.45360825]),\n",
       " 'split3_test_score': array([0.92198582, 0.95890411, 0.95890411, 0.95890411, 0.97297297,\n",
       "        0.97333333, 0.96688742, 0.97959184, 0.94366197, 0.45360825]),\n",
       " 'split4_test_score': array([0.88721805, 0.95035461, 0.96503497, 0.97222222, 0.98630137,\n",
       "        0.99319728, 0.97959184, 0.97260274, 0.86153846, 0.37362637]),\n",
       " 'mean_test_score': array([0.90452762, 0.95295362, 0.96007798, 0.96164815, 0.9688477 ,\n",
       "        0.96641147, 0.96360786, 0.96276974, 0.89416696, 0.41201921]),\n",
       " 'std_test_score': array([0.02411993, 0.02053456, 0.02068239, 0.02099402, 0.02052645,\n",
       "        0.02178638, 0.01716981, 0.02436646, 0.0555077 , 0.05863808]),\n",
       " 'rank_test_score': array([ 8,  7,  6,  5,  1,  2,  3,  4,  9, 10])}"
      ]
     },
     "metadata": {},
     "output_type": "display_data"
    },
    {
     "name": "stdout",
     "output_type": "stream",
     "text": [
      "Наилучшие значения параметров: {'alpha': 0.03}\n",
      "f1 score on train:  0.9959731543624161\n",
      "f1 score on test:  0.9838709677419355\n",
      "ROC AUC=0.99950\n",
      "Проанализируем зависимость качества классификации от параметра alpha. \n",
      "Так как выборка несбалансированная, качество оценивалось по метрике F1.  \n",
      "Набор значений alpha, использованный для тестирования: [0, 0.001, 0.003, 0.01, 0.03, 0.1, 0.3, 1, 3, 10].  \n",
      "На тренировочном наборе, на alpha = 3 и 10 значения метрики F1 значительно снижаются.  \n",
      " Однако, на значениях в диапазоне [0.01, 1] изменения F1 происходят в третьем знаке после запятой. \n",
      "Значение ROC-AUC улучшилось в четвертом знаке после запятой, однако оно и так очень близко к 1: \n",
      " 0.99924 и 0.99950 до и после оптимизации, соответственно.\n"
     ]
    }
   ],
   "source": [
    "#ваш код здесь\n",
    "from sklearn.model_selection import GridSearchCV\n",
    "\n",
    "param_grid = {'alpha': [0, 0.001, 0.003, 0.01, 0.03, 0.1, 0.3, 1, 3, 10]}\n",
    "\n",
    "grid_search = GridSearchCV(\n",
    "    estimator=ComplementNB(), \n",
    "    param_grid=param_grid, \n",
    "    cv=5, \n",
    "    n_jobs = -1, #use all kernels available\n",
    "    scoring='f1'\n",
    ")\n",
    "grid_search.fit(X_train, y_train) \n",
    "\n",
    "display(grid_search.cv_results_)\n",
    "\n",
    "print(\"Наилучшие значения параметров: {}\".format(grid_search.best_params_))\n",
    "\n",
    "y_pred_train_gs = grid_search.predict(X_train)\n",
    "y_pred_gs = grid_search.predict(X_test)\n",
    "y_pred_proba_gs = grid_search.predict_proba(X_test)\n",
    "\n",
    "print('f1 score on train: ', metrics.f1_score(y_train, y_pred_train_gs))\n",
    "print('f1 score on test: ', metrics.f1_score(y_test, y_pred_gs))\n",
    "\n",
    "fpr_gs, tpr_gs, _ = roc_curve(y_test, y_pred_proba_gs[:,1], drop_intermediate=False)\n",
    "roc_auc_gs = auc(fpr_gs, tpr_gs)\n",
    "print('ROC AUC=%.5f' % (roc_auc_gs))\n",
    "\n",
    "print('Проанализируем зависимость качества классификации от параметра alpha.', \n",
    "      '\\nТак как выборка несбалансированная, качество оценивалось по метрике F1. ',\n",
    "'\\nНабор значений alpha, использованный для тестирования: [0, 0.001, 0.003, 0.01, 0.03, 0.1, 0.3, 1, 3, 10]. ',\n",
    "'\\nНа тренировочном наборе, на alpha = 3 и 10 значения метрики F1 значительно снижаются. ',\n",
    "      '\\n Однако, на значениях в диапазоне [0.01, 1] изменения F1 происходят в третьем знаке после запятой.',\n",
    "      '\\nЗначение ROC-AUC улучшилось в четвертом знаке после запятой, однако оно и так очень близко к 1:',\n",
    "      '\\n 0.99924 и 0.99950 до и после оптимизации, соответственно.')"
   ]
  }
 ],
 "metadata": {
  "colab": {
   "name": "SGA_unit6_NBC.ipynb",
   "provenance": []
  },
  "kernelspec": {
   "display_name": "Python 3.10.3 64-bit",
   "language": "python",
   "name": "python3"
  },
  "language_info": {
   "codemirror_mode": {
    "name": "ipython",
    "version": 3
   },
   "file_extension": ".py",
   "mimetype": "text/x-python",
   "name": "python",
   "nbconvert_exporter": "python",
   "pygments_lexer": "ipython3",
   "version": "3.10.3"
  },
  "vscode": {
   "interpreter": {
    "hash": "aee8b7b246df8f9039afb4144a1f6fd8d2ca17a180786b69acc140d282b71a49"
   }
  }
 },
 "nbformat": 4,
 "nbformat_minor": 5
}
