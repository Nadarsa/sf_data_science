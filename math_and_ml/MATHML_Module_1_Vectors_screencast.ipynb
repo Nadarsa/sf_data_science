{
  "cells": [
    {
      "cell_type": "code",
      "execution_count": 1,
      "metadata": {
        "colab": {},
        "colab_type": "code",
        "id": "Tc7xkEvkymVV"
      },
      "outputs": [],
      "source": [
        "import numpy as np"
      ]
    },
    {
      "cell_type": "code",
      "execution_count": null,
      "metadata": {
        "colab": {},
        "colab_type": "code",
        "id": "vJHPEH0xymVm"
      },
      "outputs": [],
      "source": [
        "# как создать вектор?\n"
      ]
    },
    {
      "cell_type": "code",
      "execution_count": null,
      "metadata": {
        "colab": {},
        "colab_type": "code",
        "id": "Cnl8HEfuymVq",
        "outputId": "2a66605c-8a14-415a-923e-d592488abf83"
      },
      "outputs": [
        {
          "name": "stdout",
          "output_type": "stream",
          "text": [
            "[1 2 3] <class 'numpy.ndarray'>\n"
          ]
        }
      ],
      "source": [
        "# как одномерный массив numpy\n",
        "a=np.array([1,2,3])\n",
        "print(a, type(a))"
      ]
    },
    {
      "cell_type": "code",
      "execution_count": null,
      "metadata": {
        "colab": {},
        "colab_type": "code",
        "id": "Z_4zzU8rymVw",
        "outputId": "54f34bca-7c08-40fa-cc9c-10ae082b1d74"
      },
      "outputs": [
        {
          "data": {
            "text/plain": [
              "array([1., 2., 3.])"
            ]
          },
          "execution_count": 4,
          "metadata": {
            "tags": []
          },
          "output_type": "execute_result"
        }
      ],
      "source": [
        "np.array([1,2,3], dtype='float')"
      ]
    },
    {
      "cell_type": "code",
      "execution_count": null,
      "metadata": {
        "colab": {},
        "colab_type": "code",
        "id": "FLn74OREymVz",
        "outputId": "f2334338-9ac2-441a-ef7d-7f8cf166babe"
      },
      "outputs": [
        {
          "name": "stdout",
          "output_type": "stream",
          "text": [
            "[1, 2, 3] <class 'list'>\n",
            "[1 2 3] <class 'numpy.ndarray'>\n"
          ]
        }
      ],
      "source": [
        "# преобразовать из списка (list)\n",
        "x=[1,2,3]\n",
        "x_arr=np.array(x)\n",
        "print(x, type(x))\n",
        "print(x_arr, type(x_arr))"
      ]
    },
    {
      "cell_type": "code",
      "execution_count": null,
      "metadata": {
        "colab": {},
        "colab_type": "code",
        "id": "nGkg5GBwymV3",
        "outputId": "33be0248-0ee3-461d-a262-f12a98fd380b"
      },
      "outputs": [
        {
          "data": {
            "text/plain": [
              "array([0., 0., 0., 0., 0.])"
            ]
          },
          "execution_count": 6,
          "metadata": {
            "tags": []
          },
          "output_type": "execute_result"
        }
      ],
      "source": [
        "# нулевой вектор\n",
        "np.zeros(5) "
      ]
    },
    {
      "cell_type": "code",
      "execution_count": null,
      "metadata": {
        "colab": {},
        "colab_type": "code",
        "id": "LUDaxkcJymV6",
        "outputId": "191da2cb-a5fa-44f4-f74d-961b84fd6e73"
      },
      "outputs": [
        {
          "data": {
            "text/plain": [
              "array([1., 1., 1., 1., 1., 1., 1., 1.])"
            ]
          },
          "execution_count": 7,
          "metadata": {
            "tags": []
          },
          "output_type": "execute_result"
        }
      ],
      "source": [
        "# вектор из единиц\n",
        "np.ones(8)"
      ]
    },
    {
      "cell_type": "code",
      "execution_count": null,
      "metadata": {
        "colab": {},
        "colab_type": "code",
        "id": "4JJrxHdLymWB",
        "outputId": "c5408ec0-6e97-4a81-c3f6-3d4a63b9358e"
      },
      "outputs": [
        {
          "data": {
            "text/plain": [
              "array([10, 15, 20, 25, 30, 35, 40, 45])"
            ]
          },
          "execution_count": 8,
          "metadata": {
            "tags": []
          },
          "output_type": "execute_result"
        }
      ],
      "source": [
        "# массив чисел по порядку\n",
        "np.arange(10,50, 5)"
      ]
    },
    {
      "cell_type": "code",
      "execution_count": null,
      "metadata": {
        "colab": {},
        "colab_type": "code",
        "id": "ul4_CKIkymWF",
        "outputId": "f4f0f1ae-5c3b-494c-ac3f-b5b6b4591091"
      },
      "outputs": [
        {
          "data": {
            "text/plain": [
              "array([ 0,  1,  1, -4, -1, -2, -1,  1, -1, -1])"
            ]
          },
          "execution_count": 9,
          "metadata": {
            "tags": []
          },
          "output_type": "execute_result"
        }
      ],
      "source": [
        "# случайный вектор\n",
        "np.random.randint(-4, 2, 10) # dim=10, случаные целые числа от -4 до 2"
      ]
    },
    {
      "cell_type": "code",
      "execution_count": null,
      "metadata": {
        "colab": {},
        "colab_type": "code",
        "id": "xSF7nv58ymWJ",
        "outputId": "79b775dc-8161-465f-ebd7-e870cf7be016"
      },
      "outputs": [
        {
          "name": "stdout",
          "output_type": "stream",
          "text": [
            "Series:\n",
            " 0     65\n",
            "1     70\n",
            "2    120\n",
            "3     35\n",
            "dtype: int64\n"
          ]
        }
      ],
      "source": [
        "# преобразовать из Pandas Series\n",
        "import pandas as pd\n",
        "data = [65, 70, 120, 35]\n",
        "s = pd.Series(data)\n",
        "print('Series:\\n',s)"
      ]
    },
    {
      "cell_type": "code",
      "execution_count": null,
      "metadata": {
        "colab": {},
        "colab_type": "code",
        "id": "znujxj8aymWO",
        "outputId": "9d09762e-69f8-4039-d4d6-7d879c9b4c99"
      },
      "outputs": [
        {
          "name": "stdout",
          "output_type": "stream",
          "text": [
            "vector:\n",
            " [ 65  70 120  35]\n",
            "type of x: <class 'numpy.ndarray'>\n"
          ]
        }
      ],
      "source": [
        "x = s.values # возвращает значения s\n",
        "print('vector:\\n',x)\n",
        "print('type of x:',type(x))"
      ]
    },
    {
      "cell_type": "code",
      "execution_count": null,
      "metadata": {
        "colab": {},
        "colab_type": "code",
        "id": "0ZYwt1ilymWU",
        "outputId": "07ee9250-4476-402e-a59a-79178b2e922d"
      },
      "outputs": [
        {
          "name": "stdout",
          "output_type": "stream",
          "text": [
            "Data Frame:\n",
            "     $$  2.Area  3.Rooms  4.Floor  5.Demo\n",
            "0   65      50        3        5       8\n",
            "1   70      52        2       12       4\n",
            "2  120      80        1       10       5\n",
            "3   35      33        1        3      10\n"
          ]
        }
      ],
      "source": [
        "# преобразовать из Pandas DataFrame\n",
        "d = {'$$': [65, 70, 120, 35], '2.Area': [50, 52, 80, 33],'3.Rooms':[3,2,1,1], \n",
        "     '4.Floor':[5,12,10,3], '5.Demo':[8,4,5,10]}\n",
        "df = pd.DataFrame(d)\n",
        "print('Data Frame:\\n',df)"
      ]
    },
    {
      "cell_type": "code",
      "execution_count": null,
      "metadata": {
        "colab": {},
        "colab_type": "code",
        "id": "mnUU7al2ymWa",
        "outputId": "461d3383-c973-4aa6-bb61-272d9bfe2e63"
      },
      "outputs": [
        {
          "name": "stdout",
          "output_type": "stream",
          "text": [
            "Matrix:\n",
            " [[ 65  50   3   5   8]\n",
            " [ 70  52   2  12   4]\n",
            " [120  80   1  10   5]\n",
            " [ 35  33   1   3  10]]\n"
          ]
        }
      ],
      "source": [
        "A = df.values # возвращает значения df\n",
        "print('Matrix:\\n',A)"
      ]
    },
    {
      "cell_type": "code",
      "execution_count": null,
      "metadata": {
        "colab": {},
        "colab_type": "code",
        "id": "w-4RhmRvymWf",
        "outputId": "ff57c7d9-8d15-4b70-f3cd-0148d7a5a200"
      },
      "outputs": [
        {
          "name": "stdout",
          "output_type": "stream",
          "text": [
            "Second apartment vector:\n",
            " [70 52  2 12  4]\n",
            "type of x: <class 'numpy.ndarray'>\n"
          ]
        }
      ],
      "source": [
        "x=A[1] # вторая строка матрицы А\n",
        "print('Second apartment vector:\\n',x)\n",
        "print('type of x:',type(x))"
      ]
    },
    {
      "cell_type": "code",
      "execution_count": null,
      "metadata": {
        "colab": {},
        "colab_type": "code",
        "id": "W6_SwmjNymWj",
        "outputId": "61676e9a-f456-42d0-be18-34b588b551d5"
      },
      "outputs": [
        {
          "name": "stdout",
          "output_type": "stream",
          "text": [
            "$$ vector:\n",
            " [ 65  70 120  35]\n"
          ]
        }
      ],
      "source": [
        "y=A[:,0] # первый столбец матрицы А\n",
        "print('$$ vector:\\n',y)"
      ]
    },
    {
      "cell_type": "code",
      "execution_count": null,
      "metadata": {
        "colab": {},
        "colab_type": "code",
        "id": "xBlKUENeymWn",
        "outputId": "0f3d0749-05fc-4aa3-92e8-c7cfee913069"
      },
      "outputs": [
        {
          "name": "stdout",
          "output_type": "stream",
          "text": [
            "$$ of 3 apartment: 120\n"
          ]
        }
      ],
      "source": [
        "# индексация векторов - поиск нужной координаты\n",
        "print('$$ of 3 apartment:',y[2]) # третья координата"
      ]
    },
    {
      "cell_type": "code",
      "execution_count": null,
      "metadata": {
        "colab": {},
        "colab_type": "code",
        "id": "NOi0XzfMymWr",
        "outputId": "b6085028-5289-4506-fbc7-a0e84a161a0c"
      },
      "outputs": [
        {
          "name": "stdout",
          "output_type": "stream",
          "text": [
            "Number of apartments = dim(y): 4\n"
          ]
        }
      ],
      "source": [
        "# размерность вектора\n",
        "print('Number of apartments = dim(y):', len(y))"
      ]
    },
    {
      "cell_type": "code",
      "execution_count": null,
      "metadata": {
        "colab": {},
        "colab_type": "code",
        "id": "Rhk38HtvymWy",
        "outputId": "dcd68f3b-30d9-4fee-d004-2de8e5c32196"
      },
      "outputs": [
        {
          "name": "stdout",
          "output_type": "stream",
          "text": [
            "a+b: [ 7  9 11]\n",
            "2a: [2 4 6]\n"
          ]
        }
      ],
      "source": [
        "# сумма векторов и умножение на число\n",
        "a=np.array([1,2,3])\n",
        "b=np.array([6,7,8])\n",
        "print('a+b:',a+b)\n",
        "print('2a:',2*a)"
      ]
    },
    {
      "cell_type": "code",
      "execution_count": null,
      "metadata": {
        "colab": {},
        "colab_type": "code",
        "id": "GB9jEZniymW6",
        "outputId": "1d90e326-fdc8-4bb2-e7ee-8f40ba365bc6"
      },
      "outputs": [
        {
          "name": "stdout",
          "output_type": "stream",
          "text": [
            "a+b: [1, 2, 3, 6, 7, 8]\n",
            "2a: [1, 2, 3, 1, 2, 3]\n"
          ]
        }
      ],
      "source": [
        "# сумма списков и умножение на число не является векторной операцией!\n",
        "a_list=[1,2,3]\n",
        "b_list=[6,7,8]\n",
        "print('a+b:',a_list+b_list)\n",
        "print('2a:',2*a_list)"
      ]
    },
    {
      "cell_type": "code",
      "execution_count": null,
      "metadata": {
        "colab": {},
        "colab_type": "code",
        "id": "Uhem8xWDymXE",
        "outputId": "ebc19e52-60d8-4fe9-c068-9a222fa47ebe"
      },
      "outputs": [
        {
          "name": "stdout",
          "output_type": "stream",
          "text": [
            "linear combination: [17 18 25]\n"
          ]
        }
      ],
      "source": [
        "# линейная комбинация с коэффициентами 2, 2, 3\n",
        "a=np.array([1,2,3])\n",
        "b=np.array([6,7,8])\n",
        "c=np.array([1,0,1])\n",
        "\n",
        "d=2*a+2*b+3*c\n",
        "print('linear combination:',d)"
      ]
    },
    {
      "cell_type": "code",
      "execution_count": null,
      "metadata": {
        "colab": {},
        "colab_type": "code",
        "id": "5nG5tKovymXK"
      },
      "outputs": [],
      "source": [
        "# скалярное произведение\n",
        "\n",
        "s=np.dot(a,b)\n",
        "print('scalar product:',s)\n",
        "\n",
        "# покоординатное умножение\n",
        "print('coordinate product:',a*b)"
      ]
    },
    {
      "cell_type": "code",
      "execution_count": null,
      "metadata": {
        "colab": {},
        "colab_type": "code",
        "id": "J9PPebk7ymXW"
      },
      "outputs": [],
      "source": [
        "# скалярное произведение - еще один способ\n",
        "s1=a@b\n",
        "print('scalar product:',s1)"
      ]
    },
    {
      "cell_type": "code",
      "execution_count": null,
      "metadata": {
        "colab": {},
        "colab_type": "code",
        "id": "Hpgi94aRymXa"
      },
      "outputs": [],
      "source": [
        "# длина вектора\n",
        "l=np.linalg.norm(a)\n",
        "print('length of a:',l)"
      ]
    },
    {
      "cell_type": "code",
      "execution_count": null,
      "metadata": {
        "colab": {},
        "colab_type": "code",
        "id": "-0HZq_wUymXi"
      },
      "outputs": [],
      "source": [
        "# нормировка\n",
        "a_norm=a/np.linalg.norm(a)\n",
        "print('a_norm:',a_norm)\n",
        "print('length of a_norm:',np.linalg.norm(a_norm))"
      ]
    },
    {
      "cell_type": "code",
      "execution_count": null,
      "metadata": {
        "colab": {},
        "colab_type": "code",
        "id": "RXKe-abRymXo"
      },
      "outputs": [],
      "source": [
        "#пропорциональность и ортогональность\n",
        "a=np.array([1,2,1])\n",
        "b=a*2\n",
        "c=np.array([-1,1,-1])\n",
        "print('a:',a)\n",
        "print('b:',b)\n",
        "print('c:',c)"
      ]
    },
    {
      "cell_type": "code",
      "execution_count": null,
      "metadata": {
        "colab": {},
        "colab_type": "code",
        "id": "ze2-yWVDymXq"
      },
      "outputs": [],
      "source": [
        "#пропорциональность и ортогональность\n",
        "print(\"(a,b):\",np.dot(a,b))\n",
        "print(\"(a,c):\",np.dot(a,c))\n",
        "print(\"(b,c):\",np.dot(b,c))"
      ]
    },
    {
      "cell_type": "code",
      "execution_count": null,
      "metadata": {
        "colab": {},
        "colab_type": "code",
        "id": "AF7Z9P9WymXy"
      },
      "outputs": [],
      "source": [
        "# попарная ортогональность - да\n",
        "a=np.array([1,0,1])\n",
        "b=np.array([0,1,0])\n",
        "c=np.array([1,0,-1])\n",
        "print('a:',a)\n",
        "print('b:',b)\n",
        "print('c:',c)"
      ]
    },
    {
      "cell_type": "code",
      "execution_count": null,
      "metadata": {
        "colab": {},
        "colab_type": "code",
        "id": "F9Xi-O17ymX4"
      },
      "outputs": [],
      "source": [
        "# попарная ортогональность - да\n",
        "print('(a,b):',np.dot(a,b))\n",
        "print('(b,c):',np.dot(b,c))\n",
        "print('(a,c):',np.dot(a,c))"
      ]
    },
    {
      "cell_type": "code",
      "execution_count": null,
      "metadata": {
        "colab": {},
        "colab_type": "code",
        "id": "0JhrwPvPymX7"
      },
      "outputs": [],
      "source": [
        "# попарная ортогональность - нет\n",
        "c1=np.array([1,0,4])\n",
        "print('a:',a)\n",
        "print('b:',b)\n",
        "print('с1:',c1)"
      ]
    },
    {
      "cell_type": "code",
      "execution_count": null,
      "metadata": {
        "colab": {},
        "colab_type": "code",
        "id": "ZmeF_7G2ymX-"
      },
      "outputs": [],
      "source": [
        "# попарная ортогональность - нет\n",
        "print('(a,b):',a@b)\n",
        "print('(b,c1):',b@c1)\n",
        "print('(a,c1):',a@c1)"
      ]
    },
    {
      "cell_type": "markdown",
      "metadata": {},
      "source": [
        "Практика"
      ]
    },
    {
      "cell_type": "code",
      "execution_count": 3,
      "metadata": {
        "colab": {},
        "colab_type": "code",
        "id": "2djqzK80ymYE"
      },
      "outputs": [
        {
          "data": {
            "text/html": [
              "<div>\n",
              "<style scoped>\n",
              "    .dataframe tbody tr th:only-of-type {\n",
              "        vertical-align: middle;\n",
              "    }\n",
              "\n",
              "    .dataframe tbody tr th {\n",
              "        vertical-align: top;\n",
              "    }\n",
              "\n",
              "    .dataframe thead th {\n",
              "        text-align: right;\n",
              "    }\n",
              "</style>\n",
              "<table border=\"1\" class=\"dataframe\">\n",
              "  <thead>\n",
              "    <tr style=\"text-align: right;\">\n",
              "      <th></th>\n",
              "      <th>1.Rent</th>\n",
              "      <th>2.Area</th>\n",
              "      <th>3.Rooms</th>\n",
              "      <th>4.Floor</th>\n",
              "      <th>5.Demo two weeks</th>\n",
              "      <th>6.Liv.Area</th>\n",
              "    </tr>\n",
              "  </thead>\n",
              "  <tbody>\n",
              "    <tr>\n",
              "      <th>0</th>\n",
              "      <td>65</td>\n",
              "      <td>50</td>\n",
              "      <td>3</td>\n",
              "      <td>5</td>\n",
              "      <td>8</td>\n",
              "      <td>37</td>\n",
              "    </tr>\n",
              "    <tr>\n",
              "      <th>1</th>\n",
              "      <td>70</td>\n",
              "      <td>52</td>\n",
              "      <td>2</td>\n",
              "      <td>12</td>\n",
              "      <td>4</td>\n",
              "      <td>40</td>\n",
              "    </tr>\n",
              "    <tr>\n",
              "      <th>2</th>\n",
              "      <td>120</td>\n",
              "      <td>80</td>\n",
              "      <td>1</td>\n",
              "      <td>10</td>\n",
              "      <td>5</td>\n",
              "      <td>65</td>\n",
              "    </tr>\n",
              "    <tr>\n",
              "      <th>3</th>\n",
              "      <td>35</td>\n",
              "      <td>33</td>\n",
              "      <td>1</td>\n",
              "      <td>3</td>\n",
              "      <td>10</td>\n",
              "      <td>20</td>\n",
              "    </tr>\n",
              "    <tr>\n",
              "      <th>4</th>\n",
              "      <td>40</td>\n",
              "      <td>33</td>\n",
              "      <td>1</td>\n",
              "      <td>6</td>\n",
              "      <td>20</td>\n",
              "      <td>16</td>\n",
              "    </tr>\n",
              "    <tr>\n",
              "      <th>5</th>\n",
              "      <td>50</td>\n",
              "      <td>44</td>\n",
              "      <td>2</td>\n",
              "      <td>13</td>\n",
              "      <td>12</td>\n",
              "      <td>35</td>\n",
              "    </tr>\n",
              "    <tr>\n",
              "      <th>6</th>\n",
              "      <td>100</td>\n",
              "      <td>80</td>\n",
              "      <td>4</td>\n",
              "      <td>8</td>\n",
              "      <td>5</td>\n",
              "      <td>60</td>\n",
              "    </tr>\n",
              "    <tr>\n",
              "      <th>7</th>\n",
              "      <td>90</td>\n",
              "      <td>65</td>\n",
              "      <td>3</td>\n",
              "      <td>21</td>\n",
              "      <td>1</td>\n",
              "      <td>50</td>\n",
              "    </tr>\n",
              "    <tr>\n",
              "      <th>8</th>\n",
              "      <td>85</td>\n",
              "      <td>65</td>\n",
              "      <td>2</td>\n",
              "      <td>5</td>\n",
              "      <td>10</td>\n",
              "      <td>40</td>\n",
              "    </tr>\n",
              "  </tbody>\n",
              "</table>\n",
              "</div>"
            ],
            "text/plain": [
              "   1.Rent  2.Area  3.Rooms  4.Floor  5.Demo two weeks  6.Liv.Area\n",
              "0      65      50        3        5                 8          37\n",
              "1      70      52        2       12                 4          40\n",
              "2     120      80        1       10                 5          65\n",
              "3      35      33        1        3                10          20\n",
              "4      40      33        1        6                20          16\n",
              "5      50      44        2       13                12          35\n",
              "6     100      80        4        8                 5          60\n",
              "7      90      65        3       21                 1          50\n",
              "8      85      65        2        5                10          40"
            ]
          },
          "execution_count": 3,
          "metadata": {},
          "output_type": "execute_result"
        }
      ],
      "source": [
        "import pandas as pd\n",
        "\n",
        "Hut_Paradise_DF = pd.DataFrame({\n",
        "    '1.Rent': [65, 70, 120, 35, 40, 50, 100, 90, 85], \n",
        "    '2.Area': [50, 52, 80, 33, 33, 44, 80, 65, 65], \n",
        "    '3.Rooms':[3, 2, 1, 1, 1, 2, 4, 3, 2],\n",
        "    '4.Floor':[5, 12, 10, 3, 6, 13, 8, 21, 5], \n",
        "    '5.Demo two weeks':[8, 4, 5, 10, 20, 12, 5, 1, 10], \n",
        "    '6.Liv.Area': [37, 40, 65, 20, 16, 35, 60, 50, 40]\n",
        "})\n",
        "Hut_Paradise_DF"
      ]
    },
    {
      "cell_type": "code",
      "execution_count": 4,
      "metadata": {},
      "outputs": [
        {
          "data": {
            "text/plain": [
              "array([40, 33,  1,  6, 20, 16])"
            ]
          },
          "execution_count": 4,
          "metadata": {},
          "output_type": "execute_result"
        }
      ],
      "source": [
        "flat_5 = Hut_Paradise_DF.values[4]\n",
        "flat_5"
      ]
    },
    {
      "cell_type": "code",
      "execution_count": 5,
      "metadata": {},
      "outputs": [
        {
          "data": {
            "text/plain": [
              "array([ 5, 12, 10,  3,  6, 13,  8, 21,  5])"
            ]
          },
          "execution_count": 5,
          "metadata": {},
          "output_type": "execute_result"
        }
      ],
      "source": [
        "floor = Hut_Paradise_DF.values[:, 3]\n",
        "floor"
      ]
    },
    {
      "cell_type": "code",
      "execution_count": 6,
      "metadata": {},
      "outputs": [
        {
          "data": {
            "text/plain": [
              "array([13, 12, 15, 13, 17,  9, 20, 15, 25])"
            ]
          },
          "execution_count": 6,
          "metadata": {},
          "output_type": "execute_result"
        }
      ],
      "source": [
        "not_living = Hut_Paradise_DF.values[:, 1] - Hut_Paradise_DF.values[:, -1]\n",
        "not_living"
      ]
    },
    {
      "cell_type": "code",
      "execution_count": 8,
      "metadata": {},
      "outputs": [
        {
          "data": {
            "text/plain": [
              "1348"
            ]
          },
          "execution_count": 8,
          "metadata": {},
          "output_type": "execute_result"
        }
      ],
      "source": [
        "show_time = np.array([10, 20, 30, 15, 5, 40, 20, 8, 20])\n",
        "show_time_per_two_weeks = np.dot(show_time, Hut_Paradise_DF.values[:, 4])\n",
        "show_time_per_two_weeks"
      ]
    },
    {
      "cell_type": "code",
      "execution_count": 12,
      "metadata": {},
      "outputs": [
        {
          "name": "stdout",
          "output_type": "stream",
          "text": [
            "0\n"
          ]
        }
      ],
      "source": [
        "u=np.array([3,0,1,1,1])\n",
        "v=np.array([0,1,0,2,-2])\n",
        "w=np.array([1,-4,-1,0,-2])\n",
        "\n",
        "z = 2*v + (-3)*w\n",
        "\n",
        "print(np.dot(z, u))"
      ]
    }
  ],
  "metadata": {
    "colab": {
      "name": "Module_1_Vectors_screencast.ipynb",
      "provenance": []
    },
    "kernelspec": {
      "display_name": "Python 3.10.3 64-bit",
      "language": "python",
      "name": "python3"
    },
    "language_info": {
      "codemirror_mode": {
        "name": "ipython",
        "version": 3
      },
      "file_extension": ".py",
      "mimetype": "text/x-python",
      "name": "python",
      "nbconvert_exporter": "python",
      "pygments_lexer": "ipython3",
      "version": "3.10.3"
    },
    "vscode": {
      "interpreter": {
        "hash": "aee8b7b246df8f9039afb4144a1f6fd8d2ca17a180786b69acc140d282b71a49"
      }
    }
  },
  "nbformat": 4,
  "nbformat_minor": 0
}
