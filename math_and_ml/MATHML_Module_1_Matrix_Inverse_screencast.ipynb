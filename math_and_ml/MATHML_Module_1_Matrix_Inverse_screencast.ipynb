{
  "cells": [
    {
      "cell_type": "code",
      "execution_count": 1,
      "metadata": {
        "collapsed": true
      },
      "outputs": [],
      "source": [
        "import numpy as np"
      ]
    },
    {
      "cell_type": "code",
      "execution_count": 2,
      "metadata": {
        "collapsed": false
      },
      "outputs": [
        {
          "name": "stdout",
          "output_type": "stream",
          "text": [
            "A1:\n",
            " [[ 1  2  3]\n",
            " [ 4  5  6]\n",
            " [ 7  8 10]]\n"
          ]
        }
      ],
      "source": [
        "# обратная матрица - все ок\n",
        "A1=np.array([[1,2,3],[4,5,6],[7,8,10]])\n",
        "print('A1:\\n',A1)"
      ]
    },
    {
      "cell_type": "code",
      "execution_count": 3,
      "metadata": {
        "collapsed": false
      },
      "outputs": [
        {
          "name": "stdout",
          "output_type": "stream",
          "text": [
            "rk(A3):\n",
            " 3\n"
          ]
        }
      ],
      "source": [
        "print('rk(A3):\\n',np.linalg.matrix_rank(A1))"
      ]
    },
    {
      "cell_type": "code",
      "execution_count": 4,
      "metadata": {
        "collapsed": false
      },
      "outputs": [
        {
          "name": "stdout",
          "output_type": "stream",
          "text": [
            "A1 inversed:\n",
            " [[-0.66666667 -1.33333333  1.        ]\n",
            " [-0.66666667  3.66666667 -2.        ]\n",
            " [ 1.         -2.          1.        ]]\n"
          ]
        }
      ],
      "source": [
        "# обратная матрица - все ок\n",
        "A1_inv=np.linalg.inv(A1)\n",
        "print('A1 inversed:\\n',A1_inv)\n"
      ]
    },
    {
      "cell_type": "code",
      "execution_count": 5,
      "metadata": {
        "collapsed": false
      },
      "outputs": [
        {
          "name": "stdout",
          "output_type": "stream",
          "text": [
            "A1 @ A1 inversed=E check:\n",
            " [[ 1.00000000e+00 -4.44089210e-16 -1.11022302e-16]\n",
            " [ 4.44089210e-16  1.00000000e+00 -2.22044605e-16]\n",
            " [ 4.44089210e-16  8.88178420e-16  1.00000000e+00]] 1\n",
            "[[ 1. -0. -0.]\n",
            " [ 0.  1. -0.]\n",
            " [ 0.  0.  1.]]\n",
            "check OK\n"
          ]
        }
      ],
      "source": [
        "# обратная матрица - все ок\n",
        "print('A1 @ A1 inversed=E check:\\n',A1@A1_inv,1)\n",
        "print(np.round(A1@A1_inv,1))\n",
        "print('check OK')"
      ]
    },
    {
      "cell_type": "code",
      "execution_count": 6,
      "metadata": {
        "collapsed": false
      },
      "outputs": [
        {
          "name": "stdout",
          "output_type": "stream",
          "text": [
            "A2:\n",
            " [[1 2 3]\n",
            " [4 5 6]\n",
            " [1 2 3]]\n"
          ]
        }
      ],
      "source": [
        "# обратная матрица - вырожденный случай\n",
        "A2=np.array([[1,2,3],[4,5,6],[1,2,3]])\n",
        "print('A2:\\n',A2)"
      ]
    },
    {
      "cell_type": "code",
      "execution_count": 7,
      "metadata": {
        "collapsed": false
      },
      "outputs": [
        {
          "name": "stdout",
          "output_type": "stream",
          "text": [
            "rk(A3):\n",
            " 2\n"
          ]
        }
      ],
      "source": [
        "# обратная матрица - вырожденный случай\n",
        "print('rk(A3):\\n',np.linalg.matrix_rank(A2))"
      ]
    },
    {
      "cell_type": "code",
      "execution_count": 8,
      "metadata": {
        "collapsed": false
      },
      "outputs": [
        {
          "ename": "LinAlgError",
          "evalue": "Singular matrix",
          "output_type": "error",
          "traceback": [
            "\u001b[0;31m---------------------------------------------------------------------------\u001b[0m",
            "\u001b[0;31mLinAlgError\u001b[0m                               Traceback (most recent call last)",
            "\u001b[1;32m/Users/nadezdaoskina/Documents/SkillFactory/sf_data_science/Math & ML/MATHML_Module_1_Matrix_Inverse_screencast.ipynb Ячейка 8\u001b[0m in \u001b[0;36m<cell line: 2>\u001b[0;34m()\u001b[0m\n\u001b[1;32m      <a href='vscode-notebook-cell:/Users/nadezdaoskina/Documents/SkillFactory/sf_data_science/Math%20%26%20ML/MATHML_Module_1_Matrix_Inverse_screencast.ipynb#X10sZmlsZQ%3D%3D?line=0'>1</a>\u001b[0m \u001b[39m# обратная матрица - вырожденный случай\u001b[39;00m\n\u001b[0;32m----> <a href='vscode-notebook-cell:/Users/nadezdaoskina/Documents/SkillFactory/sf_data_science/Math%20%26%20ML/MATHML_Module_1_Matrix_Inverse_screencast.ipynb#X10sZmlsZQ%3D%3D?line=1'>2</a>\u001b[0m np\u001b[39m.\u001b[39;49mlinalg\u001b[39m.\u001b[39;49minv(A2)\n",
            "File \u001b[0;32m<__array_function__ internals>:180\u001b[0m, in \u001b[0;36minv\u001b[0;34m(*args, **kwargs)\u001b[0m\n",
            "File \u001b[0;32m/Library/Frameworks/Python.framework/Versions/3.10/lib/python3.10/site-packages/numpy/linalg/linalg.py:545\u001b[0m, in \u001b[0;36minv\u001b[0;34m(a)\u001b[0m\n\u001b[1;32m    543\u001b[0m signature \u001b[39m=\u001b[39m \u001b[39m'\u001b[39m\u001b[39mD->D\u001b[39m\u001b[39m'\u001b[39m \u001b[39mif\u001b[39;00m isComplexType(t) \u001b[39melse\u001b[39;00m \u001b[39m'\u001b[39m\u001b[39md->d\u001b[39m\u001b[39m'\u001b[39m\n\u001b[1;32m    544\u001b[0m extobj \u001b[39m=\u001b[39m get_linalg_error_extobj(_raise_linalgerror_singular)\n\u001b[0;32m--> 545\u001b[0m ainv \u001b[39m=\u001b[39m _umath_linalg\u001b[39m.\u001b[39;49minv(a, signature\u001b[39m=\u001b[39;49msignature, extobj\u001b[39m=\u001b[39;49mextobj)\n\u001b[1;32m    546\u001b[0m \u001b[39mreturn\u001b[39;00m wrap(ainv\u001b[39m.\u001b[39mastype(result_t, copy\u001b[39m=\u001b[39m\u001b[39mFalse\u001b[39;00m))\n",
            "File \u001b[0;32m/Library/Frameworks/Python.framework/Versions/3.10/lib/python3.10/site-packages/numpy/linalg/linalg.py:88\u001b[0m, in \u001b[0;36m_raise_linalgerror_singular\u001b[0;34m(err, flag)\u001b[0m\n\u001b[1;32m     87\u001b[0m \u001b[39mdef\u001b[39;00m \u001b[39m_raise_linalgerror_singular\u001b[39m(err, flag):\n\u001b[0;32m---> 88\u001b[0m     \u001b[39mraise\u001b[39;00m LinAlgError(\u001b[39m\"\u001b[39m\u001b[39mSingular matrix\u001b[39m\u001b[39m\"\u001b[39m)\n",
            "\u001b[0;31mLinAlgError\u001b[0m: Singular matrix"
          ]
        }
      ],
      "source": [
        "# обратная матрица - вырожденный случай\n",
        "np.linalg.inv(A2)"
      ]
    },
    {
      "cell_type": "code",
      "execution_count": 9,
      "metadata": {
        "collapsed": false
      },
      "outputs": [
        {
          "name": "stdout",
          "output_type": "stream",
          "text": [
            "A3:\n",
            " [[1 2 3]\n",
            " [4 5 6]\n",
            " [7 8 9]]\n"
          ]
        }
      ],
      "source": [
        "# обратная матрица - magic\n",
        "A3=np.array([[1,2,3],[4,5,6],[7,8,9]])\n",
        "print('A3:\\n',A3)"
      ]
    },
    {
      "cell_type": "code",
      "execution_count": 10,
      "metadata": {
        "collapsed": false
      },
      "outputs": [
        {
          "name": "stdout",
          "output_type": "stream",
          "text": [
            "rk(A3):\n",
            " 2\n"
          ]
        }
      ],
      "source": [
        "# обратная матрица - magic\n",
        "print('rk(A3):\\n',np.linalg.matrix_rank(A3))"
      ]
    },
    {
      "cell_type": "code",
      "execution_count": 11,
      "metadata": {
        "collapsed": false
      },
      "outputs": [
        {
          "name": "stdout",
          "output_type": "stream",
          "text": [
            "A3 inversed:\n",
            " [[ 3.15251974e+15 -6.30503948e+15  3.15251974e+15]\n",
            " [-6.30503948e+15  1.26100790e+16 -6.30503948e+15]\n",
            " [ 3.15251974e+15 -6.30503948e+15  3.15251974e+15]]\n"
          ]
        }
      ],
      "source": [
        "# обратная матрица - magic\n",
        "print('A3 inversed:\\n',np.linalg.inv(A3))"
      ]
    },
    {
      "cell_type": "code",
      "execution_count": 12,
      "metadata": {
        "collapsed": false
      },
      "outputs": [
        {
          "name": "stdout",
          "output_type": "stream",
          "text": [
            "A3 @ A3 inversed = E check:\n",
            " [[ 0.  1.  0.]\n",
            " [ 0.  2.  0.]\n",
            " [-4.  3.  2.]]\n",
            "check failed\n"
          ]
        }
      ],
      "source": [
        "# обратная матрица - magic\n",
        "print('A3 @ A3 inversed = E check:\\n',A3@np.linalg.inv(A3))\n",
        "print('check failed')"
      ]
    },
    {
      "cell_type": "code",
      "execution_count": 14,
      "metadata": {
        "collapsed": false
      },
      "outputs": [
        {
          "name": "stdout",
          "output_type": "stream",
          "text": [
            "det(A1)):\n",
            " -3.000000000000001\n"
          ]
        }
      ],
      "source": [
        "print('det(A1)):\\n',np.linalg.det(A1))"
      ]
    },
    {
      "cell_type": "code",
      "execution_count": null,
      "metadata": {
        "collapsed": false
      },
      "outputs": [],
      "source": [
        "print('det(A2)):\\n',np.linalg.det(A2))"
      ]
    },
    {
      "cell_type": "code",
      "execution_count": null,
      "metadata": {
        "collapsed": false
      },
      "outputs": [],
      "source": [
        "print('det(A3)):\\n',np.linalg.det(A3))"
      ]
    },
    {
      "cell_type": "code",
      "execution_count": null,
      "metadata": {
        "collapsed": false
      },
      "outputs": [],
      "source": [
        "# обратная матрица - неустойчивость\n",
        "A4=np.array([[1,2,3],[4,5,6],[1,2,3.00005]])\n",
        "print('A4:\\n',A4)\n",
        "print('rk(A4):\\n',np.linalg.matrix_rank(A4))\n",
        "print('det(A4):\\n',np.linalg.det(A4))\n",
        "print('A4 inverse:\\n',np.linalg.inv(A4))"
      ]
    },
    {
      "cell_type": "code",
      "execution_count": null,
      "metadata": {
        "collapsed": false
      },
      "outputs": [],
      "source": [
        "# обратная матрица - неустойчивость вблизи нулевого определителя\n",
        "A5=np.array([[1,2,3],[4,5,6],[1,2,3.00000005]])\n",
        "print('A5:\\n',A5)\n",
        "print('rk(A5):\\n',np.linalg.matrix_rank(A5))\n",
        "print('det(A5):\\n',np.linalg.det(A5))\n",
        "print('A5 inverse:\\n',np.linalg.inv(A5))"
      ]
    },
    {
      "cell_type": "code",
      "execution_count": null,
      "metadata": {
        "collapsed": false
      },
      "outputs": [],
      "source": [
        "# обратимость матрицы Грама линейно независимой системы векторов\n",
        "v1=np.array([1,2,1])\n",
        "v2=np.array([1,1,1])\n",
        "A=np.array([v1,v2]).T\n",
        "print('A:\\n',A)\n",
        "print('Матрица Грама:\\n',A.T@A)"
      ]
    },
    {
      "cell_type": "code",
      "execution_count": null,
      "metadata": {
        "collapsed": false
      },
      "outputs": [],
      "source": [
        "print('Ранг матрицы Грама:\\n',np.linalg.matrix_rank(A.T@A))"
      ]
    },
    {
      "cell_type": "code",
      "execution_count": null,
      "metadata": {
        "collapsed": false
      },
      "outputs": [],
      "source": [
        "print('Определитель матрицы Грама:\\n',np.linalg.det(A.T@A))"
      ]
    },
    {
      "cell_type": "code",
      "execution_count": null,
      "metadata": {
        "collapsed": false
      },
      "outputs": [],
      "source": [
        "print('Обратная к матрице Грама:\\n',np.linalg.inv(A.T@A))"
      ]
    },
    {
      "cell_type": "markdown",
      "metadata": {},
      "source": [
        "Задание 10.1"
      ]
    },
    {
      "cell_type": "code",
      "execution_count": 17,
      "metadata": {
        "collapsed": true
      },
      "outputs": [
        {
          "name": "stdout",
          "output_type": "stream",
          "text": [
            "3\n",
            "[[-1.875    2.3125  -0.03125]\n",
            " [ 0.375   -0.5625   0.15625]\n",
            " [ 1.25    -1.375   -0.0625 ]]\n"
          ]
        }
      ],
      "source": [
        "A = np.array([[8, 6, 11], [7, 5, 9],[6, 10, 6]])\n",
        "print(np.linalg.matrix_rank(A))\n",
        "A_inv = np.linalg.inv(A)\n",
        "print(A_inv)"
      ]
    },
    {
      "cell_type": "markdown",
      "metadata": {},
      "source": [
        "Задания 10.2-10.7"
      ]
    },
    {
      "cell_type": "code",
      "execution_count": 30,
      "metadata": {},
      "outputs": [],
      "source": [
        "v1 = np.array([9, 10, 7, 7, 9])\n",
        "v2 = np.array([2, 0, 5, 1, 4])\n",
        "v3 = np.array([4, 0, 0, 4, 1])\n",
        "v4 = np.array([3, -4, 3, -1, -4])"
      ]
    },
    {
      "cell_type": "code",
      "execution_count": 44,
      "metadata": {},
      "outputs": [
        {
          "name": "stdout",
          "output_type": "stream",
          "text": [
            "[[ 9  2  4  3]\n",
            " [10  0  0 -4]\n",
            " [ 7  5  0  3]\n",
            " [ 7  1  4 -1]\n",
            " [ 9  4  1 -4]]\n",
            "Ранг матрицы:  4\n",
            "Матрица Гама:\n",
            " [[360  96  73 -35]\n",
            " [ 96  46  16   4]\n",
            " [ 73  16  33   4]\n",
            " [-35   4   4  51]]\n",
            "-35\n",
            "3716648.0\n",
            "Обратная матрица матрице Гама:\n",
            " [[ 0.017 -0.028 -0.026  0.016]\n",
            " [-0.028  0.072  0.03  -0.027]\n",
            " [-0.026  0.03   0.077 -0.026]\n",
            " [ 0.016 -0.027 -0.026  0.035]]\n"
          ]
        }
      ],
      "source": [
        "A = np.array([v1, v2, v3, v4]).T\n",
        "print(A)\n",
        "print('Ранг матрицы: ', np.linalg.matrix_rank(A))\n",
        "A_gama = A.T @ A\n",
        "print('Матрица Гама:\\n', A_gama)\n",
        "print(A_gama[0,3])\n",
        "det = np.linalg.det(A_gama)\n",
        "print(round(det,0))\n",
        "G_inv = np.linalg.inv(A_gama)\n",
        "print('Обратная матрица матрице Гама:\\n', np.round(G_inv, 3))"
      ]
    },
    {
      "cell_type": "code",
      "execution_count": 45,
      "metadata": {},
      "outputs": [
        {
          "name": "stdout",
          "output_type": "stream",
          "text": [
            "-9\n"
          ]
        }
      ],
      "source": [
        "v1 = np.array([-1, 2, -7, 9])\n",
        "v2 = np.array([2, 8, 2, -1])\n",
        "print(np.dot(v1, v2))"
      ]
    },
    {
      "cell_type": "code",
      "execution_count": 49,
      "metadata": {},
      "outputs": [
        {
          "name": "stdout",
          "output_type": "stream",
          "text": [
            "[[2 3]\n",
            " [3 5]]\n"
          ]
        }
      ],
      "source": [
        "A = np.array([[1, 1], [1, 2]])\n",
        "print(A.T @ A)"
      ]
    },
    {
      "cell_type": "code",
      "execution_count": 50,
      "metadata": {},
      "outputs": [
        {
          "name": "stdout",
          "output_type": "stream",
          "text": [
            "[[ 7. -2.]\n",
            " [-3.  1.]]\n"
          ]
        }
      ],
      "source": [
        "A = np.array([[1, 2], [3, 7]])\n",
        "print(np.linalg.inv(A))"
      ]
    },
    {
      "cell_type": "code",
      "execution_count": 51,
      "metadata": {},
      "outputs": [
        {
          "name": "stdout",
          "output_type": "stream",
          "text": [
            "2\n"
          ]
        }
      ],
      "source": [
        "A = np.array([[2, 10, -2], [3, 2, -2], [8, 14, -6]])\n",
        "print(np.linalg.matrix_rank(A))"
      ]
    },
    {
      "cell_type": "code",
      "execution_count": 52,
      "metadata": {},
      "outputs": [
        {
          "name": "stdout",
          "output_type": "stream",
          "text": [
            "2\n"
          ]
        }
      ],
      "source": [
        "A = np.array([[4, 7, -1], [-4, 2, 5], [0, 9, 4]])\n",
        "print(np.linalg.matrix_rank(A))"
      ]
    },
    {
      "cell_type": "code",
      "execution_count": 56,
      "metadata": {},
      "outputs": [
        {
          "name": "stdout",
          "output_type": "stream",
          "text": [
            "[ 5 -1  0]\n"
          ]
        }
      ],
      "source": [
        "A = np.array([[1, -5], [2, 1], [1, 1]])\n",
        "w = np.array([1, 1])\n",
        "b1 = A @ w\n",
        "b = np.array([1,2,2])\n",
        "print(b-b1)"
      ]
    },
    {
      "cell_type": "markdown",
      "metadata": {},
      "source": [
        "Задание 2.11"
      ]
    },
    {
      "cell_type": "code",
      "execution_count": 65,
      "metadata": {},
      "outputs": [
        {
          "name": "stdout",
          "output_type": "stream",
          "text": [
            "[[12  0]\n",
            " [ 0 10]]\n",
            "\n",
            " [[0.08333333 0.        ]\n",
            " [0.         0.1       ]]\n",
            "\n",
            " [-6 16]\n",
            "\n",
            " [-0.5  1.6]\n"
          ]
        }
      ],
      "source": [
        "A = np.array([[1,2], [-3,1], [1,2], [1,-1]])\n",
        "b = np.array([1,4,5,0])\n",
        "G = A.T @ A\n",
        "print(G)\n",
        "G_inv = np.linalg.inv(G)\n",
        "print('\\n', G_inv)\n",
        "A_right = A.T @ b\n",
        "print('\\n',A_right)\n",
        "w = G_inv @ A_right\n",
        "print('\\n',w)"
      ]
    },
    {
      "cell_type": "markdown",
      "metadata": {},
      "source": [
        "MATH&ML-2. Линейная алгебра в контексте линейных методов. Часть II  3. Линейная регрессия по методу наименьших квадратов"
      ]
    },
    {
      "cell_type": "code",
      "execution_count": 66,
      "metadata": {},
      "outputs": [
        {
          "name": "stderr",
          "output_type": "stream",
          "text": [
            "/Library/Frameworks/Python.framework/Versions/3.10/lib/python3.10/site-packages/sklearn/utils/deprecation.py:87: FutureWarning: Function load_boston is deprecated; `load_boston` is deprecated in 1.0 and will be removed in 1.2.\n",
            "\n",
            "    The Boston housing prices dataset has an ethical problem. You can refer to\n",
            "    the documentation of this function for further details.\n",
            "\n",
            "    The scikit-learn maintainers therefore strongly discourage the use of this\n",
            "    dataset unless the purpose of the code is to study and educate about\n",
            "    ethical issues in data science and machine learning.\n",
            "\n",
            "    In this special case, you can fetch the dataset from the original\n",
            "    source::\n",
            "\n",
            "        import pandas as pd\n",
            "        import numpy as np\n",
            "\n",
            "        data_url = \"http://lib.stat.cmu.edu/datasets/boston\"\n",
            "        raw_df = pd.read_csv(data_url, sep=\"\\s+\", skiprows=22, header=None)\n",
            "        data = np.hstack([raw_df.values[::2, :], raw_df.values[1::2, :2]])\n",
            "        target = raw_df.values[1::2, 2]\n",
            "\n",
            "    Alternative datasets include the California housing dataset (i.e.\n",
            "    :func:`~sklearn.datasets.fetch_california_housing`) and the Ames housing\n",
            "    dataset. You can load the datasets as follows::\n",
            "\n",
            "        from sklearn.datasets import fetch_california_housing\n",
            "        housing = fetch_california_housing()\n",
            "\n",
            "    for the California housing dataset and::\n",
            "\n",
            "        from sklearn.datasets import fetch_openml\n",
            "        housing = fetch_openml(name=\"house_prices\", as_frame=True)\n",
            "\n",
            "    for the Ames housing dataset.\n",
            "  warnings.warn(msg, category=FutureWarning)\n"
          ]
        },
        {
          "data": {
            "text/html": [
              "<div>\n",
              "<style scoped>\n",
              "    .dataframe tbody tr th:only-of-type {\n",
              "        vertical-align: middle;\n",
              "    }\n",
              "\n",
              "    .dataframe tbody tr th {\n",
              "        vertical-align: top;\n",
              "    }\n",
              "\n",
              "    .dataframe thead th {\n",
              "        text-align: right;\n",
              "    }\n",
              "</style>\n",
              "<table border=\"1\" class=\"dataframe\">\n",
              "  <thead>\n",
              "    <tr style=\"text-align: right;\">\n",
              "      <th></th>\n",
              "      <th>CRIM</th>\n",
              "      <th>ZN</th>\n",
              "      <th>INDUS</th>\n",
              "      <th>CHAS</th>\n",
              "      <th>NOX</th>\n",
              "      <th>RM</th>\n",
              "      <th>AGE</th>\n",
              "      <th>DIS</th>\n",
              "      <th>RAD</th>\n",
              "      <th>TAX</th>\n",
              "      <th>PTRATIO</th>\n",
              "      <th>B</th>\n",
              "      <th>LSTAT</th>\n",
              "      <th>PRICE</th>\n",
              "    </tr>\n",
              "  </thead>\n",
              "  <tbody>\n",
              "    <tr>\n",
              "      <th>0</th>\n",
              "      <td>0.00632</td>\n",
              "      <td>18.0</td>\n",
              "      <td>2.31</td>\n",
              "      <td>0.0</td>\n",
              "      <td>0.538</td>\n",
              "      <td>6.575</td>\n",
              "      <td>65.2</td>\n",
              "      <td>4.0900</td>\n",
              "      <td>1.0</td>\n",
              "      <td>296.0</td>\n",
              "      <td>15.3</td>\n",
              "      <td>396.90</td>\n",
              "      <td>4.98</td>\n",
              "      <td>24.0</td>\n",
              "    </tr>\n",
              "    <tr>\n",
              "      <th>1</th>\n",
              "      <td>0.02731</td>\n",
              "      <td>0.0</td>\n",
              "      <td>7.07</td>\n",
              "      <td>0.0</td>\n",
              "      <td>0.469</td>\n",
              "      <td>6.421</td>\n",
              "      <td>78.9</td>\n",
              "      <td>4.9671</td>\n",
              "      <td>2.0</td>\n",
              "      <td>242.0</td>\n",
              "      <td>17.8</td>\n",
              "      <td>396.90</td>\n",
              "      <td>9.14</td>\n",
              "      <td>21.6</td>\n",
              "    </tr>\n",
              "    <tr>\n",
              "      <th>2</th>\n",
              "      <td>0.02729</td>\n",
              "      <td>0.0</td>\n",
              "      <td>7.07</td>\n",
              "      <td>0.0</td>\n",
              "      <td>0.469</td>\n",
              "      <td>7.185</td>\n",
              "      <td>61.1</td>\n",
              "      <td>4.9671</td>\n",
              "      <td>2.0</td>\n",
              "      <td>242.0</td>\n",
              "      <td>17.8</td>\n",
              "      <td>392.83</td>\n",
              "      <td>4.03</td>\n",
              "      <td>34.7</td>\n",
              "    </tr>\n",
              "    <tr>\n",
              "      <th>3</th>\n",
              "      <td>0.03237</td>\n",
              "      <td>0.0</td>\n",
              "      <td>2.18</td>\n",
              "      <td>0.0</td>\n",
              "      <td>0.458</td>\n",
              "      <td>6.998</td>\n",
              "      <td>45.8</td>\n",
              "      <td>6.0622</td>\n",
              "      <td>3.0</td>\n",
              "      <td>222.0</td>\n",
              "      <td>18.7</td>\n",
              "      <td>394.63</td>\n",
              "      <td>2.94</td>\n",
              "      <td>33.4</td>\n",
              "    </tr>\n",
              "    <tr>\n",
              "      <th>4</th>\n",
              "      <td>0.06905</td>\n",
              "      <td>0.0</td>\n",
              "      <td>2.18</td>\n",
              "      <td>0.0</td>\n",
              "      <td>0.458</td>\n",
              "      <td>7.147</td>\n",
              "      <td>54.2</td>\n",
              "      <td>6.0622</td>\n",
              "      <td>3.0</td>\n",
              "      <td>222.0</td>\n",
              "      <td>18.7</td>\n",
              "      <td>396.90</td>\n",
              "      <td>5.33</td>\n",
              "      <td>36.2</td>\n",
              "    </tr>\n",
              "  </tbody>\n",
              "</table>\n",
              "</div>"
            ],
            "text/plain": [
              "      CRIM    ZN  INDUS  CHAS    NOX     RM   AGE     DIS  RAD    TAX  \\\n",
              "0  0.00632  18.0   2.31   0.0  0.538  6.575  65.2  4.0900  1.0  296.0   \n",
              "1  0.02731   0.0   7.07   0.0  0.469  6.421  78.9  4.9671  2.0  242.0   \n",
              "2  0.02729   0.0   7.07   0.0  0.469  7.185  61.1  4.9671  2.0  242.0   \n",
              "3  0.03237   0.0   2.18   0.0  0.458  6.998  45.8  6.0622  3.0  222.0   \n",
              "4  0.06905   0.0   2.18   0.0  0.458  7.147  54.2  6.0622  3.0  222.0   \n",
              "\n",
              "   PTRATIO       B  LSTAT  PRICE  \n",
              "0     15.3  396.90   4.98   24.0  \n",
              "1     17.8  396.90   9.14   21.6  \n",
              "2     17.8  392.83   4.03   34.7  \n",
              "3     18.7  394.63   2.94   33.4  \n",
              "4     18.7  396.90   5.33   36.2  "
            ]
          },
          "execution_count": 66,
          "metadata": {},
          "output_type": "execute_result"
        }
      ],
      "source": [
        "# Загрузка библиотек\n",
        "import numpy as np # для работы с массивами\n",
        "import pandas as pd # для работы с DataFrame \n",
        "from sklearn import datasets # для импорта данных\n",
        "import seaborn as sns # для визуализации статистических данных\n",
        "import matplotlib.pyplot as plt # для построения графиков\n",
        "\n",
        "# загружаем датасет\n",
        "boston = datasets.load_boston()\n",
        "boston_data = pd.DataFrame(\n",
        "    data=boston.data, #данные\n",
        "    columns=boston.feature_names #наименования столбцов\n",
        ")\n",
        "boston_data['PRICE'] = boston.target\n",
        "boston_data.head()"
      ]
    },
    {
      "cell_type": "code",
      "execution_count": 67,
      "metadata": {},
      "outputs": [
        {
          "name": "stdout",
          "output_type": "stream",
          "text": [
            "[[1.0000e+00 6.3200e-03 6.5750e+00]\n",
            " [1.0000e+00 2.7310e-02 6.4210e+00]\n",
            " [1.0000e+00 2.7290e-02 7.1850e+00]\n",
            " ...\n",
            " [1.0000e+00 6.0760e-02 6.9760e+00]\n",
            " [1.0000e+00 1.0959e-01 6.7940e+00]\n",
            " [1.0000e+00 4.7410e-02 6.0300e+00]]\n"
          ]
        }
      ],
      "source": [
        "# составляем матрицу А и вектор целевой переменной\n",
        "CRIM = boston_data['CRIM']\n",
        "RM = boston_data['RM']\n",
        "A = np.column_stack((np.ones(506), CRIM, RM))\n",
        "y = boston_data[['PRICE']]\n",
        "print(A)"
      ]
    },
    {
      "cell_type": "code",
      "execution_count": 68,
      "metadata": {},
      "outputs": [
        {
          "name": "stdout",
          "output_type": "stream",
          "text": [
            "(506, 3)\n"
          ]
        }
      ],
      "source": [
        "# проверим размерность\n",
        "print(A.shape)\n",
        "## (506, 3)"
      ]
    },
    {
      "cell_type": "code",
      "execution_count": 69,
      "metadata": {},
      "outputs": [
        {
          "name": "stdout",
          "output_type": "stream",
          "text": [
            "[[-29.24471945]\n",
            " [ -0.26491325]\n",
            " [  8.39106825]]\n"
          ]
        }
      ],
      "source": [
        "# вычислим OLS-оценку для коэффициентов\n",
        "w_hat = np.linalg.inv(A.T@A)@A.T@y\n",
        "print(w_hat.values)"
      ]
    },
    {
      "cell_type": "code",
      "execution_count": 73,
      "metadata": {},
      "outputs": [
        {
          "data": {
            "text/html": [
              "<div>\n",
              "<style scoped>\n",
              "    .dataframe tbody tr th:only-of-type {\n",
              "        vertical-align: middle;\n",
              "    }\n",
              "\n",
              "    .dataframe tbody tr th {\n",
              "        vertical-align: top;\n",
              "    }\n",
              "\n",
              "    .dataframe thead th {\n",
              "        text-align: right;\n",
              "    }\n",
              "</style>\n",
              "<table border=\"1\" class=\"dataframe\">\n",
              "  <thead>\n",
              "    <tr style=\"text-align: right;\">\n",
              "      <th></th>\n",
              "      <th>PRICE</th>\n",
              "    </tr>\n",
              "  </thead>\n",
              "  <tbody>\n",
              "    <tr>\n",
              "      <th>0</th>\n",
              "      <td>-29.244719</td>\n",
              "    </tr>\n",
              "    <tr>\n",
              "      <th>1</th>\n",
              "      <td>-0.264913</td>\n",
              "    </tr>\n",
              "    <tr>\n",
              "      <th>2</th>\n",
              "      <td>8.391068</td>\n",
              "    </tr>\n",
              "  </tbody>\n",
              "</table>\n",
              "</div>"
            ],
            "text/plain": [
              "       PRICE\n",
              "0 -29.244719\n",
              "1  -0.264913\n",
              "2   8.391068"
            ]
          },
          "metadata": {},
          "output_type": "display_data"
        }
      ],
      "source": [
        "display(w_hat)"
      ]
    },
    {
      "cell_type": "code",
      "execution_count": 75,
      "metadata": {},
      "outputs": [
        {
          "name": "stdout",
          "output_type": "stream",
          "text": [
            "[37.85733519]\n"
          ]
        }
      ],
      "source": [
        "# добавились новые данные:\n",
        "CRIM_new = 0.1\n",
        "RM_new = 8\n",
        "# делаем прогноз типичной стоимости дома\n",
        "PRICE_new = w_hat.iloc[0]+w_hat.iloc[1]*CRIM_new+w_hat.iloc[2]*RM_new\n",
        "print(PRICE_new.values)"
      ]
    },
    {
      "cell_type": "code",
      "execution_count": 76,
      "metadata": {},
      "outputs": [
        {
          "name": "stdout",
          "output_type": "stream",
          "text": [
            "prediction: [[37.85733519]]\n"
          ]
        }
      ],
      "source": [
        "# короткий способ сделать прогноз\n",
        "new=np.array([[1,CRIM_new,RM_new]])\n",
        "print('prediction:', (new@w_hat).values)"
      ]
    },
    {
      "cell_type": "code",
      "execution_count": 77,
      "metadata": {},
      "outputs": [
        {
          "name": "stdout",
          "output_type": "stream",
          "text": [
            "w_hat: [[-29.24471945  -0.26491325   8.39106825]]\n",
            "prediction: [[37.85733519]]\n"
          ]
        }
      ],
      "source": [
        "from sklearn.linear_model import LinearRegression\n",
        "# создаём модель линейной регрессии\n",
        "model = LinearRegression(fit_intercept=False)\n",
        "# вычисляем коэффициенты регрессии\n",
        "model.fit(A, y)\n",
        "print('w_hat:', model.coef_)\n",
        "new_prediction = model.predict(new)\n",
        "print('prediction:', new_prediction)"
      ]
    },
    {
      "cell_type": "code",
      "execution_count": 79,
      "metadata": {},
      "outputs": [
        {
          "ename": "LinAlgError",
          "evalue": "Singular matrix",
          "output_type": "error",
          "traceback": [
            "\u001b[0;31m---------------------------------------------------------------------------\u001b[0m",
            "\u001b[0;31mLinAlgError\u001b[0m                               Traceback (most recent call last)",
            "\u001b[1;32m/Users/nadezdaoskina/Documents/SkillFactory/sf_data_science/Math & ML/MATHML_Module_1_Matrix_Inverse_screencast.ipynb Ячейка 44\u001b[0m in \u001b[0;36m<cell line: 9>\u001b[0;34m()\u001b[0m\n\u001b[1;32m      <a href='vscode-notebook-cell:/Users/nadezdaoskina/Documents/SkillFactory/sf_data_science/Math%20%26%20ML/MATHML_Module_1_Matrix_Inverse_screencast.ipynb#X62sZmlsZQ%3D%3D?line=6'>7</a>\u001b[0m y \u001b[39m=\u001b[39m np\u001b[39m.\u001b[39marray([\u001b[39m1\u001b[39m, \u001b[39m2\u001b[39m, \u001b[39m5\u001b[39m, \u001b[39m1\u001b[39m])\n\u001b[1;32m      <a href='vscode-notebook-cell:/Users/nadezdaoskina/Documents/SkillFactory/sf_data_science/Math%20%26%20ML/MATHML_Module_1_Matrix_Inverse_screencast.ipynb#X62sZmlsZQ%3D%3D?line=7'>8</a>\u001b[0m \u001b[39m# вычислим OLS-оценку для коэффициентов\u001b[39;00m\n\u001b[0;32m----> <a href='vscode-notebook-cell:/Users/nadezdaoskina/Documents/SkillFactory/sf_data_science/Math%20%26%20ML/MATHML_Module_1_Matrix_Inverse_screencast.ipynb#X62sZmlsZQ%3D%3D?line=8'>9</a>\u001b[0m w_hat\u001b[39m=\u001b[39mnp\u001b[39m.\u001b[39;49mlinalg\u001b[39m.\u001b[39;49minv(A\u001b[39m.\u001b[39;49mT\u001b[39m@A\u001b[39;49m)\u001b[39m@A\u001b[39m\u001b[39m.\u001b[39mT\u001b[39m@y\u001b[39m\n\u001b[1;32m     <a href='vscode-notebook-cell:/Users/nadezdaoskina/Documents/SkillFactory/sf_data_science/Math%20%26%20ML/MATHML_Module_1_Matrix_Inverse_screencast.ipynb#X62sZmlsZQ%3D%3D?line=9'>10</a>\u001b[0m \u001b[39mprint\u001b[39m(w_hat)\n",
            "File \u001b[0;32m<__array_function__ internals>:180\u001b[0m, in \u001b[0;36minv\u001b[0;34m(*args, **kwargs)\u001b[0m\n",
            "File \u001b[0;32m/Library/Frameworks/Python.framework/Versions/3.10/lib/python3.10/site-packages/numpy/linalg/linalg.py:545\u001b[0m, in \u001b[0;36minv\u001b[0;34m(a)\u001b[0m\n\u001b[1;32m    543\u001b[0m signature \u001b[39m=\u001b[39m \u001b[39m'\u001b[39m\u001b[39mD->D\u001b[39m\u001b[39m'\u001b[39m \u001b[39mif\u001b[39;00m isComplexType(t) \u001b[39melse\u001b[39;00m \u001b[39m'\u001b[39m\u001b[39md->d\u001b[39m\u001b[39m'\u001b[39m\n\u001b[1;32m    544\u001b[0m extobj \u001b[39m=\u001b[39m get_linalg_error_extobj(_raise_linalgerror_singular)\n\u001b[0;32m--> 545\u001b[0m ainv \u001b[39m=\u001b[39m _umath_linalg\u001b[39m.\u001b[39;49minv(a, signature\u001b[39m=\u001b[39;49msignature, extobj\u001b[39m=\u001b[39;49mextobj)\n\u001b[1;32m    546\u001b[0m \u001b[39mreturn\u001b[39;00m wrap(ainv\u001b[39m.\u001b[39mastype(result_t, copy\u001b[39m=\u001b[39m\u001b[39mFalse\u001b[39;00m))\n",
            "File \u001b[0;32m/Library/Frameworks/Python.framework/Versions/3.10/lib/python3.10/site-packages/numpy/linalg/linalg.py:88\u001b[0m, in \u001b[0;36m_raise_linalgerror_singular\u001b[0;34m(err, flag)\u001b[0m\n\u001b[1;32m     87\u001b[0m \u001b[39mdef\u001b[39;00m \u001b[39m_raise_linalgerror_singular\u001b[39m(err, flag):\n\u001b[0;32m---> 88\u001b[0m     \u001b[39mraise\u001b[39;00m LinAlgError(\u001b[39m\"\u001b[39m\u001b[39mSingular matrix\u001b[39m\u001b[39m\"\u001b[39m)\n",
            "\u001b[0;31mLinAlgError\u001b[0m: Singular matrix"
          ]
        }
      ],
      "source": [
        "# создадим вырожденную матрицу А\n",
        "A = np.array([\n",
        "    [1, 1, 1, 1], \n",
        "    [2, 1, 1, 2], \n",
        "    [-2, -1, -1, -2]]\n",
        ").T\n",
        "y = np.array([1, 2, 5, 1])\n",
        "# вычислим OLS-оценку для коэффициентов\n",
        "w_hat=np.linalg.inv(A.T@A)@A.T@y\n",
        "print(w_hat) \n",
        "## LinAlgError: Singular matrix"
      ]
    },
    {
      "cell_type": "code",
      "execution_count": 80,
      "metadata": {},
      "outputs": [
        {
          "name": "stdout",
          "output_type": "stream",
          "text": [
            "w_hat: [ 6.   -1.25  1.25]\n"
          ]
        }
      ],
      "source": [
        "# создаём модель линейной регрессии\n",
        "model = LinearRegression(fit_intercept=False)\n",
        "# вычисляем коэффициенты регрессии\n",
        "model.fit(A, y)\n",
        "print('w_hat:', model.coef_)\n",
        "## w_hat: [ 6.   -1.25  1.25]"
      ]
    },
    {
      "cell_type": "code",
      "execution_count": 81,
      "metadata": {},
      "outputs": [
        {
          "data": {
            "text/plain": [
              "(array([ 6.  , -1.25,  1.25]),\n",
              " array([], dtype=float64),\n",
              " 2,\n",
              " array([4.86435029e+00, 5.81460412e-01, 3.42443768e-17]))"
            ]
          },
          "execution_count": 81,
          "metadata": {},
          "output_type": "execute_result"
        }
      ],
      "source": [
        "# классическая OLS-регрессия в numpy с возможностью получения решения даже для вырожденных матриц\n",
        "np.linalg.lstsq(A, y, rcond=None)"
      ]
    },
    {
      "cell_type": "markdown",
      "metadata": {},
      "source": [
        "Задание 3.7"
      ]
    },
    {
      "cell_type": "code",
      "execution_count": 83,
      "metadata": {},
      "outputs": [
        {
          "name": "stdout",
          "output_type": "stream",
          "text": [
            "[[ 1.  1.  1.  1.]\n",
            " [ 1.  1.  0.  2.]\n",
            " [-1.  1.  0.  0.]\n",
            " [ 0.  2.  0.  2.]]\n",
            "\n",
            " 0.0\n"
          ]
        }
      ],
      "source": [
        "x1 = np.array([1,1,0,2])\n",
        "x2 = np.array([-1,1,0,0])\n",
        "x3 = np.array([0,2,0,2])\n",
        "intercept = np.ones(4)\n",
        "A = np.array([intercept, x1,x2,x3])\n",
        "print(A)\n",
        "print('\\n', np.linalg.det(A))"
      ]
    },
    {
      "cell_type": "code",
      "execution_count": 86,
      "metadata": {},
      "outputs": [
        {
          "data": {
            "text/plain": [
              "array([ 0.70710678, -0.70710678])"
            ]
          },
          "execution_count": 86,
          "metadata": {},
          "output_type": "execute_result"
        }
      ],
      "source": [
        "x = np.array([12,8])\n",
        "x_cent = x - np.mean(x)\n",
        "x_norm = x_cent / np.linalg.norm(x_cent)\n",
        "x_norm"
      ]
    },
    {
      "cell_type": "code",
      "execution_count": 87,
      "metadata": {},
      "outputs": [
        {
          "name": "stdout",
          "output_type": "stream",
          "text": [
            "[[1.         0.05241424]\n",
            " [0.05241424 1.        ]]\n"
          ]
        }
      ],
      "source": [
        "x1 = np.array([5,1,2])\n",
        "x2 = np.array([4,2,8])\n",
        "print(np.corrcoef(x1,x2))"
      ]
    },
    {
      "cell_type": "code",
      "execution_count": 107,
      "metadata": {},
      "outputs": [
        {
          "name": "stdout",
          "output_type": "stream",
          "text": [
            "3\n",
            "5e-07\n"
          ]
        }
      ],
      "source": [
        "x1 = np.array([5.1,1.8,2.1,10.3,12.1,12.6])\n",
        "x2 = np.array([10.2,3.7,4.1,20.5,24.2,24.1])\n",
        "x3 = np.array([2.5,0.9,1.1,5.1,6.1,6.3])\n",
        "\n",
        "A = np.array([x1,x2,x3])\n",
        "corr = np.corrcoef(A)\n",
        "print(np.linalg.matrix_rank(corr))\n",
        "print(round(np.linalg.det(corr),7))"
      ]
    },
    {
      "cell_type": "markdown",
      "metadata": {},
      "source": [
        "5. Практика: линейная регрессия и метод наименьших квадратов"
      ]
    },
    {
      "cell_type": "code",
      "execution_count": 280,
      "metadata": {},
      "outputs": [],
      "source": [
        "import numpy as np \n",
        "import pandas as pd \n",
        "import sklearn\n",
        "\n",
        "import seaborn as sns \n",
        "import matplotlib.pyplot as plt \n",
        "%matplotlib inline"
      ]
    },
    {
      "cell_type": "code",
      "execution_count": 281,
      "metadata": {},
      "outputs": [
        {
          "data": {
            "text/html": [
              "<div>\n",
              "<style scoped>\n",
              "    .dataframe tbody tr th:only-of-type {\n",
              "        vertical-align: middle;\n",
              "    }\n",
              "\n",
              "    .dataframe tbody tr th {\n",
              "        vertical-align: top;\n",
              "    }\n",
              "\n",
              "    .dataframe thead th {\n",
              "        text-align: right;\n",
              "    }\n",
              "</style>\n",
              "<table border=\"1\" class=\"dataframe\">\n",
              "  <thead>\n",
              "    <tr style=\"text-align: right;\">\n",
              "      <th></th>\n",
              "      <th>Well</th>\n",
              "      <th>Por</th>\n",
              "      <th>Perm</th>\n",
              "      <th>AI</th>\n",
              "      <th>Brittle</th>\n",
              "      <th>TOC</th>\n",
              "      <th>VR</th>\n",
              "      <th>Prod</th>\n",
              "    </tr>\n",
              "  </thead>\n",
              "  <tbody>\n",
              "    <tr>\n",
              "      <th>0</th>\n",
              "      <td>1</td>\n",
              "      <td>12.08</td>\n",
              "      <td>2.92</td>\n",
              "      <td>2.80</td>\n",
              "      <td>81.40</td>\n",
              "      <td>1.16</td>\n",
              "      <td>2.31</td>\n",
              "      <td>4165.196191</td>\n",
              "    </tr>\n",
              "    <tr>\n",
              "      <th>1</th>\n",
              "      <td>2</td>\n",
              "      <td>12.38</td>\n",
              "      <td>3.53</td>\n",
              "      <td>3.22</td>\n",
              "      <td>46.17</td>\n",
              "      <td>0.89</td>\n",
              "      <td>1.88</td>\n",
              "      <td>3561.146205</td>\n",
              "    </tr>\n",
              "    <tr>\n",
              "      <th>2</th>\n",
              "      <td>3</td>\n",
              "      <td>14.02</td>\n",
              "      <td>2.59</td>\n",
              "      <td>4.01</td>\n",
              "      <td>72.80</td>\n",
              "      <td>0.89</td>\n",
              "      <td>2.72</td>\n",
              "      <td>4284.348574</td>\n",
              "    </tr>\n",
              "    <tr>\n",
              "      <th>3</th>\n",
              "      <td>4</td>\n",
              "      <td>17.67</td>\n",
              "      <td>6.75</td>\n",
              "      <td>2.63</td>\n",
              "      <td>39.81</td>\n",
              "      <td>1.08</td>\n",
              "      <td>1.88</td>\n",
              "      <td>5098.680869</td>\n",
              "    </tr>\n",
              "    <tr>\n",
              "      <th>4</th>\n",
              "      <td>5</td>\n",
              "      <td>17.52</td>\n",
              "      <td>4.57</td>\n",
              "      <td>3.18</td>\n",
              "      <td>10.94</td>\n",
              "      <td>1.51</td>\n",
              "      <td>1.90</td>\n",
              "      <td>3406.132832</td>\n",
              "    </tr>\n",
              "  </tbody>\n",
              "</table>\n",
              "</div>"
            ],
            "text/plain": [
              "   Well    Por  Perm    AI  Brittle   TOC    VR         Prod\n",
              "0     1  12.08  2.92  2.80    81.40  1.16  2.31  4165.196191\n",
              "1     2  12.38  3.53  3.22    46.17  0.89  1.88  3561.146205\n",
              "2     3  14.02  2.59  4.01    72.80  0.89  2.72  4284.348574\n",
              "3     4  17.67  6.75  2.63    39.81  1.08  1.88  5098.680869\n",
              "4     5  17.52  4.57  3.18    10.94  1.51  1.90  3406.132832"
            ]
          },
          "execution_count": 281,
          "metadata": {},
          "output_type": "execute_result"
        }
      ],
      "source": [
        "data = pd.read_csv('data/unconv.csv')\n",
        "data.head()"
      ]
    },
    {
      "cell_type": "code",
      "execution_count": 282,
      "metadata": {},
      "outputs": [
        {
          "data": {
            "text/plain": [
              "<AxesSubplot:>"
            ]
          },
          "execution_count": 282,
          "metadata": {},
          "output_type": "execute_result"
        },
        {
          "data": {
            "image/png": "[encoded data removed]",
            "text/plain": [
              "<Figure size 432x288 with 2 Axes>"
            ]
          },
          "metadata": {
            "needs_background": "light"
          },
          "output_type": "display_data"
        }
      ],
      "source": [
        "sns.heatmap(data.corr(), annot=True, cmap='seismic')\n"
      ]
    },
    {
      "cell_type": "code",
      "execution_count": 283,
      "metadata": {},
      "outputs": [
        {
          "name": "stdout",
          "output_type": "stream",
          "text": [
            "Rank = 8\n",
            "Def =  0.0007\n"
          ]
        }
      ],
      "source": [
        "C = data.corr()\n",
        "print('Rank =', np.linalg.matrix_rank(C))\n",
        "print('Def = ', round(np.linalg.det(C),4))"
      ]
    },
    {
      "cell_type": "code",
      "execution_count": 284,
      "metadata": {},
      "outputs": [
        {
          "name": "stdout",
          "output_type": "stream",
          "text": [
            "intercept   -1232.0\n",
            "Well            0.0\n",
            "Por           230.0\n",
            "Perm          116.0\n",
            "AI           -365.0\n",
            "Brittle        25.0\n",
            "TOC           -78.0\n",
            "VR            785.0\n",
            "dtype: float64\n"
          ]
        }
      ],
      "source": [
        "X = data.drop(['Prod'], axis=1)\n",
        "y = data['Prod'].values\n",
        "index = ['intercept'] + list(X.columns)\n",
        "n = X.shape[0]\n",
        "X = np.column_stack((np.ones(n), X))\n",
        "\n",
        "w_hat = np.linalg.inv(X.T @ X) @ X.T @ y\n",
        "print(pd.Series(w.round(), index=index))"
      ]
    },
    {
      "cell_type": "code",
      "execution_count": 285,
      "metadata": {},
      "outputs": [
        {
          "name": "stdout",
          "output_type": "stream",
          "text": [
            "4723.064053707441\n",
            "25.0\n"
          ]
        }
      ],
      "source": [
        "x_new = np.array([1, 106, 15.32, 3.71, 3.29, 55.99, 1.35, 2.42])\n",
        "y_new = 4748.315024\n",
        "y_new_pred = x_new @ w_hat\n",
        "print(y_new_pred)\n",
        "print(np.round(np.abs(y_new_pred - y_new), 0))"
      ]
    },
    {
      "cell_type": "code",
      "execution_count": 286,
      "metadata": {},
      "outputs": [
        {
          "name": "stdout",
          "output_type": "stream",
          "text": [
            "3.6279468451334154\n"
          ]
        }
      ],
      "source": [
        "from sklearn.metrics import mean_absolute_percentage_error\n",
        "y_pred = X @ w\n",
        "print(mean_absolute_percentage_error(y, y_pred)*100)"
      ]
    },
    {
      "cell_type": "code",
      "execution_count": 287,
      "metadata": {},
      "outputs": [
        {
          "data": {
            "text/plain": [
              "<AxesSubplot:>"
            ]
          },
          "execution_count": 287,
          "metadata": {},
          "output_type": "execute_result"
        },
        {
          "data": {
            "image/png": "[encoded data removed]",
            "text/plain": [
              "<Figure size 432x288 with 2 Axes>"
            ]
          },
          "metadata": {
            "needs_background": "light"
          },
          "output_type": "display_data"
        }
      ],
      "source": [
        "columns_to_del = ['Well', 'TOC', 'Perm']\n",
        "data = data.drop(columns=columns_to_del)\n",
        "sns.heatmap(data.corr(), annot=True, cmap='seismic')"
      ]
    },
    {
      "cell_type": "code",
      "execution_count": 201,
      "metadata": {},
      "outputs": [
        {
          "name": "stdout",
          "output_type": "stream",
          "text": [
            "intecept   -1835.0\n",
            "Por          293.0\n",
            "AI          -200.0\n",
            "Brittle       28.0\n",
            "VR           517.0\n",
            "dtype: float64\n",
            "4.06\n"
          ]
        }
      ],
      "source": [
        "X = data.drop(columns=['Prod'])\n",
        "y = data['Prod'].values\n",
        "index = ['intecept'] + list(X.columns)\n",
        "n = X.shape[0]\n",
        "X = np.column_stack((np.ones(n), X))\n",
        "\n",
        "w_hat = np.linalg.inv(X.T @ X) @ X.T @ y\n",
        "print(pd.Series(w_hat.round(), index=index))\n",
        "\n",
        "y_pred = X @ w_hat\n",
        "print(round(mean_absolute_percentage_error(y_pred, y)*100,2))"
      ]
    },
    {
      "cell_type": "markdown",
      "metadata": {},
      "source": [
        "8.) Практика: полиномиальная регрессия и регуляризация"
      ]
    },
    {
      "cell_type": "markdown",
      "metadata": {},
      "source": [
        "Задание 8.1"
      ]
    },
    {
      "cell_type": "code",
      "execution_count": 295,
      "metadata": {},
      "outputs": [
        {
          "data": {
            "text/html": [
              "<div>\n",
              "<style scoped>\n",
              "    .dataframe tbody tr th:only-of-type {\n",
              "        vertical-align: middle;\n",
              "    }\n",
              "\n",
              "    .dataframe tbody tr th {\n",
              "        vertical-align: top;\n",
              "    }\n",
              "\n",
              "    .dataframe thead th {\n",
              "        text-align: right;\n",
              "    }\n",
              "</style>\n",
              "<table border=\"1\" class=\"dataframe\">\n",
              "  <thead>\n",
              "    <tr style=\"text-align: right;\">\n",
              "      <th></th>\n",
              "      <th>Well</th>\n",
              "      <th>Por</th>\n",
              "      <th>Perm</th>\n",
              "      <th>AI</th>\n",
              "      <th>Brittle</th>\n",
              "      <th>TOC</th>\n",
              "      <th>VR</th>\n",
              "      <th>Prod</th>\n",
              "    </tr>\n",
              "  </thead>\n",
              "  <tbody>\n",
              "    <tr>\n",
              "      <th>0</th>\n",
              "      <td>1</td>\n",
              "      <td>12.08</td>\n",
              "      <td>2.92</td>\n",
              "      <td>2.80</td>\n",
              "      <td>81.40</td>\n",
              "      <td>1.16</td>\n",
              "      <td>2.31</td>\n",
              "      <td>4165.196191</td>\n",
              "    </tr>\n",
              "    <tr>\n",
              "      <th>1</th>\n",
              "      <td>2</td>\n",
              "      <td>12.38</td>\n",
              "      <td>3.53</td>\n",
              "      <td>3.22</td>\n",
              "      <td>46.17</td>\n",
              "      <td>0.89</td>\n",
              "      <td>1.88</td>\n",
              "      <td>3561.146205</td>\n",
              "    </tr>\n",
              "    <tr>\n",
              "      <th>2</th>\n",
              "      <td>3</td>\n",
              "      <td>14.02</td>\n",
              "      <td>2.59</td>\n",
              "      <td>4.01</td>\n",
              "      <td>72.80</td>\n",
              "      <td>0.89</td>\n",
              "      <td>2.72</td>\n",
              "      <td>4284.348574</td>\n",
              "    </tr>\n",
              "    <tr>\n",
              "      <th>3</th>\n",
              "      <td>4</td>\n",
              "      <td>17.67</td>\n",
              "      <td>6.75</td>\n",
              "      <td>2.63</td>\n",
              "      <td>39.81</td>\n",
              "      <td>1.08</td>\n",
              "      <td>1.88</td>\n",
              "      <td>5098.680869</td>\n",
              "    </tr>\n",
              "    <tr>\n",
              "      <th>4</th>\n",
              "      <td>5</td>\n",
              "      <td>17.52</td>\n",
              "      <td>4.57</td>\n",
              "      <td>3.18</td>\n",
              "      <td>10.94</td>\n",
              "      <td>1.51</td>\n",
              "      <td>1.90</td>\n",
              "      <td>3406.132832</td>\n",
              "    </tr>\n",
              "  </tbody>\n",
              "</table>\n",
              "</div>"
            ],
            "text/plain": [
              "   Well    Por  Perm    AI  Brittle   TOC    VR         Prod\n",
              "0     1  12.08  2.92  2.80    81.40  1.16  2.31  4165.196191\n",
              "1     2  12.38  3.53  3.22    46.17  0.89  1.88  3561.146205\n",
              "2     3  14.02  2.59  4.01    72.80  0.89  2.72  4284.348574\n",
              "3     4  17.67  6.75  2.63    39.81  1.08  1.88  5098.680869\n",
              "4     5  17.52  4.57  3.18    10.94  1.51  1.90  3406.132832"
            ]
          },
          "metadata": {},
          "output_type": "display_data"
        }
      ],
      "source": [
        "data = pd.read_csv('data/unconv.csv')\n",
        "display(data.head())\n",
        "\n",
        "X = data.drop(['Prod', 'Perm', 'TOC', 'Well'], axis=1)\n",
        "y = data['Prod'].values"
      ]
    },
    {
      "cell_type": "code",
      "execution_count": 300,
      "metadata": {},
      "outputs": [
        {
          "name": "stdout",
          "output_type": "stream",
          "text": [
            "34\n",
            "{'fit_time': array([0.00106001, 0.00095797, 0.00096202, 0.00063396, 0.00047612]), 'score_time': array([9.03844833e-04, 2.83002853e-04, 1.10864639e-04, 1.33991241e-04,\n",
            "       8.82148743e-05]), 'test_score': array([-0.02387295, -0.02647127, -0.0248239 , -0.02791991, -0.03095575]), 'train_score': array([-0.01838922, -0.01798612, -0.01782402, -0.01726037, -0.01720231])}\n",
            "MAPE на тренировочных фолдах: 1.8\n",
            "MAPE на валидационных фолдах: 2.7\n"
          ]
        }
      ],
      "source": [
        "from sklearn.preprocessing import PolynomialFeatures\n",
        "from sklearn.model_selection import cross_validate\n",
        "\n",
        "poly = PolynomialFeatures(degree=3, include_bias=False)\n",
        "X_poly = poly.fit_transform(X)\n",
        "\n",
        "print(X_poly.shape[1])\n",
        "\n",
        "lr = LinearRegression()\n",
        "\n",
        "cv_results = cross_validate(lr, X_poly, y, cv=5, scoring='neg_mean_absolute_percentage_error', return_train_score=True)\n",
        "print(cv_results)\n",
        "print('MAPE на тренировочных фолдах: {:.1f}'.format(-cv_results['train_score'].mean() * 100))\n",
        "print('MAPE на валидационных фолдах: {:.1f}'.format(-cv_results['test_score'].mean() * 100))\n"
      ]
    },
    {
      "cell_type": "markdown",
      "metadata": {},
      "source": [
        "Задание 8.2"
      ]
    },
    {
      "cell_type": "code",
      "execution_count": 303,
      "metadata": {},
      "outputs": [
        {
          "name": "stdout",
          "output_type": "stream",
          "text": [
            "MAPE на тренировочных фолдах: 1.8\n",
            "MAPE на валидационных фолдах: 2.3\n"
          ]
        }
      ],
      "source": [
        "from sklearn.preprocessing import StandardScaler\n",
        "from sklearn.linear_model import Lasso, Ridge\n",
        "\n",
        "scaler = StandardScaler()\n",
        "X = scaler.fit_transform(X)\n",
        "\n",
        "poly = PolynomialFeatures(degree=3, include_bias=False)\n",
        "X_poly = poly.fit_transform(X)\n",
        "\n",
        "lasso = Lasso(alpha=5)\n",
        "cv_results = cross_validate(lasso, X_poly, y, cv=5, return_train_score=True, scoring='neg_mean_absolute_percentage_error')\n",
        "print('MAPE на тренировочных фолдах: {:.1f}'.format(-cv_results['train_score'].mean() * 100))\n",
        "print('MAPE на валидационных фолдах: {:.1f}'.format(-cv_results['test_score'].mean() * 100))"
      ]
    },
    {
      "cell_type": "markdown",
      "metadata": {},
      "source": [
        "Задание 8.3"
      ]
    },
    {
      "cell_type": "code",
      "execution_count": 305,
      "metadata": {},
      "outputs": [
        {
          "name": "stdout",
          "output_type": "stream",
          "text": [
            "MAPE на тренировочных фолдах: 1.8\n",
            "MAPE на валидационных фолдах: 2.7\n"
          ]
        }
      ],
      "source": [
        "ridge = Ridge(alpha=1)\n",
        "\n",
        "cv_results = cross_validate(ridge, X_poly, y, cv=5, return_train_score=True, scoring='neg_mean_absolute_percentage_error')\n",
        "print('MAPE на тренировочных фолдах: {:.1f}'.format(-cv_results['train_score'].mean() * 100))\n",
        "print('MAPE на валидационных фолдах: {:.1f}'.format(-cv_results['test_score'].mean() * 100))"
      ]
    },
    {
      "cell_type": "markdown",
      "metadata": {},
      "source": [
        "MATH&ML-2. Линейная алгебра в контексте линейных методов. Часть II  6. Полиномиальная регрессия"
      ]
    },
    {
      "cell_type": "code",
      "execution_count": 202,
      "metadata": {},
      "outputs": [
        {
          "name": "stdout",
          "output_type": "stream",
          "text": [
            "[[ 1  3  4]\n",
            " [ 3  4  5]\n",
            " [-2  5  2]\n",
            " [ 1 -2  2]\n",
            " [ 5  4  6]\n",
            " [13 11  8]\n",
            " [ 1  3 -1]]\n"
          ]
        }
      ],
      "source": [
        "A = np.array([\n",
        "    [1, 3, -2, 1, 5, 13, 1],\n",
        "    [3, 4, 5, -2, 4, 11, 3],\n",
        "    [4, 5, 2, 2, 6, 8, -1],\n",
        "]).T\n",
        "print(A)"
      ]
    },
    {
      "cell_type": "code",
      "execution_count": 203,
      "metadata": {},
      "outputs": [
        {
          "name": "stdout",
          "output_type": "stream",
          "text": [
            "[[  1.   1.   3.   4.   1.   3.   4.   9.  12.  16.]\n",
            " [  1.   3.   4.   5.   9.  12.  15.  16.  20.  25.]\n",
            " [  1.  -2.   5.   2.   4. -10.  -4.  25.  10.   4.]\n",
            " [  1.   1.  -2.   2.   1.  -2.   2.   4.  -4.   4.]\n",
            " [  1.   5.   4.   6.  25.  20.  30.  16.  24.  36.]\n",
            " [  1.  13.  11.   8. 169. 143. 104. 121.  88.  64.]\n",
            " [  1.   1.   3.  -1.   1.   3.  -1.   9.  -3.   1.]]\n"
          ]
        }
      ],
      "source": [
        "from sklearn.preprocessing import PolynomialFeatures\n",
        "poly = PolynomialFeatures(degree=2, include_bias=True)\n",
        "A_poly = poly.fit_transform(A)\n",
        "print(A_poly)"
      ]
    },
    {
      "cell_type": "code",
      "execution_count": 206,
      "metadata": {},
      "outputs": [],
      "source": [
        "def polynomial_regression(X, y, k):\n",
        "    poly = PolynomialFeatures(degree=k, include_bias=True)\n",
        "    X_poly = poly.fit_transform(X)\n",
        "    w_hat = np.linalg.inv(X_poly.T @ X_poly) @ X_poly.T @ y\n",
        "    y_pred = X_poly @ w_hat\n",
        "    return X_poly, y_pred, w_hat"
      ]
    },
    {
      "cell_type": "code",
      "execution_count": 207,
      "metadata": {},
      "outputs": [],
      "source": [
        "A = boston_data[['LSTAT', 'PTRATIO', 'RM','CRIM']]\n",
        "y = boston_data[['PRICE']]\n",
        " \n",
        "A_poly, y_pred, w_hat = polynomial_regression(A, y, 1)\n",
        "A_poly2, y_pred2, w_hat2 = polynomial_regression(A, y, 2)\n",
        "A_poly3, y_pred3, w_hat3 = polynomial_regression(A, y, 3)\n",
        "A_poly4, y_pred4, w_hat4 = polynomial_regression(A, y, 4)\n",
        "A_poly5, y_pred5, w_hat5 = polynomial_regression(A, y, 5)"
      ]
    },
    {
      "cell_type": "code",
      "execution_count": 208,
      "metadata": {},
      "outputs": [
        {
          "name": "stdout",
          "output_type": "stream",
          "text": [
            "MAPE для полинома 1-й степени 18.20%\n",
            "MAPE для полинома 2-й степени  13.41%\n",
            "MAPE для полинома 3-й степени  12.93%\n",
            "MAPE для полинома 4-й степени  10.73%\n",
            "MAPE для полинома 5-й степени  1092.80%\n"
          ]
        }
      ],
      "source": [
        "from sklearn.metrics import mean_absolute_percentage_error\n",
        " \n",
        "print('MAPE для полинома 1-й степени {:.2f}%'.format(mean_absolute_percentage_error(y, y_pred)*100))\n",
        "print('MAPE для полинома 2-й степени  {:.2f}%'.format(mean_absolute_percentage_error(y, y_pred2)*100))\n",
        "print('MAPE для полинома 3-й степени  {:.2f}%'.format(mean_absolute_percentage_error(y, y_pred3)*100))\n",
        "print('MAPE для полинома 4-й степени  {:.2f}%'.format(mean_absolute_percentage_error(y, y_pred4)*100))\n",
        "print('MAPE для полинома 5-й степени  {:.2f}%'.format(mean_absolute_percentage_error(y, y_pred5)*100))"
      ]
    },
    {
      "cell_type": "code",
      "execution_count": 209,
      "metadata": {},
      "outputs": [
        {
          "data": {
            "text/html": [
              "<div>\n",
              "<style scoped>\n",
              "    .dataframe tbody tr th:only-of-type {\n",
              "        vertical-align: middle;\n",
              "    }\n",
              "\n",
              "    .dataframe tbody tr th {\n",
              "        vertical-align: top;\n",
              "    }\n",
              "\n",
              "    .dataframe thead th {\n",
              "        text-align: right;\n",
              "    }\n",
              "</style>\n",
              "<table border=\"1\" class=\"dataframe\">\n",
              "  <thead>\n",
              "    <tr style=\"text-align: right;\">\n",
              "      <th></th>\n",
              "      <th>PRICE</th>\n",
              "    </tr>\n",
              "  </thead>\n",
              "  <tbody>\n",
              "    <tr>\n",
              "      <th>count</th>\n",
              "      <td>126.000000</td>\n",
              "    </tr>\n",
              "    <tr>\n",
              "      <th>mean</th>\n",
              "      <td>1133.563801</td>\n",
              "    </tr>\n",
              "    <tr>\n",
              "      <th>std</th>\n",
              "      <td>30817.017070</td>\n",
              "    </tr>\n",
              "    <tr>\n",
              "      <th>min</th>\n",
              "      <td>-144241.899739</td>\n",
              "    </tr>\n",
              "    <tr>\n",
              "      <th>25%</th>\n",
              "      <td>-0.684799</td>\n",
              "    </tr>\n",
              "    <tr>\n",
              "      <th>50%</th>\n",
              "      <td>-0.000308</td>\n",
              "    </tr>\n",
              "    <tr>\n",
              "      <th>75%</th>\n",
              "      <td>1.530654</td>\n",
              "    </tr>\n",
              "    <tr>\n",
              "      <th>max</th>\n",
              "      <td>308300.929269</td>\n",
              "    </tr>\n",
              "  </tbody>\n",
              "</table>\n",
              "</div>"
            ],
            "text/plain": [
              "               PRICE\n",
              "count     126.000000\n",
              "mean     1133.563801\n",
              "std     30817.017070\n",
              "min   -144241.899739\n",
              "25%        -0.684799\n",
              "50%        -0.000308\n",
              "75%         1.530654\n",
              "max    308300.929269"
            ]
          },
          "metadata": {},
          "output_type": "display_data"
        }
      ],
      "source": [
        "display(pd.DataFrame(w_hat5).describe())"
      ]
    },
    {
      "cell_type": "code",
      "execution_count": 210,
      "metadata": {},
      "outputs": [
        {
          "name": "stdout",
          "output_type": "stream",
          "text": [
            "Ранг корреляционной матрицы: 110\n",
            "Количество факторов: 125\n"
          ]
        }
      ],
      "source": [
        "# считаем матрицу корреляций (без столбца из единиц)\n",
        "C = pd.DataFrame(A_poly5[:, 1:]).corr()\n",
        "# считаем ранг корреляционной матрицы\n",
        "print('Ранг корреляционной матрицы:', np.linalg.matrix_rank(C))\n",
        "# считаем количество факторов (не включая столбец из единиц)\n",
        "print('Количество факторов:', A_poly5[:, 1:].shape[1])"
      ]
    },
    {
      "cell_type": "markdown",
      "metadata": {},
      "source": [
        "Мы нашли корень проблемы: ранг корреляционной матрицы — 110, в то время как общее количество факторов (не считая единичного столбца) — 125, то есть ранг корреляционной матрицы не максимален. Это значит, что в корреляционной матрице присутствуют единичные корреляции, а в исходной матрице — линейно зависимые столбцы."
      ]
    },
    {
      "cell_type": "code",
      "execution_count": 211,
      "metadata": {},
      "outputs": [
        {
          "name": "stdout",
          "output_type": "stream",
          "text": [
            "Ранг корреляционной матрицы: 69\n",
            "Количество факторов: 69\n"
          ]
        }
      ],
      "source": [
        "# считаем матрицу корреляций (без столбца из единиц)\n",
        "C = pd.DataFrame(A_poly4[:, 1:]).corr()\n",
        "# считаем ранг корреляционной матрицы\n",
        "print('Ранг корреляционной матрицы:', np.linalg.matrix_rank(C))\n",
        "# считаем количество факторов (не включая столбец из единиц)\n",
        "print('Количество факторов:', A_poly4[:, 1:].shape[1])"
      ]
    },
    {
      "cell_type": "code",
      "execution_count": 212,
      "metadata": {},
      "outputs": [],
      "source": [
        "def polynomial_regression_sk(X, y, k):\n",
        "    poly = PolynomialFeatures(degree=k, include_bias=False)\n",
        "    X_poly = poly.fit_transform(X)\n",
        "    lr = LinearRegression().fit(X_poly, y)\n",
        "    y_pred = lr.predict(X_poly)\n",
        "    \n",
        "    return X_poly, y_pred, lr.coef_"
      ]
    },
    {
      "cell_type": "code",
      "execution_count": 215,
      "metadata": {},
      "outputs": [
        {
          "name": "stdout",
          "output_type": "stream",
          "text": [
            "r^2 для полинома степени 1 — 0.68, СКО — 2\n",
            "r^2 для полинома степени 2 — 0.81, СКО — 5\n",
            "r^2 для полинома степени 3 — 0.86, СКО — 9\n",
            "r^2 для полинома степени 4 — 0.91, СКО — 304\n",
            "r^2 для полинома степени 5 — 0.93, СКО — 17055\n"
          ]
        }
      ],
      "source": [
        "from sklearn.metrics import r2_score\n",
        "\n",
        "A = boston_data[[\"LSTAT\", \"PTRATIO\", \"RM\", \"CRIM\"]]\n",
        "y = boston_data[[\"PRICE\"]]\n",
        "\n",
        "for k in range(1, 6):\n",
        "    A_poly, y_pred, w_hat = polynomial_regression_sk(A, y, k)\n",
        "    print(\n",
        "        \"r^2 для полинома степени {} — {:.2f}, СКО — {:.0f}\".format(\n",
        "            k, r2_score(y, y_pred), w_hat.std()\n",
        "        )\n",
        "    )"
      ]
    },
    {
      "cell_type": "markdown",
      "metadata": {},
      "source": [
        "Задание 6.4"
      ]
    },
    {
      "cell_type": "code",
      "execution_count": 239,
      "metadata": {},
      "outputs": [
        {
          "name": "stdout",
          "output_type": "stream",
          "text": [
            "[ 0.1  2.5 -0. ]\n"
          ]
        }
      ],
      "source": [
        "A = np.array([\n",
        "    [1, 1, 1, 1],\n",
        "    [1, 3, -2, 9],\n",
        "    [1, 9, 4, 81]\n",
        "]).T\n",
        "y = np.array([3, 7, -5, 21])\n",
        "print(np.round(np.linalg.inv(A.T@A)@A.T@y, 1))"
      ]
    },
    {
      "cell_type": "markdown",
      "metadata": {},
      "source": [
        "MATH&ML-2. Линейная алгебра в контексте линейных методов. Часть II  7. Регуляризация"
      ]
    },
    {
      "cell_type": "code",
      "execution_count": 240,
      "metadata": {},
      "outputs": [],
      "source": [
        "from sklearn.model_selection import cross_validate"
      ]
    },
    {
      "cell_type": "code",
      "execution_count": 247,
      "metadata": {},
      "outputs": [
        {
          "name": "stdout",
          "output_type": "stream",
          "text": [
            "MAPE на тренировочных фолдах: 12.64 %\n",
            "MAPE на валидационных фолдах: 24.16 %\n"
          ]
        }
      ],
      "source": [
        "X = boston_data[['LSTAT', 'PTRATIO', 'RM','CRIM']]\n",
        "y = boston_data[['PRICE']]\n",
        "\n",
        "poly = PolynomialFeatures(degree=3, include_bias=False)\n",
        "X_poly = poly.fit_transform(X)\n",
        "\n",
        "lr = LinearRegression()\n",
        "\n",
        "cv_results = cross_validate(lr, X_poly, y, scoring='neg_mean_absolute_percentage_error', cv=5, return_train_score=True)\n",
        "print('MAPE на тренировочных фолдах: {:.2f} %'.format(-cv_results['train_score'].mean()* 100))\n",
        "print('MAPE на валидационных фолдах: {:.2f} %'.format(-cv_results['test_score'].mean() * 100))"
      ]
    },
    {
      "cell_type": "code",
      "execution_count": 248,
      "metadata": {},
      "outputs": [
        {
          "name": "stdout",
          "output_type": "stream",
          "text": [
            "[0.6122449  0.29387755 0.5877551 ]\n"
          ]
        }
      ],
      "source": [
        "A = np.array([\n",
        "    [1, 1, 1, 1, 1],\n",
        "    [1, 0, -3, 2, 4],\n",
        "    [2, 0, -6, 4, 8]\n",
        "]).T\n",
        "# вектор целевого признака\n",
        "y = np.array([4, 3, -4, 2, 7])\n",
        "# единичная матрица\n",
        "E = np.eye(3)\n",
        "# коэффициент регуляризации \n",
        "alpha = 5\n",
        "# получаем оценку коэффициентов регрессии по МНК с регуляризацией Тихонова\n",
        "w_hat_ridge = np.linalg.inv(A.T@A+alpha*E)@A.T@y\n",
        "print(w_hat_ridge)"
      ]
    },
    {
      "cell_type": "code",
      "execution_count": 249,
      "metadata": {},
      "outputs": [
        {
          "name": "stdout",
          "output_type": "stream",
          "text": [
            "[0.6122449  0.29387755 0.5877551 ]\n"
          ]
        }
      ],
      "source": [
        "from sklearn.linear_model import Ridge\n",
        "\n",
        "# матрица наблюдений (включая столбец единиц)\n",
        "A = np.array([\n",
        "    [1, 1, 1, 1, 1],\n",
        "    [1, 0, -3, 2, 4],\n",
        "    [2, 0, -6, 4, 8]\n",
        "]).T\n",
        "# вектор целевого признака\n",
        "y = np.array([4, 3, -4, 2, 7])\n",
        "# получаем оценку коэффициентов регрессии по МНК с регуляризацией Тихонова\n",
        "ridge = Ridge(alpha=5, fit_intercept=False)\n",
        "ridge.fit(A, y)\n",
        "print(ridge.coef_) "
      ]
    },
    {
      "cell_type": "code",
      "execution_count": 251,
      "metadata": {},
      "outputs": [
        {
          "name": "stdout",
          "output_type": "stream",
          "text": [
            "MAPE на тренировочных фолдах: 12.54 %\n",
            "MAPE на валидационных фолдах: 17.02 %\n"
          ]
        }
      ],
      "source": [
        "from sklearn.preprocessing import StandardScaler\n",
        "\n",
        "# выделяем интересующие нас факторы\n",
        "X = boston_data[['LSTAT', 'PTRATIO', 'RM','CRIM']]\n",
        "y = boston_data[['PRICE']]\n",
        "# инициализируем стандартизатор StandardScaler\n",
        "scaler = StandardScaler()\n",
        "# подгоняем параметры стандартизатора (вычисляем среднее и СКО)\n",
        "X = scaler.fit_transform(X)\n",
        "# добавляем полиномиальные признаки\n",
        "poly = PolynomialFeatures(degree=3, include_bias=False)\n",
        "X = poly.fit_transform(X)\n",
        "# создаём модель линейной регрессии c L2-регуляризацией\n",
        "ridge = Ridge(alpha=20, solver='svd')\n",
        "# оцениваем качество модели на кросс-валидации\n",
        "cv_results = cross_validate(ridge, X, y, scoring='neg_mean_absolute_percentage_error', cv=5, return_train_score=True)\n",
        "print('MAPE на тренировочных фолдах: {:.2f} %'.format(-cv_results['train_score'].mean()* 100))\n",
        "print('MAPE на валидационных фолдах: {:.2f} %'.format(-cv_results['test_score'].mean() * 100))"
      ]
    },
    {
      "cell_type": "code",
      "execution_count": 270,
      "metadata": {},
      "outputs": [
        {
          "name": "stdout",
          "output_type": "stream",
          "text": [
            "[-0.09 -1.71  1.91  0.73]\n"
          ]
        }
      ],
      "source": [
        "A = np.array([\n",
        "    [1, 1, 1, 1, 1],\n",
        "    [5, 9, 4, 3, 5],\n",
        "    [15, 18, 18, 19, 19],\n",
        "    [7, 6, 7, 7, 7]\n",
        "]).T\n",
        "y = np.array([24, 22, 35, 33, 36])\n",
        "E = np.eye(4)\n",
        "# коэффициент регуляризации\n",
        "alpha = 1\n",
        "# получаем оценку коэффициентов регрессии по МНК с регуляризацией Тихонова\n",
        "w_hat_ridge = np.linalg.inv(A.T@A+alpha*E)@A.T@y\n",
        "print(np.round(w_hat_ridge, 2))"
      ]
    },
    {
      "cell_type": "code",
      "execution_count": 276,
      "metadata": {},
      "outputs": [
        {
          "name": "stdout",
          "output_type": "stream",
          "text": [
            "[-0.09 -1.71  1.91  0.73]\n"
          ]
        }
      ],
      "source": [
        "# получаем оценку коэффициентов регрессии по МНК с регуляризацией Тихонова\n",
        "ridge = Ridge(alpha=1, fit_intercept=False, solver='svd')\n",
        "ridge.fit(A, y)\n",
        "print(np.round(ridge.coef_,2)) "
      ]
    },
    {
      "cell_type": "code",
      "execution_count": 278,
      "metadata": {},
      "outputs": [
        {
          "name": "stdout",
          "output_type": "stream",
          "text": [
            "[1.14925373 0.         0.71921642]\n"
          ]
        }
      ],
      "source": [
        "from sklearn.linear_model import Lasso\n",
        "\n",
        "# матрица наблюдений (включая столбец единиц)\n",
        "A = np.array([\n",
        "    [1, 1, 1, 1, 1],\n",
        "    [1, 0, -3, 2, 4],\n",
        "    [2, 0, -6, 4, 8]\n",
        "]).T\n",
        "# вектор целевого признака\n",
        "y = np.array([4, 3, -4, 2, 7])\n",
        "# получаем оценку коэффициентов регрессии по МНК с регуляризацией L1\n",
        "lasso = Lasso(alpha=0.1, fit_intercept=False)\n",
        "lasso.fit(A, y)\n",
        "print(lasso.coef_)"
      ]
    },
    {
      "cell_type": "code",
      "execution_count": 279,
      "metadata": {},
      "outputs": [
        {
          "name": "stdout",
          "output_type": "stream",
          "text": [
            "MAPE на тренировочных фолдах: 12.44 %\n",
            "MAPE на валидационных фолдах: 16.44 %\n"
          ]
        }
      ],
      "source": [
        "# выделяем интересующие нас факторы\n",
        "X = boston_data[['LSTAT', 'PTRATIO', 'RM','CRIM']]\n",
        "y = boston_data[['PRICE']]\n",
        "\n",
        "# инициализируем стандартизатор StandardScaler\n",
        "scaler = StandardScaler()\n",
        "# подгоняем параметры стандартизатора (вычисляем среднее и СКО)\n",
        "X = scaler.fit_transform(X)\n",
        "\n",
        "# добавляем полиномиальные признаки\n",
        "poly = PolynomialFeatures(degree=3, include_bias=False)\n",
        "X = poly.fit_transform(X)\n",
        "\n",
        "# создаём модель линейной регрессии c L1-регуляризацией\n",
        "lasso = Lasso(alpha=0.1, max_iter=10000)\n",
        "\n",
        "# оцениваем качество модели на кросс-валидации\n",
        "cv_results = cross_validate(lasso, X, y, scoring='neg_mean_absolute_percentage_error', cv=5, return_train_score=True)\n",
        "print('MAPE на тренировочных фолдах: {:.2f} %'.format(-cv_results['train_score'].mean()* 100))\n",
        "print('MAPE на валидационных фолдах: {:.2f} %'.format(-cv_results['test_score'].mean() * 100))"
      ]
    }
  ],
  "metadata": {
    "kernelspec": {
      "display_name": "Python 3.10.3 64-bit",
      "language": "python",
      "name": "python3"
    },
    "language_info": {
      "codemirror_mode": {
        "name": "ipython",
        "version": 3
      },
      "file_extension": ".py",
      "mimetype": "text/x-python",
      "name": "python",
      "nbconvert_exporter": "python",
      "pygments_lexer": "ipython3",
      "version": "3.10.3"
    },
    "nteract": {
      "version": "0.26.0"
    },
    "vscode": {
      "interpreter": {
        "hash": "aee8b7b246df8f9039afb4144a1f6fd8d2ca17a180786b69acc140d282b71a49"
      }
    }
  },
  "nbformat": 4,
  "nbformat_minor": 2
}
